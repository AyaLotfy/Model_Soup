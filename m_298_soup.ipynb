{
  "cells": [
    {
      "cell_type": "code",
      "execution_count": null,
      "metadata": {
        "colab": {
          "base_uri": "https://localhost:8080/"
        },
        "id": "KOz_iZBc_D3h",
        "outputId": "82fbf978-a946-4802-8143-be188ffd956f"
      },
      "outputs": [
        {
          "output_type": "stream",
          "name": "stdout",
          "text": [
            "Mounted at /content/drive\n"
          ]
        }
      ],
      "source": [
        "from google.colab import drive\n",
        "drive.mount('/content/drive')"
      ]
    },
    {
      "cell_type": "code",
      "execution_count": null,
      "metadata": {
        "id": "Y-F7PYyPW_05"
      },
      "outputs": [],
      "source": [
        "!rm -rf ssd\n",
        "!mkdir ssd\n",
        "!mkdir ssd/checkpoints\n",
        "!mkdir ssd/checkpoints/soups\n",
        "!mkdir results"
      ]
    },
    {
      "cell_type": "code",
      "execution_count": null,
      "metadata": {
        "id": "9mdD2WnNjkc5",
        "colab": {
          "base_uri": "https://localhost:8080/"
        },
        "outputId": "cbf1b507-d139-474b-ddf1-fe05745861be"
      },
      "outputs": [
        {
          "output_type": "stream",
          "name": "stdout",
          "text": [
            "Collecting wget\n",
            "  Downloading wget-3.2.zip (10 kB)\n",
            "  Preparing metadata (setup.py) ... \u001b[?25l\u001b[?25hdone\n",
            "Building wheels for collected packages: wget\n",
            "  Building wheel for wget (setup.py) ... \u001b[?25l\u001b[?25hdone\n",
            "  Created wheel for wget: filename=wget-3.2-py3-none-any.whl size=9655 sha256=4da2f6982dd359736a1875fa6d1e01d5c15b99ba2b4711a0986fc6847d9c515e\n",
            "  Stored in directory: /root/.cache/pip/wheels/8b/f1/7f/5c94f0a7a505ca1c81cd1d9208ae2064675d97582078e6c769\n",
            "Successfully built wget\n",
            "Installing collected packages: wget\n",
            "Successfully installed wget-3.2\n",
            "Collecting clip\n",
            "  Downloading clip-0.2.0.tar.gz (5.5 kB)\n",
            "  Preparing metadata (setup.py) ... \u001b[?25l\u001b[?25hdone\n",
            "Building wheels for collected packages: clip\n",
            "  Building wheel for clip (setup.py) ... \u001b[?25l\u001b[?25hdone\n",
            "  Created wheel for clip: filename=clip-0.2.0-py3-none-any.whl size=6988 sha256=9d8b5f46c9d3b23d173389f9fbc26501afe412ab278a841b9b067fc4deb137c5\n",
            "  Stored in directory: /root/.cache/pip/wheels/7f/5c/e6/2c0fdb453a3569188864b17e9676bea8b3b7e160c037117869\n",
            "Successfully built clip\n",
            "Installing collected packages: clip\n",
            "Successfully installed clip-0.2.0\n",
            "Collecting datasets\n",
            "  Downloading datasets-2.14.5-py3-none-any.whl (519 kB)\n",
            "\u001b[2K     \u001b[90m━━━━━━━━━━━━━━━━━━━━━━━━━━━━━━━━━━━━━━━\u001b[0m \u001b[32m519.6/519.6 kB\u001b[0m \u001b[31m5.3 MB/s\u001b[0m eta \u001b[36m0:00:00\u001b[0m\n",
            "\u001b[?25hRequirement already satisfied: numpy>=1.17 in /usr/local/lib/python3.10/dist-packages (from datasets) (1.23.5)\n",
            "Requirement already satisfied: pyarrow>=8.0.0 in /usr/local/lib/python3.10/dist-packages (from datasets) (9.0.0)\n",
            "Collecting dill<0.3.8,>=0.3.0 (from datasets)\n",
            "  Downloading dill-0.3.7-py3-none-any.whl (115 kB)\n",
            "\u001b[2K     \u001b[90m━━━━━━━━━━━━━━━━━━━━━━━━━━━━━━━━━━━━━━━\u001b[0m \u001b[32m115.3/115.3 kB\u001b[0m \u001b[31m9.1 MB/s\u001b[0m eta \u001b[36m0:00:00\u001b[0m\n",
            "\u001b[?25hRequirement already satisfied: pandas in /usr/local/lib/python3.10/dist-packages (from datasets) (1.5.3)\n",
            "Requirement already satisfied: requests>=2.19.0 in /usr/local/lib/python3.10/dist-packages (from datasets) (2.31.0)\n",
            "Requirement already satisfied: tqdm>=4.62.1 in /usr/local/lib/python3.10/dist-packages (from datasets) (4.66.1)\n",
            "Collecting xxhash (from datasets)\n",
            "  Downloading xxhash-3.4.1-cp310-cp310-manylinux_2_17_x86_64.manylinux2014_x86_64.whl (194 kB)\n",
            "\u001b[2K     \u001b[90m━━━━━━━━━━━━━━━━━━━━━━━━━━━━━━━━━━━━━━\u001b[0m \u001b[32m194.1/194.1 kB\u001b[0m \u001b[31m19.6 MB/s\u001b[0m eta \u001b[36m0:00:00\u001b[0m\n",
            "\u001b[?25hCollecting multiprocess (from datasets)\n",
            "  Downloading multiprocess-0.70.15-py310-none-any.whl (134 kB)\n",
            "\u001b[2K     \u001b[90m━━━━━━━━━━━━━━━━━━━━━━━━━━━━━━━━━━━━━━\u001b[0m \u001b[32m134.8/134.8 kB\u001b[0m \u001b[31m12.3 MB/s\u001b[0m eta \u001b[36m0:00:00\u001b[0m\n",
            "\u001b[?25hRequirement already satisfied: fsspec[http]<2023.9.0,>=2023.1.0 in /usr/local/lib/python3.10/dist-packages (from datasets) (2023.6.0)\n",
            "Requirement already satisfied: aiohttp in /usr/local/lib/python3.10/dist-packages (from datasets) (3.8.5)\n",
            "Collecting huggingface-hub<1.0.0,>=0.14.0 (from datasets)\n",
            "  Downloading huggingface_hub-0.17.3-py3-none-any.whl (295 kB)\n",
            "\u001b[2K     \u001b[90m━━━━━━━━━━━━━━━━━━━━━━━━━━━━━━━━━━━━━━\u001b[0m \u001b[32m295.0/295.0 kB\u001b[0m \u001b[31m22.8 MB/s\u001b[0m eta \u001b[36m0:00:00\u001b[0m\n",
            "\u001b[?25hRequirement already satisfied: packaging in /usr/local/lib/python3.10/dist-packages (from datasets) (23.2)\n",
            "Requirement already satisfied: pyyaml>=5.1 in /usr/local/lib/python3.10/dist-packages (from datasets) (6.0.1)\n",
            "Requirement already satisfied: attrs>=17.3.0 in /usr/local/lib/python3.10/dist-packages (from aiohttp->datasets) (23.1.0)\n",
            "Requirement already satisfied: charset-normalizer<4.0,>=2.0 in /usr/local/lib/python3.10/dist-packages (from aiohttp->datasets) (3.3.0)\n",
            "Requirement already satisfied: multidict<7.0,>=4.5 in /usr/local/lib/python3.10/dist-packages (from aiohttp->datasets) (6.0.4)\n",
            "Requirement already satisfied: async-timeout<5.0,>=4.0.0a3 in /usr/local/lib/python3.10/dist-packages (from aiohttp->datasets) (4.0.3)\n",
            "Requirement already satisfied: yarl<2.0,>=1.0 in /usr/local/lib/python3.10/dist-packages (from aiohttp->datasets) (1.9.2)\n",
            "Requirement already satisfied: frozenlist>=1.1.1 in /usr/local/lib/python3.10/dist-packages (from aiohttp->datasets) (1.4.0)\n",
            "Requirement already satisfied: aiosignal>=1.1.2 in /usr/local/lib/python3.10/dist-packages (from aiohttp->datasets) (1.3.1)\n",
            "Requirement already satisfied: filelock in /usr/local/lib/python3.10/dist-packages (from huggingface-hub<1.0.0,>=0.14.0->datasets) (3.12.4)\n",
            "Requirement already satisfied: typing-extensions>=3.7.4.3 in /usr/local/lib/python3.10/dist-packages (from huggingface-hub<1.0.0,>=0.14.0->datasets) (4.5.0)\n",
            "Requirement already satisfied: idna<4,>=2.5 in /usr/local/lib/python3.10/dist-packages (from requests>=2.19.0->datasets) (3.4)\n",
            "Requirement already satisfied: urllib3<3,>=1.21.1 in /usr/local/lib/python3.10/dist-packages (from requests>=2.19.0->datasets) (2.0.6)\n",
            "Requirement already satisfied: certifi>=2017.4.17 in /usr/local/lib/python3.10/dist-packages (from requests>=2.19.0->datasets) (2023.7.22)\n",
            "Requirement already satisfied: python-dateutil>=2.8.1 in /usr/local/lib/python3.10/dist-packages (from pandas->datasets) (2.8.2)\n",
            "Requirement already satisfied: pytz>=2020.1 in /usr/local/lib/python3.10/dist-packages (from pandas->datasets) (2023.3.post1)\n",
            "Requirement already satisfied: six>=1.5 in /usr/local/lib/python3.10/dist-packages (from python-dateutil>=2.8.1->pandas->datasets) (1.16.0)\n",
            "Installing collected packages: xxhash, dill, multiprocess, huggingface-hub, datasets\n",
            "Successfully installed datasets-2.14.5 dill-0.3.7 huggingface-hub-0.17.3 multiprocess-0.70.15 xxhash-3.4.1\n",
            "Collecting GPUtil\n",
            "  Downloading GPUtil-1.4.0.tar.gz (5.5 kB)\n",
            "  Preparing metadata (setup.py) ... \u001b[?25l\u001b[?25hdone\n",
            "Collecting pytorch_pretrained_bert\n",
            "  Downloading pytorch_pretrained_bert-0.6.2-py3-none-any.whl (123 kB)\n",
            "\u001b[2K     \u001b[90m━━━━━━━━━━━━━━━━━━━━━━━━━━━━━━━━━━━━━━━\u001b[0m \u001b[32m123.8/123.8 kB\u001b[0m \u001b[31m1.9 MB/s\u001b[0m eta \u001b[36m0:00:00\u001b[0m\n",
            "\u001b[?25hCollecting transformers\n",
            "  Downloading transformers-4.34.0-py3-none-any.whl (7.7 MB)\n",
            "\u001b[2K     \u001b[90m━━━━━━━━━━━━━━━━━━━━━━━━━━━━━━━━━━━━━━━━\u001b[0m \u001b[32m7.7/7.7 MB\u001b[0m \u001b[31m77.9 MB/s\u001b[0m eta \u001b[36m0:00:00\u001b[0m\n",
            "\u001b[?25hRequirement already satisfied: torch>=0.4.1 in /usr/local/lib/python3.10/dist-packages (from pytorch_pretrained_bert) (2.0.1+cu118)\n",
            "Requirement already satisfied: numpy in /usr/local/lib/python3.10/dist-packages (from pytorch_pretrained_bert) (1.23.5)\n",
            "Collecting boto3 (from pytorch_pretrained_bert)\n",
            "  Downloading boto3-1.28.62-py3-none-any.whl (135 kB)\n",
            "\u001b[2K     \u001b[90m━━━━━━━━━━━━━━━━━━━━━━━━━━━━━━━━━━━━━━\u001b[0m \u001b[32m135.8/135.8 kB\u001b[0m \u001b[31m17.3 MB/s\u001b[0m eta \u001b[36m0:00:00\u001b[0m\n",
            "\u001b[?25hRequirement already satisfied: requests in /usr/local/lib/python3.10/dist-packages (from pytorch_pretrained_bert) (2.31.0)\n",
            "Requirement already satisfied: tqdm in /usr/local/lib/python3.10/dist-packages (from pytorch_pretrained_bert) (4.66.1)\n",
            "Requirement already satisfied: regex in /usr/local/lib/python3.10/dist-packages (from pytorch_pretrained_bert) (2023.6.3)\n",
            "Requirement already satisfied: filelock in /usr/local/lib/python3.10/dist-packages (from transformers) (3.12.4)\n",
            "Requirement already satisfied: huggingface-hub<1.0,>=0.16.4 in /usr/local/lib/python3.10/dist-packages (from transformers) (0.17.3)\n",
            "Requirement already satisfied: packaging>=20.0 in /usr/local/lib/python3.10/dist-packages (from transformers) (23.2)\n",
            "Requirement already satisfied: pyyaml>=5.1 in /usr/local/lib/python3.10/dist-packages (from transformers) (6.0.1)\n",
            "Collecting tokenizers<0.15,>=0.14 (from transformers)\n",
            "  Downloading tokenizers-0.14.1-cp310-cp310-manylinux_2_17_x86_64.manylinux2014_x86_64.whl (3.8 MB)\n",
            "\u001b[2K     \u001b[90m━━━━━━━━━━━━━━━━━━━━━━━━━━━━━━━━━━━━━━━━\u001b[0m \u001b[32m3.8/3.8 MB\u001b[0m \u001b[31m102.7 MB/s\u001b[0m eta \u001b[36m0:00:00\u001b[0m\n",
            "\u001b[?25hCollecting safetensors>=0.3.1 (from transformers)\n",
            "  Downloading safetensors-0.4.0-cp310-cp310-manylinux_2_17_x86_64.manylinux2014_x86_64.whl (1.3 MB)\n",
            "\u001b[2K     \u001b[90m━━━━━━━━━━━━━━━━━━━━━━━━━━━━━━━━━━━━━━━━\u001b[0m \u001b[32m1.3/1.3 MB\u001b[0m \u001b[31m84.6 MB/s\u001b[0m eta \u001b[36m0:00:00\u001b[0m\n",
            "\u001b[?25hRequirement already satisfied: fsspec in /usr/local/lib/python3.10/dist-packages (from huggingface-hub<1.0,>=0.16.4->transformers) (2023.6.0)\n",
            "Requirement already satisfied: typing-extensions>=3.7.4.3 in /usr/local/lib/python3.10/dist-packages (from huggingface-hub<1.0,>=0.16.4->transformers) (4.5.0)\n",
            "Requirement already satisfied: sympy in /usr/local/lib/python3.10/dist-packages (from torch>=0.4.1->pytorch_pretrained_bert) (1.12)\n",
            "Requirement already satisfied: networkx in /usr/local/lib/python3.10/dist-packages (from torch>=0.4.1->pytorch_pretrained_bert) (3.1)\n",
            "Requirement already satisfied: jinja2 in /usr/local/lib/python3.10/dist-packages (from torch>=0.4.1->pytorch_pretrained_bert) (3.1.2)\n",
            "Requirement already satisfied: triton==2.0.0 in /usr/local/lib/python3.10/dist-packages (from torch>=0.4.1->pytorch_pretrained_bert) (2.0.0)\n",
            "Requirement already satisfied: cmake in /usr/local/lib/python3.10/dist-packages (from triton==2.0.0->torch>=0.4.1->pytorch_pretrained_bert) (3.27.6)\n",
            "Requirement already satisfied: lit in /usr/local/lib/python3.10/dist-packages (from triton==2.0.0->torch>=0.4.1->pytorch_pretrained_bert) (17.0.2)\n",
            "Collecting botocore<1.32.0,>=1.31.62 (from boto3->pytorch_pretrained_bert)\n",
            "  Downloading botocore-1.31.62-py3-none-any.whl (11.2 MB)\n",
            "\u001b[2K     \u001b[90m━━━━━━━━━━━━━━━━━━━━━━━━━━━━━━━━━━━━━━━━\u001b[0m \u001b[32m11.2/11.2 MB\u001b[0m \u001b[31m81.8 MB/s\u001b[0m eta \u001b[36m0:00:00\u001b[0m\n",
            "\u001b[?25hCollecting jmespath<2.0.0,>=0.7.1 (from boto3->pytorch_pretrained_bert)\n",
            "  Downloading jmespath-1.0.1-py3-none-any.whl (20 kB)\n",
            "Collecting s3transfer<0.8.0,>=0.7.0 (from boto3->pytorch_pretrained_bert)\n",
            "  Downloading s3transfer-0.7.0-py3-none-any.whl (79 kB)\n",
            "\u001b[2K     \u001b[90m━━━━━━━━━━━━━━━━━━━━━━━━━━━━━━━━━━━━━━━━\u001b[0m \u001b[32m79.8/79.8 kB\u001b[0m \u001b[31m9.1 MB/s\u001b[0m eta \u001b[36m0:00:00\u001b[0m\n",
            "\u001b[?25hRequirement already satisfied: charset-normalizer<4,>=2 in /usr/local/lib/python3.10/dist-packages (from requests->pytorch_pretrained_bert) (3.3.0)\n",
            "Requirement already satisfied: idna<4,>=2.5 in /usr/local/lib/python3.10/dist-packages (from requests->pytorch_pretrained_bert) (3.4)\n",
            "Requirement already satisfied: urllib3<3,>=1.21.1 in /usr/local/lib/python3.10/dist-packages (from requests->pytorch_pretrained_bert) (2.0.6)\n",
            "Requirement already satisfied: certifi>=2017.4.17 in /usr/local/lib/python3.10/dist-packages (from requests->pytorch_pretrained_bert) (2023.7.22)\n",
            "Requirement already satisfied: python-dateutil<3.0.0,>=2.1 in /usr/local/lib/python3.10/dist-packages (from botocore<1.32.0,>=1.31.62->boto3->pytorch_pretrained_bert) (2.8.2)\n",
            "Requirement already satisfied: MarkupSafe>=2.0 in /usr/local/lib/python3.10/dist-packages (from jinja2->torch>=0.4.1->pytorch_pretrained_bert) (2.1.3)\n",
            "Requirement already satisfied: mpmath>=0.19 in /usr/local/lib/python3.10/dist-packages (from sympy->torch>=0.4.1->pytorch_pretrained_bert) (1.3.0)\n",
            "Requirement already satisfied: six>=1.5 in /usr/local/lib/python3.10/dist-packages (from python-dateutil<3.0.0,>=2.1->botocore<1.32.0,>=1.31.62->boto3->pytorch_pretrained_bert) (1.16.0)\n",
            "Building wheels for collected packages: GPUtil\n",
            "  Building wheel for GPUtil (setup.py) ... \u001b[?25l\u001b[?25hdone\n",
            "  Created wheel for GPUtil: filename=GPUtil-1.4.0-py3-none-any.whl size=7392 sha256=03d76af8498596fdc3b384283564e5564c357e84239defb58e77155e96875a6e\n",
            "  Stored in directory: /root/.cache/pip/wheels/a9/8a/bd/81082387151853ab8b6b3ef33426e98f5cbfebc3c397a9d4d0\n",
            "Successfully built GPUtil\n",
            "Installing collected packages: GPUtil, safetensors, jmespath, botocore, tokenizers, s3transfer, transformers, boto3, pytorch_pretrained_bert\n",
            "Successfully installed GPUtil-1.4.0 boto3-1.28.62 botocore-1.31.62 jmespath-1.0.1 pytorch_pretrained_bert-0.6.2 s3transfer-0.7.0 safetensors-0.4.0 tokenizers-0.14.1 transformers-4.34.0\n",
            "\u001b[33mWARNING: Skipping emoji as it is not installed.\u001b[0m\u001b[33m\n",
            "\u001b[0mCollecting emoji==1.7\n",
            "  Downloading emoji-1.7.0.tar.gz (175 kB)\n",
            "\u001b[2K     \u001b[90m━━━━━━━━━━━━━━━━━━━━━━━━━━━━━━━━━━━━━━━\u001b[0m \u001b[32m175.4/175.4 kB\u001b[0m \u001b[31m2.7 MB/s\u001b[0m eta \u001b[36m0:00:00\u001b[0m\n",
            "\u001b[?25h  Preparing metadata (setup.py) ... \u001b[?25l\u001b[?25hdone\n",
            "Building wheels for collected packages: emoji\n",
            "  Building wheel for emoji (setup.py) ... \u001b[?25l\u001b[?25hdone\n",
            "  Created wheel for emoji: filename=emoji-1.7.0-py3-none-any.whl size=171033 sha256=8b338825d12fb5e624c3ebdc0e547f1dad022e58b2da3e85f650a65730a20f19\n",
            "  Stored in directory: /root/.cache/pip/wheels/31/8a/8c/315c9e5d7773f74b33d5ed33f075b49c6eaeb7cedbb86e2cf8\n",
            "Successfully built emoji\n",
            "Installing collected packages: emoji\n",
            "Successfully installed emoji-1.7.0\n",
            "Collecting barbar\n",
            "  Downloading barbar-0.2.1-py3-none-any.whl (3.9 kB)\n",
            "Installing collected packages: barbar\n",
            "Successfully installed barbar-0.2.1\n"
          ]
        }
      ],
      "source": [
        "!pip install wget\n",
        "!pip install clip\n",
        "!pip install datasets\n",
        "!pip install GPUtil pytorch_pretrained_bert transformers\n",
        "!pip uninstall emoji\n",
        "!pip install emoji==1.7\n",
        "\n",
        "!pip install barbar"
      ]
    },
    {
      "cell_type": "code",
      "source": [
        "from emoji import UNICODE_EMOJI\n",
        "import wget\n",
        "import clip\n",
        "from transformers import AutoModel\n",
        "from barbar import Bar\n",
        "from transformers import AutoTokenizer, AutoModel"
      ],
      "metadata": {
        "id": "DDo0XejiImSg"
      },
      "execution_count": null,
      "outputs": []
    },
    {
      "cell_type": "code",
      "execution_count": null,
      "metadata": {
        "id": "EvqhGm6UkQAo"
      },
      "outputs": [],
      "source": [
        "\n",
        "\n",
        "import os\n",
        "\n",
        "import torch\n",
        "\n",
        "import os\n",
        "import json\n",
        "import operator\n",
        "\n",
        "import matplotlib.pyplot as plt\n",
        "import numpy as np\n",
        "import pandas as pd\n",
        "import math\n",
        "import time\n",
        "import torch.nn as nn\n",
        "import torch\n",
        "\n",
        "import torch.nn.functional as F\n",
        "from torch.autograd import Variable\n",
        "import re\n",
        "from sklearn.metrics import classification_report, confusion_matrix, f1_score, accuracy_score\n",
        "import matplotlib.pyplot as plt\n",
        "import seaborn as sns\n",
        "from torch.utils.data import Dataset, DataLoader\n",
        "import pandas as pd"
      ]
    },
    {
      "cell_type": "code",
      "execution_count": null,
      "metadata": {
        "id": "mz_dQbpkEDtB"
      },
      "outputs": [],
      "source": [
        "dic = {\n",
        "      \"egypt\": 'المصرية',\n",
        "\t  \"nile\": 'المصرية',\n",
        "\t  \"msa\": \"اللغة العربية الفصحى\",\n",
        "\t  \"magreb\": \"المغربية\",\n",
        "\t  \"gulf\": \"الخليجية\",\n",
        "\t  \"levant\": \"الشامية\"\n",
        "}"
      ]
    },
    {
      "cell_type": "markdown",
      "metadata": {
        "id": "gWkyMEJWZK1h"
      },
      "source": [
        "# RNN models"
      ]
    },
    {
      "cell_type": "code",
      "execution_count": null,
      "metadata": {
        "id": "5nu1LiPIrsUt"
      },
      "outputs": [],
      "source": [
        "class GRUCell(nn.Module):\n",
        "    def __init__(self, input_size, hidden_size, bias=True):\n",
        "        super(GRUCell, self).__init__()\n",
        "        self.input_size = input_size\n",
        "        self.hidden_size = hidden_size\n",
        "        self.bias = bias\n",
        "\n",
        "        self.x2h = nn.Linear(input_size, 3 * hidden_size, bias=bias)\n",
        "        self.h2h = nn.Linear(hidden_size, 3 * hidden_size, bias=bias)\n",
        "\n",
        "        self.reset_parameters()\n",
        "\n",
        "\n",
        "    def reset_parameters(self):\n",
        "        std = 1.0 / np.sqrt(self.hidden_size)\n",
        "        for w in self.parameters():\n",
        "            w.data.uniform_(-std, std)\n",
        "\n",
        "    def forward(self, input, hx=None):\n",
        "\n",
        "        # Inputs:\n",
        "        #       input: of shape (batch_size, input_size)\n",
        "        #       hx: of shape (batch_size, hidden_size)\n",
        "        # Output:\n",
        "        #       hy: of shape (batch_size, hidden_size)\n",
        "\n",
        "        if hx is None:\n",
        "            hx = Variable(input.new_zeros(input.size(0), self.hidden_size))\n",
        "\n",
        "        x_t = self.x2h(input)\n",
        "        h_t = self.h2h(hx)\n",
        "\n",
        "\n",
        "        x_reset, x_upd, x_new = x_t.chunk(3, 1)\n",
        "        h_reset, h_upd, h_new = h_t.chunk(3, 1)\n",
        "\n",
        "        reset_gate = torch.sigmoid(x_reset + h_reset)\n",
        "        update_gate = torch.sigmoid(x_upd + h_upd)\n",
        "        new_gate = torch.tanh(x_new + (reset_gate * h_new))\n",
        "\n",
        "        hy = update_gate * hx + (1 - update_gate) * new_gate\n",
        "\n",
        "        return hy\n",
        "\n",
        "\n",
        "\n",
        "class GRU(nn.Module):\n",
        "    def __init__(self, input_size, hidden_size, num_layers, bias, output_size):\n",
        "        super(GRU, self).__init__()\n",
        "\n",
        "        self.input_size = input_size\n",
        "        self.hidden_size = hidden_size\n",
        "        self.num_layers = num_layers\n",
        "        self.bias = bias\n",
        "        self.output_size = output_size\n",
        "\n",
        "        self.rnn_cell_list = nn.ModuleList()\n",
        "\n",
        "        self.rnn_cell_list.append(GRUCell(self.input_size,\n",
        "                                          self.hidden_size,\n",
        "                                          self.bias))\n",
        "        for l in range(1, self.num_layers):\n",
        "            self.rnn_cell_list.append(GRUCell(self.hidden_size,\n",
        "                                              self.hidden_size,\n",
        "                                              self.bias))\n",
        "        self.fc = nn.Linear(self.hidden_size, self.output_size)\n",
        "\n",
        "\n",
        "    def forward(self, input, hx=None):\n",
        "\n",
        "        # Input of shape (batch_size, seqence length, input_size)\n",
        "        #\n",
        "        # Output of shape (batch_size, output_size)\n",
        "\n",
        "        if hx is None:\n",
        "            if torch.cuda.is_available():\n",
        "                h0 = Variable(torch.zeros(self.num_layers, input.size(0), self.hidden_size).cuda())\n",
        "            else:\n",
        "                h0 = Variable(torch.zeros(self.num_layers, input.size(0), self.hidden_size))\n",
        "\n",
        "        else:\n",
        "             h0 = hx\n",
        "\n",
        "        outs = []\n",
        "\n",
        "        hidden = list()\n",
        "        for layer in range(self.num_layers):\n",
        "            hidden.append(h0[layer, :, :])\n",
        "\n",
        "        for t in range(input.size(1)):\n",
        "\n",
        "            for layer in range(self.num_layers):\n",
        "\n",
        "                if layer == 0:\n",
        "                    hidden_l = self.rnn_cell_list[layer](input[:, t, :], hidden[layer])\n",
        "                else:\n",
        "                    hidden_l = self.rnn_cell_list[layer](hidden[layer - 1],hidden[layer])\n",
        "                hidden[layer] = hidden_l\n",
        "\n",
        "                hidden[layer] = hidden_l\n",
        "\n",
        "            outs.append(hidden_l)\n",
        "\n",
        "        # Take only last time step. Modify for seq to seq\n",
        "        out = outs[-1].squeeze()\n",
        "\n",
        "        out = self.fc(out)\n",
        "\n",
        "        return out\n"
      ]
    },
    {
      "cell_type": "markdown",
      "metadata": {
        "id": "lQHTk631kRST"
      },
      "source": [
        "# utils"
      ]
    },
    {
      "cell_type": "code",
      "execution_count": null,
      "metadata": {
        "id": "FiXPVO_L5uY2"
      },
      "outputs": [],
      "source": [
        "def plot_cf(cf_matrix):\n",
        "    ax = sns.heatmap(cf_matrix, annot=True, cmap='Blues',fmt=\"d\")\n",
        "    ax.set_title('Seaborn Confusion Matrix with labels\\n\\n');\n",
        "    ax.set_xlabel('\\nPredicted Values')\n",
        "    ax.set_ylabel('Actual Values ');\n",
        "    ## Ticket labels - List must be in alphabetical order\n",
        "    ax.xaxis.set_ticklabels(['False','True'])\n",
        "    ax.yaxis.set_ticklabels(['False','True'])\n",
        "    ## Display the visualization of the Confusion Matrix.\n",
        "    plt.show()"
      ]
    },
    {
      "cell_type": "code",
      "execution_count": null,
      "metadata": {
        "id": "MziCNmdz3sqH"
      },
      "outputs": [],
      "source": [
        "def calc_accuracy(preds,y):\n",
        "    predict = torch.argmax(preds, dim=1)\n",
        "    accuracy = torch.sum(predict == y.squeeze()).float().item()\n",
        "    return accuracy / float(preds.size()[0])"
      ]
    },
    {
      "cell_type": "code",
      "execution_count": null,
      "metadata": {
        "id": "AsJMvkJzk83j"
      },
      "outputs": [],
      "source": [
        "def assign_learning_rate(param_group, new_lr):\n",
        "    param_group[\"lr\"] = new_lr"
      ]
    },
    {
      "cell_type": "code",
      "execution_count": null,
      "metadata": {
        "id": "-848mzCOk_rN"
      },
      "outputs": [],
      "source": [
        "def _warmup_lr(base_lr, warmup_length, step):\n",
        "    return base_lr * (step + 1) / warmup_length"
      ]
    },
    {
      "cell_type": "code",
      "execution_count": null,
      "metadata": {
        "id": "CKI95u1gkQZd"
      },
      "outputs": [],
      "source": [
        "def cosine_lr(optimizer, base_lrs, warmup_length, steps):\n",
        "    if not isinstance(base_lrs, list):\n",
        "        base_lrs = [base_lrs for _ in optimizer.param_groups]\n",
        "    assert len(base_lrs) == len(optimizer.param_groups)\n",
        "    def _lr_adjuster(step):\n",
        "        for param_group, base_lr in zip(optimizer.param_groups, base_lrs):\n",
        "            if step < warmup_length:\n",
        "                lr = _warmup_lr(base_lr, warmup_length, step)\n",
        "            else:\n",
        "                e = step - warmup_length\n",
        "                es = steps - warmup_length\n",
        "                lr = 0.5 * (1 + np.cos(np.pi * e / es)) * base_lr\n",
        "            assign_learning_rate(param_group, lr)\n",
        "    return _lr_adjuster"
      ]
    },
    {
      "cell_type": "markdown",
      "metadata": {
        "id": "XByoV-UJkY8E"
      },
      "source": [
        "# main"
      ]
    },
    {
      "cell_type": "code",
      "execution_count": null,
      "metadata": {
        "id": "1nYeH0dSl7_O"
      },
      "outputs": [],
      "source": [
        "\n",
        "\n",
        "args = {\"data_location\": os.path.expanduser('./data'),\n",
        "        \"model_location\": os.path.expanduser('./ssd/checkpoints/soups'),\n",
        "        \"download_models\": False,\n",
        "        \"eval_individual_models\":True,\n",
        "        \"uniform_soup\": True,\n",
        "        \"greedy_soup\": True,\n",
        "        \"plot\": True,\n",
        "        \"batch_size\": 36,\n",
        "        \"workers\": 8,\n",
        "        \"pretrained_path\": \"UBC-NLP/MARBERT\",\n",
        "        'loss' : 'FL',\n",
        "        'max_length': 64\n",
        "\n",
        "}\n",
        "\n"
      ]
    },
    {
      "cell_type": "code",
      "execution_count": null,
      "metadata": {
        "id": "wUlbwf9JrRtG",
        "colab": {
          "base_uri": "https://localhost:8080/"
        },
        "outputId": "21e5cc05-fc3e-4b85-b3fe-6872d3aeda86"
      },
      "outputs": [
        {
          "output_type": "execute_result",
          "data": {
            "text/plain": [
              "{'data_location': './data',\n",
              " 'model_location': './ssd/checkpoints/soups',\n",
              " 'download_models': False,\n",
              " 'eval_individual_models': True,\n",
              " 'uniform_soup': True,\n",
              " 'greedy_soup': True,\n",
              " 'plot': True,\n",
              " 'batch_size': 36,\n",
              " 'workers': 8,\n",
              " 'pretrained_path': 'UBC-NLP/MARBERT',\n",
              " 'loss': 'FL',\n",
              " 'max_length': 64}"
            ]
          },
          "metadata": {},
          "execution_count": 14
        }
      ],
      "source": [
        "args"
      ]
    },
    {
      "cell_type": "code",
      "source": [
        "ls /content/drive/MyDrive/iSarcasm/m_298/\n"
      ],
      "metadata": {
        "colab": {
          "base_uri": "https://localhost:8080/"
        },
        "id": "OGtKUT4OHD-0",
        "outputId": "6e541333-2bc3-456a-eec7-bcb12189e301"
      },
      "execution_count": null,
      "outputs": [
        {
          "output_type": "stream",
          "name": "stdout",
          "text": [
            "best_basemodel_sarcasm_16_FL_1e-05_ml64_2_298_sarcat.pth\n",
            "best_basemodel_sarcasm_16_FL_1e-05_ml64_4_298_sarcat.pth\n",
            "best_basemodel_sarcasm_16_FL_2e-05_ml64_2_298_sarcat.pth\n",
            "best_basemodel_sarcasm_16_FL_2e-05_ml64_4_298_sarcat.pth\n",
            "best_basemodel_sarcasm_32_FL_1e-05_ml64_2_298_sarcat.pth\n",
            "best_basemodel_sarcasm_32_FL_1e-05_ml64_4_298_sarcat.pth\n",
            "best_basemodel_sarcasm_32_FL_2e-05_ml64_2_298_sarcat.pth\n",
            "best_basemodel_sarcasm_32_FL_2e-05_ml64_4_298_sarcat.pth\n",
            "best_basemodel_sarcasm_36_FL_1e-05_ml64_2_298_sarcat.pth\n",
            "best_basemodel_sarcasm_36_FL_1e-05_ml64_4_298_sarcat.pth\n",
            "best_basemodel_sarcasm_36_FL_2e-05_ml64_2_298_sarcat.pth\n",
            "best_basemodel_sarcasm_36_FL_2e-05_ml64_4_298_sarcat.pth\n",
            "best_basemodel_sarcasm_64_FL_1e-05_ml64_2_298_sarcat.pth\n",
            "best_basemodel_sarcasm_64_FL_1e-05_ml64_4_298_sarcat.pth\n",
            "best_basemodel_sarcasm_64_FL_2e-05_ml64_2_298_sarcat.pth\n",
            "best_basemodel_sarcasm_64_FL_2e-05_ml64_4_298_sarcat.pth\n",
            "best_cls_sarcasm_16_FL_1e-05_ml64_2_298_sarcat.pth\n",
            "best_cls_sarcasm_16_FL_1e-05_ml64_4_298_sarcat.pth\n",
            "best_cls_sarcasm_16_FL_2e-05_ml64_2_298_sarcat.pth\n",
            "best_cls_sarcasm_16_FL_2e-05_ml64_4_298_sarcat.pth\n",
            "best_cls_sarcasm_32_FL_1e-05_ml64_2_298_sarcat.pth\n",
            "best_cls_sarcasm_32_FL_1e-05_ml64_4_298_sarcat.pth\n",
            "best_cls_sarcasm_32_FL_2e-05_ml64_2_298_sarcat.pth\n",
            "best_cls_sarcasm_32_FL_2e-05_ml64_4_298_sarcat.pth\n",
            "best_cls_sarcasm_36_FL_1e-05_ml64_2_298_sarcat.pth\n",
            "best_cls_sarcasm_36_FL_1e-05_ml64_4_298_sarcat.pth\n",
            "best_cls_sarcasm_36_FL_2e-05_ml64_2_298_sarcat.pth\n",
            "best_cls_sarcasm_36_FL_2e-05_ml64_4_298_sarcat.pth\n",
            "best_cls_sarcasm_64_FL_1e-05_ml64_2_298_sarcat.pth\n",
            "best_cls_sarcasm_64_FL_1e-05_ml64_4_298_sarcat.pth\n",
            "best_cls_sarcasm_64_FL_2e-05_ml64_2_298_sarcat.pth\n",
            "best_cls_sarcasm_64_FL_2e-05_ml64_4_298_sarcat.pth\n",
            "\u001b[0m\u001b[01;34mresults\u001b[0m/\n",
            "\u001b[01;34mresults_all_f1\u001b[0m/\n"
          ]
        }
      ]
    },
    {
      "cell_type": "code",
      "execution_count": null,
      "metadata": {
        "id": "Uo003aOQohNs"
      },
      "outputs": [],
      "source": [
        "\n",
        "INDIVIDUAL_MODEL_RESULTS_FILE_H = '/content/drive/MyDrive/iSarcasm/m_298/results/results_h.jsonl'\n",
        "# UNIFORM_SOUP_RESULTS_FILE_H = '/content/drive/MyDrive/iSarcasm/m_298/results_all_f1/uniform_soup_results_h.jsonl'\n",
        "# GREEDY_SOUP_RESULTS_FILE_H = '/content/drive/MyDrive/iSarcasm/m_298/results_all_f1/greedy_soup_results_h.jsonl'\n",
        "UNIFORM_SOUP_RESULTS_FILE_H = 'uniform_soup_results_h.jsonl'\n",
        "GREEDY_SOUP_RESULTS_FILE_H = 'greedy_soup_results_h.jsonl'\n",
        "\n",
        "INDIVIDUAL_MODEL_RESULTS_FILE_T = '/content/drive/MyDrive/iSarcasm/m_298/results/results_t.jsonl'\n",
        "UNIFORM_SOUP_RESULTS_FILE_T = 'uniform_soup_results_t.jsonl'\n",
        "GREEDY_SOUP_RESULTS_FILE_T = 'greedy_soup_results_t.jsonl'\n",
        "BEST_MODEL_RESULTS_FILE_T = '/content/drive/MyDrive/iSarcasm/m_298/results/best_model_f.jsonl'\n"
      ]
    },
    {
      "cell_type": "code",
      "source": [
        "args[\"model_location\"]"
      ],
      "metadata": {
        "colab": {
          "base_uri": "https://localhost:8080/",
          "height": 35
        },
        "id": "IxqSt8PdEcbd",
        "outputId": "2f6258ca-fcc5-44a4-e622-34f0da3d186b"
      },
      "execution_count": null,
      "outputs": [
        {
          "output_type": "execute_result",
          "data": {
            "text/plain": [
              "'./ssd/checkpoints/soups'"
            ],
            "application/vnd.google.colaboratory.intrinsic+json": {
              "type": "string"
            }
          },
          "metadata": {},
          "execution_count": 17
        }
      ]
    },
    {
      "cell_type": "code",
      "execution_count": null,
      "metadata": {
        "id": "tbDvLFTarA5d"
      },
      "outputs": [],
      "source": [
        "if not os.path.exists(args[\"model_location\"]):\n",
        "    os.mkdir(args[\"model_location\"])"
      ]
    },
    {
      "cell_type": "code",
      "execution_count": null,
      "metadata": {
        "id": "u4btNYVfsdMG"
      },
      "outputs": [],
      "source": [
        "ls ./ssd/checkpoints/soups"
      ]
    },
    {
      "cell_type": "code",
      "source": [
        "!cp -av \"/content/drive/MyDrive/iSarcasm/m_298/.\"  \"./ssd/checkpoints/soups\""
      ],
      "metadata": {
        "colab": {
          "base_uri": "https://localhost:8080/"
        },
        "id": "33TxZsF3SGJw",
        "outputId": "fb06b34d-1ea1-40d9-add7-513b701d3586"
      },
      "execution_count": null,
      "outputs": [
        {
          "output_type": "stream",
          "name": "stdout",
          "text": [
            "'/content/drive/MyDrive/iSarcasm/m_298/./best_basemodel_sarcasm_16_FL_1e-05_ml64_2_298_sarcat.pth' -> './ssd/checkpoints/soups/./best_basemodel_sarcasm_16_FL_1e-05_ml64_2_298_sarcat.pth'\n",
            "'/content/drive/MyDrive/iSarcasm/m_298/./best_cls_sarcasm_16_FL_1e-05_ml64_2_298_sarcat.pth' -> './ssd/checkpoints/soups/./best_cls_sarcasm_16_FL_1e-05_ml64_2_298_sarcat.pth'\n",
            "'/content/drive/MyDrive/iSarcasm/m_298/./best_basemodel_sarcasm_16_FL_1e-05_ml64_4_298_sarcat.pth' -> './ssd/checkpoints/soups/./best_basemodel_sarcasm_16_FL_1e-05_ml64_4_298_sarcat.pth'\n",
            "'/content/drive/MyDrive/iSarcasm/m_298/./best_cls_sarcasm_16_FL_1e-05_ml64_4_298_sarcat.pth' -> './ssd/checkpoints/soups/./best_cls_sarcasm_16_FL_1e-05_ml64_4_298_sarcat.pth'\n",
            "'/content/drive/MyDrive/iSarcasm/m_298/./best_basemodel_sarcasm_32_FL_1e-05_ml64_2_298_sarcat.pth' -> './ssd/checkpoints/soups/./best_basemodel_sarcasm_32_FL_1e-05_ml64_2_298_sarcat.pth'\n",
            "'/content/drive/MyDrive/iSarcasm/m_298/./best_cls_sarcasm_32_FL_1e-05_ml64_2_298_sarcat.pth' -> './ssd/checkpoints/soups/./best_cls_sarcasm_32_FL_1e-05_ml64_2_298_sarcat.pth'\n",
            "'/content/drive/MyDrive/iSarcasm/m_298/./best_basemodel_sarcasm_32_FL_1e-05_ml64_4_298_sarcat.pth' -> './ssd/checkpoints/soups/./best_basemodel_sarcasm_32_FL_1e-05_ml64_4_298_sarcat.pth'\n",
            "'/content/drive/MyDrive/iSarcasm/m_298/./best_cls_sarcasm_32_FL_1e-05_ml64_4_298_sarcat.pth' -> './ssd/checkpoints/soups/./best_cls_sarcasm_32_FL_1e-05_ml64_4_298_sarcat.pth'\n",
            "'/content/drive/MyDrive/iSarcasm/m_298/./best_basemodel_sarcasm_36_FL_1e-05_ml64_2_298_sarcat.pth' -> './ssd/checkpoints/soups/./best_basemodel_sarcasm_36_FL_1e-05_ml64_2_298_sarcat.pth'\n",
            "'/content/drive/MyDrive/iSarcasm/m_298/./best_cls_sarcasm_36_FL_1e-05_ml64_2_298_sarcat.pth' -> './ssd/checkpoints/soups/./best_cls_sarcasm_36_FL_1e-05_ml64_2_298_sarcat.pth'\n",
            "'/content/drive/MyDrive/iSarcasm/m_298/./best_basemodel_sarcasm_36_FL_1e-05_ml64_4_298_sarcat.pth' -> './ssd/checkpoints/soups/./best_basemodel_sarcasm_36_FL_1e-05_ml64_4_298_sarcat.pth'\n",
            "'/content/drive/MyDrive/iSarcasm/m_298/./best_cls_sarcasm_36_FL_1e-05_ml64_4_298_sarcat.pth' -> './ssd/checkpoints/soups/./best_cls_sarcasm_36_FL_1e-05_ml64_4_298_sarcat.pth'\n",
            "'/content/drive/MyDrive/iSarcasm/m_298/./best_basemodel_sarcasm_64_FL_1e-05_ml64_2_298_sarcat.pth' -> './ssd/checkpoints/soups/./best_basemodel_sarcasm_64_FL_1e-05_ml64_2_298_sarcat.pth'\n",
            "'/content/drive/MyDrive/iSarcasm/m_298/./best_cls_sarcasm_64_FL_1e-05_ml64_2_298_sarcat.pth' -> './ssd/checkpoints/soups/./best_cls_sarcasm_64_FL_1e-05_ml64_2_298_sarcat.pth'\n",
            "'/content/drive/MyDrive/iSarcasm/m_298/./best_basemodel_sarcasm_64_FL_1e-05_ml64_4_298_sarcat.pth' -> './ssd/checkpoints/soups/./best_basemodel_sarcasm_64_FL_1e-05_ml64_4_298_sarcat.pth'\n",
            "'/content/drive/MyDrive/iSarcasm/m_298/./best_cls_sarcasm_64_FL_1e-05_ml64_4_298_sarcat.pth' -> './ssd/checkpoints/soups/./best_cls_sarcasm_64_FL_1e-05_ml64_4_298_sarcat.pth'\n",
            "'/content/drive/MyDrive/iSarcasm/m_298/./best_basemodel_sarcasm_16_FL_2e-05_ml64_2_298_sarcat.pth' -> './ssd/checkpoints/soups/./best_basemodel_sarcasm_16_FL_2e-05_ml64_2_298_sarcat.pth'\n",
            "'/content/drive/MyDrive/iSarcasm/m_298/./best_cls_sarcasm_16_FL_2e-05_ml64_2_298_sarcat.pth' -> './ssd/checkpoints/soups/./best_cls_sarcasm_16_FL_2e-05_ml64_2_298_sarcat.pth'\n",
            "'/content/drive/MyDrive/iSarcasm/m_298/./best_basemodel_sarcasm_16_FL_2e-05_ml64_4_298_sarcat.pth' -> './ssd/checkpoints/soups/./best_basemodel_sarcasm_16_FL_2e-05_ml64_4_298_sarcat.pth'\n",
            "'/content/drive/MyDrive/iSarcasm/m_298/./best_cls_sarcasm_16_FL_2e-05_ml64_4_298_sarcat.pth' -> './ssd/checkpoints/soups/./best_cls_sarcasm_16_FL_2e-05_ml64_4_298_sarcat.pth'\n",
            "'/content/drive/MyDrive/iSarcasm/m_298/./best_basemodel_sarcasm_32_FL_2e-05_ml64_2_298_sarcat.pth' -> './ssd/checkpoints/soups/./best_basemodel_sarcasm_32_FL_2e-05_ml64_2_298_sarcat.pth'\n",
            "'/content/drive/MyDrive/iSarcasm/m_298/./best_cls_sarcasm_32_FL_2e-05_ml64_2_298_sarcat.pth' -> './ssd/checkpoints/soups/./best_cls_sarcasm_32_FL_2e-05_ml64_2_298_sarcat.pth'\n",
            "'/content/drive/MyDrive/iSarcasm/m_298/./best_basemodel_sarcasm_32_FL_2e-05_ml64_4_298_sarcat.pth' -> './ssd/checkpoints/soups/./best_basemodel_sarcasm_32_FL_2e-05_ml64_4_298_sarcat.pth'\n",
            "'/content/drive/MyDrive/iSarcasm/m_298/./best_cls_sarcasm_32_FL_2e-05_ml64_4_298_sarcat.pth' -> './ssd/checkpoints/soups/./best_cls_sarcasm_32_FL_2e-05_ml64_4_298_sarcat.pth'\n",
            "'/content/drive/MyDrive/iSarcasm/m_298/./best_basemodel_sarcasm_36_FL_2e-05_ml64_2_298_sarcat.pth' -> './ssd/checkpoints/soups/./best_basemodel_sarcasm_36_FL_2e-05_ml64_2_298_sarcat.pth'\n",
            "'/content/drive/MyDrive/iSarcasm/m_298/./best_cls_sarcasm_36_FL_2e-05_ml64_2_298_sarcat.pth' -> './ssd/checkpoints/soups/./best_cls_sarcasm_36_FL_2e-05_ml64_2_298_sarcat.pth'\n",
            "'/content/drive/MyDrive/iSarcasm/m_298/./best_basemodel_sarcasm_36_FL_2e-05_ml64_4_298_sarcat.pth' -> './ssd/checkpoints/soups/./best_basemodel_sarcasm_36_FL_2e-05_ml64_4_298_sarcat.pth'\n",
            "'/content/drive/MyDrive/iSarcasm/m_298/./best_cls_sarcasm_36_FL_2e-05_ml64_4_298_sarcat.pth' -> './ssd/checkpoints/soups/./best_cls_sarcasm_36_FL_2e-05_ml64_4_298_sarcat.pth'\n",
            "'/content/drive/MyDrive/iSarcasm/m_298/./best_basemodel_sarcasm_64_FL_2e-05_ml64_2_298_sarcat.pth' -> './ssd/checkpoints/soups/./best_basemodel_sarcasm_64_FL_2e-05_ml64_2_298_sarcat.pth'\n",
            "'/content/drive/MyDrive/iSarcasm/m_298/./best_cls_sarcasm_64_FL_2e-05_ml64_2_298_sarcat.pth' -> './ssd/checkpoints/soups/./best_cls_sarcasm_64_FL_2e-05_ml64_2_298_sarcat.pth'\n",
            "'/content/drive/MyDrive/iSarcasm/m_298/./best_basemodel_sarcasm_64_FL_2e-05_ml64_4_298_sarcat.pth' -> './ssd/checkpoints/soups/./best_basemodel_sarcasm_64_FL_2e-05_ml64_4_298_sarcat.pth'\n",
            "'/content/drive/MyDrive/iSarcasm/m_298/./best_cls_sarcasm_64_FL_2e-05_ml64_4_298_sarcat.pth' -> './ssd/checkpoints/soups/./best_cls_sarcasm_64_FL_2e-05_ml64_4_298_sarcat.pth'\n",
            "'/content/drive/MyDrive/iSarcasm/m_298/./results' -> './ssd/checkpoints/soups/./results'\n",
            "'/content/drive/MyDrive/iSarcasm/m_298/./results/results_h.jsonl' -> './ssd/checkpoints/soups/./results/results_h.jsonl'\n",
            "'/content/drive/MyDrive/iSarcasm/m_298/./results/results_t.jsonl' -> './ssd/checkpoints/soups/./results/results_t.jsonl'\n",
            "'/content/drive/MyDrive/iSarcasm/m_298/./results/best_model_f.jsonl' -> './ssd/checkpoints/soups/./results/best_model_f.jsonl'\n",
            "'/content/drive/MyDrive/iSarcasm/m_298/./results/figure_f1_h.png' -> './ssd/checkpoints/soups/./results/figure_f1_h.png'\n",
            "'/content/drive/MyDrive/iSarcasm/m_298/./results_all_f1' -> './ssd/checkpoints/soups/./results_all_f1'\n",
            "'/content/drive/MyDrive/iSarcasm/m_298/./results_all_f1/uniform_soup_results_h.jsonl' -> './ssd/checkpoints/soups/./results_all_f1/uniform_soup_results_h.jsonl'\n",
            "'/content/drive/MyDrive/iSarcasm/m_298/./results_all_f1/uniform_soup_results_t.jsonl' -> './ssd/checkpoints/soups/./results_all_f1/uniform_soup_results_t.jsonl'\n",
            "'/content/drive/MyDrive/iSarcasm/m_298/./results_all_f1/greedy_soup_results_t.jsonl' -> './ssd/checkpoints/soups/./results_all_f1/greedy_soup_results_t.jsonl'\n",
            "'/content/drive/MyDrive/iSarcasm/m_298/./results_all_f1/greedy_soup_results_h.jsonl' -> './ssd/checkpoints/soups/./results_all_f1/greedy_soup_results_h.jsonl'\n",
            "'/content/drive/MyDrive/iSarcasm/m_298/./results_all_f1/figure_t.png' -> './ssd/checkpoints/soups/./results_all_f1/figure_t.png'\n",
            "'/content/drive/MyDrive/iSarcasm/m_298/./results_all_f1/figure_h.png' -> './ssd/checkpoints/soups/./results_all_f1/figure_h.png'\n",
            "'/content/drive/MyDrive/iSarcasm/m_298/./results_all_f1/uniform_classifier.pth' -> './ssd/checkpoints/soups/./results_all_f1/uniform_classifier.pth'\n",
            "'/content/drive/MyDrive/iSarcasm/m_298/./results_all_f1/greedy_base_model.pth' -> './ssd/checkpoints/soups/./results_all_f1/greedy_base_model.pth'\n",
            "'/content/drive/MyDrive/iSarcasm/m_298/./results_all_f1/greedy_classifier.pth' -> './ssd/checkpoints/soups/./results_all_f1/greedy_classifier.pth'\n",
            "'/content/drive/MyDrive/iSarcasm/m_298/./results_all_f1/uniform_base_model.pth' -> './ssd/checkpoints/soups/./results_all_f1/uniform_base_model.pth'\n",
            "'/content/drive/MyDrive/iSarcasm/m_298/./results_all_f1/results_all_f1' -> './ssd/checkpoints/soups/./results_all_f1/results_all_f1'\n"
          ]
        }
      ]
    },
    {
      "cell_type": "code",
      "execution_count": null,
      "metadata": {
        "id": "SdMoXb-0s3Rf"
      },
      "outputs": [],
      "source": [
        "# !cp -av \"/content/drive/MyDrive/iSarcasm/m_298/best_basemodel_sarcasm_16_FL_2e-05_ml64_2_6911_sarcat.pth\"  \"./ssd/checkpoints/soups\"\n",
        "# !cp -av \"/content/drive/MyDrive/iSarcasm/m_298/best_cls_sarcasm_16_FL_2e-05_ml64_2_6911_sarcat.pth\"  \"./ssd/checkpoints/soups\"\n",
        "\n",
        "# !cp -av \"/content/drive/MyDrive/iSarcasm/m_298/best_basemodel_sarcasm_16_FL_2e-05_ml64_2_298_sarcat.pth\"  \"./ssd/checkpoints/soups\"\n",
        "# !cp -av \"/content/drive/MyDrive/iSarcasm/m_298/best_cls_sarcasm_16_FL_2e-05_ml64_2_298_sarcat.pth\"  \"./ssd/checkpoints/soups\""
      ]
    },
    {
      "cell_type": "code",
      "execution_count": null,
      "metadata": {
        "id": "I7EPUd9T3NtB"
      },
      "outputs": [],
      "source": [
        "def init_weights(m):\n",
        "    classname = m.__class__.__name__\n",
        "    if classname.find('Conv2d') != -1 or classname.find('ConvTranspose2d') != -1:\n",
        "        nn.init.kaiming_uniform_(m.weight)\n",
        "        nn.init.zeros_(m.bias)\n",
        "    elif classname.find('BatchNorm') != -1:\n",
        "        nn.init.normal_(m.weight, 1.0, 0.02)\n",
        "        nn.init.zeros_(m.bias)\n",
        "    elif classname.find('Linear') != -1:\n",
        "        nn.init.xavier_normal_(m.weight)\n",
        "        if m.bias is not None:\n",
        "            nn.init.zeros_(m.bias)"
      ]
    },
    {
      "cell_type": "code",
      "execution_count": null,
      "metadata": {
        "id": "ZVXZrxEtuj8A"
      },
      "outputs": [],
      "source": [
        "\n",
        "class TransformerLayer(nn.Module):\n",
        "    def __init__(self,both=True,\n",
        "                pretrained_path='aubmindlab/bert-base-arabert'):\n",
        "        super(TransformerLayer, self).__init__()\n",
        "\n",
        "        self.both = both\n",
        "        self.transformer = AutoModel.from_pretrained(pretrained_path, output_hidden_states=True)\n",
        "\n",
        "\n",
        "    def forward(self, input_ids=None, attention_mask=None):\n",
        "        outputs = self.transformer(\n",
        "            input_ids=input_ids,\n",
        "            attention_mask=attention_mask\n",
        "        )\n",
        "        # (output_last_layer, pooled_cls, (output_layers))\n",
        "        # output[0] (8, seqlen=64, 768) cls [8, 768] ( 12 (8, seqlen=64, 768))\n",
        "\n",
        "        return outputs\n",
        "\n",
        "    def output_num(self):\n",
        "        return self.transformer.config.hidden_size\n",
        "\n",
        "class ATTClassifier(nn.Module):\n",
        "    def __init__(self, in_feature, class_num=1, dropout_prob=0.2):\n",
        "        super(ATTClassifier, self).__init__()\n",
        "        # self.attention = AttentionWithContext(in_feature)\n",
        "        self.model = GRU(input_size=in_feature, hidden_size=in_feature, num_layers=1, bias=True , output_size=in_feature)\n",
        "\n",
        "        self.Classifier = nn.Sequential(\n",
        "            nn.Linear(2 * in_feature, 512),\n",
        "            nn.Dropout(dropout_prob),\n",
        "            nn.ReLU(),\n",
        "            nn.Linear(512, class_num)\n",
        "        )\n",
        "\n",
        "        self.apply(init_weights)\n",
        "\n",
        "    def forward(self, x):\n",
        "\n",
        "        mod = self.model(x[0]) #(X[0] (bs, seqlenght, embedD) att = \\sum_i alpha_i x[0][i]\n",
        "        xx = torch.cat([mod, x[1]], 1)\n",
        "\n",
        "        out = self.Classifier(xx)\n",
        "        return out\n"
      ]
    },
    {
      "cell_type": "code",
      "execution_count": null,
      "metadata": {
        "id": "XmZJJbUMdtb8"
      },
      "outputs": [],
      "source": [
        "def is_emoji(s):\n",
        "    return s in UNICODE_EMOJI"
      ]
    },
    {
      "cell_type": "code",
      "execution_count": null,
      "metadata": {
        "id": "04ZWYcELddfE"
      },
      "outputs": [],
      "source": [
        "def add_space(text):\n",
        "    return ''.join(' ' + char if is_emoji(char) else char for char in text).strip()"
      ]
    },
    {
      "cell_type": "code",
      "execution_count": null,
      "metadata": {
        "id": "Rg9CrGFJDloP"
      },
      "outputs": [],
      "source": [
        "def preprocess(text, lang='ar'):\n",
        "    sent = add_space(text)\n",
        "    sent = re.sub(r'(?:@[\\w_]+)', \"user\", sent)\n",
        "    sent = re.sub(r'http[s]?://(?:[a-z]|[0-9]|[$-_@.&amp;+]|[!*\\(\\),]|(?:%[0-9a-f][0-9a-f]))+', \"url\", sent)\n",
        "    sent = sent.replace('_', ' ')\n",
        "    sent = sent.replace('#', ' ')\n",
        "    return sent\n",
        "\n",
        "def prepare_text(df, col='tweet'):\n",
        "    if col == 'tweet':\n",
        "        df['dialect'] = df['dialect'].map(dic)\n",
        "    for i in range(df.shape[0]):\n",
        "        df.loc[i, col] = df.loc[i, 'dialect'] + ' [SEP] ' + df.loc[i, col]\n",
        "\n",
        "\n",
        "    return df"
      ]
    },
    {
      "cell_type": "code",
      "execution_count": null,
      "metadata": {
        "id": "OnuY4wWSEW5_"
      },
      "outputs": [],
      "source": [
        "class TrainDataset(Dataset):\n",
        "    def __init__(self, df, pretraine_path='xlm-roberta-base', max_length=128):\n",
        "        self.df = df\n",
        "        self.max_length = max_length\n",
        "\n",
        "        self.tokenizer = AutoTokenizer.from_pretrained(pretraine_path)\n",
        "\n",
        "    def __getitem__(self, index):\n",
        "        text = self.df.iloc[index]['tweet']\n",
        "        label = self.df.iloc[index][\"sarcastic\"]\n",
        "        #print(\"label\", label)\n",
        "\n",
        "        encoded_input = self.tokenizer(\n",
        "                text,\n",
        "                max_length = self.max_length,\n",
        "                padding='max_length',\n",
        "                truncation=True,\n",
        "                return_tensors=\"pt\",\n",
        "            )\n",
        "\n",
        "        input_ids = encoded_input[\"input_ids\"]\n",
        "        attention_mask = encoded_input[\"attention_mask\"] if \"attention_mask\" in encoded_input else None\n",
        "\n",
        "        data_input = {\n",
        "            \"input_ids\":input_ids.flatten(),\n",
        "            \"attention_mask\": attention_mask.flatten()\n",
        "        }\n",
        "\n",
        "        label_input ={\n",
        "            \"sarcasm\": torch.tensor(label, dtype=torch.float),\n",
        "        }\n",
        "\n",
        "        return data_input, label_input\n",
        "\n",
        "    def __len__(self):\n",
        "        return self.df.shape[0]"
      ]
    },
    {
      "cell_type": "code",
      "execution_count": null,
      "metadata": {
        "id": "MeIVdV8DJLg1"
      },
      "outputs": [],
      "source": [
        "def loadValData(batchsize=16, num_worker=2, pretraine_path=\"xlm-roberta-base\", max_length=128):\n",
        "    path = \"/content/drive/MyDrive/iSarcasm/Datasets2/split_80_20/val.csv\"\n",
        "    data = pd.read_csv(path, encoding='utf-8')\n",
        "    data['tweet'] = data['tweet'].apply(lambda x:preprocess(x))\n",
        "    print(data.shape)\n",
        "    print(data.head())\n",
        "\n",
        "    data = prepare_text(data, col='tweet')\n",
        "\n",
        "    DF_test = TrainDataset(data, pretraine_path, max_length)\n",
        "\n",
        "    DF_test_loader = DataLoader(dataset=DF_test, batch_size=batchsize, shuffle=False,\n",
        "                                num_workers=num_worker)\n",
        "    return DF_test_loader\n",
        "\n"
      ]
    },
    {
      "cell_type": "code",
      "execution_count": null,
      "metadata": {
        "id": "-6tnueS6JUWc"
      },
      "outputs": [],
      "source": [
        "def loadTestData(batchsize=16, num_worker=2, pretraine_path=\"xlm-roberta-base\", max_length=128):\n",
        "    path = \"/content/drive/MyDrive/iSarcasm/Datasets2/tweet/task_A_Ar_test.csv\"\n",
        "    data = pd.read_csv(path, encoding='utf-8')\n",
        "    data['tweet'] = data['tweet'].apply(lambda x:preprocess(x))\n",
        "    data = prepare_text(data, col='tweet')\n",
        "\n",
        "    DF_test = TrainDataset(data, pretraine_path, max_length)\n",
        "\n",
        "    DF_test_loader = DataLoader(dataset=DF_test, batch_size=batchsize, shuffle=False,\n",
        "                                num_workers=num_worker)\n",
        "\n",
        "\n",
        "    return DF_test_loader\n",
        "\n"
      ]
    },
    {
      "cell_type": "code",
      "source": [
        "def loadExamplesData(batchsize=16, num_worker=2, pretraine_path=\"xlm-roberta-base\", max_length=128):\n",
        "    path = \"/content/drive/MyDrive/iSarcasm/Datasets2/tweet/examples.csv\"\n",
        "    data = pd.read_csv(path, encoding='utf-8')\n",
        "    data['tweet'] = data['tweet'].apply(lambda x:preprocess(x))\n",
        "    data = prepare_text(data, col='tweet')\n",
        "\n",
        "    DF_test = TrainDataset(data, pretraine_path, max_length)\n",
        "\n",
        "    DF_test_loader = DataLoader(dataset=DF_test, batch_size=batchsize, shuffle=False,\n",
        "                                num_workers=num_worker)\n",
        "\n",
        "\n",
        "    return DF_test_loader\n",
        "\n"
      ],
      "metadata": {
        "id": "4BQSxB-vGN2k"
      },
      "execution_count": null,
      "outputs": []
    },
    {
      "cell_type": "code",
      "execution_count": null,
      "metadata": {
        "id": "p6Vv5oeCJ0j9"
      },
      "outputs": [],
      "source": [
        "def predict(base_model, mt_classifier, iterator):\n",
        "    # initialize every epoch\n",
        "    acc_sarcasm= 0\n",
        "    loss_sarc= 0\n",
        "\n",
        "    f1_sarcasm =0\n",
        "    f1_score_macro = 0\n",
        "\n",
        "    #all_sarcasm_outputs = []\n",
        "    all_sarcasm_outputs = np.array([])\n",
        "    all_sarcasm_labels = np.array([])\n",
        "\n",
        "    # set the model in eval phase\n",
        "    base_model.eval()\n",
        "    mt_classifier.eval()\n",
        "    with torch.no_grad():\n",
        "      for data_input, label_input in Bar(iterator):\n",
        "            for k, v in data_input.items():\n",
        "                data_input[k] = v.to(device)\n",
        "\n",
        "            for k, v in label_input.items():\n",
        "                label_input[k] = v.long().to(device)\n",
        "\n",
        "            sarcasm_target = label_input['sarcasm']\n",
        "\n",
        "            # forward pass\n",
        "\n",
        "            output = base_model(**data_input)\n",
        "            sarcasm_logits = mt_classifier(output)\n",
        "            logits = sarcasm_logits[:,:2]\n",
        "\n",
        "            sarcasm_probs = torch.softmax(logits, dim=1)\n",
        "            # compute the loss\n",
        "            acc_sarcasm += calc_accuracy(sarcasm_probs, sarcasm_target)\n",
        "\n",
        "            _, predicted_sarcasm = torch.max(sarcasm_probs, 1)\n",
        "            all_sarcasm_outputs = np.append(all_sarcasm_outputs, predicted_sarcasm.squeeze().cpu().numpy())\n",
        "            all_sarcasm_labels = np.append(all_sarcasm_labels, sarcasm_target.squeeze().cpu().numpy())\n",
        "\n",
        "    all_sarcasm_outputs = all_sarcasm_outputs.reshape(-1)\n",
        "    all_sarcasm_labels = all_sarcasm_labels.reshape(-1)\n",
        "\n",
        "    fscore_macro = f1_score(y_true=all_sarcasm_labels, y_pred=all_sarcasm_outputs, average='macro')\n",
        "    fscore_sarcasm = f1_score(all_sarcasm_labels, all_sarcasm_outputs, average='binary', pos_label=1)\n",
        "\n",
        "\n",
        "    report_sarcasm = classification_report(y_true=all_sarcasm_labels, y_pred=all_sarcasm_outputs,digits=4)\n",
        "\n",
        "\n",
        "    accuracies = { 'accuracy': acc_sarcasm / len(iterator), 'f1_sarcastic': fscore_sarcasm, \"f1_score\": fscore_macro, 'report_sarcasm': report_sarcasm}\n",
        "    return accuracies, all_sarcasm_outputs, all_sarcasm_labels\n"
      ]
    },
    {
      "cell_type": "code",
      "execution_count": null,
      "metadata": {
        "id": "-NKpcgTUSQw1"
      },
      "outputs": [],
      "source": [
        "def eval_full(config, loader1, base_model, classifier):\n",
        "    criterion = config['loss']\n",
        "    df = pd.DataFrame()\n",
        "    accuracies, all_outputs_pred, all_outputs_label = predict(base_model, classifier, loader1)\n",
        "    return accuracies, all_outputs_pred, all_outputs_label\n"
      ]
    },
    {
      "cell_type": "code",
      "execution_count": null,
      "metadata": {
        "id": "55IHdVR-KKzM",
        "colab": {
          "base_uri": "https://localhost:8080/",
          "height": 388,
          "referenced_widgets": [
            "6a5d17fcd7d74ded99f30aee82ab9ee4",
            "c3921090b8664c1aa574240904320363",
            "d0c1b9558495445f9dbcf8a62ca00d57",
            "73c62ad2025c4be0aad972e1b55cff7e",
            "d7845c9dbf264503af79a89e58fb4fa5",
            "ff305b933cdd4b08a3231f916b6ffa14",
            "2690d77e10e54becadb56f8e4ea8869a",
            "6816df584cd049f5a8f8b8aa3f41fa52",
            "b27b555f551b4333b9be6f97d6bb42dc",
            "22f10f87420248a0a6db6e142b131250",
            "a6ceba187c7b4a8bb9a67ad7359c29c5",
            "ad1d306ea4a040f79fb2053464dca278",
            "7a52bf4f737046bab57a777c294addb9",
            "492c49b041954832bb5596ee261232cf",
            "2cea431fb5b8417a8e63fec13252b8b4",
            "3670c661dbe042879fb6457582e9d010",
            "e50e6bcf6f964c98b934872a1537f847",
            "48f900f5019e40729d2e861a5a8df66f",
            "047f26ec51384de0a74927dffa3bc801",
            "16c9ec9fc82242cb83c3e4a2d9454b32",
            "7e7c8591d9ff4c9aa290dea74c481c9d",
            "900d872478ee4904ad84e027bc2ea1fa",
            "7e882115bce84a758ee59317c56ccf99",
            "61518d3ede584fdda3eb81910d9630f4",
            "c7ca907e8b82421f8fc71ff336d20ebf",
            "1b03872681ad418d9670aabdb909bf51",
            "5bf6acbd0dac4ad6966f3b3cb0e37e55",
            "18c16496eb854f59a77b6fc7c6e33733",
            "5954d4da76fb42c4b9b0feaffa6e8d01",
            "2c81f8ba219c4edc8916c6e6989be829",
            "4f49656a824b4351a8cdf9f056a9febb",
            "6ebafa65c3834a7097dfa199034d8746",
            "f4e71724de8440ef8e2ea483eee57d55",
            "5de8839b9a784e208c6ffd2a4e47d911",
            "a2c8f7c9885b4f5eacfba04063a8cd74",
            "9a572a5023be41868763fa2bf2b09c90",
            "55bc45eff7ba46829b52fec4972a6421",
            "e28827979d0d4b2892b922fd4f6dbfba",
            "826300df91ba4177b2a889833685a4c0",
            "f2f295c8a8424775ac12fa40fe3034d9",
            "cb5c38f1e5124dffa3a28ee92a22f310",
            "36c5b883a9064e3787b16c5020d666e9",
            "9aa4edc7c3a442129d9d170db433f5dd",
            "980b567b47414182a3b922d14e1006f9"
          ]
        },
        "outputId": "edd90a07-00dd-454f-cc1f-8ef7d126a4fb"
      },
      "outputs": [
        {
          "output_type": "stream",
          "name": "stdout",
          "text": [
            "(621, 6)\n",
            "   Unnamed: 0    id                                              tweet  \\\n",
            "0         898  2949  كل يوم يافيفي تثبتي انك تستحقي لقب الام المثال...   \n",
            "1         624   673                       والله دي عزومة مراكبية كثيير   \n",
            "2        1062   268                           هالشب أطول من يوم الجمعة   \n",
            "3        1862    36         الباب الي يجيلك منه الريح شيله وركب قبنوري   \n",
            "4         663   632  هوه حد هيعد وراكو الورق ورقنا والدفاتر دفترنا ...   \n",
            "\n",
            "   sarcastic                                    rephrase dialect  \n",
            "0          0                                         NaN    nile  \n",
            "1          1  والله انت بتعرض خدماتك بالقول بس مش بالفعل    nile  \n",
            "2          1                                   الشب طويل  levant  \n",
            "3          1               الي يعملك مشاكل شيله من حياتك    nile  \n",
            "4          1          ارقام لا مصداقية لها وبيانات زائفة    nile  \n"
          ]
        },
        {
          "output_type": "display_data",
          "data": {
            "text/plain": [
              "Downloading (…)okenizer_config.json:   0%|          | 0.00/376 [00:00<?, ?B/s]"
            ],
            "application/vnd.jupyter.widget-view+json": {
              "version_major": 2,
              "version_minor": 0,
              "model_id": "6a5d17fcd7d74ded99f30aee82ab9ee4"
            }
          },
          "metadata": {}
        },
        {
          "output_type": "display_data",
          "data": {
            "text/plain": [
              "Downloading (…)lve/main/config.json:   0%|          | 0.00/701 [00:00<?, ?B/s]"
            ],
            "application/vnd.jupyter.widget-view+json": {
              "version_major": 2,
              "version_minor": 0,
              "model_id": "ad1d306ea4a040f79fb2053464dca278"
            }
          },
          "metadata": {}
        },
        {
          "output_type": "display_data",
          "data": {
            "text/plain": [
              "Downloading (…)solve/main/vocab.txt:   0%|          | 0.00/1.10M [00:00<?, ?B/s]"
            ],
            "application/vnd.jupyter.widget-view+json": {
              "version_major": 2,
              "version_minor": 0,
              "model_id": "7e882115bce84a758ee59317c56ccf99"
            }
          },
          "metadata": {}
        },
        {
          "output_type": "display_data",
          "data": {
            "text/plain": [
              "Downloading (…)cial_tokens_map.json:   0%|          | 0.00/112 [00:00<?, ?B/s]"
            ],
            "application/vnd.jupyter.widget-view+json": {
              "version_major": 2,
              "version_minor": 0,
              "model_id": "5de8839b9a784e208c6ffd2a4e47d911"
            }
          },
          "metadata": {}
        }
      ],
      "source": [
        "val_loader = loadValData(batchsize=args['batch_size'], num_worker=0, pretraine_path=args['pretrained_path'], max_length=args['max_length'])"
      ]
    },
    {
      "cell_type": "code",
      "execution_count": null,
      "metadata": {
        "id": "UJpGw9o5KGHn"
      },
      "outputs": [],
      "source": [
        "test_loader = loadTestData(batchsize=args['batch_size'], num_worker=0, pretraine_path=args['pretrained_path'],  max_length=args['max_length'])\n"
      ]
    },
    {
      "cell_type": "code",
      "execution_count": null,
      "metadata": {
        "id": "v0NnS_V1TPIY",
        "colab": {
          "base_uri": "https://localhost:8080/",
          "height": 35
        },
        "outputId": "2007ceb3-ff8e-4595-b059-252ccb8d4a6a"
      },
      "outputs": [
        {
          "output_type": "execute_result",
          "data": {
            "text/plain": [
              "'./ssd/checkpoints/soups'"
            ],
            "application/vnd.google.colaboratory.intrinsic+json": {
              "type": "string"
            }
          },
          "metadata": {},
          "execution_count": 34
        }
      ],
      "source": [
        "args['model_location']"
      ]
    },
    {
      "cell_type": "code",
      "execution_count": null,
      "metadata": {
        "id": "okb7IXScUKHP"
      },
      "outputs": [],
      "source": [
        "device = torch.device(\"cuda\" if torch.cuda.is_available() else \"cpu\")"
      ]
    },
    {
      "cell_type": "code",
      "execution_count": null,
      "metadata": {
        "id": "kiNq23ai3fFg"
      },
      "outputs": [],
      "source": [
        "args[\"eval_individual_models\"] = True"
      ]
    },
    {
      "cell_type": "code",
      "execution_count": null,
      "metadata": {
        "id": "3jod0Jh6Y2Qg",
        "colab": {
          "base_uri": "https://localhost:8080/",
          "height": 35
        },
        "outputId": "5ace216e-0e77-4f0f-efa8-74de8027b8b8"
      },
      "outputs": [
        {
          "output_type": "execute_result",
          "data": {
            "text/plain": [
              "'/content/drive/MyDrive/iSarcasm/m_298/results/results_h.jsonl'"
            ],
            "application/vnd.google.colaboratory.intrinsic+json": {
              "type": "string"
            }
          },
          "metadata": {},
          "execution_count": 37
        }
      ],
      "source": [
        "INDIVIDUAL_MODEL_RESULTS_FILE_H"
      ]
    },
    {
      "cell_type": "code",
      "execution_count": null,
      "metadata": {
        "id": "Rn1gFdrPoJNi"
      },
      "outputs": [],
      "source": [
        "import os"
      ]
    },
    {
      "cell_type": "code",
      "execution_count": null,
      "metadata": {
        "id": "WYTFGS_1qNVZ"
      },
      "outputs": [],
      "source": []
    },
    {
      "cell_type": "code",
      "execution_count": null,
      "metadata": {
        "id": "SjaMXlzVZKOx"
      },
      "outputs": [],
      "source": [
        "model_paths_base = []\n"
      ]
    },
    {
      "cell_type": "code",
      "execution_count": null,
      "metadata": {
        "id": "UlR9frJnGaU5"
      },
      "outputs": [],
      "source": [
        "model_paths_cls = []\n"
      ]
    },
    {
      "cell_type": "code",
      "execution_count": null,
      "metadata": {
        "id": "tFEP5jpPlTJ6"
      },
      "outputs": [],
      "source": [
        "base_dict  = {}\n",
        "cls_dict={}\n",
        "directory = './ssd/checkpoints/soups'\n",
        "for filename in os.listdir(directory):\n",
        "\n",
        "    if filename.startswith('best_basemodel_'):\n",
        "        arr = filename.split(\"_\")\n",
        "        model_name = arr[3]+\"_\"+arr[4]+\"_\"+arr[5]+\"_\"+arr[7]+\"_\"+arr[8]\n",
        "        base_dict[model_name]= filename\n",
        "        model_paths_base.append(filename)\n",
        "    if filename.startswith('best_cls_'):\n",
        "        arr = filename.split(\"_\")\n",
        "        model_name = arr[3]+\"_\"+arr[4]+\"_\"+arr[5]+\"_\"+arr[7]+\"_\"+arr[8]\n",
        "        cls_dict[model_name]=filename\n",
        "        model_paths_cls.append(filename)"
      ]
    },
    {
      "cell_type": "code",
      "execution_count": null,
      "metadata": {
        "id": "VGMO_U_bq73s",
        "colab": {
          "base_uri": "https://localhost:8080/"
        },
        "outputId": "f6fa4f52-119b-4e00-ac9f-fdaf8ad47847"
      },
      "outputs": [
        {
          "output_type": "execute_result",
          "data": {
            "text/plain": [
              "['best_basemodel_sarcasm_16_FL_1e-05_ml64_4_298_sarcat.pth',\n",
              " 'best_basemodel_sarcasm_16_FL_2e-05_ml64_2_298_sarcat.pth',\n",
              " 'best_basemodel_sarcasm_64_FL_2e-05_ml64_2_298_sarcat.pth',\n",
              " 'best_basemodel_sarcasm_36_FL_2e-05_ml64_4_298_sarcat.pth',\n",
              " 'best_basemodel_sarcasm_32_FL_2e-05_ml64_4_298_sarcat.pth',\n",
              " 'best_basemodel_sarcasm_64_FL_1e-05_ml64_4_298_sarcat.pth',\n",
              " 'best_basemodel_sarcasm_36_FL_1e-05_ml64_4_298_sarcat.pth',\n",
              " 'best_basemodel_sarcasm_16_FL_2e-05_ml64_4_298_sarcat.pth',\n",
              " 'best_basemodel_sarcasm_36_FL_2e-05_ml64_2_298_sarcat.pth',\n",
              " 'best_basemodel_sarcasm_32_FL_2e-05_ml64_2_298_sarcat.pth',\n",
              " 'best_basemodel_sarcasm_64_FL_1e-05_ml64_2_298_sarcat.pth',\n",
              " 'best_basemodel_sarcasm_32_FL_1e-05_ml64_4_298_sarcat.pth',\n",
              " 'best_basemodel_sarcasm_64_FL_2e-05_ml64_4_298_sarcat.pth',\n",
              " 'best_basemodel_sarcasm_36_FL_1e-05_ml64_2_298_sarcat.pth',\n",
              " 'best_basemodel_sarcasm_32_FL_1e-05_ml64_2_298_sarcat.pth',\n",
              " 'best_basemodel_sarcasm_16_FL_1e-05_ml64_2_298_sarcat.pth']"
            ]
          },
          "metadata": {},
          "execution_count": 42
        }
      ],
      "source": [
        "model_paths_base"
      ]
    },
    {
      "cell_type": "code",
      "execution_count": null,
      "metadata": {
        "id": "KV4EDJz3q58D",
        "colab": {
          "base_uri": "https://localhost:8080/"
        },
        "outputId": "953670eb-b3a0-4c27-86a2-45e5bdc8b738"
      },
      "outputs": [
        {
          "output_type": "execute_result",
          "data": {
            "text/plain": [
              "['best_cls_sarcasm_64_FL_1e-05_ml64_2_298_sarcat.pth',\n",
              " 'best_cls_sarcasm_36_FL_1e-05_ml64_2_298_sarcat.pth',\n",
              " 'best_cls_sarcasm_64_FL_1e-05_ml64_4_298_sarcat.pth',\n",
              " 'best_cls_sarcasm_16_FL_1e-05_ml64_4_298_sarcat.pth',\n",
              " 'best_cls_sarcasm_36_FL_2e-05_ml64_2_298_sarcat.pth',\n",
              " 'best_cls_sarcasm_64_FL_2e-05_ml64_4_298_sarcat.pth',\n",
              " 'best_cls_sarcasm_32_FL_1e-05_ml64_4_298_sarcat.pth',\n",
              " 'best_cls_sarcasm_16_FL_1e-05_ml64_2_298_sarcat.pth',\n",
              " 'best_cls_sarcasm_32_FL_2e-05_ml64_4_298_sarcat.pth',\n",
              " 'best_cls_sarcasm_36_FL_2e-05_ml64_4_298_sarcat.pth',\n",
              " 'best_cls_sarcasm_64_FL_2e-05_ml64_2_298_sarcat.pth',\n",
              " 'best_cls_sarcasm_16_FL_2e-05_ml64_2_298_sarcat.pth',\n",
              " 'best_cls_sarcasm_32_FL_1e-05_ml64_2_298_sarcat.pth',\n",
              " 'best_cls_sarcasm_32_FL_2e-05_ml64_2_298_sarcat.pth',\n",
              " 'best_cls_sarcasm_36_FL_1e-05_ml64_4_298_sarcat.pth',\n",
              " 'best_cls_sarcasm_16_FL_2e-05_ml64_4_298_sarcat.pth']"
            ]
          },
          "metadata": {},
          "execution_count": 43
        }
      ],
      "source": [
        "model_paths_cls"
      ]
    },
    {
      "cell_type": "code",
      "execution_count": null,
      "metadata": {
        "id": "nOekvkXIoWxv",
        "colab": {
          "base_uri": "https://localhost:8080/"
        },
        "outputId": "a7943c71-6e54-4af8-df2c-113eef954d37"
      },
      "outputs": [
        {
          "output_type": "execute_result",
          "data": {
            "text/plain": [
              "{'16_FL_1e-05_4_298': 'best_basemodel_sarcasm_16_FL_1e-05_ml64_4_298_sarcat.pth',\n",
              " '16_FL_2e-05_2_298': 'best_basemodel_sarcasm_16_FL_2e-05_ml64_2_298_sarcat.pth',\n",
              " '64_FL_2e-05_2_298': 'best_basemodel_sarcasm_64_FL_2e-05_ml64_2_298_sarcat.pth',\n",
              " '36_FL_2e-05_4_298': 'best_basemodel_sarcasm_36_FL_2e-05_ml64_4_298_sarcat.pth',\n",
              " '32_FL_2e-05_4_298': 'best_basemodel_sarcasm_32_FL_2e-05_ml64_4_298_sarcat.pth',\n",
              " '64_FL_1e-05_4_298': 'best_basemodel_sarcasm_64_FL_1e-05_ml64_4_298_sarcat.pth',\n",
              " '36_FL_1e-05_4_298': 'best_basemodel_sarcasm_36_FL_1e-05_ml64_4_298_sarcat.pth',\n",
              " '16_FL_2e-05_4_298': 'best_basemodel_sarcasm_16_FL_2e-05_ml64_4_298_sarcat.pth',\n",
              " '36_FL_2e-05_2_298': 'best_basemodel_sarcasm_36_FL_2e-05_ml64_2_298_sarcat.pth',\n",
              " '32_FL_2e-05_2_298': 'best_basemodel_sarcasm_32_FL_2e-05_ml64_2_298_sarcat.pth',\n",
              " '64_FL_1e-05_2_298': 'best_basemodel_sarcasm_64_FL_1e-05_ml64_2_298_sarcat.pth',\n",
              " '32_FL_1e-05_4_298': 'best_basemodel_sarcasm_32_FL_1e-05_ml64_4_298_sarcat.pth',\n",
              " '64_FL_2e-05_4_298': 'best_basemodel_sarcasm_64_FL_2e-05_ml64_4_298_sarcat.pth',\n",
              " '36_FL_1e-05_2_298': 'best_basemodel_sarcasm_36_FL_1e-05_ml64_2_298_sarcat.pth',\n",
              " '32_FL_1e-05_2_298': 'best_basemodel_sarcasm_32_FL_1e-05_ml64_2_298_sarcat.pth',\n",
              " '16_FL_1e-05_2_298': 'best_basemodel_sarcasm_16_FL_1e-05_ml64_2_298_sarcat.pth'}"
            ]
          },
          "metadata": {},
          "execution_count": 44
        }
      ],
      "source": [
        "base_dict"
      ]
    },
    {
      "cell_type": "code",
      "execution_count": null,
      "metadata": {
        "id": "kKWa1MMloa_-",
        "colab": {
          "base_uri": "https://localhost:8080/"
        },
        "outputId": "90149178-6921-4b89-9a29-30002901d773"
      },
      "outputs": [
        {
          "output_type": "execute_result",
          "data": {
            "text/plain": [
              "{'64_FL_1e-05_2_298': 'best_cls_sarcasm_64_FL_1e-05_ml64_2_298_sarcat.pth',\n",
              " '36_FL_1e-05_2_298': 'best_cls_sarcasm_36_FL_1e-05_ml64_2_298_sarcat.pth',\n",
              " '64_FL_1e-05_4_298': 'best_cls_sarcasm_64_FL_1e-05_ml64_4_298_sarcat.pth',\n",
              " '16_FL_1e-05_4_298': 'best_cls_sarcasm_16_FL_1e-05_ml64_4_298_sarcat.pth',\n",
              " '36_FL_2e-05_2_298': 'best_cls_sarcasm_36_FL_2e-05_ml64_2_298_sarcat.pth',\n",
              " '64_FL_2e-05_4_298': 'best_cls_sarcasm_64_FL_2e-05_ml64_4_298_sarcat.pth',\n",
              " '32_FL_1e-05_4_298': 'best_cls_sarcasm_32_FL_1e-05_ml64_4_298_sarcat.pth',\n",
              " '16_FL_1e-05_2_298': 'best_cls_sarcasm_16_FL_1e-05_ml64_2_298_sarcat.pth',\n",
              " '32_FL_2e-05_4_298': 'best_cls_sarcasm_32_FL_2e-05_ml64_4_298_sarcat.pth',\n",
              " '36_FL_2e-05_4_298': 'best_cls_sarcasm_36_FL_2e-05_ml64_4_298_sarcat.pth',\n",
              " '64_FL_2e-05_2_298': 'best_cls_sarcasm_64_FL_2e-05_ml64_2_298_sarcat.pth',\n",
              " '16_FL_2e-05_2_298': 'best_cls_sarcasm_16_FL_2e-05_ml64_2_298_sarcat.pth',\n",
              " '32_FL_1e-05_2_298': 'best_cls_sarcasm_32_FL_1e-05_ml64_2_298_sarcat.pth',\n",
              " '32_FL_2e-05_2_298': 'best_cls_sarcasm_32_FL_2e-05_ml64_2_298_sarcat.pth',\n",
              " '36_FL_1e-05_4_298': 'best_cls_sarcasm_36_FL_1e-05_ml64_4_298_sarcat.pth',\n",
              " '16_FL_2e-05_4_298': 'best_cls_sarcasm_16_FL_2e-05_ml64_4_298_sarcat.pth'}"
            ]
          },
          "metadata": {},
          "execution_count": 45
        }
      ],
      "source": [
        "cls_dict"
      ]
    },
    {
      "cell_type": "code",
      "execution_count": null,
      "metadata": {
        "id": "hs9AjbgfPXe7"
      },
      "outputs": [],
      "source": [
        "NUM_MODELS = len(base_dict)"
      ]
    },
    {
      "cell_type": "code",
      "source": [
        "NUM_MODELS"
      ],
      "metadata": {
        "id": "EuM1Yifzg_67",
        "colab": {
          "base_uri": "https://localhost:8080/"
        },
        "outputId": "8faf4641-439b-4fce-990b-74661e7dc3aa"
      },
      "execution_count": null,
      "outputs": [
        {
          "output_type": "execute_result",
          "data": {
            "text/plain": [
              "16"
            ]
          },
          "metadata": {},
          "execution_count": 47
        }
      ]
    },
    {
      "cell_type": "code",
      "execution_count": null,
      "metadata": {
        "id": "Jtrk9M3aaH2-"
      },
      "outputs": [],
      "source": [
        "def get_model_from_sd(state_dict_cls, base_model):\n",
        "    # print(\"state_dict_cls\",state_dict_cls.keys())\n",
        "    feature_dim = state_dict_cls['Classifier.3.weight'].shape[1]\n",
        "    num_classes = state_dict_cls['Classifier.3.weight'].shape[0]\n",
        "\n",
        "\n",
        "    classifier = ATTClassifier(base_model.output_num(), class_num=2).to(device)\n",
        "    classifier.parameters()\n",
        "    for p in classifier.parameters():\n",
        "            p.data = p.data.float()\n",
        "    classifier.load_state_dict(state_dict_cls)\n",
        "    classifier = classifier.cuda()\n",
        "    devices = [x for x in range(torch.cuda.device_count())]\n",
        "    return torch.nn.DataParallel(classifier,  device_ids=devices)"
      ]
    },
    {
      "cell_type": "code",
      "source": [
        "ls /content/drive/MyDrive/iSarcasm/"
      ],
      "metadata": {
        "colab": {
          "base_uri": "https://localhost:8080/"
        },
        "id": "V-ZTFknISZ0g",
        "outputId": "919c38be-f2c4-47a7-a2d3-07c905f53108"
      },
      "execution_count": null,
      "outputs": [
        {
          "output_type": "stream",
          "name": "stdout",
          "text": [
            "\u001b[0m\u001b[01;34mBest_18\u001b[0m/    \u001b[01;34mm_16826\u001b[0m/      \u001b[01;34mm_5751\u001b[0m/        \u001b[01;34mm_5751_298_16826\u001b[0m/  \u001b[01;34mPresentation\u001b[0m/\n",
            "\u001b[01;34mDatasets\u001b[0m/   \u001b[01;34mm_298\u001b[0m/        \u001b[01;34mm_5751_16826\u001b[0m/  \u001b[01;34mm_6911\u001b[0m/\n",
            "\u001b[01;34mDatasets2\u001b[0m/  \u001b[01;34mm_298_16826\u001b[0m/  \u001b[01;34mm_5751_298\u001b[0m/    \u001b[01;34mm_seeds\u001b[0m/\n"
          ]
        }
      ]
    },
    {
      "cell_type": "code",
      "source": [
        "INDIVIDUAL_MODEL_RESULTS_FILE_H"
      ],
      "metadata": {
        "colab": {
          "base_uri": "https://localhost:8080/",
          "height": 35
        },
        "id": "wiX1xB1ISUTg",
        "outputId": "0c6732b9-340e-4336-9975-8c409f1203b6"
      },
      "execution_count": null,
      "outputs": [
        {
          "output_type": "execute_result",
          "data": {
            "text/plain": [
              "'/content/drive/MyDrive/iSarcasm/m_298/results/results_h.jsonl'"
            ],
            "application/vnd.google.colaboratory.intrinsic+json": {
              "type": "string"
            }
          },
          "metadata": {},
          "execution_count": 50
        }
      ]
    },
    {
      "cell_type": "code",
      "source": [
        "individual_model_db_h = pd.read_json(INDIVIDUAL_MODEL_RESULTS_FILE_H, lines=True)\n",
        "print(\"individual_model_db_h\", individual_model_db_h)"
      ],
      "metadata": {
        "colab": {
          "base_uri": "https://localhost:8080/"
        },
        "id": "lA-6kKCPGzbn",
        "outputId": "4e39142f-8948-4c4d-e139-a228d77e2abc"
      },
      "execution_count": null,
      "outputs": [
        {
          "output_type": "stream",
          "name": "stdout",
          "text": [
            "individual_model_db_h            model_name loss_fn  batch_size       lr  f1_sarcastic  f1_score  \\\n",
            "0   16_FL_1e-05_2_298      FL          16  0.00001      0.732824  0.830698   \n",
            "1   16_FL_1e-05_4_298      FL          16  0.00001      0.749035  0.841455   \n",
            "2   32_FL_1e-05_2_298      FL          32  0.00001      0.722222  0.825758   \n",
            "3   32_FL_1e-05_4_298      FL          32  0.00001      0.747082  0.840546   \n",
            "4   36_FL_1e-05_2_298      FL          36  0.00001      0.709163  0.817750   \n",
            "5   36_FL_1e-05_4_298      FL          36  0.00001      0.750000  0.841258   \n",
            "6   64_FL_1e-05_2_298      FL          64  0.00001      0.696356  0.810490   \n",
            "7   64_FL_1e-05_4_298      FL          64  0.00001      0.754864  0.845452   \n",
            "8   16_FL_2e-05_2_298      FL          16  0.00002      0.733591  0.831699   \n",
            "9   16_FL_2e-05_4_298      FL          16  0.00002      0.726562  0.827784   \n",
            "10  32_FL_2e-05_2_298      FL          32  0.00002      0.723735  0.825827   \n",
            "11  32_FL_2e-05_4_298      FL          32  0.00002      0.749035  0.841455   \n",
            "12  36_FL_2e-05_2_298      FL          36  0.00002      0.733591  0.831699   \n",
            "13  36_FL_2e-05_4_298      FL          36  0.00002      0.765799  0.850526   \n",
            "14  64_FL_2e-05_2_298      FL          64  0.00002      0.731518  0.830733   \n",
            "15  64_FL_2e-05_4_298      FL          64  0.00002      0.733591  0.831699   \n",
            "\n",
            "    epoch  seed  \n",
            "0       2   298  \n",
            "1       4   298  \n",
            "2       2   298  \n",
            "3       4   298  \n",
            "4       2   298  \n",
            "5       4   298  \n",
            "6       2   298  \n",
            "7       4   298  \n",
            "8       2   298  \n",
            "9       4   298  \n",
            "10      2   298  \n",
            "11      4   298  \n",
            "12      2   298  \n",
            "13      4   298  \n",
            "14      2   298  \n",
            "15      4   298  \n"
          ]
        }
      ]
    },
    {
      "cell_type": "code",
      "source": [
        "base_dict"
      ],
      "metadata": {
        "colab": {
          "base_uri": "https://localhost:8080/"
        },
        "id": "Dopl4R4WUB5w",
        "outputId": "a93824a8-a3b4-4aa2-cca3-48f5806ec060"
      },
      "execution_count": null,
      "outputs": [
        {
          "output_type": "execute_result",
          "data": {
            "text/plain": [
              "{'16_FL_1e-05_4_298': 'best_basemodel_sarcasm_16_FL_1e-05_ml64_4_298_sarcat.pth',\n",
              " '16_FL_2e-05_2_298': 'best_basemodel_sarcasm_16_FL_2e-05_ml64_2_298_sarcat.pth',\n",
              " '64_FL_2e-05_2_298': 'best_basemodel_sarcasm_64_FL_2e-05_ml64_2_298_sarcat.pth',\n",
              " '36_FL_2e-05_4_298': 'best_basemodel_sarcasm_36_FL_2e-05_ml64_4_298_sarcat.pth',\n",
              " '32_FL_2e-05_4_298': 'best_basemodel_sarcasm_32_FL_2e-05_ml64_4_298_sarcat.pth',\n",
              " '64_FL_1e-05_4_298': 'best_basemodel_sarcasm_64_FL_1e-05_ml64_4_298_sarcat.pth',\n",
              " '36_FL_1e-05_4_298': 'best_basemodel_sarcasm_36_FL_1e-05_ml64_4_298_sarcat.pth',\n",
              " '16_FL_2e-05_4_298': 'best_basemodel_sarcasm_16_FL_2e-05_ml64_4_298_sarcat.pth',\n",
              " '36_FL_2e-05_2_298': 'best_basemodel_sarcasm_36_FL_2e-05_ml64_2_298_sarcat.pth',\n",
              " '32_FL_2e-05_2_298': 'best_basemodel_sarcasm_32_FL_2e-05_ml64_2_298_sarcat.pth',\n",
              " '64_FL_1e-05_2_298': 'best_basemodel_sarcasm_64_FL_1e-05_ml64_2_298_sarcat.pth',\n",
              " '32_FL_1e-05_4_298': 'best_basemodel_sarcasm_32_FL_1e-05_ml64_4_298_sarcat.pth',\n",
              " '64_FL_2e-05_4_298': 'best_basemodel_sarcasm_64_FL_2e-05_ml64_4_298_sarcat.pth',\n",
              " '36_FL_1e-05_2_298': 'best_basemodel_sarcasm_36_FL_1e-05_ml64_2_298_sarcat.pth',\n",
              " '32_FL_1e-05_2_298': 'best_basemodel_sarcasm_32_FL_1e-05_ml64_2_298_sarcat.pth',\n",
              " '16_FL_1e-05_2_298': 'best_basemodel_sarcasm_16_FL_1e-05_ml64_2_298_sarcat.pth'}"
            ]
          },
          "metadata": {},
          "execution_count": 52
        }
      ]
    },
    {
      "cell_type": "code",
      "source": [
        "NUM_MODELS"
      ],
      "metadata": {
        "colab": {
          "base_uri": "https://localhost:8080/"
        },
        "id": "dqG_9spyVQSl",
        "outputId": "b5d6253f-faf7-4176-8827-6ca9160542e7"
      },
      "execution_count": null,
      "outputs": [
        {
          "output_type": "execute_result",
          "data": {
            "text/plain": [
              "16"
            ]
          },
          "metadata": {},
          "execution_count": 64
        }
      ]
    },
    {
      "cell_type": "code",
      "source": [
        "if os.path.exists(UNIFORM_SOUP_RESULTS_FILE_H):\n",
        "    os.remove(UNIFORM_SOUP_RESULTS_FILE_H)\n",
        "\n",
        "base_model = TransformerLayer(pretrained_path=args['pretrained_path'], both=True).to(device)\n",
        "\n",
        "# create the uniform soup sequentially to not overload memory\n",
        "j=0\n",
        "for x, y in base_dict.items():\n",
        "    # x key of dict\n",
        "    # y is the file name of the base\n",
        "    arr = x.split(\"_\")\n",
        "    print(x, y, arr)\n",
        "\n",
        "    print(f'Adding model {x} of {len(base_dict) - 1} to uniform soup.')\n",
        "\n",
        "\n",
        "    state_dict_base = torch.load(args['model_location']+f\"/{y}\")\n",
        "    state_dict_cls = torch.load(args['model_location']+f\"/{cls_dict[x]}\")\n",
        "\n",
        "    if j == 0:\n",
        "        uniform_soup_base_h = {k : v * (1./NUM_MODELS) for k, v in state_dict_base.items()}\n",
        "        uniform_soup_cls_h = {k : v * (1./NUM_MODELS) for k, v in state_dict_cls.items()}\n",
        "        j = 1\n",
        "    else:\n",
        "        uniform_soup_base_h = {k : v * (1./NUM_MODELS) + uniform_soup_base_h[k] for k, v in state_dict_base.items()}\n",
        "        uniform_soup_cls_h = {k : v * (1./NUM_MODELS) + uniform_soup_cls_h[k] for k, v in state_dict_cls.items()}\n",
        "\n",
        "\n",
        "\n",
        "torch.save(uniform_soup_base_h, \"uniform_base_model.pth\")\n",
        "torch.save(uniform_soup_cls_h, \"uniform_classifier.pth\")\n",
        "\n",
        "base_model.load_state_dict(uniform_soup_base_h)\n",
        "classifier = get_model_from_sd(uniform_soup_cls_h, base_model)\n",
        "\n",
        "base_model = base_model.to(device)\n",
        "classifier = classifier.to(device)\n",
        "\n",
        "results = {'model_name' : f'uniform_soup_h'}\n",
        "\n",
        "val_accuracies,val_outputs, val_labels = eval_full(args, val_loader,  base_model, classifier )\n",
        "\n",
        "results['f1_sarcastic'] = val_accuracies['f1_sarcastic']\n",
        "results['f1_score'] = val_accuracies['f1_score']\n",
        "\n",
        "with open(UNIFORM_SOUP_RESULTS_FILE_H, 'a+') as f:\n",
        "    f.write(json.dumps(results) + '\\n')\n",
        "\n",
        "uniform_soup_base_model = base_model\n",
        "uniform_soup_classifier = classifier\n"
      ],
      "metadata": {
        "colab": {
          "base_uri": "https://localhost:8080/"
        },
        "id": "sCD9cCQTT1ky",
        "outputId": "69b197d6-2a49-4c5a-def5-9c48102f0c3a"
      },
      "execution_count": null,
      "outputs": [
        {
          "output_type": "stream",
          "name": "stdout",
          "text": [
            "16_FL_1e-05_4_298 best_basemodel_sarcasm_16_FL_1e-05_ml64_4_298_sarcat.pth ['16', 'FL', '1e-05', '4', '298']\n",
            "Adding model 16_FL_1e-05_4_298 of 15 to uniform soup.\n",
            "16_FL_2e-05_2_298 best_basemodel_sarcasm_16_FL_2e-05_ml64_2_298_sarcat.pth ['16', 'FL', '2e-05', '2', '298']\n",
            "Adding model 16_FL_2e-05_2_298 of 15 to uniform soup.\n",
            "64_FL_2e-05_2_298 best_basemodel_sarcasm_64_FL_2e-05_ml64_2_298_sarcat.pth ['64', 'FL', '2e-05', '2', '298']\n",
            "Adding model 64_FL_2e-05_2_298 of 15 to uniform soup.\n",
            "36_FL_2e-05_4_298 best_basemodel_sarcasm_36_FL_2e-05_ml64_4_298_sarcat.pth ['36', 'FL', '2e-05', '4', '298']\n",
            "Adding model 36_FL_2e-05_4_298 of 15 to uniform soup.\n",
            "32_FL_2e-05_4_298 best_basemodel_sarcasm_32_FL_2e-05_ml64_4_298_sarcat.pth ['32', 'FL', '2e-05', '4', '298']\n",
            "Adding model 32_FL_2e-05_4_298 of 15 to uniform soup.\n",
            "64_FL_1e-05_4_298 best_basemodel_sarcasm_64_FL_1e-05_ml64_4_298_sarcat.pth ['64', 'FL', '1e-05', '4', '298']\n",
            "Adding model 64_FL_1e-05_4_298 of 15 to uniform soup.\n",
            "36_FL_1e-05_4_298 best_basemodel_sarcasm_36_FL_1e-05_ml64_4_298_sarcat.pth ['36', 'FL', '1e-05', '4', '298']\n",
            "Adding model 36_FL_1e-05_4_298 of 15 to uniform soup.\n",
            "16_FL_2e-05_4_298 best_basemodel_sarcasm_16_FL_2e-05_ml64_4_298_sarcat.pth ['16', 'FL', '2e-05', '4', '298']\n",
            "Adding model 16_FL_2e-05_4_298 of 15 to uniform soup.\n",
            "36_FL_2e-05_2_298 best_basemodel_sarcasm_36_FL_2e-05_ml64_2_298_sarcat.pth ['36', 'FL', '2e-05', '2', '298']\n",
            "Adding model 36_FL_2e-05_2_298 of 15 to uniform soup.\n",
            "32_FL_2e-05_2_298 best_basemodel_sarcasm_32_FL_2e-05_ml64_2_298_sarcat.pth ['32', 'FL', '2e-05', '2', '298']\n",
            "Adding model 32_FL_2e-05_2_298 of 15 to uniform soup.\n",
            "64_FL_1e-05_2_298 best_basemodel_sarcasm_64_FL_1e-05_ml64_2_298_sarcat.pth ['64', 'FL', '1e-05', '2', '298']\n",
            "Adding model 64_FL_1e-05_2_298 of 15 to uniform soup.\n",
            "32_FL_1e-05_4_298 best_basemodel_sarcasm_32_FL_1e-05_ml64_4_298_sarcat.pth ['32', 'FL', '1e-05', '4', '298']\n",
            "Adding model 32_FL_1e-05_4_298 of 15 to uniform soup.\n",
            "64_FL_2e-05_4_298 best_basemodel_sarcasm_64_FL_2e-05_ml64_4_298_sarcat.pth ['64', 'FL', '2e-05', '4', '298']\n",
            "Adding model 64_FL_2e-05_4_298 of 15 to uniform soup.\n",
            "36_FL_1e-05_2_298 best_basemodel_sarcasm_36_FL_1e-05_ml64_2_298_sarcat.pth ['36', 'FL', '1e-05', '2', '298']\n",
            "Adding model 36_FL_1e-05_2_298 of 15 to uniform soup.\n",
            "32_FL_1e-05_2_298 best_basemodel_sarcasm_32_FL_1e-05_ml64_2_298_sarcat.pth ['32', 'FL', '1e-05', '2', '298']\n",
            "Adding model 32_FL_1e-05_2_298 of 15 to uniform soup.\n",
            "16_FL_1e-05_2_298 best_basemodel_sarcasm_16_FL_1e-05_ml64_2_298_sarcat.pth ['16', 'FL', '1e-05', '2', '298']\n",
            "Adding model 16_FL_1e-05_2_298 of 15 to uniform soup.\n",
            "621/621: [==============================>.] - ETA 8.8s\n"
          ]
        }
      ]
    },
    {
      "cell_type": "code",
      "source": [],
      "metadata": {
        "id": "Go6rYQO_JP4H"
      },
      "execution_count": null,
      "outputs": []
    },
    {
      "cell_type": "code",
      "source": [
        "uniform_soup_model_db_h = pd.read_json(UNIFORM_SOUP_RESULTS_FILE_H, lines=True)\n",
        "uniform_soup_model_db_h"
      ],
      "metadata": {
        "id": "4latsb7iAlSu",
        "colab": {
          "base_uri": "https://localhost:8080/",
          "height": 80
        },
        "outputId": "5acb4179-076d-410b-fc66-e3c20cd7da1d"
      },
      "execution_count": null,
      "outputs": [
        {
          "output_type": "execute_result",
          "data": {
            "text/plain": [
              "       model_name  f1_sarcastic  f1_score\n",
              "0  uniform_soup_h      0.733591  0.831699"
            ],
            "text/html": [
              "\n",
              "  <div id=\"df-3828a5d4-dcab-4ae8-8758-8fc4d269ed5f\" class=\"colab-df-container\">\n",
              "    <div>\n",
              "<style scoped>\n",
              "    .dataframe tbody tr th:only-of-type {\n",
              "        vertical-align: middle;\n",
              "    }\n",
              "\n",
              "    .dataframe tbody tr th {\n",
              "        vertical-align: top;\n",
              "    }\n",
              "\n",
              "    .dataframe thead th {\n",
              "        text-align: right;\n",
              "    }\n",
              "</style>\n",
              "<table border=\"1\" class=\"dataframe\">\n",
              "  <thead>\n",
              "    <tr style=\"text-align: right;\">\n",
              "      <th></th>\n",
              "      <th>model_name</th>\n",
              "      <th>f1_sarcastic</th>\n",
              "      <th>f1_score</th>\n",
              "    </tr>\n",
              "  </thead>\n",
              "  <tbody>\n",
              "    <tr>\n",
              "      <th>0</th>\n",
              "      <td>uniform_soup_h</td>\n",
              "      <td>0.733591</td>\n",
              "      <td>0.831699</td>\n",
              "    </tr>\n",
              "  </tbody>\n",
              "</table>\n",
              "</div>\n",
              "    <div class=\"colab-df-buttons\">\n",
              "\n",
              "  <div class=\"colab-df-container\">\n",
              "    <button class=\"colab-df-convert\" onclick=\"convertToInteractive('df-3828a5d4-dcab-4ae8-8758-8fc4d269ed5f')\"\n",
              "            title=\"Convert this dataframe to an interactive table.\"\n",
              "            style=\"display:none;\">\n",
              "\n",
              "  <svg xmlns=\"http://www.w3.org/2000/svg\" height=\"24px\" viewBox=\"0 -960 960 960\">\n",
              "    <path d=\"M120-120v-720h720v720H120Zm60-500h600v-160H180v160Zm220 220h160v-160H400v160Zm0 220h160v-160H400v160ZM180-400h160v-160H180v160Zm440 0h160v-160H620v160ZM180-180h160v-160H180v160Zm440 0h160v-160H620v160Z\"/>\n",
              "  </svg>\n",
              "    </button>\n",
              "\n",
              "  <style>\n",
              "    .colab-df-container {\n",
              "      display:flex;\n",
              "      gap: 12px;\n",
              "    }\n",
              "\n",
              "    .colab-df-convert {\n",
              "      background-color: #E8F0FE;\n",
              "      border: none;\n",
              "      border-radius: 50%;\n",
              "      cursor: pointer;\n",
              "      display: none;\n",
              "      fill: #1967D2;\n",
              "      height: 32px;\n",
              "      padding: 0 0 0 0;\n",
              "      width: 32px;\n",
              "    }\n",
              "\n",
              "    .colab-df-convert:hover {\n",
              "      background-color: #E2EBFA;\n",
              "      box-shadow: 0px 1px 2px rgba(60, 64, 67, 0.3), 0px 1px 3px 1px rgba(60, 64, 67, 0.15);\n",
              "      fill: #174EA6;\n",
              "    }\n",
              "\n",
              "    .colab-df-buttons div {\n",
              "      margin-bottom: 4px;\n",
              "    }\n",
              "\n",
              "    [theme=dark] .colab-df-convert {\n",
              "      background-color: #3B4455;\n",
              "      fill: #D2E3FC;\n",
              "    }\n",
              "\n",
              "    [theme=dark] .colab-df-convert:hover {\n",
              "      background-color: #434B5C;\n",
              "      box-shadow: 0px 1px 3px 1px rgba(0, 0, 0, 0.15);\n",
              "      filter: drop-shadow(0px 1px 2px rgba(0, 0, 0, 0.3));\n",
              "      fill: #FFFFFF;\n",
              "    }\n",
              "  </style>\n",
              "\n",
              "    <script>\n",
              "      const buttonEl =\n",
              "        document.querySelector('#df-3828a5d4-dcab-4ae8-8758-8fc4d269ed5f button.colab-df-convert');\n",
              "      buttonEl.style.display =\n",
              "        google.colab.kernel.accessAllowed ? 'block' : 'none';\n",
              "\n",
              "      async function convertToInteractive(key) {\n",
              "        const element = document.querySelector('#df-3828a5d4-dcab-4ae8-8758-8fc4d269ed5f');\n",
              "        const dataTable =\n",
              "          await google.colab.kernel.invokeFunction('convertToInteractive',\n",
              "                                                    [key], {});\n",
              "        if (!dataTable) return;\n",
              "\n",
              "        const docLinkHtml = 'Like what you see? Visit the ' +\n",
              "          '<a target=\"_blank\" href=https://colab.research.google.com/notebooks/data_table.ipynb>data table notebook</a>'\n",
              "          + ' to learn more about interactive tables.';\n",
              "        element.innerHTML = '';\n",
              "        dataTable['output_type'] = 'display_data';\n",
              "        await google.colab.output.renderOutput(dataTable, element);\n",
              "        const docLink = document.createElement('div');\n",
              "        docLink.innerHTML = docLinkHtml;\n",
              "        element.appendChild(docLink);\n",
              "      }\n",
              "    </script>\n",
              "  </div>\n",
              "\n",
              "    </div>\n",
              "  </div>\n"
            ]
          },
          "metadata": {},
          "execution_count": 66
        }
      ]
    },
    {
      "cell_type": "code",
      "source": [
        "# Step 4: Greedy Soup.\n",
        "\n",
        "if os.path.exists(GREEDY_SOUP_RESULTS_FILE_H):\n",
        "    os.remove(GREEDY_SOUP_RESULTS_FILE_H)\n",
        "\n",
        "# Sort models by decreasing accuracy on the held-out validation set ImageNet2p\n",
        "# (We call the held out-val set ImageNet2p because it is 2 percent of ImageNet train)\n",
        "\n",
        "individual_model_val_accs_h = {}\n",
        "for _, row in individual_model_db_h.iterrows():\n",
        "    individual_model_val_accs_h[row['model_name']] = row['f1_score']\n",
        "individual_model_val_accs_h = sorted(individual_model_val_accs_h.items(), key=operator.itemgetter(1))\n",
        "individual_model_val_accs_h.reverse()\n",
        "sorted_models = [x[0] for x in individual_model_val_accs_h]\n",
        "\n",
        "\n",
        "\n",
        "# sorted_models\n",
        "# Start the soup by using the first ingredient.\n",
        "greedy_soup_ingredients_h = [sorted_models[0]]\n",
        "best_model_val = sorted_models[0]\n",
        "\n",
        "base_model = TransformerLayer(pretrained_path=args['pretrained_path'], both=True).to(device)\n",
        "greedy_soup_params_base_h = torch.load(args[\"model_location\"]+ f'/{base_dict[sorted_models[0]]}')\n",
        "greedy_soup_params_cls_h = torch.load(args[\"model_location\"]+ f'/{cls_dict[sorted_models[0]]}')\n",
        "\n",
        "best_val_acc_so_far = individual_model_val_accs_h[0][1]\n",
        "\n",
        "num_ingredients = len(greedy_soup_ingredients_h)\n",
        "num_ingredients\n",
        "\n",
        "\n",
        "# Now, iterate through all models and consider adding them to the greedy soup.\n",
        "# for i in range(1, NUM_MODELS):\n",
        "for i in range(1, len(sorted_models)):\n",
        "\n",
        "    # x key of dict\n",
        "    # y is the file name of the base\n",
        "    arr = sorted_models[i].split(\"_\")\n",
        "    print(sorted_models[i], arr)\n",
        "\n",
        "    # print(f'Testing model {i} of {NUM_MODELS}')\n",
        "\n",
        "    # Get the potential greedy soup, which consists of the greedy soup with the new model added.\n",
        "    new_ingredient_params_base = torch.load(args[\"model_location\"]+ f'/{base_dict[sorted_models[i]]}')\n",
        "\n",
        "    new_ingredient_params_cls = torch.load(args[\"model_location\"]+ f'/{cls_dict[sorted_models[i]]}')\n",
        "\n",
        "    num_ingredients = len(greedy_soup_ingredients_h)\n",
        "\n",
        "\n",
        "    potential_greedy_soup_params_base_h = {\n",
        "                k : greedy_soup_params_base_h[k].clone() * (num_ingredients / (num_ingredients + 1.)) +\n",
        "                    new_ingredient_params_base[k].clone() * (1. / (num_ingredients + 1))\n",
        "                for k in new_ingredient_params_base\n",
        "            }\n",
        "    potential_greedy_soup_params_cls_h = {\n",
        "                k : greedy_soup_params_cls_h[k].clone() * (num_ingredients / (num_ingredients + 1.)) +\n",
        "                    new_ingredient_params_cls[k].clone() * (1. / (num_ingredients + 1))\n",
        "                for k in new_ingredient_params_cls\n",
        "            }\n",
        "\n",
        "\n",
        "    base_model.load_state_dict(potential_greedy_soup_params_base_h)\n",
        "    # Run the potential greedy soup on the held-out val set.\n",
        "    classifier = get_model_from_sd(potential_greedy_soup_params_cls_h, base_model)\n",
        "\n",
        "    base_model = base_model.to(device)\n",
        "    classifier = classifier.to(device)\n",
        "\n",
        "    val_accuracies,val_outputs, val_labels = eval_full(args, val_loader,  base_model, classifier )\n",
        "    results['accuracy'] = val_accuracies['accuracy']\n",
        "    results['f1_score'] = val_accuracies['f1_score']\n",
        "    results['f1_sarcastic'] = val_accuracies['f1_sarcastic']\n",
        "\n",
        "\n",
        "    # results[f'uniform_soup'] = f1_sarcastic\n",
        "    f1_score_macro = results['f1_score']\n",
        "    # If accuracy on the held-out val set increases, add the new model to the greedy soup.\n",
        "    # print(f'Potential greedy soup val acc {f1_score_macro}, best so far {best_val_acc_so_far}.')\n",
        "    if results['f1_score'] >= best_val_acc_so_far:\n",
        "        greedy_soup_ingredients_h.append(sorted_models[i])\n",
        "        best_val_acc_so_far = results['f1_score']\n",
        "        greedy_soup_params_base_h = potential_greedy_soup_params_base_h\n",
        "        greedy_soup_params_cls_h = potential_greedy_soup_params_cls_h\n",
        "        print(f'Adding to soup. New soup is {greedy_soup_ingredients_h}')\n",
        "\n",
        "\n",
        "\n",
        "greedy_soup_ingredients_h_str = ', '.join([str(elem) for i,elem in enumerate(greedy_soup_ingredients_h)])\n",
        "# Finally, evaluate the greedy soup.\n",
        "torch.save(greedy_soup_params_base_h, \"greedy_base_model.pth\")\n",
        "torch.save(greedy_soup_params_cls_h, \"greedy_classifier.pth\")\n",
        "\n",
        "base_model.load_state_dict(greedy_soup_params_base_h)\n",
        "classifier = get_model_from_sd(greedy_soup_params_cls_h, base_model)\n",
        "base_model = base_model.to(device)\n",
        "classifier = classifier.to(device)\n",
        "results = {'model_name' : f'greedy_soup_h'}\n",
        "\n",
        "\n",
        "val_accuracies,val_outputs, val_labels = eval_full(args, val_loader,  base_model, classifier )\n",
        "results['f1_sarcastic'] = val_accuracies['f1_sarcastic']\n",
        "results['f1_score'] = val_accuracies['f1_score']\n",
        "results['num_models']=num_ingredients\n",
        "results['models']= greedy_soup_ingredients_h_str\n",
        "\n",
        "with open(GREEDY_SOUP_RESULTS_FILE_H, 'a+') as f:\n",
        "    f.write(json.dumps(results) + '\\n')\n",
        "greedy_soup_base_model = base_model\n",
        "greedy_soup_classifier = classifier\n",
        "\n"
      ],
      "metadata": {
        "colab": {
          "base_uri": "https://localhost:8080/"
        },
        "id": "gYbIM9A8nTtc",
        "outputId": "24371705-19ea-44b6-b868-b6a6e6495226"
      },
      "execution_count": null,
      "outputs": [
        {
          "output_type": "stream",
          "name": "stdout",
          "text": [
            "64_FL_1e-05_4_298 ['64', 'FL', '1e-05', '4', '298']\n",
            "621/621: [==============================>.] - ETA 0.2s\n",
            "32_FL_2e-05_4_298 ['32', 'FL', '2e-05', '4', '298']\n",
            "621/621: [==============================>.] - ETA 0.2s\n",
            "16_FL_1e-05_4_298 ['16', 'FL', '1e-05', '4', '298']\n",
            "621/621: [==============================>.] - ETA 0.2s\n",
            "Adding to soup. New soup is ['36_FL_2e-05_4_298', '16_FL_1e-05_4_298']\n",
            "36_FL_1e-05_4_298 ['36', 'FL', '1e-05', '4', '298']\n",
            "621/621: [==============================>.] - ETA 0.2s\n",
            "32_FL_1e-05_4_298 ['32', 'FL', '1e-05', '4', '298']\n",
            "621/621: [==============================>.] - ETA 0.2s\n",
            "64_FL_2e-05_4_298 ['64', 'FL', '2e-05', '4', '298']\n",
            "621/621: [==============================>.] - ETA 0.2s\n",
            "36_FL_2e-05_2_298 ['36', 'FL', '2e-05', '2', '298']\n",
            "621/621: [==============================>.] - ETA 0.2s\n",
            "16_FL_2e-05_2_298 ['16', 'FL', '2e-05', '2', '298']\n",
            "621/621: [==============================>.] - ETA 0.2s\n",
            "64_FL_2e-05_2_298 ['64', 'FL', '2e-05', '2', '298']\n",
            "621/621: [==============================>.] - ETA 0.2s\n",
            "16_FL_1e-05_2_298 ['16', 'FL', '1e-05', '2', '298']\n",
            "621/621: [==============================>.] - ETA 0.2s\n",
            "16_FL_2e-05_4_298 ['16', 'FL', '2e-05', '4', '298']\n",
            "621/621: [==============================>.] - ETA 0.2s\n",
            "32_FL_2e-05_2_298 ['32', 'FL', '2e-05', '2', '298']\n",
            "621/621: [==============================>.] - ETA 0.2s\n",
            "32_FL_1e-05_2_298 ['32', 'FL', '1e-05', '2', '298']\n",
            "621/621: [==============================>.] - ETA 0.2s\n",
            "36_FL_1e-05_2_298 ['36', 'FL', '1e-05', '2', '298']\n",
            "621/621: [==============================>.] - ETA 0.2s\n",
            "64_FL_1e-05_2_298 ['64', 'FL', '1e-05', '2', '298']\n",
            "621/621: [==============================>.] - ETA 0.2s\n",
            "621/621: [==============================>.] - ETA 0.2s\n"
          ]
        }
      ]
    },
    {
      "cell_type": "code",
      "source": [
        "greedy_soup_model_db_h = pd.read_json(GREEDY_SOUP_RESULTS_FILE_H, lines=True)\n",
        "greedy_soup_model_db_h"
      ],
      "metadata": {
        "colab": {
          "base_uri": "https://localhost:8080/",
          "height": 80
        },
        "id": "KRa5WUgRTGNX",
        "outputId": "59a7412b-cbda-4b89-865a-23514721efb4"
      },
      "execution_count": null,
      "outputs": [
        {
          "output_type": "execute_result",
          "data": {
            "text/plain": [
              "      model_name  f1_sarcastic  f1_score  num_models  \\\n",
              "0  greedy_soup_h      0.765152  0.850878           2   \n",
              "\n",
              "                                 models  \n",
              "0  36_FL_2e-05_4_298, 16_FL_1e-05_4_298  "
            ],
            "text/html": [
              "\n",
              "  <div id=\"df-d83650de-75c8-4a7d-aae1-88574bfc87fc\" class=\"colab-df-container\">\n",
              "    <div>\n",
              "<style scoped>\n",
              "    .dataframe tbody tr th:only-of-type {\n",
              "        vertical-align: middle;\n",
              "    }\n",
              "\n",
              "    .dataframe tbody tr th {\n",
              "        vertical-align: top;\n",
              "    }\n",
              "\n",
              "    .dataframe thead th {\n",
              "        text-align: right;\n",
              "    }\n",
              "</style>\n",
              "<table border=\"1\" class=\"dataframe\">\n",
              "  <thead>\n",
              "    <tr style=\"text-align: right;\">\n",
              "      <th></th>\n",
              "      <th>model_name</th>\n",
              "      <th>f1_sarcastic</th>\n",
              "      <th>f1_score</th>\n",
              "      <th>num_models</th>\n",
              "      <th>models</th>\n",
              "    </tr>\n",
              "  </thead>\n",
              "  <tbody>\n",
              "    <tr>\n",
              "      <th>0</th>\n",
              "      <td>greedy_soup_h</td>\n",
              "      <td>0.765152</td>\n",
              "      <td>0.850878</td>\n",
              "      <td>2</td>\n",
              "      <td>36_FL_2e-05_4_298, 16_FL_1e-05_4_298</td>\n",
              "    </tr>\n",
              "  </tbody>\n",
              "</table>\n",
              "</div>\n",
              "    <div class=\"colab-df-buttons\">\n",
              "\n",
              "  <div class=\"colab-df-container\">\n",
              "    <button class=\"colab-df-convert\" onclick=\"convertToInteractive('df-d83650de-75c8-4a7d-aae1-88574bfc87fc')\"\n",
              "            title=\"Convert this dataframe to an interactive table.\"\n",
              "            style=\"display:none;\">\n",
              "\n",
              "  <svg xmlns=\"http://www.w3.org/2000/svg\" height=\"24px\" viewBox=\"0 -960 960 960\">\n",
              "    <path d=\"M120-120v-720h720v720H120Zm60-500h600v-160H180v160Zm220 220h160v-160H400v160Zm0 220h160v-160H400v160ZM180-400h160v-160H180v160Zm440 0h160v-160H620v160ZM180-180h160v-160H180v160Zm440 0h160v-160H620v160Z\"/>\n",
              "  </svg>\n",
              "    </button>\n",
              "\n",
              "  <style>\n",
              "    .colab-df-container {\n",
              "      display:flex;\n",
              "      gap: 12px;\n",
              "    }\n",
              "\n",
              "    .colab-df-convert {\n",
              "      background-color: #E8F0FE;\n",
              "      border: none;\n",
              "      border-radius: 50%;\n",
              "      cursor: pointer;\n",
              "      display: none;\n",
              "      fill: #1967D2;\n",
              "      height: 32px;\n",
              "      padding: 0 0 0 0;\n",
              "      width: 32px;\n",
              "    }\n",
              "\n",
              "    .colab-df-convert:hover {\n",
              "      background-color: #E2EBFA;\n",
              "      box-shadow: 0px 1px 2px rgba(60, 64, 67, 0.3), 0px 1px 3px 1px rgba(60, 64, 67, 0.15);\n",
              "      fill: #174EA6;\n",
              "    }\n",
              "\n",
              "    .colab-df-buttons div {\n",
              "      margin-bottom: 4px;\n",
              "    }\n",
              "\n",
              "    [theme=dark] .colab-df-convert {\n",
              "      background-color: #3B4455;\n",
              "      fill: #D2E3FC;\n",
              "    }\n",
              "\n",
              "    [theme=dark] .colab-df-convert:hover {\n",
              "      background-color: #434B5C;\n",
              "      box-shadow: 0px 1px 3px 1px rgba(0, 0, 0, 0.15);\n",
              "      filter: drop-shadow(0px 1px 2px rgba(0, 0, 0, 0.3));\n",
              "      fill: #FFFFFF;\n",
              "    }\n",
              "  </style>\n",
              "\n",
              "    <script>\n",
              "      const buttonEl =\n",
              "        document.querySelector('#df-d83650de-75c8-4a7d-aae1-88574bfc87fc button.colab-df-convert');\n",
              "      buttonEl.style.display =\n",
              "        google.colab.kernel.accessAllowed ? 'block' : 'none';\n",
              "\n",
              "      async function convertToInteractive(key) {\n",
              "        const element = document.querySelector('#df-d83650de-75c8-4a7d-aae1-88574bfc87fc');\n",
              "        const dataTable =\n",
              "          await google.colab.kernel.invokeFunction('convertToInteractive',\n",
              "                                                    [key], {});\n",
              "        if (!dataTable) return;\n",
              "\n",
              "        const docLinkHtml = 'Like what you see? Visit the ' +\n",
              "          '<a target=\"_blank\" href=https://colab.research.google.com/notebooks/data_table.ipynb>data table notebook</a>'\n",
              "          + ' to learn more about interactive tables.';\n",
              "        element.innerHTML = '';\n",
              "        dataTable['output_type'] = 'display_data';\n",
              "        await google.colab.output.renderOutput(dataTable, element);\n",
              "        const docLink = document.createElement('div');\n",
              "        docLink.innerHTML = docLinkHtml;\n",
              "        element.appendChild(docLink);\n",
              "      }\n",
              "    </script>\n",
              "  </div>\n",
              "\n",
              "    </div>\n",
              "  </div>\n"
            ]
          },
          "metadata": {},
          "execution_count": 88
        }
      ]
    },
    {
      "cell_type": "code",
      "source": [
        "NUM_MODELS = 16"
      ],
      "metadata": {
        "id": "8eSJW5fWJrox"
      },
      "execution_count": null,
      "outputs": []
    },
    {
      "cell_type": "code",
      "execution_count": null,
      "metadata": {
        "id": "PuWZMkZQTaf_",
        "colab": {
          "base_uri": "https://localhost:8080/",
          "height": 1000
        },
        "outputId": "1daa3275-932f-460c-d33d-6e1771efdd70"
      },
      "outputs": [
        {
          "output_type": "stream",
          "name": "stdout",
          "text": [
            "individual_model_db_h            model_name loss_fn  batch_size       lr  f1_sarcastic  f1_score  \\\n",
            "0   16_FL_1e-05_2_298      FL          16  0.00001      0.732824  0.830698   \n",
            "1   16_FL_1e-05_4_298      FL          16  0.00001      0.749035  0.841455   \n",
            "2   32_FL_1e-05_2_298      FL          32  0.00001      0.722222  0.825758   \n",
            "3   32_FL_1e-05_4_298      FL          32  0.00001      0.747082  0.840546   \n",
            "4   36_FL_1e-05_2_298      FL          36  0.00001      0.709163  0.817750   \n",
            "5   36_FL_1e-05_4_298      FL          36  0.00001      0.750000  0.841258   \n",
            "6   64_FL_1e-05_2_298      FL          64  0.00001      0.696356  0.810490   \n",
            "7   64_FL_1e-05_4_298      FL          64  0.00001      0.754864  0.845452   \n",
            "8   16_FL_2e-05_2_298      FL          16  0.00002      0.733591  0.831699   \n",
            "9   16_FL_2e-05_4_298      FL          16  0.00002      0.726562  0.827784   \n",
            "10  32_FL_2e-05_2_298      FL          32  0.00002      0.723735  0.825827   \n",
            "11  32_FL_2e-05_4_298      FL          32  0.00002      0.749035  0.841455   \n",
            "12  36_FL_2e-05_2_298      FL          36  0.00002      0.733591  0.831699   \n",
            "13  36_FL_2e-05_4_298      FL          36  0.00002      0.765799  0.850526   \n",
            "14  64_FL_2e-05_2_298      FL          64  0.00002      0.731518  0.830733   \n",
            "15  64_FL_2e-05_4_298      FL          64  0.00002      0.733591  0.831699   \n",
            "\n",
            "    epoch  seed  \n",
            "0       2   298  \n",
            "1       4   298  \n",
            "2       2   298  \n",
            "3       4   298  \n",
            "4       2   298  \n",
            "5       4   298  \n",
            "6       2   298  \n",
            "7       4   298  \n",
            "8       2   298  \n",
            "9       4   298  \n",
            "10      2   298  \n",
            "11      4   298  \n",
            "12      2   298  \n",
            "13      4   298  \n",
            "14      2   298  \n",
            "15      4   298  \n",
            "uniform_soup_db_h        model_name  f1_sarcastic  f1_score\n",
            "0  uniform_soup_h      0.733591  0.831699\n",
            "greedy_soup_db_h       model_name  f1_sarcastic  f1_score  num_models  \\\n",
            "0  greedy_soup_h      0.765152  0.850878           2   \n",
            "\n",
            "                                 models  \n",
            "0  36_FL_2e-05_4_298, 16_FL_1e-05_4_298  \n",
            "[3, 4, 5, 6, 7, 8, 9, 10, 11, 12, 13, 14, 15, 16, 17, 18]\n"
          ]
        },
        {
          "output_type": "display_data",
          "data": {
            "text/plain": [
              "<Figure size 800x600 with 1 Axes>"
            ],
            "image/png": "[encoded data removed]"
          },
          "metadata": {}
        }
      ],
      "source": [
        "\n",
        "# Step 5: Plot.\n",
        "individual_model_db_h = pd.read_json(INDIVIDUAL_MODEL_RESULTS_FILE_H, lines=True)\n",
        "print(\"individual_model_db_h\", individual_model_db_h)\n",
        "uniform_soup_db_h = pd.read_json(UNIFORM_SOUP_RESULTS_FILE_H, lines=True)\n",
        "print(\"uniform_soup_db_h\",uniform_soup_db_h)\n",
        "greedy_soup_db_h = pd.read_json(GREEDY_SOUP_RESULTS_FILE_H, lines=True)\n",
        "print(\"greedy_soup_db_h\",greedy_soup_db_h)\n",
        "array=[]\n",
        "array = [i+3 for i in range(NUM_MODELS)]\n",
        "print(array)\n",
        "fig = plt.figure(constrained_layout=True, figsize=(8, 6))\n",
        "ax = fig.subplots()\n",
        "\n",
        "ax.scatter(\n",
        "    1,\n",
        "    greedy_soup_db_h['f1_score'],\n",
        "    marker='*',\n",
        "    color='C4',\n",
        "    s=400,\n",
        "    label='Greedy Soup',\n",
        "    zorder=10\n",
        ")\n",
        "\n",
        "ax.scatter(\n",
        "    2,\n",
        "    uniform_soup_db_h['f1_score'],\n",
        "    marker='o',\n",
        "    color='C0',\n",
        "    s=200,\n",
        "    label='Uniform Soup',\n",
        "    zorder=10\n",
        ")\n",
        "\n",
        "ax.scatter(\n",
        "    array,\n",
        "    individual_model_db_h['f1_score'].values,\n",
        "    marker='d',\n",
        "    color='C2',\n",
        "    s=130,\n",
        "    label='Individual Models with Various Hyperparameters',\n",
        "    zorder=10\n",
        ")\n",
        "\n",
        "ax.set_ylabel('F1-Score', fontsize=16)\n",
        "ax.set_xlabel('Model Id', fontsize=16)\n",
        "ax.grid()\n",
        "ax.legend(fontsize=13)\n",
        "plt.savefig('figure_f1_h.png', bbox_inches='tight')"
      ]
    },
    {
      "cell_type": "code",
      "source": [
        "best_model_db_h = pd.read_json(BEST_MODEL_RESULTS_FILE_T, lines=True)\n",
        "print(\"best_model_db_h\", best_model_db_h)"
      ],
      "metadata": {
        "colab": {
          "base_uri": "https://localhost:8080/"
        },
        "id": "bEO5gRMPUU-N",
        "outputId": "f32f3231-3cde-4241-d247-1e92284c2301"
      },
      "execution_count": null,
      "outputs": [
        {
          "output_type": "stream",
          "name": "stdout",
          "text": [
            "best_model_db_h           best_model   loss_fn  batch_size       lr  epoch  seed  \\\n",
            "0  36_FL_2e-05_4_298  0.648526          36  0.00002      4   298   \n",
            "\n",
            "   f1_sarcastic  f1_score  \n",
            "0      0.648526   0.79141  \n"
          ]
        }
      ]
    },
    {
      "cell_type": "code",
      "source": [
        "individual_model_db_t = pd.read_json(INDIVIDUAL_MODEL_RESULTS_FILE_T, lines=True)\n",
        "print(\"individual_model_db_t\", individual_model_db_t)"
      ],
      "metadata": {
        "id": "D4CIOoWO88Fy",
        "colab": {
          "base_uri": "https://localhost:8080/"
        },
        "outputId": "c47f928e-719e-4699-ec1f-d4e2cd52c74a"
      },
      "execution_count": null,
      "outputs": [
        {
          "output_type": "stream",
          "name": "stdout",
          "text": [
            "individual_model_db_t            model_name loss_fn  batch_size       lr  f1_sarcastic  f1_score  \\\n",
            "0   16_FL_1e-05_2_298      FL          16  0.00001      0.702439  0.825696   \n",
            "1   16_FL_1e-05_4_298      FL          16  0.00001      0.663529  0.801659   \n",
            "2   32_FL_1e-05_2_298      FL          32  0.00001      0.676617  0.811203   \n",
            "3   32_FL_1e-05_4_298      FL          32  0.00001      0.634259  0.783768   \n",
            "4   36_FL_1e-05_2_298      FL          36  0.00001      0.677249  0.813439   \n",
            "5   36_FL_1e-05_4_298      FL          36  0.00001      0.629550  0.777698   \n",
            "6   64_FL_1e-05_2_298      FL          64  0.00001      0.670330  0.810534   \n",
            "7   64_FL_1e-05_4_298      FL          64  0.00001      0.652681  0.794919   \n",
            "8   16_FL_2e-05_2_298      FL          16  0.00002      0.666667  0.803426   \n",
            "9   16_FL_2e-05_4_298      FL          16  0.00002      0.655963  0.796256   \n",
            "10  32_FL_2e-05_2_298      FL          32  0.00002      0.644231  0.791075   \n",
            "11  32_FL_2e-05_4_298      FL          32  0.00002      0.650000  0.792373   \n",
            "12  36_FL_2e-05_2_298      FL          36  0.00002      0.671679  0.808559   \n",
            "13  36_FL_2e-05_4_298      FL          36  0.00002      0.648526  0.791410   \n",
            "14  64_FL_2e-05_2_298      FL          64  0.00002      0.702703  0.826069   \n",
            "15  64_FL_2e-05_4_298      FL          64  0.00002      0.668182  0.803159   \n",
            "\n",
            "    epoch  seed  \n",
            "0       2   298  \n",
            "1       4   298  \n",
            "2       2   298  \n",
            "3       4   298  \n",
            "4       2   298  \n",
            "5       4   298  \n",
            "6       2   298  \n",
            "7       4   298  \n",
            "8       2   298  \n",
            "9       4   298  \n",
            "10      2   298  \n",
            "11      4   298  \n",
            "12      2   298  \n",
            "13      4   298  \n",
            "14      2   298  \n",
            "15      4   298  \n"
          ]
        }
      ]
    },
    {
      "cell_type": "code",
      "execution_count": null,
      "metadata": {
        "id": "oasp-0q7ccVA",
        "colab": {
          "base_uri": "https://localhost:8080/"
        },
        "outputId": "358544c5-2f37-4481-d004-bf9bfbf9032d"
      },
      "outputs": [
        {
          "output_type": "stream",
          "name": "stdout",
          "text": [
            "1400/1400: [===============================>] - ETA 0.2s\n"
          ]
        }
      ],
      "source": [
        "if os.path.exists(UNIFORM_SOUP_RESULTS_FILE_T):\n",
        "    os.remove(UNIFORM_SOUP_RESULTS_FILE_T)\n",
        "\n",
        "results = {'model_name' : f'uniform_soup_t'}\n",
        "\n",
        "test_accuracies,test_outputs, test_labels = eval_full(args, test_loader,  uniform_soup_base_model, uniform_soup_classifier )\n",
        "\n",
        "results['f1_sarcastic'] = test_accuracies['f1_sarcastic']\n",
        "results['f1_score'] = test_accuracies['f1_score']\n",
        "\n",
        "with open(UNIFORM_SOUP_RESULTS_FILE_T, 'a+') as f:\n",
        "    f.write(json.dumps(results) + '\\n')\n",
        "\n"
      ]
    },
    {
      "cell_type": "code",
      "source": [
        "uniform_soup_model_db_t = pd.read_json(UNIFORM_SOUP_RESULTS_FILE_T, lines=True)\n",
        "uniform_soup_model_db_t"
      ],
      "metadata": {
        "colab": {
          "base_uri": "https://localhost:8080/",
          "height": 80
        },
        "id": "TxFRPeTWVPAv",
        "outputId": "cf0188d0-d857-45eb-96dc-2e6cc487f051"
      },
      "execution_count": null,
      "outputs": [
        {
          "output_type": "execute_result",
          "data": {
            "text/plain": [
              "       model_name  f1_sarcastic  f1_score\n",
              "0  uniform_soup_t      0.692683  0.819982"
            ],
            "text/html": [
              "\n",
              "  <div id=\"df-e578f389-ee12-4eba-91aa-5e21f6dd40c0\" class=\"colab-df-container\">\n",
              "    <div>\n",
              "<style scoped>\n",
              "    .dataframe tbody tr th:only-of-type {\n",
              "        vertical-align: middle;\n",
              "    }\n",
              "\n",
              "    .dataframe tbody tr th {\n",
              "        vertical-align: top;\n",
              "    }\n",
              "\n",
              "    .dataframe thead th {\n",
              "        text-align: right;\n",
              "    }\n",
              "</style>\n",
              "<table border=\"1\" class=\"dataframe\">\n",
              "  <thead>\n",
              "    <tr style=\"text-align: right;\">\n",
              "      <th></th>\n",
              "      <th>model_name</th>\n",
              "      <th>f1_sarcastic</th>\n",
              "      <th>f1_score</th>\n",
              "    </tr>\n",
              "  </thead>\n",
              "  <tbody>\n",
              "    <tr>\n",
              "      <th>0</th>\n",
              "      <td>uniform_soup_t</td>\n",
              "      <td>0.692683</td>\n",
              "      <td>0.819982</td>\n",
              "    </tr>\n",
              "  </tbody>\n",
              "</table>\n",
              "</div>\n",
              "    <div class=\"colab-df-buttons\">\n",
              "\n",
              "  <div class=\"colab-df-container\">\n",
              "    <button class=\"colab-df-convert\" onclick=\"convertToInteractive('df-e578f389-ee12-4eba-91aa-5e21f6dd40c0')\"\n",
              "            title=\"Convert this dataframe to an interactive table.\"\n",
              "            style=\"display:none;\">\n",
              "\n",
              "  <svg xmlns=\"http://www.w3.org/2000/svg\" height=\"24px\" viewBox=\"0 -960 960 960\">\n",
              "    <path d=\"M120-120v-720h720v720H120Zm60-500h600v-160H180v160Zm220 220h160v-160H400v160Zm0 220h160v-160H400v160ZM180-400h160v-160H180v160Zm440 0h160v-160H620v160ZM180-180h160v-160H180v160Zm440 0h160v-160H620v160Z\"/>\n",
              "  </svg>\n",
              "    </button>\n",
              "\n",
              "  <style>\n",
              "    .colab-df-container {\n",
              "      display:flex;\n",
              "      gap: 12px;\n",
              "    }\n",
              "\n",
              "    .colab-df-convert {\n",
              "      background-color: #E8F0FE;\n",
              "      border: none;\n",
              "      border-radius: 50%;\n",
              "      cursor: pointer;\n",
              "      display: none;\n",
              "      fill: #1967D2;\n",
              "      height: 32px;\n",
              "      padding: 0 0 0 0;\n",
              "      width: 32px;\n",
              "    }\n",
              "\n",
              "    .colab-df-convert:hover {\n",
              "      background-color: #E2EBFA;\n",
              "      box-shadow: 0px 1px 2px rgba(60, 64, 67, 0.3), 0px 1px 3px 1px rgba(60, 64, 67, 0.15);\n",
              "      fill: #174EA6;\n",
              "    }\n",
              "\n",
              "    .colab-df-buttons div {\n",
              "      margin-bottom: 4px;\n",
              "    }\n",
              "\n",
              "    [theme=dark] .colab-df-convert {\n",
              "      background-color: #3B4455;\n",
              "      fill: #D2E3FC;\n",
              "    }\n",
              "\n",
              "    [theme=dark] .colab-df-convert:hover {\n",
              "      background-color: #434B5C;\n",
              "      box-shadow: 0px 1px 3px 1px rgba(0, 0, 0, 0.15);\n",
              "      filter: drop-shadow(0px 1px 2px rgba(0, 0, 0, 0.3));\n",
              "      fill: #FFFFFF;\n",
              "    }\n",
              "  </style>\n",
              "\n",
              "    <script>\n",
              "      const buttonEl =\n",
              "        document.querySelector('#df-e578f389-ee12-4eba-91aa-5e21f6dd40c0 button.colab-df-convert');\n",
              "      buttonEl.style.display =\n",
              "        google.colab.kernel.accessAllowed ? 'block' : 'none';\n",
              "\n",
              "      async function convertToInteractive(key) {\n",
              "        const element = document.querySelector('#df-e578f389-ee12-4eba-91aa-5e21f6dd40c0');\n",
              "        const dataTable =\n",
              "          await google.colab.kernel.invokeFunction('convertToInteractive',\n",
              "                                                    [key], {});\n",
              "        if (!dataTable) return;\n",
              "\n",
              "        const docLinkHtml = 'Like what you see? Visit the ' +\n",
              "          '<a target=\"_blank\" href=https://colab.research.google.com/notebooks/data_table.ipynb>data table notebook</a>'\n",
              "          + ' to learn more about interactive tables.';\n",
              "        element.innerHTML = '';\n",
              "        dataTable['output_type'] = 'display_data';\n",
              "        await google.colab.output.renderOutput(dataTable, element);\n",
              "        const docLink = document.createElement('div');\n",
              "        docLink.innerHTML = docLinkHtml;\n",
              "        element.appendChild(docLink);\n",
              "      }\n",
              "    </script>\n",
              "  </div>\n",
              "\n",
              "    </div>\n",
              "  </div>\n"
            ]
          },
          "metadata": {},
          "execution_count": 94
        }
      ]
    },
    {
      "cell_type": "code",
      "execution_count": null,
      "metadata": {
        "id": "y6N7au47ckGv",
        "colab": {
          "base_uri": "https://localhost:8080/"
        },
        "outputId": "6f1e8b97-63f2-4167-b453-833b837806dd"
      },
      "outputs": [
        {
          "output_type": "stream",
          "name": "stdout",
          "text": [
            "1400/1400: [===============================>] - ETA 0.2s\n"
          ]
        }
      ],
      "source": [
        "if os.path.exists(GREEDY_SOUP_RESULTS_FILE_T):\n",
        "    os.remove(GREEDY_SOUP_RESULTS_FILE_T)\n",
        "\n",
        "results = {'model_name' : f'greedy_soup_t'}\n",
        "\n",
        "\n",
        "test_accuracies,test_outputs, test_labels = eval_full(args, test_loader,  greedy_soup_base_model, greedy_soup_classifier )\n",
        "results['f1_sarcastic'] = test_accuracies['f1_sarcastic']\n",
        "results['f1_score'] = test_accuracies['f1_score']\n",
        "results['num_models']=num_ingredients\n",
        "results['models']= greedy_soup_ingredients_h_str\n",
        "with open(GREEDY_SOUP_RESULTS_FILE_T, 'a+') as f:\n",
        "    f.write(json.dumps(results) + '\\n')\n",
        "\n"
      ]
    },
    {
      "cell_type": "code",
      "source": [
        "greedy_soup_model_db_t = pd.read_json(GREEDY_SOUP_RESULTS_FILE_T, lines=True)\n",
        "greedy_soup_model_db_t"
      ],
      "metadata": {
        "id": "bA76YGG_BBMy",
        "colab": {
          "base_uri": "https://localhost:8080/",
          "height": 80
        },
        "outputId": "bbcac569-2975-4a2f-a70b-f9b3fa54fee9"
      },
      "execution_count": null,
      "outputs": [
        {
          "output_type": "execute_result",
          "data": {
            "text/plain": [
              "      model_name  f1_sarcastic  f1_score  num_models  \\\n",
              "0  greedy_soup_t      0.668224   0.80418           2   \n",
              "\n",
              "                                 models  \n",
              "0  36_FL_2e-05_4_298, 16_FL_1e-05_4_298  "
            ],
            "text/html": [
              "\n",
              "  <div id=\"df-382af230-5f45-431b-a5f7-fa80c5531995\" class=\"colab-df-container\">\n",
              "    <div>\n",
              "<style scoped>\n",
              "    .dataframe tbody tr th:only-of-type {\n",
              "        vertical-align: middle;\n",
              "    }\n",
              "\n",
              "    .dataframe tbody tr th {\n",
              "        vertical-align: top;\n",
              "    }\n",
              "\n",
              "    .dataframe thead th {\n",
              "        text-align: right;\n",
              "    }\n",
              "</style>\n",
              "<table border=\"1\" class=\"dataframe\">\n",
              "  <thead>\n",
              "    <tr style=\"text-align: right;\">\n",
              "      <th></th>\n",
              "      <th>model_name</th>\n",
              "      <th>f1_sarcastic</th>\n",
              "      <th>f1_score</th>\n",
              "      <th>num_models</th>\n",
              "      <th>models</th>\n",
              "    </tr>\n",
              "  </thead>\n",
              "  <tbody>\n",
              "    <tr>\n",
              "      <th>0</th>\n",
              "      <td>greedy_soup_t</td>\n",
              "      <td>0.668224</td>\n",
              "      <td>0.80418</td>\n",
              "      <td>2</td>\n",
              "      <td>36_FL_2e-05_4_298, 16_FL_1e-05_4_298</td>\n",
              "    </tr>\n",
              "  </tbody>\n",
              "</table>\n",
              "</div>\n",
              "    <div class=\"colab-df-buttons\">\n",
              "\n",
              "  <div class=\"colab-df-container\">\n",
              "    <button class=\"colab-df-convert\" onclick=\"convertToInteractive('df-382af230-5f45-431b-a5f7-fa80c5531995')\"\n",
              "            title=\"Convert this dataframe to an interactive table.\"\n",
              "            style=\"display:none;\">\n",
              "\n",
              "  <svg xmlns=\"http://www.w3.org/2000/svg\" height=\"24px\" viewBox=\"0 -960 960 960\">\n",
              "    <path d=\"M120-120v-720h720v720H120Zm60-500h600v-160H180v160Zm220 220h160v-160H400v160Zm0 220h160v-160H400v160ZM180-400h160v-160H180v160Zm440 0h160v-160H620v160ZM180-180h160v-160H180v160Zm440 0h160v-160H620v160Z\"/>\n",
              "  </svg>\n",
              "    </button>\n",
              "\n",
              "  <style>\n",
              "    .colab-df-container {\n",
              "      display:flex;\n",
              "      gap: 12px;\n",
              "    }\n",
              "\n",
              "    .colab-df-convert {\n",
              "      background-color: #E8F0FE;\n",
              "      border: none;\n",
              "      border-radius: 50%;\n",
              "      cursor: pointer;\n",
              "      display: none;\n",
              "      fill: #1967D2;\n",
              "      height: 32px;\n",
              "      padding: 0 0 0 0;\n",
              "      width: 32px;\n",
              "    }\n",
              "\n",
              "    .colab-df-convert:hover {\n",
              "      background-color: #E2EBFA;\n",
              "      box-shadow: 0px 1px 2px rgba(60, 64, 67, 0.3), 0px 1px 3px 1px rgba(60, 64, 67, 0.15);\n",
              "      fill: #174EA6;\n",
              "    }\n",
              "\n",
              "    .colab-df-buttons div {\n",
              "      margin-bottom: 4px;\n",
              "    }\n",
              "\n",
              "    [theme=dark] .colab-df-convert {\n",
              "      background-color: #3B4455;\n",
              "      fill: #D2E3FC;\n",
              "    }\n",
              "\n",
              "    [theme=dark] .colab-df-convert:hover {\n",
              "      background-color: #434B5C;\n",
              "      box-shadow: 0px 1px 3px 1px rgba(0, 0, 0, 0.15);\n",
              "      filter: drop-shadow(0px 1px 2px rgba(0, 0, 0, 0.3));\n",
              "      fill: #FFFFFF;\n",
              "    }\n",
              "  </style>\n",
              "\n",
              "    <script>\n",
              "      const buttonEl =\n",
              "        document.querySelector('#df-382af230-5f45-431b-a5f7-fa80c5531995 button.colab-df-convert');\n",
              "      buttonEl.style.display =\n",
              "        google.colab.kernel.accessAllowed ? 'block' : 'none';\n",
              "\n",
              "      async function convertToInteractive(key) {\n",
              "        const element = document.querySelector('#df-382af230-5f45-431b-a5f7-fa80c5531995');\n",
              "        const dataTable =\n",
              "          await google.colab.kernel.invokeFunction('convertToInteractive',\n",
              "                                                    [key], {});\n",
              "        if (!dataTable) return;\n",
              "\n",
              "        const docLinkHtml = 'Like what you see? Visit the ' +\n",
              "          '<a target=\"_blank\" href=https://colab.research.google.com/notebooks/data_table.ipynb>data table notebook</a>'\n",
              "          + ' to learn more about interactive tables.';\n",
              "        element.innerHTML = '';\n",
              "        dataTable['output_type'] = 'display_data';\n",
              "        await google.colab.output.renderOutput(dataTable, element);\n",
              "        const docLink = document.createElement('div');\n",
              "        docLink.innerHTML = docLinkHtml;\n",
              "        element.appendChild(docLink);\n",
              "      }\n",
              "    </script>\n",
              "  </div>\n",
              "\n",
              "    </div>\n",
              "  </div>\n"
            ]
          },
          "metadata": {},
          "execution_count": 96
        }
      ]
    },
    {
      "cell_type": "code",
      "source": [
        "best_model_db_h"
      ],
      "metadata": {
        "colab": {
          "base_uri": "https://localhost:8080/",
          "height": 80
        },
        "id": "ZqZggyCKY1uf",
        "outputId": "a0fbe0a7-22b0-4ea8-ab3a-3b008bfe2809"
      },
      "execution_count": null,
      "outputs": [
        {
          "output_type": "execute_result",
          "data": {
            "text/plain": [
              "          best_model   loss_fn  batch_size       lr  epoch  seed  \\\n",
              "0  36_FL_2e-05_4_298  0.648526          36  0.00002      4   298   \n",
              "\n",
              "   f1_sarcastic  f1_score  \n",
              "0      0.648526   0.79141  "
            ],
            "text/html": [
              "\n",
              "  <div id=\"df-b6653209-bd09-4f4d-be92-8ef8bd10955d\" class=\"colab-df-container\">\n",
              "    <div>\n",
              "<style scoped>\n",
              "    .dataframe tbody tr th:only-of-type {\n",
              "        vertical-align: middle;\n",
              "    }\n",
              "\n",
              "    .dataframe tbody tr th {\n",
              "        vertical-align: top;\n",
              "    }\n",
              "\n",
              "    .dataframe thead th {\n",
              "        text-align: right;\n",
              "    }\n",
              "</style>\n",
              "<table border=\"1\" class=\"dataframe\">\n",
              "  <thead>\n",
              "    <tr style=\"text-align: right;\">\n",
              "      <th></th>\n",
              "      <th>best_model</th>\n",
              "      <th>loss_fn</th>\n",
              "      <th>batch_size</th>\n",
              "      <th>lr</th>\n",
              "      <th>epoch</th>\n",
              "      <th>seed</th>\n",
              "      <th>f1_sarcastic</th>\n",
              "      <th>f1_score</th>\n",
              "    </tr>\n",
              "  </thead>\n",
              "  <tbody>\n",
              "    <tr>\n",
              "      <th>0</th>\n",
              "      <td>36_FL_2e-05_4_298</td>\n",
              "      <td>0.648526</td>\n",
              "      <td>36</td>\n",
              "      <td>0.00002</td>\n",
              "      <td>4</td>\n",
              "      <td>298</td>\n",
              "      <td>0.648526</td>\n",
              "      <td>0.79141</td>\n",
              "    </tr>\n",
              "  </tbody>\n",
              "</table>\n",
              "</div>\n",
              "    <div class=\"colab-df-buttons\">\n",
              "\n",
              "  <div class=\"colab-df-container\">\n",
              "    <button class=\"colab-df-convert\" onclick=\"convertToInteractive('df-b6653209-bd09-4f4d-be92-8ef8bd10955d')\"\n",
              "            title=\"Convert this dataframe to an interactive table.\"\n",
              "            style=\"display:none;\">\n",
              "\n",
              "  <svg xmlns=\"http://www.w3.org/2000/svg\" height=\"24px\" viewBox=\"0 -960 960 960\">\n",
              "    <path d=\"M120-120v-720h720v720H120Zm60-500h600v-160H180v160Zm220 220h160v-160H400v160Zm0 220h160v-160H400v160ZM180-400h160v-160H180v160Zm440 0h160v-160H620v160ZM180-180h160v-160H180v160Zm440 0h160v-160H620v160Z\"/>\n",
              "  </svg>\n",
              "    </button>\n",
              "\n",
              "  <style>\n",
              "    .colab-df-container {\n",
              "      display:flex;\n",
              "      gap: 12px;\n",
              "    }\n",
              "\n",
              "    .colab-df-convert {\n",
              "      background-color: #E8F0FE;\n",
              "      border: none;\n",
              "      border-radius: 50%;\n",
              "      cursor: pointer;\n",
              "      display: none;\n",
              "      fill: #1967D2;\n",
              "      height: 32px;\n",
              "      padding: 0 0 0 0;\n",
              "      width: 32px;\n",
              "    }\n",
              "\n",
              "    .colab-df-convert:hover {\n",
              "      background-color: #E2EBFA;\n",
              "      box-shadow: 0px 1px 2px rgba(60, 64, 67, 0.3), 0px 1px 3px 1px rgba(60, 64, 67, 0.15);\n",
              "      fill: #174EA6;\n",
              "    }\n",
              "\n",
              "    .colab-df-buttons div {\n",
              "      margin-bottom: 4px;\n",
              "    }\n",
              "\n",
              "    [theme=dark] .colab-df-convert {\n",
              "      background-color: #3B4455;\n",
              "      fill: #D2E3FC;\n",
              "    }\n",
              "\n",
              "    [theme=dark] .colab-df-convert:hover {\n",
              "      background-color: #434B5C;\n",
              "      box-shadow: 0px 1px 3px 1px rgba(0, 0, 0, 0.15);\n",
              "      filter: drop-shadow(0px 1px 2px rgba(0, 0, 0, 0.3));\n",
              "      fill: #FFFFFF;\n",
              "    }\n",
              "  </style>\n",
              "\n",
              "    <script>\n",
              "      const buttonEl =\n",
              "        document.querySelector('#df-b6653209-bd09-4f4d-be92-8ef8bd10955d button.colab-df-convert');\n",
              "      buttonEl.style.display =\n",
              "        google.colab.kernel.accessAllowed ? 'block' : 'none';\n",
              "\n",
              "      async function convertToInteractive(key) {\n",
              "        const element = document.querySelector('#df-b6653209-bd09-4f4d-be92-8ef8bd10955d');\n",
              "        const dataTable =\n",
              "          await google.colab.kernel.invokeFunction('convertToInteractive',\n",
              "                                                    [key], {});\n",
              "        if (!dataTable) return;\n",
              "\n",
              "        const docLinkHtml = 'Like what you see? Visit the ' +\n",
              "          '<a target=\"_blank\" href=https://colab.research.google.com/notebooks/data_table.ipynb>data table notebook</a>'\n",
              "          + ' to learn more about interactive tables.';\n",
              "        element.innerHTML = '';\n",
              "        dataTable['output_type'] = 'display_data';\n",
              "        await google.colab.output.renderOutput(dataTable, element);\n",
              "        const docLink = document.createElement('div');\n",
              "        docLink.innerHTML = docLinkHtml;\n",
              "        element.appendChild(docLink);\n",
              "      }\n",
              "    </script>\n",
              "  </div>\n",
              "\n",
              "    </div>\n",
              "  </div>\n"
            ]
          },
          "metadata": {},
          "execution_count": 97
        }
      ]
    },
    {
      "cell_type": "code",
      "source": [
        "len(individual_model_db_t)"
      ],
      "metadata": {
        "colab": {
          "base_uri": "https://localhost:8080/"
        },
        "id": "2Iyg0nO7ZLcQ",
        "outputId": "25a7e7f1-0e5d-48d3-ad7f-1a77981a4b16"
      },
      "execution_count": null,
      "outputs": [
        {
          "output_type": "execute_result",
          "data": {
            "text/plain": [
              "16"
            ]
          },
          "metadata": {},
          "execution_count": 98
        }
      ]
    },
    {
      "cell_type": "code",
      "source": [
        "\n",
        "\n",
        "array=[]\n",
        "array = [i+4 for i in range(len(individual_model_db_t))]\n",
        "# print(array)\n",
        "fig = plt.figure(constrained_layout=True, figsize=(8, 6))\n",
        "ax = fig.subplots()\n",
        "\n",
        "ax.scatter(\n",
        "    1,\n",
        "    greedy_soup_model_db_t['f1_sarcastic'],\n",
        "    marker='*',\n",
        "    color='C4',\n",
        "    s=400,\n",
        "    label='Greedy Soup',\n",
        "    zorder=10\n",
        ")\n",
        "\n",
        "ax.scatter(\n",
        "    2,\n",
        "    uniform_soup_model_db_t['f1_sarcastic'],\n",
        "    marker='o',\n",
        "    color='C0',\n",
        "    s=200,\n",
        "    label='Uniform Soup',\n",
        "    zorder=10\n",
        ")\n",
        "\n",
        "ax.scatter(\n",
        "          3,\n",
        "          best_model_db_h['f1_sarcastic'],\n",
        "          marker='h',\n",
        "          color='slategray',\n",
        "          s=150,\n",
        "          label='Best Model',\n",
        "          zorder=10\n",
        "      )\n",
        "ax.scatter(\n",
        "    array,\n",
        "    individual_model_db_t['f1_sarcastic'].values,\n",
        "    marker='d',\n",
        "    color='C2',\n",
        "    s=130,\n",
        "    label='Various hyperparameters',\n",
        "    zorder=10\n",
        ")\n",
        "\n",
        "ax.set_ylabel('F1-Sarcasm', fontsize=16)\n",
        "ax.set_xlabel('Model Id', fontsize=16)\n",
        "ax.grid()\n",
        "ax.legend(fontsize=13)\n",
        "plt.savefig('figure_t.png', bbox_inches='tight')"
      ],
      "metadata": {
        "id": "V8YIIdW-x2uU",
        "colab": {
          "base_uri": "https://localhost:8080/",
          "height": 628
        },
        "outputId": "dce08801-51d7-4cc9-decc-ed790d5f07f6"
      },
      "execution_count": null,
      "outputs": [
        {
          "output_type": "display_data",
          "data": {
            "text/plain": [
              "<Figure size 800x600 with 1 Axes>"
            ],
            "image/png": "[encoded data removed]"
          },
          "metadata": {}
        }
      ]
    },
    {
      "cell_type": "code",
      "source": [
        "ls"
      ],
      "metadata": {
        "colab": {
          "base_uri": "https://localhost:8080/"
        },
        "id": "vfUuPC23Wi8o",
        "outputId": "0ca46671-e41c-4902-abfa-63a6f2a059d6"
      },
      "execution_count": null,
      "outputs": [
        {
          "output_type": "stream",
          "name": "stdout",
          "text": [
            "\u001b[0m\u001b[01;34mdrive\u001b[0m/                       \u001b[01;34mresults\u001b[0m/\n",
            "figure_f1_h.png              \u001b[01;34msample_data\u001b[0m/\n",
            "figure_t.png                 \u001b[01;34mssd\u001b[0m/\n",
            "greedy_base_model.pth        uniform_base_model.pth\n",
            "greedy_classifier.pth        uniform_classifier.pth\n",
            "greedy_soup_results_h.jsonl  uniform_soup_results_h.jsonl\n",
            "greedy_soup_results_t.jsonl  uniform_soup_results_t.jsonl\n"
          ]
        }
      ]
    },
    {
      "cell_type": "code",
      "source": [
        "ls '/content/drive/MyDrive/iSarcasm/m_5751_298'"
      ],
      "metadata": {
        "id": "D4k4xfj-7KQN",
        "colab": {
          "base_uri": "https://localhost:8080/"
        },
        "outputId": "676ccb6f-f5a8-413e-99d2-16305979ed20"
      },
      "execution_count": null,
      "outputs": [
        {
          "output_type": "stream",
          "name": "stdout",
          "text": [
            " \u001b[0m\u001b[01;34mresults\u001b[0m/  \u001b[01;34m'Untitled folder'\u001b[0m/\n"
          ]
        }
      ]
    },
    {
      "cell_type": "code",
      "source": [
        "!mkdir /content/drive/MyDrive/iSarcasm/m_5751_298/results_all_f1"
      ],
      "metadata": {
        "id": "o4VBh7bCXaRW"
      },
      "execution_count": null,
      "outputs": []
    },
    {
      "cell_type": "code",
      "source": [
        "%cp uniform_soup_results_h.jsonl /content/drive/MyDrive/iSarcasm/m_5751_298/results_all_f1\n",
        "\n",
        "\n",
        "# %cp individual_model_results_h.jsonl /content/drive/MyDrive/iSarcasm/m_5751_298/results_all_f1\n",
        "\n",
        "%cp uniform_soup_results_t.jsonl /content/drive/MyDrive/iSarcasm/m_5751_298/results_all_f1\n",
        "# %cp individual_model_results_t.jsonl /content/drive/MyDrive/iSarcasm/m_5751_298/results_all_f1\n",
        "\n",
        "\n",
        "%cp best_model_f.jsonl /content/drive/MyDrive/iSarcasm/m_5751_298/results_all_f1\n",
        "\n",
        "%cp greedy_soup_results_t.jsonl /content/drive/MyDrive/iSarcasm/m_5751_298/results_all_f1\n",
        "%cp greedy_soup_results_h.jsonl /content/drive/MyDrive/iSarcasm/m_5751_298/results_all_f1\n",
        "%cp figure_h.png /content/drive/MyDrive/iSarcasm/m_5751_298/results_all_f1\n",
        "%cp figure_t.png /content/drive/MyDrive/iSarcasm/m_5751_298/results_all_f1\n",
        "\n",
        "\n",
        "%cp greedy_base_model.pth /content/drive/MyDrive/iSarcasm/m_5751_298/results_all_f1\n",
        "%cp greedy_classifier.pth /content/drive/MyDrive/iSarcasm/m_5751_298/results_all_f1\n",
        "%cp uniform_base_model.pth /content/drive/MyDrive/iSarcasm/m_5751_298/results_all_f1\n",
        "%cp uniform_classifier.pth /content/drive/MyDrive/iSarcasm/m_5751_298/results_all_f1"
      ],
      "metadata": {
        "id": "FPh4UWJWGodx",
        "colab": {
          "base_uri": "https://localhost:8080/"
        },
        "outputId": "20e35435-ec4b-4c4a-a2a5-ab67747a93c6"
      },
      "execution_count": null,
      "outputs": [
        {
          "output_type": "stream",
          "name": "stdout",
          "text": [
            "cp: cannot stat 'best_model_f.jsonl': No such file or directory\n"
          ]
        }
      ]
    },
    {
      "cell_type": "code",
      "source": [
        "%cp figure_f1_h.png /content/drive/MyDrive/iSarcasm/m_298/results"
      ],
      "metadata": {
        "id": "FTDj_MRyKw90"
      },
      "execution_count": null,
      "outputs": []
    },
    {
      "cell_type": "code",
      "source": [
        "ex_loader = loadExamplesData(batchsize=args['batch_size'], num_worker=0, pretraine_path=args['pretrained_path'],  max_length=args['max_length'])\n"
      ],
      "metadata": {
        "id": "BJiA5M2TYwf2"
      },
      "execution_count": null,
      "outputs": []
    },
    {
      "cell_type": "code",
      "source": [
        "ex_accuracies,ex_outputs, ex_labels = eval_full(args, ex_loader,  uniform_soup_base_model, uniform_soup_classifier )\n"
      ],
      "metadata": {
        "id": "bY7gcH8JE59J",
        "colab": {
          "base_uri": "https://localhost:8080/"
        },
        "outputId": "628db5e6-8e6b-42d6-f94d-7dab6fa23efc"
      },
      "execution_count": null,
      "outputs": [
        {
          "output_type": "stream",
          "name": "stdout",
          "text": [
            "\r10/10: [>...............................] - ETA 0.0s\n"
          ]
        }
      ]
    },
    {
      "cell_type": "code",
      "source": [
        "ex_accuracies,ex_outputs, ex_labels"
      ],
      "metadata": {
        "colab": {
          "base_uri": "https://localhost:8080/"
        },
        "id": "SmBIpxyhZHC-",
        "outputId": "c2821249-e720-47f5-d387-33fcd85df150"
      },
      "execution_count": null,
      "outputs": [
        {
          "output_type": "execute_result",
          "data": {
            "text/plain": [
              "({'accuracy': 1.0,\n",
              "  'f1_sarcastic': 1.0,\n",
              "  'f1_score': 1.0,\n",
              "  'report_sarcasm': '              precision    recall  f1-score   support\\n\\n         0.0     1.0000    1.0000    1.0000         5\\n         1.0     1.0000    1.0000    1.0000         5\\n\\n    accuracy                         1.0000        10\\n   macro avg     1.0000    1.0000    1.0000        10\\nweighted avg     1.0000    1.0000    1.0000        10\\n'},\n",
              " array([0., 1., 0., 1., 0., 1., 0., 1., 0., 1.]),\n",
              " array([0., 1., 0., 1., 0., 1., 0., 1., 0., 1.]))"
            ]
          },
          "metadata": {},
          "execution_count": 103
        }
      ]
    },
    {
      "cell_type": "code",
      "source": [
        "ex_accuracies,ex_outputs, ex_labels = eval_full(args, ex_loader,  greedy_soup_base_model, greedy_soup_classifier )"
      ],
      "metadata": {
        "colab": {
          "base_uri": "https://localhost:8080/"
        },
        "id": "J9YGYHOGYVvC",
        "outputId": "a3df492d-554b-4867-9fab-a485ac94d4a4"
      },
      "execution_count": null,
      "outputs": [
        {
          "output_type": "stream",
          "name": "stdout",
          "text": [
            "\r10/10: [>...............................] - ETA 0.0s\n"
          ]
        }
      ]
    },
    {
      "cell_type": "code",
      "source": [
        "ex_accuracies,ex_outputs, ex_labels"
      ],
      "metadata": {
        "colab": {
          "base_uri": "https://localhost:8080/"
        },
        "id": "A3s471BpZTHF",
        "outputId": "2491da4b-55a1-4980-dcee-e48d3c517b9a"
      },
      "execution_count": null,
      "outputs": [
        {
          "output_type": "execute_result",
          "data": {
            "text/plain": [
              "({'accuracy': 1.0,\n",
              "  'f1_sarcastic': 1.0,\n",
              "  'f1_score': 1.0,\n",
              "  'report_sarcasm': '              precision    recall  f1-score   support\\n\\n         0.0     1.0000    1.0000    1.0000         5\\n         1.0     1.0000    1.0000    1.0000         5\\n\\n    accuracy                         1.0000        10\\n   macro avg     1.0000    1.0000    1.0000        10\\nweighted avg     1.0000    1.0000    1.0000        10\\n'},\n",
              " array([0., 1., 0., 1., 0., 1., 0., 1., 0., 1.]),\n",
              " array([0., 1., 0., 1., 0., 1., 0., 1., 0., 1.]))"
            ]
          },
          "metadata": {},
          "execution_count": 105
        }
      ]
    },
    {
      "cell_type": "code",
      "source": [
        "ls '/content/drive/MyDrive/iSarcasm/m_298/results_all_f1/greedy_base_model.pth '"
      ],
      "metadata": {
        "colab": {
          "base_uri": "https://localhost:8080/"
        },
        "id": "BY0ElaL4bO6N",
        "outputId": "d6b39326-8063-4c4e-a6c0-9e76841738c3"
      },
      "execution_count": null,
      "outputs": [
        {
          "output_type": "stream",
          "name": "stdout",
          "text": [
            "figure_h.png                 greedy_soup_results_t.jsonl\n",
            "figure_t.png                 uniform_base_model.pth\n",
            "greedy_base_model.pth        uniform_classifier.pth\n",
            "greedy_classifier.pth        uniform_soup_results_h.jsonl\n",
            "greedy_soup_results_h.jsonl  uniform_soup_results_t.jsonl\n"
          ]
        }
      ]
    },
    {
      "cell_type": "code",
      "source": [
        "base_model = TransformerLayer(pretrained_path=args['pretrained_path'], both=True).to(device)\n",
        "\n",
        "base_model.load_state_dict(torch.load('/content/drive/MyDrive/iSarcasm/m_298/results_all_f1/greedy_base_model.pth'))\n",
        "# ls ./ssd/checkpoints/soups\n",
        "state_dict_cls = torch.load('/content/drive/MyDrive/iSarcasm/m_298/results_all_f1/greedy_classifier.pth')\n",
        "\n",
        "classifier = get_model_from_sd(state_dict_cls, base_model)\n",
        "\n",
        "base_model = base_model.to(device)\n",
        "classifier = classifier.to(device)\n",
        "\n",
        "val_accuracies,val_outputs, val_labels = eval_full(args, ex_loader,  base_model, classifier )\n",
        "\n",
        "val_accuracies,val_outputs, val_labels"
      ],
      "metadata": {
        "id": "B1UqbzvCb2fR"
      },
      "execution_count": null,
      "outputs": []
    },
    {
      "cell_type": "code",
      "source": [
        "base_model = TransformerLayer(pretrained_path=args['pretrained_path'], both=True).to(device)\n",
        "\n",
        "base_model.load_state_dict(torch.load('/content/drive/MyDrive/iSarcasm/m_298/results_all_f1/uniform_base_model.pth'))\n",
        "# ls ./ssd/checkpoints/soups\n",
        "state_dict_cls = torch.load('/content/drive/MyDrive/iSarcasm/m_298/results_all_f1/uniform_classifier.pth')\n",
        "\n",
        "classifier = get_model_from_sd(state_dict_cls, base_model)\n",
        "\n",
        "base_model = base_model.to(device)\n",
        "classifier = classifier.to(device)\n",
        "\n",
        "val_accuracies,val_outputs, val_labels = eval_full(args, ex_loader,  base_model, classifier )\n",
        "\n",
        "val_accuracies,val_outputs, val_labels"
      ],
      "metadata": {
        "colab": {
          "base_uri": "https://localhost:8080/"
        },
        "id": "yksOnVkdchml",
        "outputId": "849056a4-d521-49b2-97a2-f4f9068b5782"
      },
      "execution_count": null,
      "outputs": [
        {
          "output_type": "stream",
          "name": "stdout",
          "text": [
            "\r10/10: [>...............................] - ETA 0.0s\n"
          ]
        },
        {
          "output_type": "execute_result",
          "data": {
            "text/plain": [
              "({'accuracy': 1.0,\n",
              "  'f1_sarcastic': 1.0,\n",
              "  'f1_score': 1.0,\n",
              "  'report_sarcasm': '              precision    recall  f1-score   support\\n\\n         0.0     1.0000    1.0000    1.0000         5\\n         1.0     1.0000    1.0000    1.0000         5\\n\\n    accuracy                         1.0000        10\\n   macro avg     1.0000    1.0000    1.0000        10\\nweighted avg     1.0000    1.0000    1.0000        10\\n'},\n",
              " array([0., 1., 0., 1., 0., 1., 0., 1., 0., 1.]),\n",
              " array([0., 1., 0., 1., 0., 1., 0., 1., 0., 1.]))"
            ]
          },
          "metadata": {},
          "execution_count": 115
        }
      ]
    },
    {
      "cell_type": "code",
      "source": [],
      "metadata": {
        "id": "Dan1mczsc7F0"
      },
      "execution_count": null,
      "outputs": []
    }
  ],
  "metadata": {
    "accelerator": "GPU",
    "colab": {
      "provenance": []
    },
    "kernelspec": {
      "display_name": "Python 3",
      "name": "python3"
    },
    "language_info": {
      "name": "python"
    },
    "widgets": {
      "application/vnd.jupyter.widget-state+json": {
        "6a5d17fcd7d74ded99f30aee82ab9ee4": {
          "model_module": "@jupyter-widgets/controls",
          "model_name": "HBoxModel",
          "model_module_version": "1.5.0",
          "state": {
            "_dom_classes": [],
            "_model_module": "@jupyter-widgets/controls",
            "_model_module_version": "1.5.0",
            "_model_name": "HBoxModel",
            "_view_count": null,
            "_view_module": "@jupyter-widgets/controls",
            "_view_module_version": "1.5.0",
            "_view_name": "HBoxView",
            "box_style": "",
            "children": [
              "IPY_MODEL_c3921090b8664c1aa574240904320363",
              "IPY_MODEL_d0c1b9558495445f9dbcf8a62ca00d57",
              "IPY_MODEL_73c62ad2025c4be0aad972e1b55cff7e"
            ],
            "layout": "IPY_MODEL_d7845c9dbf264503af79a89e58fb4fa5"
          }
        },
        "c3921090b8664c1aa574240904320363": {
          "model_module": "@jupyter-widgets/controls",
          "model_name": "HTMLModel",
          "model_module_version": "1.5.0",
          "state": {
            "_dom_classes": [],
            "_model_module": "@jupyter-widgets/controls",
            "_model_module_version": "1.5.0",
            "_model_name": "HTMLModel",
            "_view_count": null,
            "_view_module": "@jupyter-widgets/controls",
            "_view_module_version": "1.5.0",
            "_view_name": "HTMLView",
            "description": "",
            "description_tooltip": null,
            "layout": "IPY_MODEL_ff305b933cdd4b08a3231f916b6ffa14",
            "placeholder": "​",
            "style": "IPY_MODEL_2690d77e10e54becadb56f8e4ea8869a",
            "value": "Downloading (…)okenizer_config.json: 100%"
          }
        },
        "d0c1b9558495445f9dbcf8a62ca00d57": {
          "model_module": "@jupyter-widgets/controls",
          "model_name": "FloatProgressModel",
          "model_module_version": "1.5.0",
          "state": {
            "_dom_classes": [],
            "_model_module": "@jupyter-widgets/controls",
            "_model_module_version": "1.5.0",
            "_model_name": "FloatProgressModel",
            "_view_count": null,
            "_view_module": "@jupyter-widgets/controls",
            "_view_module_version": "1.5.0",
            "_view_name": "ProgressView",
            "bar_style": "success",
            "description": "",
            "description_tooltip": null,
            "layout": "IPY_MODEL_6816df584cd049f5a8f8b8aa3f41fa52",
            "max": 376,
            "min": 0,
            "orientation": "horizontal",
            "style": "IPY_MODEL_b27b555f551b4333b9be6f97d6bb42dc",
            "value": 376
          }
        },
        "73c62ad2025c4be0aad972e1b55cff7e": {
          "model_module": "@jupyter-widgets/controls",
          "model_name": "HTMLModel",
          "model_module_version": "1.5.0",
          "state": {
            "_dom_classes": [],
            "_model_module": "@jupyter-widgets/controls",
            "_model_module_version": "1.5.0",
            "_model_name": "HTMLModel",
            "_view_count": null,
            "_view_module": "@jupyter-widgets/controls",
            "_view_module_version": "1.5.0",
            "_view_name": "HTMLView",
            "description": "",
            "description_tooltip": null,
            "layout": "IPY_MODEL_22f10f87420248a0a6db6e142b131250",
            "placeholder": "​",
            "style": "IPY_MODEL_a6ceba187c7b4a8bb9a67ad7359c29c5",
            "value": " 376/376 [00:00&lt;00:00, 8.99kB/s]"
          }
        },
        "d7845c9dbf264503af79a89e58fb4fa5": {
          "model_module": "@jupyter-widgets/base",
          "model_name": "LayoutModel",
          "model_module_version": "1.2.0",
          "state": {
            "_model_module": "@jupyter-widgets/base",
            "_model_module_version": "1.2.0",
            "_model_name": "LayoutModel",
            "_view_count": null,
            "_view_module": "@jupyter-widgets/base",
            "_view_module_version": "1.2.0",
            "_view_name": "LayoutView",
            "align_content": null,
            "align_items": null,
            "align_self": null,
            "border": null,
            "bottom": null,
            "display": null,
            "flex": null,
            "flex_flow": null,
            "grid_area": null,
            "grid_auto_columns": null,
            "grid_auto_flow": null,
            "grid_auto_rows": null,
            "grid_column": null,
            "grid_gap": null,
            "grid_row": null,
            "grid_template_areas": null,
            "grid_template_columns": null,
            "grid_template_rows": null,
            "height": null,
            "justify_content": null,
            "justify_items": null,
            "left": null,
            "margin": null,
            "max_height": null,
            "max_width": null,
            "min_height": null,
            "min_width": null,
            "object_fit": null,
            "object_position": null,
            "order": null,
            "overflow": null,
            "overflow_x": null,
            "overflow_y": null,
            "padding": null,
            "right": null,
            "top": null,
            "visibility": null,
            "width": null
          }
        },
        "ff305b933cdd4b08a3231f916b6ffa14": {
          "model_module": "@jupyter-widgets/base",
          "model_name": "LayoutModel",
          "model_module_version": "1.2.0",
          "state": {
            "_model_module": "@jupyter-widgets/base",
            "_model_module_version": "1.2.0",
            "_model_name": "LayoutModel",
            "_view_count": null,
            "_view_module": "@jupyter-widgets/base",
            "_view_module_version": "1.2.0",
            "_view_name": "LayoutView",
            "align_content": null,
            "align_items": null,
            "align_self": null,
            "border": null,
            "bottom": null,
            "display": null,
            "flex": null,
            "flex_flow": null,
            "grid_area": null,
            "grid_auto_columns": null,
            "grid_auto_flow": null,
            "grid_auto_rows": null,
            "grid_column": null,
            "grid_gap": null,
            "grid_row": null,
            "grid_template_areas": null,
            "grid_template_columns": null,
            "grid_template_rows": null,
            "height": null,
            "justify_content": null,
            "justify_items": null,
            "left": null,
            "margin": null,
            "max_height": null,
            "max_width": null,
            "min_height": null,
            "min_width": null,
            "object_fit": null,
            "object_position": null,
            "order": null,
            "overflow": null,
            "overflow_x": null,
            "overflow_y": null,
            "padding": null,
            "right": null,
            "top": null,
            "visibility": null,
            "width": null
          }
        },
        "2690d77e10e54becadb56f8e4ea8869a": {
          "model_module": "@jupyter-widgets/controls",
          "model_name": "DescriptionStyleModel",
          "model_module_version": "1.5.0",
          "state": {
            "_model_module": "@jupyter-widgets/controls",
            "_model_module_version": "1.5.0",
            "_model_name": "DescriptionStyleModel",
            "_view_count": null,
            "_view_module": "@jupyter-widgets/base",
            "_view_module_version": "1.2.0",
            "_view_name": "StyleView",
            "description_width": ""
          }
        },
        "6816df584cd049f5a8f8b8aa3f41fa52": {
          "model_module": "@jupyter-widgets/base",
          "model_name": "LayoutModel",
          "model_module_version": "1.2.0",
          "state": {
            "_model_module": "@jupyter-widgets/base",
            "_model_module_version": "1.2.0",
            "_model_name": "LayoutModel",
            "_view_count": null,
            "_view_module": "@jupyter-widgets/base",
            "_view_module_version": "1.2.0",
            "_view_name": "LayoutView",
            "align_content": null,
            "align_items": null,
            "align_self": null,
            "border": null,
            "bottom": null,
            "display": null,
            "flex": null,
            "flex_flow": null,
            "grid_area": null,
            "grid_auto_columns": null,
            "grid_auto_flow": null,
            "grid_auto_rows": null,
            "grid_column": null,
            "grid_gap": null,
            "grid_row": null,
            "grid_template_areas": null,
            "grid_template_columns": null,
            "grid_template_rows": null,
            "height": null,
            "justify_content": null,
            "justify_items": null,
            "left": null,
            "margin": null,
            "max_height": null,
            "max_width": null,
            "min_height": null,
            "min_width": null,
            "object_fit": null,
            "object_position": null,
            "order": null,
            "overflow": null,
            "overflow_x": null,
            "overflow_y": null,
            "padding": null,
            "right": null,
            "top": null,
            "visibility": null,
            "width": null
          }
        },
        "b27b555f551b4333b9be6f97d6bb42dc": {
          "model_module": "@jupyter-widgets/controls",
          "model_name": "ProgressStyleModel",
          "model_module_version": "1.5.0",
          "state": {
            "_model_module": "@jupyter-widgets/controls",
            "_model_module_version": "1.5.0",
            "_model_name": "ProgressStyleModel",
            "_view_count": null,
            "_view_module": "@jupyter-widgets/base",
            "_view_module_version": "1.2.0",
            "_view_name": "StyleView",
            "bar_color": null,
            "description_width": ""
          }
        },
        "22f10f87420248a0a6db6e142b131250": {
          "model_module": "@jupyter-widgets/base",
          "model_name": "LayoutModel",
          "model_module_version": "1.2.0",
          "state": {
            "_model_module": "@jupyter-widgets/base",
            "_model_module_version": "1.2.0",
            "_model_name": "LayoutModel",
            "_view_count": null,
            "_view_module": "@jupyter-widgets/base",
            "_view_module_version": "1.2.0",
            "_view_name": "LayoutView",
            "align_content": null,
            "align_items": null,
            "align_self": null,
            "border": null,
            "bottom": null,
            "display": null,
            "flex": null,
            "flex_flow": null,
            "grid_area": null,
            "grid_auto_columns": null,
            "grid_auto_flow": null,
            "grid_auto_rows": null,
            "grid_column": null,
            "grid_gap": null,
            "grid_row": null,
            "grid_template_areas": null,
            "grid_template_columns": null,
            "grid_template_rows": null,
            "height": null,
            "justify_content": null,
            "justify_items": null,
            "left": null,
            "margin": null,
            "max_height": null,
            "max_width": null,
            "min_height": null,
            "min_width": null,
            "object_fit": null,
            "object_position": null,
            "order": null,
            "overflow": null,
            "overflow_x": null,
            "overflow_y": null,
            "padding": null,
            "right": null,
            "top": null,
            "visibility": null,
            "width": null
          }
        },
        "a6ceba187c7b4a8bb9a67ad7359c29c5": {
          "model_module": "@jupyter-widgets/controls",
          "model_name": "DescriptionStyleModel",
          "model_module_version": "1.5.0",
          "state": {
            "_model_module": "@jupyter-widgets/controls",
            "_model_module_version": "1.5.0",
            "_model_name": "DescriptionStyleModel",
            "_view_count": null,
            "_view_module": "@jupyter-widgets/base",
            "_view_module_version": "1.2.0",
            "_view_name": "StyleView",
            "description_width": ""
          }
        },
        "ad1d306ea4a040f79fb2053464dca278": {
          "model_module": "@jupyter-widgets/controls",
          "model_name": "HBoxModel",
          "model_module_version": "1.5.0",
          "state": {
            "_dom_classes": [],
            "_model_module": "@jupyter-widgets/controls",
            "_model_module_version": "1.5.0",
            "_model_name": "HBoxModel",
            "_view_count": null,
            "_view_module": "@jupyter-widgets/controls",
            "_view_module_version": "1.5.0",
            "_view_name": "HBoxView",
            "box_style": "",
            "children": [
              "IPY_MODEL_7a52bf4f737046bab57a777c294addb9",
              "IPY_MODEL_492c49b041954832bb5596ee261232cf",
              "IPY_MODEL_2cea431fb5b8417a8e63fec13252b8b4"
            ],
            "layout": "IPY_MODEL_3670c661dbe042879fb6457582e9d010"
          }
        },
        "7a52bf4f737046bab57a777c294addb9": {
          "model_module": "@jupyter-widgets/controls",
          "model_name": "HTMLModel",
          "model_module_version": "1.5.0",
          "state": {
            "_dom_classes": [],
            "_model_module": "@jupyter-widgets/controls",
            "_model_module_version": "1.5.0",
            "_model_name": "HTMLModel",
            "_view_count": null,
            "_view_module": "@jupyter-widgets/controls",
            "_view_module_version": "1.5.0",
            "_view_name": "HTMLView",
            "description": "",
            "description_tooltip": null,
            "layout": "IPY_MODEL_e50e6bcf6f964c98b934872a1537f847",
            "placeholder": "​",
            "style": "IPY_MODEL_48f900f5019e40729d2e861a5a8df66f",
            "value": "Downloading (…)lve/main/config.json: 100%"
          }
        },
        "492c49b041954832bb5596ee261232cf": {
          "model_module": "@jupyter-widgets/controls",
          "model_name": "FloatProgressModel",
          "model_module_version": "1.5.0",
          "state": {
            "_dom_classes": [],
            "_model_module": "@jupyter-widgets/controls",
            "_model_module_version": "1.5.0",
            "_model_name": "FloatProgressModel",
            "_view_count": null,
            "_view_module": "@jupyter-widgets/controls",
            "_view_module_version": "1.5.0",
            "_view_name": "ProgressView",
            "bar_style": "success",
            "description": "",
            "description_tooltip": null,
            "layout": "IPY_MODEL_047f26ec51384de0a74927dffa3bc801",
            "max": 701,
            "min": 0,
            "orientation": "horizontal",
            "style": "IPY_MODEL_16c9ec9fc82242cb83c3e4a2d9454b32",
            "value": 701
          }
        },
        "2cea431fb5b8417a8e63fec13252b8b4": {
          "model_module": "@jupyter-widgets/controls",
          "model_name": "HTMLModel",
          "model_module_version": "1.5.0",
          "state": {
            "_dom_classes": [],
            "_model_module": "@jupyter-widgets/controls",
            "_model_module_version": "1.5.0",
            "_model_name": "HTMLModel",
            "_view_count": null,
            "_view_module": "@jupyter-widgets/controls",
            "_view_module_version": "1.5.0",
            "_view_name": "HTMLView",
            "description": "",
            "description_tooltip": null,
            "layout": "IPY_MODEL_7e7c8591d9ff4c9aa290dea74c481c9d",
            "placeholder": "​",
            "style": "IPY_MODEL_900d872478ee4904ad84e027bc2ea1fa",
            "value": " 701/701 [00:00&lt;00:00, 18.2kB/s]"
          }
        },
        "3670c661dbe042879fb6457582e9d010": {
          "model_module": "@jupyter-widgets/base",
          "model_name": "LayoutModel",
          "model_module_version": "1.2.0",
          "state": {
            "_model_module": "@jupyter-widgets/base",
            "_model_module_version": "1.2.0",
            "_model_name": "LayoutModel",
            "_view_count": null,
            "_view_module": "@jupyter-widgets/base",
            "_view_module_version": "1.2.0",
            "_view_name": "LayoutView",
            "align_content": null,
            "align_items": null,
            "align_self": null,
            "border": null,
            "bottom": null,
            "display": null,
            "flex": null,
            "flex_flow": null,
            "grid_area": null,
            "grid_auto_columns": null,
            "grid_auto_flow": null,
            "grid_auto_rows": null,
            "grid_column": null,
            "grid_gap": null,
            "grid_row": null,
            "grid_template_areas": null,
            "grid_template_columns": null,
            "grid_template_rows": null,
            "height": null,
            "justify_content": null,
            "justify_items": null,
            "left": null,
            "margin": null,
            "max_height": null,
            "max_width": null,
            "min_height": null,
            "min_width": null,
            "object_fit": null,
            "object_position": null,
            "order": null,
            "overflow": null,
            "overflow_x": null,
            "overflow_y": null,
            "padding": null,
            "right": null,
            "top": null,
            "visibility": null,
            "width": null
          }
        },
        "e50e6bcf6f964c98b934872a1537f847": {
          "model_module": "@jupyter-widgets/base",
          "model_name": "LayoutModel",
          "model_module_version": "1.2.0",
          "state": {
            "_model_module": "@jupyter-widgets/base",
            "_model_module_version": "1.2.0",
            "_model_name": "LayoutModel",
            "_view_count": null,
            "_view_module": "@jupyter-widgets/base",
            "_view_module_version": "1.2.0",
            "_view_name": "LayoutView",
            "align_content": null,
            "align_items": null,
            "align_self": null,
            "border": null,
            "bottom": null,
            "display": null,
            "flex": null,
            "flex_flow": null,
            "grid_area": null,
            "grid_auto_columns": null,
            "grid_auto_flow": null,
            "grid_auto_rows": null,
            "grid_column": null,
            "grid_gap": null,
            "grid_row": null,
            "grid_template_areas": null,
            "grid_template_columns": null,
            "grid_template_rows": null,
            "height": null,
            "justify_content": null,
            "justify_items": null,
            "left": null,
            "margin": null,
            "max_height": null,
            "max_width": null,
            "min_height": null,
            "min_width": null,
            "object_fit": null,
            "object_position": null,
            "order": null,
            "overflow": null,
            "overflow_x": null,
            "overflow_y": null,
            "padding": null,
            "right": null,
            "top": null,
            "visibility": null,
            "width": null
          }
        },
        "48f900f5019e40729d2e861a5a8df66f": {
          "model_module": "@jupyter-widgets/controls",
          "model_name": "DescriptionStyleModel",
          "model_module_version": "1.5.0",
          "state": {
            "_model_module": "@jupyter-widgets/controls",
            "_model_module_version": "1.5.0",
            "_model_name": "DescriptionStyleModel",
            "_view_count": null,
            "_view_module": "@jupyter-widgets/base",
            "_view_module_version": "1.2.0",
            "_view_name": "StyleView",
            "description_width": ""
          }
        },
        "047f26ec51384de0a74927dffa3bc801": {
          "model_module": "@jupyter-widgets/base",
          "model_name": "LayoutModel",
          "model_module_version": "1.2.0",
          "state": {
            "_model_module": "@jupyter-widgets/base",
            "_model_module_version": "1.2.0",
            "_model_name": "LayoutModel",
            "_view_count": null,
            "_view_module": "@jupyter-widgets/base",
            "_view_module_version": "1.2.0",
            "_view_name": "LayoutView",
            "align_content": null,
            "align_items": null,
            "align_self": null,
            "border": null,
            "bottom": null,
            "display": null,
            "flex": null,
            "flex_flow": null,
            "grid_area": null,
            "grid_auto_columns": null,
            "grid_auto_flow": null,
            "grid_auto_rows": null,
            "grid_column": null,
            "grid_gap": null,
            "grid_row": null,
            "grid_template_areas": null,
            "grid_template_columns": null,
            "grid_template_rows": null,
            "height": null,
            "justify_content": null,
            "justify_items": null,
            "left": null,
            "margin": null,
            "max_height": null,
            "max_width": null,
            "min_height": null,
            "min_width": null,
            "object_fit": null,
            "object_position": null,
            "order": null,
            "overflow": null,
            "overflow_x": null,
            "overflow_y": null,
            "padding": null,
            "right": null,
            "top": null,
            "visibility": null,
            "width": null
          }
        },
        "16c9ec9fc82242cb83c3e4a2d9454b32": {
          "model_module": "@jupyter-widgets/controls",
          "model_name": "ProgressStyleModel",
          "model_module_version": "1.5.0",
          "state": {
            "_model_module": "@jupyter-widgets/controls",
            "_model_module_version": "1.5.0",
            "_model_name": "ProgressStyleModel",
            "_view_count": null,
            "_view_module": "@jupyter-widgets/base",
            "_view_module_version": "1.2.0",
            "_view_name": "StyleView",
            "bar_color": null,
            "description_width": ""
          }
        },
        "7e7c8591d9ff4c9aa290dea74c481c9d": {
          "model_module": "@jupyter-widgets/base",
          "model_name": "LayoutModel",
          "model_module_version": "1.2.0",
          "state": {
            "_model_module": "@jupyter-widgets/base",
            "_model_module_version": "1.2.0",
            "_model_name": "LayoutModel",
            "_view_count": null,
            "_view_module": "@jupyter-widgets/base",
            "_view_module_version": "1.2.0",
            "_view_name": "LayoutView",
            "align_content": null,
            "align_items": null,
            "align_self": null,
            "border": null,
            "bottom": null,
            "display": null,
            "flex": null,
            "flex_flow": null,
            "grid_area": null,
            "grid_auto_columns": null,
            "grid_auto_flow": null,
            "grid_auto_rows": null,
            "grid_column": null,
            "grid_gap": null,
            "grid_row": null,
            "grid_template_areas": null,
            "grid_template_columns": null,
            "grid_template_rows": null,
            "height": null,
            "justify_content": null,
            "justify_items": null,
            "left": null,
            "margin": null,
            "max_height": null,
            "max_width": null,
            "min_height": null,
            "min_width": null,
            "object_fit": null,
            "object_position": null,
            "order": null,
            "overflow": null,
            "overflow_x": null,
            "overflow_y": null,
            "padding": null,
            "right": null,
            "top": null,
            "visibility": null,
            "width": null
          }
        },
        "900d872478ee4904ad84e027bc2ea1fa": {
          "model_module": "@jupyter-widgets/controls",
          "model_name": "DescriptionStyleModel",
          "model_module_version": "1.5.0",
          "state": {
            "_model_module": "@jupyter-widgets/controls",
            "_model_module_version": "1.5.0",
            "_model_name": "DescriptionStyleModel",
            "_view_count": null,
            "_view_module": "@jupyter-widgets/base",
            "_view_module_version": "1.2.0",
            "_view_name": "StyleView",
            "description_width": ""
          }
        },
        "7e882115bce84a758ee59317c56ccf99": {
          "model_module": "@jupyter-widgets/controls",
          "model_name": "HBoxModel",
          "model_module_version": "1.5.0",
          "state": {
            "_dom_classes": [],
            "_model_module": "@jupyter-widgets/controls",
            "_model_module_version": "1.5.0",
            "_model_name": "HBoxModel",
            "_view_count": null,
            "_view_module": "@jupyter-widgets/controls",
            "_view_module_version": "1.5.0",
            "_view_name": "HBoxView",
            "box_style": "",
            "children": [
              "IPY_MODEL_61518d3ede584fdda3eb81910d9630f4",
              "IPY_MODEL_c7ca907e8b82421f8fc71ff336d20ebf",
              "IPY_MODEL_1b03872681ad418d9670aabdb909bf51"
            ],
            "layout": "IPY_MODEL_5bf6acbd0dac4ad6966f3b3cb0e37e55"
          }
        },
        "61518d3ede584fdda3eb81910d9630f4": {
          "model_module": "@jupyter-widgets/controls",
          "model_name": "HTMLModel",
          "model_module_version": "1.5.0",
          "state": {
            "_dom_classes": [],
            "_model_module": "@jupyter-widgets/controls",
            "_model_module_version": "1.5.0",
            "_model_name": "HTMLModel",
            "_view_count": null,
            "_view_module": "@jupyter-widgets/controls",
            "_view_module_version": "1.5.0",
            "_view_name": "HTMLView",
            "description": "",
            "description_tooltip": null,
            "layout": "IPY_MODEL_18c16496eb854f59a77b6fc7c6e33733",
            "placeholder": "​",
            "style": "IPY_MODEL_5954d4da76fb42c4b9b0feaffa6e8d01",
            "value": "Downloading (…)solve/main/vocab.txt: 100%"
          }
        },
        "c7ca907e8b82421f8fc71ff336d20ebf": {
          "model_module": "@jupyter-widgets/controls",
          "model_name": "FloatProgressModel",
          "model_module_version": "1.5.0",
          "state": {
            "_dom_classes": [],
            "_model_module": "@jupyter-widgets/controls",
            "_model_module_version": "1.5.0",
            "_model_name": "FloatProgressModel",
            "_view_count": null,
            "_view_module": "@jupyter-widgets/controls",
            "_view_module_version": "1.5.0",
            "_view_name": "ProgressView",
            "bar_style": "success",
            "description": "",
            "description_tooltip": null,
            "layout": "IPY_MODEL_2c81f8ba219c4edc8916c6e6989be829",
            "max": 1099714,
            "min": 0,
            "orientation": "horizontal",
            "style": "IPY_MODEL_4f49656a824b4351a8cdf9f056a9febb",
            "value": 1099714
          }
        },
        "1b03872681ad418d9670aabdb909bf51": {
          "model_module": "@jupyter-widgets/controls",
          "model_name": "HTMLModel",
          "model_module_version": "1.5.0",
          "state": {
            "_dom_classes": [],
            "_model_module": "@jupyter-widgets/controls",
            "_model_module_version": "1.5.0",
            "_model_name": "HTMLModel",
            "_view_count": null,
            "_view_module": "@jupyter-widgets/controls",
            "_view_module_version": "1.5.0",
            "_view_name": "HTMLView",
            "description": "",
            "description_tooltip": null,
            "layout": "IPY_MODEL_6ebafa65c3834a7097dfa199034d8746",
            "placeholder": "​",
            "style": "IPY_MODEL_f4e71724de8440ef8e2ea483eee57d55",
            "value": " 1.10M/1.10M [00:00&lt;00:00, 2.25MB/s]"
          }
        },
        "5bf6acbd0dac4ad6966f3b3cb0e37e55": {
          "model_module": "@jupyter-widgets/base",
          "model_name": "LayoutModel",
          "model_module_version": "1.2.0",
          "state": {
            "_model_module": "@jupyter-widgets/base",
            "_model_module_version": "1.2.0",
            "_model_name": "LayoutModel",
            "_view_count": null,
            "_view_module": "@jupyter-widgets/base",
            "_view_module_version": "1.2.0",
            "_view_name": "LayoutView",
            "align_content": null,
            "align_items": null,
            "align_self": null,
            "border": null,
            "bottom": null,
            "display": null,
            "flex": null,
            "flex_flow": null,
            "grid_area": null,
            "grid_auto_columns": null,
            "grid_auto_flow": null,
            "grid_auto_rows": null,
            "grid_column": null,
            "grid_gap": null,
            "grid_row": null,
            "grid_template_areas": null,
            "grid_template_columns": null,
            "grid_template_rows": null,
            "height": null,
            "justify_content": null,
            "justify_items": null,
            "left": null,
            "margin": null,
            "max_height": null,
            "max_width": null,
            "min_height": null,
            "min_width": null,
            "object_fit": null,
            "object_position": null,
            "order": null,
            "overflow": null,
            "overflow_x": null,
            "overflow_y": null,
            "padding": null,
            "right": null,
            "top": null,
            "visibility": null,
            "width": null
          }
        },
        "18c16496eb854f59a77b6fc7c6e33733": {
          "model_module": "@jupyter-widgets/base",
          "model_name": "LayoutModel",
          "model_module_version": "1.2.0",
          "state": {
            "_model_module": "@jupyter-widgets/base",
            "_model_module_version": "1.2.0",
            "_model_name": "LayoutModel",
            "_view_count": null,
            "_view_module": "@jupyter-widgets/base",
            "_view_module_version": "1.2.0",
            "_view_name": "LayoutView",
            "align_content": null,
            "align_items": null,
            "align_self": null,
            "border": null,
            "bottom": null,
            "display": null,
            "flex": null,
            "flex_flow": null,
            "grid_area": null,
            "grid_auto_columns": null,
            "grid_auto_flow": null,
            "grid_auto_rows": null,
            "grid_column": null,
            "grid_gap": null,
            "grid_row": null,
            "grid_template_areas": null,
            "grid_template_columns": null,
            "grid_template_rows": null,
            "height": null,
            "justify_content": null,
            "justify_items": null,
            "left": null,
            "margin": null,
            "max_height": null,
            "max_width": null,
            "min_height": null,
            "min_width": null,
            "object_fit": null,
            "object_position": null,
            "order": null,
            "overflow": null,
            "overflow_x": null,
            "overflow_y": null,
            "padding": null,
            "right": null,
            "top": null,
            "visibility": null,
            "width": null
          }
        },
        "5954d4da76fb42c4b9b0feaffa6e8d01": {
          "model_module": "@jupyter-widgets/controls",
          "model_name": "DescriptionStyleModel",
          "model_module_version": "1.5.0",
          "state": {
            "_model_module": "@jupyter-widgets/controls",
            "_model_module_version": "1.5.0",
            "_model_name": "DescriptionStyleModel",
            "_view_count": null,
            "_view_module": "@jupyter-widgets/base",
            "_view_module_version": "1.2.0",
            "_view_name": "StyleView",
            "description_width": ""
          }
        },
        "2c81f8ba219c4edc8916c6e6989be829": {
          "model_module": "@jupyter-widgets/base",
          "model_name": "LayoutModel",
          "model_module_version": "1.2.0",
          "state": {
            "_model_module": "@jupyter-widgets/base",
            "_model_module_version": "1.2.0",
            "_model_name": "LayoutModel",
            "_view_count": null,
            "_view_module": "@jupyter-widgets/base",
            "_view_module_version": "1.2.0",
            "_view_name": "LayoutView",
            "align_content": null,
            "align_items": null,
            "align_self": null,
            "border": null,
            "bottom": null,
            "display": null,
            "flex": null,
            "flex_flow": null,
            "grid_area": null,
            "grid_auto_columns": null,
            "grid_auto_flow": null,
            "grid_auto_rows": null,
            "grid_column": null,
            "grid_gap": null,
            "grid_row": null,
            "grid_template_areas": null,
            "grid_template_columns": null,
            "grid_template_rows": null,
            "height": null,
            "justify_content": null,
            "justify_items": null,
            "left": null,
            "margin": null,
            "max_height": null,
            "max_width": null,
            "min_height": null,
            "min_width": null,
            "object_fit": null,
            "object_position": null,
            "order": null,
            "overflow": null,
            "overflow_x": null,
            "overflow_y": null,
            "padding": null,
            "right": null,
            "top": null,
            "visibility": null,
            "width": null
          }
        },
        "4f49656a824b4351a8cdf9f056a9febb": {
          "model_module": "@jupyter-widgets/controls",
          "model_name": "ProgressStyleModel",
          "model_module_version": "1.5.0",
          "state": {
            "_model_module": "@jupyter-widgets/controls",
            "_model_module_version": "1.5.0",
            "_model_name": "ProgressStyleModel",
            "_view_count": null,
            "_view_module": "@jupyter-widgets/base",
            "_view_module_version": "1.2.0",
            "_view_name": "StyleView",
            "bar_color": null,
            "description_width": ""
          }
        },
        "6ebafa65c3834a7097dfa199034d8746": {
          "model_module": "@jupyter-widgets/base",
          "model_name": "LayoutModel",
          "model_module_version": "1.2.0",
          "state": {
            "_model_module": "@jupyter-widgets/base",
            "_model_module_version": "1.2.0",
            "_model_name": "LayoutModel",
            "_view_count": null,
            "_view_module": "@jupyter-widgets/base",
            "_view_module_version": "1.2.0",
            "_view_name": "LayoutView",
            "align_content": null,
            "align_items": null,
            "align_self": null,
            "border": null,
            "bottom": null,
            "display": null,
            "flex": null,
            "flex_flow": null,
            "grid_area": null,
            "grid_auto_columns": null,
            "grid_auto_flow": null,
            "grid_auto_rows": null,
            "grid_column": null,
            "grid_gap": null,
            "grid_row": null,
            "grid_template_areas": null,
            "grid_template_columns": null,
            "grid_template_rows": null,
            "height": null,
            "justify_content": null,
            "justify_items": null,
            "left": null,
            "margin": null,
            "max_height": null,
            "max_width": null,
            "min_height": null,
            "min_width": null,
            "object_fit": null,
            "object_position": null,
            "order": null,
            "overflow": null,
            "overflow_x": null,
            "overflow_y": null,
            "padding": null,
            "right": null,
            "top": null,
            "visibility": null,
            "width": null
          }
        },
        "f4e71724de8440ef8e2ea483eee57d55": {
          "model_module": "@jupyter-widgets/controls",
          "model_name": "DescriptionStyleModel",
          "model_module_version": "1.5.0",
          "state": {
            "_model_module": "@jupyter-widgets/controls",
            "_model_module_version": "1.5.0",
            "_model_name": "DescriptionStyleModel",
            "_view_count": null,
            "_view_module": "@jupyter-widgets/base",
            "_view_module_version": "1.2.0",
            "_view_name": "StyleView",
            "description_width": ""
          }
        },
        "5de8839b9a784e208c6ffd2a4e47d911": {
          "model_module": "@jupyter-widgets/controls",
          "model_name": "HBoxModel",
          "model_module_version": "1.5.0",
          "state": {
            "_dom_classes": [],
            "_model_module": "@jupyter-widgets/controls",
            "_model_module_version": "1.5.0",
            "_model_name": "HBoxModel",
            "_view_count": null,
            "_view_module": "@jupyter-widgets/controls",
            "_view_module_version": "1.5.0",
            "_view_name": "HBoxView",
            "box_style": "",
            "children": [
              "IPY_MODEL_a2c8f7c9885b4f5eacfba04063a8cd74",
              "IPY_MODEL_9a572a5023be41868763fa2bf2b09c90",
              "IPY_MODEL_55bc45eff7ba46829b52fec4972a6421"
            ],
            "layout": "IPY_MODEL_e28827979d0d4b2892b922fd4f6dbfba"
          }
        },
        "a2c8f7c9885b4f5eacfba04063a8cd74": {
          "model_module": "@jupyter-widgets/controls",
          "model_name": "HTMLModel",
          "model_module_version": "1.5.0",
          "state": {
            "_dom_classes": [],
            "_model_module": "@jupyter-widgets/controls",
            "_model_module_version": "1.5.0",
            "_model_name": "HTMLModel",
            "_view_count": null,
            "_view_module": "@jupyter-widgets/controls",
            "_view_module_version": "1.5.0",
            "_view_name": "HTMLView",
            "description": "",
            "description_tooltip": null,
            "layout": "IPY_MODEL_826300df91ba4177b2a889833685a4c0",
            "placeholder": "​",
            "style": "IPY_MODEL_f2f295c8a8424775ac12fa40fe3034d9",
            "value": "Downloading (…)cial_tokens_map.json: 100%"
          }
        },
        "9a572a5023be41868763fa2bf2b09c90": {
          "model_module": "@jupyter-widgets/controls",
          "model_name": "FloatProgressModel",
          "model_module_version": "1.5.0",
          "state": {
            "_dom_classes": [],
            "_model_module": "@jupyter-widgets/controls",
            "_model_module_version": "1.5.0",
            "_model_name": "FloatProgressModel",
            "_view_count": null,
            "_view_module": "@jupyter-widgets/controls",
            "_view_module_version": "1.5.0",
            "_view_name": "ProgressView",
            "bar_style": "success",
            "description": "",
            "description_tooltip": null,
            "layout": "IPY_MODEL_cb5c38f1e5124dffa3a28ee92a22f310",
            "max": 112,
            "min": 0,
            "orientation": "horizontal",
            "style": "IPY_MODEL_36c5b883a9064e3787b16c5020d666e9",
            "value": 112
          }
        },
        "55bc45eff7ba46829b52fec4972a6421": {
          "model_module": "@jupyter-widgets/controls",
          "model_name": "HTMLModel",
          "model_module_version": "1.5.0",
          "state": {
            "_dom_classes": [],
            "_model_module": "@jupyter-widgets/controls",
            "_model_module_version": "1.5.0",
            "_model_name": "HTMLModel",
            "_view_count": null,
            "_view_module": "@jupyter-widgets/controls",
            "_view_module_version": "1.5.0",
            "_view_name": "HTMLView",
            "description": "",
            "description_tooltip": null,
            "layout": "IPY_MODEL_9aa4edc7c3a442129d9d170db433f5dd",
            "placeholder": "​",
            "style": "IPY_MODEL_980b567b47414182a3b922d14e1006f9",
            "value": " 112/112 [00:00&lt;00:00, 1.61kB/s]"
          }
        },
        "e28827979d0d4b2892b922fd4f6dbfba": {
          "model_module": "@jupyter-widgets/base",
          "model_name": "LayoutModel",
          "model_module_version": "1.2.0",
          "state": {
            "_model_module": "@jupyter-widgets/base",
            "_model_module_version": "1.2.0",
            "_model_name": "LayoutModel",
            "_view_count": null,
            "_view_module": "@jupyter-widgets/base",
            "_view_module_version": "1.2.0",
            "_view_name": "LayoutView",
            "align_content": null,
            "align_items": null,
            "align_self": null,
            "border": null,
            "bottom": null,
            "display": null,
            "flex": null,
            "flex_flow": null,
            "grid_area": null,
            "grid_auto_columns": null,
            "grid_auto_flow": null,
            "grid_auto_rows": null,
            "grid_column": null,
            "grid_gap": null,
            "grid_row": null,
            "grid_template_areas": null,
            "grid_template_columns": null,
            "grid_template_rows": null,
            "height": null,
            "justify_content": null,
            "justify_items": null,
            "left": null,
            "margin": null,
            "max_height": null,
            "max_width": null,
            "min_height": null,
            "min_width": null,
            "object_fit": null,
            "object_position": null,
            "order": null,
            "overflow": null,
            "overflow_x": null,
            "overflow_y": null,
            "padding": null,
            "right": null,
            "top": null,
            "visibility": null,
            "width": null
          }
        },
        "826300df91ba4177b2a889833685a4c0": {
          "model_module": "@jupyter-widgets/base",
          "model_name": "LayoutModel",
          "model_module_version": "1.2.0",
          "state": {
            "_model_module": "@jupyter-widgets/base",
            "_model_module_version": "1.2.0",
            "_model_name": "LayoutModel",
            "_view_count": null,
            "_view_module": "@jupyter-widgets/base",
            "_view_module_version": "1.2.0",
            "_view_name": "LayoutView",
            "align_content": null,
            "align_items": null,
            "align_self": null,
            "border": null,
            "bottom": null,
            "display": null,
            "flex": null,
            "flex_flow": null,
            "grid_area": null,
            "grid_auto_columns": null,
            "grid_auto_flow": null,
            "grid_auto_rows": null,
            "grid_column": null,
            "grid_gap": null,
            "grid_row": null,
            "grid_template_areas": null,
            "grid_template_columns": null,
            "grid_template_rows": null,
            "height": null,
            "justify_content": null,
            "justify_items": null,
            "left": null,
            "margin": null,
            "max_height": null,
            "max_width": null,
            "min_height": null,
            "min_width": null,
            "object_fit": null,
            "object_position": null,
            "order": null,
            "overflow": null,
            "overflow_x": null,
            "overflow_y": null,
            "padding": null,
            "right": null,
            "top": null,
            "visibility": null,
            "width": null
          }
        },
        "f2f295c8a8424775ac12fa40fe3034d9": {
          "model_module": "@jupyter-widgets/controls",
          "model_name": "DescriptionStyleModel",
          "model_module_version": "1.5.0",
          "state": {
            "_model_module": "@jupyter-widgets/controls",
            "_model_module_version": "1.5.0",
            "_model_name": "DescriptionStyleModel",
            "_view_count": null,
            "_view_module": "@jupyter-widgets/base",
            "_view_module_version": "1.2.0",
            "_view_name": "StyleView",
            "description_width": ""
          }
        },
        "cb5c38f1e5124dffa3a28ee92a22f310": {
          "model_module": "@jupyter-widgets/base",
          "model_name": "LayoutModel",
          "model_module_version": "1.2.0",
          "state": {
            "_model_module": "@jupyter-widgets/base",
            "_model_module_version": "1.2.0",
            "_model_name": "LayoutModel",
            "_view_count": null,
            "_view_module": "@jupyter-widgets/base",
            "_view_module_version": "1.2.0",
            "_view_name": "LayoutView",
            "align_content": null,
            "align_items": null,
            "align_self": null,
            "border": null,
            "bottom": null,
            "display": null,
            "flex": null,
            "flex_flow": null,
            "grid_area": null,
            "grid_auto_columns": null,
            "grid_auto_flow": null,
            "grid_auto_rows": null,
            "grid_column": null,
            "grid_gap": null,
            "grid_row": null,
            "grid_template_areas": null,
            "grid_template_columns": null,
            "grid_template_rows": null,
            "height": null,
            "justify_content": null,
            "justify_items": null,
            "left": null,
            "margin": null,
            "max_height": null,
            "max_width": null,
            "min_height": null,
            "min_width": null,
            "object_fit": null,
            "object_position": null,
            "order": null,
            "overflow": null,
            "overflow_x": null,
            "overflow_y": null,
            "padding": null,
            "right": null,
            "top": null,
            "visibility": null,
            "width": null
          }
        },
        "36c5b883a9064e3787b16c5020d666e9": {
          "model_module": "@jupyter-widgets/controls",
          "model_name": "ProgressStyleModel",
          "model_module_version": "1.5.0",
          "state": {
            "_model_module": "@jupyter-widgets/controls",
            "_model_module_version": "1.5.0",
            "_model_name": "ProgressStyleModel",
            "_view_count": null,
            "_view_module": "@jupyter-widgets/base",
            "_view_module_version": "1.2.0",
            "_view_name": "StyleView",
            "bar_color": null,
            "description_width": ""
          }
        },
        "9aa4edc7c3a442129d9d170db433f5dd": {
          "model_module": "@jupyter-widgets/base",
          "model_name": "LayoutModel",
          "model_module_version": "1.2.0",
          "state": {
            "_model_module": "@jupyter-widgets/base",
            "_model_module_version": "1.2.0",
            "_model_name": "LayoutModel",
            "_view_count": null,
            "_view_module": "@jupyter-widgets/base",
            "_view_module_version": "1.2.0",
            "_view_name": "LayoutView",
            "align_content": null,
            "align_items": null,
            "align_self": null,
            "border": null,
            "bottom": null,
            "display": null,
            "flex": null,
            "flex_flow": null,
            "grid_area": null,
            "grid_auto_columns": null,
            "grid_auto_flow": null,
            "grid_auto_rows": null,
            "grid_column": null,
            "grid_gap": null,
            "grid_row": null,
            "grid_template_areas": null,
            "grid_template_columns": null,
            "grid_template_rows": null,
            "height": null,
            "justify_content": null,
            "justify_items": null,
            "left": null,
            "margin": null,
            "max_height": null,
            "max_width": null,
            "min_height": null,
            "min_width": null,
            "object_fit": null,
            "object_position": null,
            "order": null,
            "overflow": null,
            "overflow_x": null,
            "overflow_y": null,
            "padding": null,
            "right": null,
            "top": null,
            "visibility": null,
            "width": null
          }
        },
        "980b567b47414182a3b922d14e1006f9": {
          "model_module": "@jupyter-widgets/controls",
          "model_name": "DescriptionStyleModel",
          "model_module_version": "1.5.0",
          "state": {
            "_model_module": "@jupyter-widgets/controls",
            "_model_module_version": "1.5.0",
            "_model_name": "DescriptionStyleModel",
            "_view_count": null,
            "_view_module": "@jupyter-widgets/base",
            "_view_module_version": "1.2.0",
            "_view_name": "StyleView",
            "description_width": ""
          }
        }
      }
    }
  },
  "nbformat": 4,
  "nbformat_minor": 0
}