{
  "cells": [
    {
      "cell_type": "code",
      "execution_count": null,
      "metadata": {
        "colab": {
          "base_uri": "https://localhost:8080/"
        },
        "id": "KOz_iZBc_D3h",
        "outputId": "639cf228-8cc4-4b0d-f274-c66b7aa06231"
      },
      "outputs": [
        {
          "output_type": "stream",
          "name": "stdout",
          "text": [
            "Mounted at /content/drive\n"
          ]
        }
      ],
      "source": [
        "from google.colab import drive\n",
        "drive.mount('/content/drive')\n",
        "\n"
      ]
    },
    {
      "cell_type": "code",
      "execution_count": null,
      "metadata": {
        "id": "Y-F7PYyPW_05"
      },
      "outputs": [],
      "source": [
        "!rm -rf ssd\n",
        "!mkdir ssd\n",
        "!mkdir ssd/checkpoints\n",
        "!mkdir ssd/checkpoints/soups\n",
        "!mkdir results"
      ]
    },
    {
      "cell_type": "code",
      "execution_count": null,
      "metadata": {
        "colab": {
          "base_uri": "https://localhost:8080/"
        },
        "id": "9mdD2WnNjkc5",
        "outputId": "4c722e21-1589-4304-e795-cbcf89fe9075"
      },
      "outputs": [
        {
          "output_type": "stream",
          "name": "stdout",
          "text": [
            "Collecting wget\n",
            "  Downloading wget-3.2.zip (10 kB)\n",
            "  Preparing metadata (setup.py) ... \u001b[?25l\u001b[?25hdone\n",
            "Building wheels for collected packages: wget\n",
            "  Building wheel for wget (setup.py) ... \u001b[?25l\u001b[?25hdone\n",
            "  Created wheel for wget: filename=wget-3.2-py3-none-any.whl size=9655 sha256=7c735af309049a876be31eda1d94cb48f212ac3c3333192597fd427ec65ae85a\n",
            "  Stored in directory: /root/.cache/pip/wheels/8b/f1/7f/5c94f0a7a505ca1c81cd1d9208ae2064675d97582078e6c769\n",
            "Successfully built wget\n",
            "Installing collected packages: wget\n",
            "Successfully installed wget-3.2\n",
            "Collecting clip\n",
            "  Downloading clip-0.2.0.tar.gz (5.5 kB)\n",
            "  Preparing metadata (setup.py) ... \u001b[?25l\u001b[?25hdone\n",
            "Building wheels for collected packages: clip\n",
            "  Building wheel for clip (setup.py) ... \u001b[?25l\u001b[?25hdone\n",
            "  Created wheel for clip: filename=clip-0.2.0-py3-none-any.whl size=6988 sha256=dbfc86fc4966eafc983b5eafaab744c8d7b9e4ffe5c89226ab8bedae31c83196\n",
            "  Stored in directory: /root/.cache/pip/wheels/7f/5c/e6/2c0fdb453a3569188864b17e9676bea8b3b7e160c037117869\n",
            "Successfully built clip\n",
            "Installing collected packages: clip\n",
            "Successfully installed clip-0.2.0\n",
            "Collecting datasets\n",
            "  Downloading datasets-2.14.5-py3-none-any.whl (519 kB)\n",
            "\u001b[2K     \u001b[90m━━━━━━━━━━━━━━━━━━━━━━━━━━━━━━━━━━━━━━━━\u001b[0m \u001b[32m519.6/519.6 kB\u001b[0m \u001b[31m7.2 MB/s\u001b[0m eta \u001b[36m0:00:00\u001b[0m\n",
            "\u001b[?25hRequirement already satisfied: numpy>=1.17 in /usr/local/lib/python3.10/dist-packages (from datasets) (1.23.5)\n",
            "Requirement already satisfied: pyarrow>=8.0.0 in /usr/local/lib/python3.10/dist-packages (from datasets) (9.0.0)\n",
            "Collecting dill<0.3.8,>=0.3.0 (from datasets)\n",
            "  Downloading dill-0.3.7-py3-none-any.whl (115 kB)\n",
            "\u001b[2K     \u001b[90m━━━━━━━━━━━━━━━━━━━━━━━━━━━━━━━━━━━━━━━━\u001b[0m \u001b[32m115.3/115.3 kB\u001b[0m \u001b[31m8.3 MB/s\u001b[0m eta \u001b[36m0:00:00\u001b[0m\n",
            "\u001b[?25hRequirement already satisfied: pandas in /usr/local/lib/python3.10/dist-packages (from datasets) (1.5.3)\n",
            "Requirement already satisfied: requests>=2.19.0 in /usr/local/lib/python3.10/dist-packages (from datasets) (2.31.0)\n",
            "Requirement already satisfied: tqdm>=4.62.1 in /usr/local/lib/python3.10/dist-packages (from datasets) (4.66.1)\n",
            "Requirement already satisfied: xxhash in /usr/local/lib/python3.10/dist-packages (from datasets) (3.4.1)\n",
            "Collecting multiprocess (from datasets)\n",
            "  Downloading multiprocess-0.70.15-py310-none-any.whl (134 kB)\n",
            "\u001b[2K     \u001b[90m━━━━━━━━━━━━━━━━━━━━━━━━━━━━━━━━━━━━━━━━\u001b[0m \u001b[32m134.8/134.8 kB\u001b[0m \u001b[31m10.2 MB/s\u001b[0m eta \u001b[36m0:00:00\u001b[0m\n",
            "\u001b[?25hRequirement already satisfied: fsspec[http]<2023.9.0,>=2023.1.0 in /usr/local/lib/python3.10/dist-packages (from datasets) (2023.6.0)\n",
            "Requirement already satisfied: aiohttp in /usr/local/lib/python3.10/dist-packages (from datasets) (3.8.6)\n",
            "Collecting huggingface-hub<1.0.0,>=0.14.0 (from datasets)\n",
            "  Downloading huggingface_hub-0.18.0-py3-none-any.whl (301 kB)\n",
            "\u001b[2K     \u001b[90m━━━━━━━━━━━━━━━━━━━━━━━━━━━━━━━━━━━━━━━━\u001b[0m \u001b[32m302.0/302.0 kB\u001b[0m \u001b[31m12.5 MB/s\u001b[0m eta \u001b[36m0:00:00\u001b[0m\n",
            "\u001b[?25hRequirement already satisfied: packaging in /usr/local/lib/python3.10/dist-packages (from datasets) (23.2)\n",
            "Requirement already satisfied: pyyaml>=5.1 in /usr/local/lib/python3.10/dist-packages (from datasets) (6.0.1)\n",
            "Requirement already satisfied: attrs>=17.3.0 in /usr/local/lib/python3.10/dist-packages (from aiohttp->datasets) (23.1.0)\n",
            "Requirement already satisfied: charset-normalizer<4.0,>=2.0 in /usr/local/lib/python3.10/dist-packages (from aiohttp->datasets) (3.3.0)\n",
            "Requirement already satisfied: multidict<7.0,>=4.5 in /usr/local/lib/python3.10/dist-packages (from aiohttp->datasets) (6.0.4)\n",
            "Requirement already satisfied: async-timeout<5.0,>=4.0.0a3 in /usr/local/lib/python3.10/dist-packages (from aiohttp->datasets) (4.0.3)\n",
            "Requirement already satisfied: yarl<2.0,>=1.0 in /usr/local/lib/python3.10/dist-packages (from aiohttp->datasets) (1.9.2)\n",
            "Requirement already satisfied: frozenlist>=1.1.1 in /usr/local/lib/python3.10/dist-packages (from aiohttp->datasets) (1.4.0)\n",
            "Requirement already satisfied: aiosignal>=1.1.2 in /usr/local/lib/python3.10/dist-packages (from aiohttp->datasets) (1.3.1)\n",
            "Requirement already satisfied: filelock in /usr/local/lib/python3.10/dist-packages (from huggingface-hub<1.0.0,>=0.14.0->datasets) (3.12.4)\n",
            "Requirement already satisfied: typing-extensions>=3.7.4.3 in /usr/local/lib/python3.10/dist-packages (from huggingface-hub<1.0.0,>=0.14.0->datasets) (4.5.0)\n",
            "Requirement already satisfied: idna<4,>=2.5 in /usr/local/lib/python3.10/dist-packages (from requests>=2.19.0->datasets) (3.4)\n",
            "Requirement already satisfied: urllib3<3,>=1.21.1 in /usr/local/lib/python3.10/dist-packages (from requests>=2.19.0->datasets) (2.0.7)\n",
            "Requirement already satisfied: certifi>=2017.4.17 in /usr/local/lib/python3.10/dist-packages (from requests>=2.19.0->datasets) (2023.7.22)\n",
            "Requirement already satisfied: python-dateutil>=2.8.1 in /usr/local/lib/python3.10/dist-packages (from pandas->datasets) (2.8.2)\n",
            "Requirement already satisfied: pytz>=2020.1 in /usr/local/lib/python3.10/dist-packages (from pandas->datasets) (2023.3.post1)\n",
            "Requirement already satisfied: six>=1.5 in /usr/local/lib/python3.10/dist-packages (from python-dateutil>=2.8.1->pandas->datasets) (1.16.0)\n",
            "Installing collected packages: dill, multiprocess, huggingface-hub, datasets\n",
            "Successfully installed datasets-2.14.5 dill-0.3.7 huggingface-hub-0.18.0 multiprocess-0.70.15\n",
            "Collecting GPUtil\n",
            "  Downloading GPUtil-1.4.0.tar.gz (5.5 kB)\n",
            "  Preparing metadata (setup.py) ... \u001b[?25l\u001b[?25hdone\n",
            "Collecting pytorch_pretrained_bert\n",
            "  Downloading pytorch_pretrained_bert-0.6.2-py3-none-any.whl (123 kB)\n",
            "\u001b[2K     \u001b[90m━━━━━━━━━━━━━━━━━━━━━━━━━━━━━━━━━━━━━━━━\u001b[0m \u001b[32m123.8/123.8 kB\u001b[0m \u001b[31m2.6 MB/s\u001b[0m eta \u001b[36m0:00:00\u001b[0m\n",
            "\u001b[?25hCollecting transformers\n",
            "  Downloading transformers-4.34.1-py3-none-any.whl (7.7 MB)\n",
            "\u001b[2K     \u001b[90m━━━━━━━━━━━━━━━━━━━━━━━━━━━━━━━━━━━━━━━━\u001b[0m \u001b[32m7.7/7.7 MB\u001b[0m \u001b[31m18.0 MB/s\u001b[0m eta \u001b[36m0:00:00\u001b[0m\n",
            "\u001b[?25hRequirement already satisfied: torch>=0.4.1 in /usr/local/lib/python3.10/dist-packages (from pytorch_pretrained_bert) (2.1.0+cu118)\n",
            "Requirement already satisfied: numpy in /usr/local/lib/python3.10/dist-packages (from pytorch_pretrained_bert) (1.23.5)\n",
            "Collecting boto3 (from pytorch_pretrained_bert)\n",
            "  Downloading boto3-1.28.68-py3-none-any.whl (135 kB)\n",
            "\u001b[2K     \u001b[90m━━━━━━━━━━━━━━━━━━━━━━━━━━━━━━━━━━━━━━━━\u001b[0m \u001b[32m135.8/135.8 kB\u001b[0m \u001b[31m16.6 MB/s\u001b[0m eta \u001b[36m0:00:00\u001b[0m\n",
            "\u001b[?25hRequirement already satisfied: requests in /usr/local/lib/python3.10/dist-packages (from pytorch_pretrained_bert) (2.31.0)\n",
            "Requirement already satisfied: tqdm in /usr/local/lib/python3.10/dist-packages (from pytorch_pretrained_bert) (4.66.1)\n",
            "Requirement already satisfied: regex in /usr/local/lib/python3.10/dist-packages (from pytorch_pretrained_bert) (2023.6.3)\n",
            "Requirement already satisfied: filelock in /usr/local/lib/python3.10/dist-packages (from transformers) (3.12.4)\n",
            "Requirement already satisfied: huggingface-hub<1.0,>=0.16.4 in /usr/local/lib/python3.10/dist-packages (from transformers) (0.18.0)\n",
            "Requirement already satisfied: packaging>=20.0 in /usr/local/lib/python3.10/dist-packages (from transformers) (23.2)\n",
            "Requirement already satisfied: pyyaml>=5.1 in /usr/local/lib/python3.10/dist-packages (from transformers) (6.0.1)\n",
            "Collecting tokenizers<0.15,>=0.14 (from transformers)\n",
            "  Downloading tokenizers-0.14.1-cp310-cp310-manylinux_2_17_x86_64.manylinux2014_x86_64.whl (3.8 MB)\n",
            "\u001b[2K     \u001b[90m━━━━━━━━━━━━━━━━━━━━━━━━━━━━━━━━━━━━━━━━\u001b[0m \u001b[32m3.8/3.8 MB\u001b[0m \u001b[31m42.8 MB/s\u001b[0m eta \u001b[36m0:00:00\u001b[0m\n",
            "\u001b[?25hCollecting safetensors>=0.3.1 (from transformers)\n",
            "  Downloading safetensors-0.4.0-cp310-cp310-manylinux_2_17_x86_64.manylinux2014_x86_64.whl (1.3 MB)\n",
            "\u001b[2K     \u001b[90m━━━━━━━━━━━━━━━━━━━━━━━━━━━━━━━━━━━━━━━━\u001b[0m \u001b[32m1.3/1.3 MB\u001b[0m \u001b[31m45.2 MB/s\u001b[0m eta \u001b[36m0:00:00\u001b[0m\n",
            "\u001b[?25hRequirement already satisfied: fsspec>=2023.5.0 in /usr/local/lib/python3.10/dist-packages (from huggingface-hub<1.0,>=0.16.4->transformers) (2023.6.0)\n",
            "Requirement already satisfied: typing-extensions>=3.7.4.3 in /usr/local/lib/python3.10/dist-packages (from huggingface-hub<1.0,>=0.16.4->transformers) (4.5.0)\n",
            "Collecting huggingface-hub<1.0,>=0.16.4 (from transformers)\n",
            "  Downloading huggingface_hub-0.17.3-py3-none-any.whl (295 kB)\n",
            "\u001b[2K     \u001b[90m━━━━━━━━━━━━━━━━━━━━━━━━━━━━━━━━━━━━━━━━\u001b[0m \u001b[32m295.0/295.0 kB\u001b[0m \u001b[31m28.8 MB/s\u001b[0m eta \u001b[36m0:00:00\u001b[0m\n",
            "\u001b[?25hRequirement already satisfied: sympy in /usr/local/lib/python3.10/dist-packages (from torch>=0.4.1->pytorch_pretrained_bert) (1.12)\n",
            "Requirement already satisfied: networkx in /usr/local/lib/python3.10/dist-packages (from torch>=0.4.1->pytorch_pretrained_bert) (3.1)\n",
            "Requirement already satisfied: jinja2 in /usr/local/lib/python3.10/dist-packages (from torch>=0.4.1->pytorch_pretrained_bert) (3.1.2)\n",
            "Requirement already satisfied: triton==2.1.0 in /usr/local/lib/python3.10/dist-packages (from torch>=0.4.1->pytorch_pretrained_bert) (2.1.0)\n",
            "Collecting botocore<1.32.0,>=1.31.68 (from boto3->pytorch_pretrained_bert)\n",
            "  Downloading botocore-1.31.68-py3-none-any.whl (11.3 MB)\n",
            "\u001b[2K     \u001b[90m━━━━━━━━━━━━━━━━━━━━━━━━━━━━━━━━━━━━━━━━\u001b[0m \u001b[32m11.3/11.3 MB\u001b[0m \u001b[31m69.1 MB/s\u001b[0m eta \u001b[36m0:00:00\u001b[0m\n",
            "\u001b[?25hCollecting jmespath<2.0.0,>=0.7.1 (from boto3->pytorch_pretrained_bert)\n",
            "  Downloading jmespath-1.0.1-py3-none-any.whl (20 kB)\n",
            "Collecting s3transfer<0.8.0,>=0.7.0 (from boto3->pytorch_pretrained_bert)\n",
            "  Downloading s3transfer-0.7.0-py3-none-any.whl (79 kB)\n",
            "\u001b[2K     \u001b[90m━━━━━━━━━━━━━━━━━━━━━━━━━━━━━━━━━━━━━━━━\u001b[0m \u001b[32m79.8/79.8 kB\u001b[0m \u001b[31m10.7 MB/s\u001b[0m eta \u001b[36m0:00:00\u001b[0m\n",
            "\u001b[?25hRequirement already satisfied: charset-normalizer<4,>=2 in /usr/local/lib/python3.10/dist-packages (from requests->pytorch_pretrained_bert) (3.3.0)\n",
            "Requirement already satisfied: idna<4,>=2.5 in /usr/local/lib/python3.10/dist-packages (from requests->pytorch_pretrained_bert) (3.4)\n",
            "Requirement already satisfied: urllib3<3,>=1.21.1 in /usr/local/lib/python3.10/dist-packages (from requests->pytorch_pretrained_bert) (2.0.7)\n",
            "Requirement already satisfied: certifi>=2017.4.17 in /usr/local/lib/python3.10/dist-packages (from requests->pytorch_pretrained_bert) (2023.7.22)\n",
            "Requirement already satisfied: python-dateutil<3.0.0,>=2.1 in /usr/local/lib/python3.10/dist-packages (from botocore<1.32.0,>=1.31.68->boto3->pytorch_pretrained_bert) (2.8.2)\n",
            "Requirement already satisfied: MarkupSafe>=2.0 in /usr/local/lib/python3.10/dist-packages (from jinja2->torch>=0.4.1->pytorch_pretrained_bert) (2.1.3)\n",
            "Requirement already satisfied: mpmath>=0.19 in /usr/local/lib/python3.10/dist-packages (from sympy->torch>=0.4.1->pytorch_pretrained_bert) (1.3.0)\n",
            "Requirement already satisfied: six>=1.5 in /usr/local/lib/python3.10/dist-packages (from python-dateutil<3.0.0,>=2.1->botocore<1.32.0,>=1.31.68->boto3->pytorch_pretrained_bert) (1.16.0)\n",
            "Building wheels for collected packages: GPUtil\n",
            "  Building wheel for GPUtil (setup.py) ... \u001b[?25l\u001b[?25hdone\n",
            "  Created wheel for GPUtil: filename=GPUtil-1.4.0-py3-none-any.whl size=7392 sha256=7f8f78e785707e2f5f48b23fa3dad7c6eb0dc649751d6cf910b41e016d5e278a\n",
            "  Stored in directory: /root/.cache/pip/wheels/a9/8a/bd/81082387151853ab8b6b3ef33426e98f5cbfebc3c397a9d4d0\n",
            "Successfully built GPUtil\n",
            "Installing collected packages: GPUtil, safetensors, jmespath, huggingface-hub, botocore, tokenizers, s3transfer, transformers, boto3, pytorch_pretrained_bert\n",
            "  Attempting uninstall: huggingface-hub\n",
            "    Found existing installation: huggingface-hub 0.18.0\n",
            "    Uninstalling huggingface-hub-0.18.0:\n",
            "      Successfully uninstalled huggingface-hub-0.18.0\n",
            "Successfully installed GPUtil-1.4.0 boto3-1.28.68 botocore-1.31.68 huggingface-hub-0.17.3 jmespath-1.0.1 pytorch_pretrained_bert-0.6.2 s3transfer-0.7.0 safetensors-0.4.0 tokenizers-0.14.1 transformers-4.34.1\n",
            "\u001b[33mWARNING: Skipping emoji as it is not installed.\u001b[0m\u001b[33m\n",
            "\u001b[0mCollecting emoji==1.7\n",
            "  Downloading emoji-1.7.0.tar.gz (175 kB)\n",
            "\u001b[2K     \u001b[90m━━━━━━━━━━━━━━━━━━━━━━━━━━━━━━━━━━━━━━━━\u001b[0m \u001b[32m175.4/175.4 kB\u001b[0m \u001b[31m3.8 MB/s\u001b[0m eta \u001b[36m0:00:00\u001b[0m\n",
            "\u001b[?25h  Preparing metadata (setup.py) ... \u001b[?25l\u001b[?25hdone\n",
            "Building wheels for collected packages: emoji\n",
            "  Building wheel for emoji (setup.py) ... \u001b[?25l\u001b[?25hdone\n",
            "  Created wheel for emoji: filename=emoji-1.7.0-py3-none-any.whl size=171033 sha256=41f20efa5c996741702d40d2fac8ded6b0260f58f4361710185ebc94efcf3c72\n",
            "  Stored in directory: /root/.cache/pip/wheels/31/8a/8c/315c9e5d7773f74b33d5ed33f075b49c6eaeb7cedbb86e2cf8\n",
            "Successfully built emoji\n",
            "Installing collected packages: emoji\n",
            "Successfully installed emoji-1.7.0\n",
            "Collecting barbar\n",
            "  Downloading barbar-0.2.1-py3-none-any.whl (3.9 kB)\n",
            "Installing collected packages: barbar\n",
            "Successfully installed barbar-0.2.1\n"
          ]
        }
      ],
      "source": [
        "!pip install wget\n",
        "!pip install clip\n",
        "!pip install datasets\n",
        "!pip install GPUtil pytorch_pretrained_bert transformers\n",
        "!pip uninstall emoji\n",
        "!pip install emoji==1.7\n",
        "\n",
        "!pip install barbar"
      ]
    },
    {
      "cell_type": "code",
      "execution_count": null,
      "metadata": {
        "id": "DDo0XejiImSg"
      },
      "outputs": [],
      "source": [
        "from emoji import UNICODE_EMOJI\n",
        "import wget\n",
        "import clip\n",
        "from transformers import AutoModel\n",
        "from barbar import Bar\n",
        "from transformers import AutoTokenizer, AutoModel"
      ]
    },
    {
      "cell_type": "code",
      "execution_count": null,
      "metadata": {
        "id": "EvqhGm6UkQAo"
      },
      "outputs": [],
      "source": [
        "\n",
        "\n",
        "import os\n",
        "\n",
        "import torch\n",
        "\n",
        "import os\n",
        "import json\n",
        "import operator\n",
        "\n",
        "import matplotlib.pyplot as plt\n",
        "import numpy as np\n",
        "import pandas as pd\n",
        "import math\n",
        "import time\n",
        "import torch.nn as nn\n",
        "import torch\n",
        "\n",
        "import torch.nn.functional as F\n",
        "from torch.autograd import Variable\n",
        "import re\n",
        "from sklearn.metrics import classification_report, confusion_matrix, f1_score, accuracy_score\n",
        "import matplotlib.pyplot as plt\n",
        "import seaborn as sns\n",
        "from torch.utils.data import Dataset, DataLoader\n",
        "import pandas as pd"
      ]
    },
    {
      "cell_type": "code",
      "execution_count": null,
      "metadata": {
        "id": "mz_dQbpkEDtB"
      },
      "outputs": [],
      "source": [
        "dic = {\n",
        "      \"egypt\": 'المصرية',\n",
        "\t  \"nile\": 'المصرية',\n",
        "\t  \"msa\": \"اللغة العربية الفصحى\",\n",
        "\t  \"magreb\": \"المغربية\",\n",
        "\t  \"gulf\": \"الخليجية\",\n",
        "\t  \"levant\": \"الشامية\"\n",
        "}"
      ]
    },
    {
      "cell_type": "markdown",
      "metadata": {
        "id": "gWkyMEJWZK1h"
      },
      "source": [
        "# RNN models"
      ]
    },
    {
      "cell_type": "code",
      "execution_count": null,
      "metadata": {
        "id": "5nu1LiPIrsUt"
      },
      "outputs": [],
      "source": [
        "class AttentionWithContext(nn.Module):\n",
        "    def __init__(self, hidden_dim):\n",
        "        super(AttentionWithContext, self).__init__()\n",
        "\n",
        "        self.attn = nn.Linear(hidden_dim, hidden_dim)\n",
        "        self.contx = nn.Linear(hidden_dim, 1, bias=False)\n",
        "        #self.apply(init_weights)\n",
        "    def forward(self, inp):\n",
        "        u = torch.tanh_(self.attn(inp))\n",
        "        a = F.softmax(self.contx(u), dim=1)\n",
        "        s = (a * inp).sum(1)\n",
        "        return s\n",
        "\n",
        "\n"
      ]
    },
    {
      "cell_type": "code",
      "source": [
        "\n",
        "\n",
        "\n",
        "class ATTClassifier(nn.Module):\n",
        "    def __init__(self, in_feature, class_num=1, dropout_prob=0.2):\n",
        "        super(ATTClassifier, self).__init__()\n",
        "        self.model =  AttentionWithContext(in_feature)\n",
        "\n",
        "        self.Classifier = nn.Sequential(\n",
        "            nn.Linear(2 * in_feature, 512),\n",
        "            nn.Dropout(dropout_prob),\n",
        "            nn.ReLU(),\n",
        "            nn.Linear(512, class_num)\n",
        "        )\n",
        "\n",
        "        self.apply(init_weights)\n",
        "\n",
        "    def forward(self, x):\n",
        "\n",
        "        mod = self.model(x[0]) #(X[0] (bs, seqlenght, embedD) att = \\sum_i alpha_i x[0][i]\n",
        "        xx = torch.cat([mod, x[1]], 1)\n",
        "\n",
        "        out = self.Classifier(xx)\n",
        "        return out\n"
      ],
      "metadata": {
        "id": "EWAT_1knNQD_"
      },
      "execution_count": null,
      "outputs": []
    },
    {
      "cell_type": "markdown",
      "metadata": {
        "id": "lQHTk631kRST"
      },
      "source": [
        "# utils"
      ]
    },
    {
      "cell_type": "code",
      "execution_count": null,
      "metadata": {
        "id": "FiXPVO_L5uY2"
      },
      "outputs": [],
      "source": [
        "def plot_cf(cf_matrix):\n",
        "    ax = sns.heatmap(cf_matrix, annot=True, cmap='Blues',fmt=\"d\")\n",
        "    ax.set_title('Seaborn Confusion Matrix with labels\\n\\n');\n",
        "    ax.set_xlabel('\\nPredicted Values')\n",
        "    ax.set_ylabel('Actual Values ');\n",
        "    ## Ticket labels - List must be in alphabetical order\n",
        "    ax.xaxis.set_ticklabels(['False','True'])\n",
        "    ax.yaxis.set_ticklabels(['False','True'])\n",
        "    ## Display the visualization of the Confusion Matrix.\n",
        "    plt.show()"
      ]
    },
    {
      "cell_type": "code",
      "execution_count": null,
      "metadata": {
        "id": "MziCNmdz3sqH"
      },
      "outputs": [],
      "source": [
        "def calc_accuracy(preds,y):\n",
        "    predict = torch.argmax(preds, dim=1)\n",
        "    accuracy = torch.sum(predict == y.squeeze()).float().item()\n",
        "    return accuracy / float(preds.size()[0])"
      ]
    },
    {
      "cell_type": "code",
      "execution_count": null,
      "metadata": {
        "id": "AsJMvkJzk83j"
      },
      "outputs": [],
      "source": [
        "def assign_learning_rate(param_group, new_lr):\n",
        "    param_group[\"lr\"] = new_lr"
      ]
    },
    {
      "cell_type": "code",
      "execution_count": null,
      "metadata": {
        "id": "-848mzCOk_rN"
      },
      "outputs": [],
      "source": [
        "def _warmup_lr(base_lr, warmup_length, step):\n",
        "    return base_lr * (step + 1) / warmup_length"
      ]
    },
    {
      "cell_type": "code",
      "execution_count": null,
      "metadata": {
        "id": "CKI95u1gkQZd"
      },
      "outputs": [],
      "source": [
        "def cosine_lr(optimizer, base_lrs, warmup_length, steps):\n",
        "    if not isinstance(base_lrs, list):\n",
        "        base_lrs = [base_lrs for _ in optimizer.param_groups]\n",
        "    assert len(base_lrs) == len(optimizer.param_groups)\n",
        "    def _lr_adjuster(step):\n",
        "        for param_group, base_lr in zip(optimizer.param_groups, base_lrs):\n",
        "            if step < warmup_length:\n",
        "                lr = _warmup_lr(base_lr, warmup_length, step)\n",
        "            else:\n",
        "                e = step - warmup_length\n",
        "                es = steps - warmup_length\n",
        "                lr = 0.5 * (1 + np.cos(np.pi * e / es)) * base_lr\n",
        "            assign_learning_rate(param_group, lr)\n",
        "    return _lr_adjuster"
      ]
    },
    {
      "cell_type": "markdown",
      "metadata": {
        "id": "XByoV-UJkY8E"
      },
      "source": [
        "# main"
      ]
    },
    {
      "cell_type": "code",
      "execution_count": null,
      "metadata": {
        "id": "1nYeH0dSl7_O"
      },
      "outputs": [],
      "source": [
        "\n",
        "\n",
        "args = {\"data_location\": os.path.expanduser('./data'),\n",
        "        \"model_location\": os.path.expanduser('./ssd/checkpoints/soups'),\n",
        "        \"download_models\": False,\n",
        "        \"eval_individual_models\":True,\n",
        "        \"uniform_soup\": True,\n",
        "        \"greedy_soup\": True,\n",
        "        \"plot\": True,\n",
        "        \"batch_size\": 36,\n",
        "        \"workers\": 8,\n",
        "        \"pretrained_path\": \"UBC-NLP/MARBERT\",\n",
        "        'loss' : 'FL',\n",
        "        'max_length': 64\n",
        "\n",
        "}\n",
        "\n"
      ]
    },
    {
      "cell_type": "code",
      "execution_count": null,
      "metadata": {
        "colab": {
          "base_uri": "https://localhost:8080/"
        },
        "id": "wUlbwf9JrRtG",
        "outputId": "8b08cbee-ee3e-4cad-c5bb-bd081db86346"
      },
      "outputs": [
        {
          "output_type": "execute_result",
          "data": {
            "text/plain": [
              "{'data_location': './data',\n",
              " 'model_location': './ssd/checkpoints/soups',\n",
              " 'download_models': False,\n",
              " 'eval_individual_models': True,\n",
              " 'uniform_soup': True,\n",
              " 'greedy_soup': True,\n",
              " 'plot': True,\n",
              " 'batch_size': 36,\n",
              " 'workers': 8,\n",
              " 'pretrained_path': 'UBC-NLP/MARBERT',\n",
              " 'loss': 'FL',\n",
              " 'max_length': 64}"
            ]
          },
          "metadata": {},
          "execution_count": 15
        }
      ],
      "source": [
        "args"
      ]
    },
    {
      "cell_type": "code",
      "execution_count": null,
      "metadata": {
        "colab": {
          "base_uri": "https://localhost:8080/",
          "height": 36
        },
        "id": "IxqSt8PdEcbd",
        "outputId": "1bfc9938-9134-4927-b09e-98a984d11284"
      },
      "outputs": [
        {
          "output_type": "execute_result",
          "data": {
            "text/plain": [
              "'./ssd/checkpoints/soups'"
            ],
            "application/vnd.google.colaboratory.intrinsic+json": {
              "type": "string"
            }
          },
          "metadata": {},
          "execution_count": 16
        }
      ],
      "source": [
        "\n",
        "args[\"model_location\"]"
      ]
    },
    {
      "cell_type": "code",
      "execution_count": null,
      "metadata": {
        "id": "tbDvLFTarA5d"
      },
      "outputs": [],
      "source": [
        "if not os.path.exists(args[\"model_location\"]):\n",
        "    os.mkdir(args[\"model_location\"])"
      ]
    },
    {
      "cell_type": "code",
      "execution_count": null,
      "metadata": {
        "id": "u4btNYVfsdMG"
      },
      "outputs": [],
      "source": [
        "ls ./ssd/checkpoints/soups"
      ]
    },
    {
      "cell_type": "code",
      "source": [],
      "metadata": {
        "id": "W1Zbp0QLYQnr"
      },
      "execution_count": null,
      "outputs": []
    },
    {
      "cell_type": "code",
      "source": [],
      "metadata": {
        "id": "K2whut62Ghye"
      },
      "execution_count": null,
      "outputs": []
    },
    {
      "cell_type": "code",
      "source": [
        "# !cp -av \"/content/drive/MyDrive/iSarcasm/m_298/best_basemodel_sarcasm_32_FL_2e-05_ml64_2_298_sarcat.pth\"  \"./ssd/checkpoints/soups\"\n",
        "# !cp -av \"/content/drive/MyDrive/iSarcasm/m_298/best_cls_sarcasm_32_FL_2e-05_ml64_2_298_sarcat.pth\"  \"./ssd/checkpoints/soups\""
      ],
      "metadata": {
        "id": "nEcM7PZaGnd9"
      },
      "execution_count": null,
      "outputs": []
    },
    {
      "cell_type": "code",
      "source": [
        "\n",
        "# !cp -av \"/content/drive/MyDrive/iSarcasm/m_298/best_basemodel_sarcasm_64_FL_1e-05_ml64_4_298_sarcat.pth\"  \"./ssd/checkpoints/soups\"\n",
        "# !cp -av \"/content/drive/MyDrive/iSarcasm/m_298/best_cls_sarcasm_64_FL_1e-05_ml64_4_298_sarcat.pth\"  \"./ssd/checkpoints/soups\""
      ],
      "metadata": {
        "id": "D4ObTEZQGsd_"
      },
      "execution_count": null,
      "outputs": []
    },
    {
      "cell_type": "code",
      "source": [
        "# !cp -av \"/content/drive/MyDrive/iSarcasm/m_298/best_basemodel_sarcasm_36_FL_2e-05_ml64_2_298_sarcat.pth\"  \"./ssd/checkpoints/soups\"\n",
        "# !cp -av \"/content/drive/MyDrive/iSarcasm/m_298/best_cls_sarcasm_36_FL_2e-05_ml64_2_298_sarcat.pth\"  \"./ssd/checkpoints/soups\"\n",
        "\n",
        "# !cp -av \"/content/drive/MyDrive/iSarcasm/m_298/best_basemodel_sarcasm_32_FL_1e-05_ml64_4_298_sarcat.pth\"  \"./ssd/checkpoints/soups\"\n",
        "# !cp -av \"/content/drive/MyDrive/iSarcasm/m_298/best_cls_sarcasm_32_FL_1e-05_ml64_4_298_sarcat.pth\"  \"./ssd/checkpoints/soups\"\n"
      ],
      "metadata": {
        "id": "P4zqZWPmYGBp"
      },
      "execution_count": null,
      "outputs": []
    },
    {
      "cell_type": "code",
      "source": [
        "# !cp -av \"/content/drive/MyDrive/iSarcasm/m_298/best_basemodel_sarcasm_16_FL_2e-05_ml64_4_298_sarcat.pth\"  \"./ssd/checkpoints/soups\"\n",
        "# !cp -av \"/content/drive/MyDrive/iSarcasm/m_298/best_cls_sarcasm_16_FL_2e-05_ml64_4_298_sarcat.pth\"  \"./ssd/checkpoints/soups\""
      ],
      "metadata": {
        "id": "fszCGiomF07h"
      },
      "execution_count": null,
      "outputs": []
    },
    {
      "cell_type": "code",
      "execution_count": null,
      "metadata": {
        "id": "33TxZsF3SGJw",
        "colab": {
          "base_uri": "https://localhost:8080/"
        },
        "outputId": "4b7c9eb4-d67a-4711-cb8b-1c2c6961325f"
      },
      "outputs": [
        {
          "output_type": "stream",
          "name": "stdout",
          "text": [
            "'/content/drive/MyDrive/iSarcasm/attn/m_298/./best_basemodel_sarcasm_16_FL_1e-05_ml64_2_298_sarcat.pth' -> './ssd/checkpoints/soups/./best_basemodel_sarcasm_16_FL_1e-05_ml64_2_298_sarcat.pth'\n",
            "'/content/drive/MyDrive/iSarcasm/attn/m_298/./best_cls_sarcasm_16_FL_1e-05_ml64_2_298_sarcat.pth' -> './ssd/checkpoints/soups/./best_cls_sarcasm_16_FL_1e-05_ml64_2_298_sarcat.pth'\n",
            "'/content/drive/MyDrive/iSarcasm/attn/m_298/./best_basemodel_sarcasm_16_FL_1e-05_ml64_4_298_sarcat.pth' -> './ssd/checkpoints/soups/./best_basemodel_sarcasm_16_FL_1e-05_ml64_4_298_sarcat.pth'\n",
            "'/content/drive/MyDrive/iSarcasm/attn/m_298/./best_cls_sarcasm_16_FL_1e-05_ml64_4_298_sarcat.pth' -> './ssd/checkpoints/soups/./best_cls_sarcasm_16_FL_1e-05_ml64_4_298_sarcat.pth'\n",
            "'/content/drive/MyDrive/iSarcasm/attn/m_298/./best_basemodel_sarcasm_32_FL_1e-05_ml64_2_298_sarcat.pth' -> './ssd/checkpoints/soups/./best_basemodel_sarcasm_32_FL_1e-05_ml64_2_298_sarcat.pth'\n",
            "'/content/drive/MyDrive/iSarcasm/attn/m_298/./best_cls_sarcasm_32_FL_1e-05_ml64_2_298_sarcat.pth' -> './ssd/checkpoints/soups/./best_cls_sarcasm_32_FL_1e-05_ml64_2_298_sarcat.pth'\n",
            "'/content/drive/MyDrive/iSarcasm/attn/m_298/./best_basemodel_sarcasm_32_FL_1e-05_ml64_4_298_sarcat.pth' -> './ssd/checkpoints/soups/./best_basemodel_sarcasm_32_FL_1e-05_ml64_4_298_sarcat.pth'\n",
            "'/content/drive/MyDrive/iSarcasm/attn/m_298/./best_cls_sarcasm_32_FL_1e-05_ml64_4_298_sarcat.pth' -> './ssd/checkpoints/soups/./best_cls_sarcasm_32_FL_1e-05_ml64_4_298_sarcat.pth'\n",
            "'/content/drive/MyDrive/iSarcasm/attn/m_298/./best_basemodel_sarcasm_36_FL_1e-05_ml64_2_298_sarcat.pth' -> './ssd/checkpoints/soups/./best_basemodel_sarcasm_36_FL_1e-05_ml64_2_298_sarcat.pth'\n",
            "'/content/drive/MyDrive/iSarcasm/attn/m_298/./best_cls_sarcasm_36_FL_1e-05_ml64_2_298_sarcat.pth' -> './ssd/checkpoints/soups/./best_cls_sarcasm_36_FL_1e-05_ml64_2_298_sarcat.pth'\n",
            "'/content/drive/MyDrive/iSarcasm/attn/m_298/./best_basemodel_sarcasm_36_FL_1e-05_ml64_4_298_sarcat.pth' -> './ssd/checkpoints/soups/./best_basemodel_sarcasm_36_FL_1e-05_ml64_4_298_sarcat.pth'\n",
            "'/content/drive/MyDrive/iSarcasm/attn/m_298/./best_cls_sarcasm_36_FL_1e-05_ml64_4_298_sarcat.pth' -> './ssd/checkpoints/soups/./best_cls_sarcasm_36_FL_1e-05_ml64_4_298_sarcat.pth'\n",
            "'/content/drive/MyDrive/iSarcasm/attn/m_298/./best_basemodel_sarcasm_64_FL_1e-05_ml64_2_298_sarcat.pth' -> './ssd/checkpoints/soups/./best_basemodel_sarcasm_64_FL_1e-05_ml64_2_298_sarcat.pth'\n",
            "'/content/drive/MyDrive/iSarcasm/attn/m_298/./best_cls_sarcasm_64_FL_1e-05_ml64_2_298_sarcat.pth' -> './ssd/checkpoints/soups/./best_cls_sarcasm_64_FL_1e-05_ml64_2_298_sarcat.pth'\n",
            "'/content/drive/MyDrive/iSarcasm/attn/m_298/./best_basemodel_sarcasm_64_FL_1e-05_ml64_4_298_sarcat.pth' -> './ssd/checkpoints/soups/./best_basemodel_sarcasm_64_FL_1e-05_ml64_4_298_sarcat.pth'\n",
            "'/content/drive/MyDrive/iSarcasm/attn/m_298/./best_cls_sarcasm_64_FL_1e-05_ml64_4_298_sarcat.pth' -> './ssd/checkpoints/soups/./best_cls_sarcasm_64_FL_1e-05_ml64_4_298_sarcat.pth'\n",
            "'/content/drive/MyDrive/iSarcasm/attn/m_298/./best_basemodel_sarcasm_16_FL_2e-05_ml64_2_298_sarcat.pth' -> './ssd/checkpoints/soups/./best_basemodel_sarcasm_16_FL_2e-05_ml64_2_298_sarcat.pth'\n",
            "'/content/drive/MyDrive/iSarcasm/attn/m_298/./best_cls_sarcasm_16_FL_2e-05_ml64_2_298_sarcat.pth' -> './ssd/checkpoints/soups/./best_cls_sarcasm_16_FL_2e-05_ml64_2_298_sarcat.pth'\n",
            "'/content/drive/MyDrive/iSarcasm/attn/m_298/./best_basemodel_sarcasm_16_FL_2e-05_ml64_4_298_sarcat.pth' -> './ssd/checkpoints/soups/./best_basemodel_sarcasm_16_FL_2e-05_ml64_4_298_sarcat.pth'\n",
            "'/content/drive/MyDrive/iSarcasm/attn/m_298/./best_cls_sarcasm_16_FL_2e-05_ml64_4_298_sarcat.pth' -> './ssd/checkpoints/soups/./best_cls_sarcasm_16_FL_2e-05_ml64_4_298_sarcat.pth'\n",
            "'/content/drive/MyDrive/iSarcasm/attn/m_298/./best_basemodel_sarcasm_32_FL_2e-05_ml64_2_298_sarcat.pth' -> './ssd/checkpoints/soups/./best_basemodel_sarcasm_32_FL_2e-05_ml64_2_298_sarcat.pth'\n",
            "'/content/drive/MyDrive/iSarcasm/attn/m_298/./best_cls_sarcasm_32_FL_2e-05_ml64_2_298_sarcat.pth' -> './ssd/checkpoints/soups/./best_cls_sarcasm_32_FL_2e-05_ml64_2_298_sarcat.pth'\n",
            "'/content/drive/MyDrive/iSarcasm/attn/m_298/./best_basemodel_sarcasm_32_FL_2e-05_ml64_4_298_sarcat.pth' -> './ssd/checkpoints/soups/./best_basemodel_sarcasm_32_FL_2e-05_ml64_4_298_sarcat.pth'\n",
            "'/content/drive/MyDrive/iSarcasm/attn/m_298/./best_cls_sarcasm_32_FL_2e-05_ml64_4_298_sarcat.pth' -> './ssd/checkpoints/soups/./best_cls_sarcasm_32_FL_2e-05_ml64_4_298_sarcat.pth'\n",
            "'/content/drive/MyDrive/iSarcasm/attn/m_298/./best_basemodel_sarcasm_36_FL_2e-05_ml64_2_298_sarcat.pth' -> './ssd/checkpoints/soups/./best_basemodel_sarcasm_36_FL_2e-05_ml64_2_298_sarcat.pth'\n",
            "'/content/drive/MyDrive/iSarcasm/attn/m_298/./best_cls_sarcasm_36_FL_2e-05_ml64_2_298_sarcat.pth' -> './ssd/checkpoints/soups/./best_cls_sarcasm_36_FL_2e-05_ml64_2_298_sarcat.pth'\n",
            "'/content/drive/MyDrive/iSarcasm/attn/m_298/./best_basemodel_sarcasm_36_FL_2e-05_ml64_4_298_sarcat.pth' -> './ssd/checkpoints/soups/./best_basemodel_sarcasm_36_FL_2e-05_ml64_4_298_sarcat.pth'\n",
            "'/content/drive/MyDrive/iSarcasm/attn/m_298/./best_cls_sarcasm_36_FL_2e-05_ml64_4_298_sarcat.pth' -> './ssd/checkpoints/soups/./best_cls_sarcasm_36_FL_2e-05_ml64_4_298_sarcat.pth'\n",
            "'/content/drive/MyDrive/iSarcasm/attn/m_298/./best_basemodel_sarcasm_64_FL_2e-05_ml64_2_298_sarcat.pth' -> './ssd/checkpoints/soups/./best_basemodel_sarcasm_64_FL_2e-05_ml64_2_298_sarcat.pth'\n",
            "'/content/drive/MyDrive/iSarcasm/attn/m_298/./best_cls_sarcasm_64_FL_2e-05_ml64_2_298_sarcat.pth' -> './ssd/checkpoints/soups/./best_cls_sarcasm_64_FL_2e-05_ml64_2_298_sarcat.pth'\n",
            "'/content/drive/MyDrive/iSarcasm/attn/m_298/./best_basemodel_sarcasm_64_FL_2e-05_ml64_4_298_sarcat.pth' -> './ssd/checkpoints/soups/./best_basemodel_sarcasm_64_FL_2e-05_ml64_4_298_sarcat.pth'\n",
            "'/content/drive/MyDrive/iSarcasm/attn/m_298/./best_cls_sarcasm_64_FL_2e-05_ml64_4_298_sarcat.pth' -> './ssd/checkpoints/soups/./best_cls_sarcasm_64_FL_2e-05_ml64_4_298_sarcat.pth'\n",
            "'/content/drive/MyDrive/iSarcasm/attn/m_298/./results' -> './ssd/checkpoints/soups/./results'\n",
            "'/content/drive/MyDrive/iSarcasm/attn/m_298/./results/results_h.jsonl' -> './ssd/checkpoints/soups/./results/results_h.jsonl'\n",
            "'/content/drive/MyDrive/iSarcasm/attn/m_298/./results/results_t.jsonl' -> './ssd/checkpoints/soups/./results/results_t.jsonl'\n",
            "'/content/drive/MyDrive/iSarcasm/attn/m_298/./results/best_model_f.jsonl' -> './ssd/checkpoints/soups/./results/best_model_f.jsonl'\n",
            "'/content/drive/MyDrive/iSarcasm/attn/m_298/./results_i' -> './ssd/checkpoints/soups/./results_i'\n",
            "'/content/drive/MyDrive/iSarcasm/attn/m_298/./results_i/results_h1.jsonl' -> './ssd/checkpoints/soups/./results_i/results_h1.jsonl'\n",
            "'/content/drive/MyDrive/iSarcasm/attn/m_298/./results_i/results_t1.jsonl' -> './ssd/checkpoints/soups/./results_i/results_t1.jsonl'\n",
            "'/content/drive/MyDrive/iSarcasm/attn/m_298/./results_i/results_h2.jsonl' -> './ssd/checkpoints/soups/./results_i/results_h2.jsonl'\n",
            "'/content/drive/MyDrive/iSarcasm/attn/m_298/./results_i/results_t2.jsonl' -> './ssd/checkpoints/soups/./results_i/results_t2.jsonl'\n",
            "'/content/drive/MyDrive/iSarcasm/attn/m_298/./results_i/results_h3.jsonl' -> './ssd/checkpoints/soups/./results_i/results_h3.jsonl'\n",
            "'/content/drive/MyDrive/iSarcasm/attn/m_298/./results_i/results_t3.jsonl' -> './ssd/checkpoints/soups/./results_i/results_t3.jsonl'\n",
            "'/content/drive/MyDrive/iSarcasm/attn/m_298/./results_i/results_h4.jsonl' -> './ssd/checkpoints/soups/./results_i/results_h4.jsonl'\n",
            "'/content/drive/MyDrive/iSarcasm/attn/m_298/./results_i/results_t4.jsonl' -> './ssd/checkpoints/soups/./results_i/results_t4.jsonl'\n",
            "'/content/drive/MyDrive/iSarcasm/attn/m_298/./results_i/results_h5.jsonl' -> './ssd/checkpoints/soups/./results_i/results_h5.jsonl'\n",
            "'/content/drive/MyDrive/iSarcasm/attn/m_298/./results_i/results_t5.jsonl' -> './ssd/checkpoints/soups/./results_i/results_t5.jsonl'\n",
            "'/content/drive/MyDrive/iSarcasm/attn/m_298/./results_i/results_h6.jsonl' -> './ssd/checkpoints/soups/./results_i/results_h6.jsonl'\n",
            "'/content/drive/MyDrive/iSarcasm/attn/m_298/./results_i/results_t6.jsonl' -> './ssd/checkpoints/soups/./results_i/results_t6.jsonl'\n",
            "'/content/drive/MyDrive/iSarcasm/attn/m_298/./results_i/results_h7.jsonl' -> './ssd/checkpoints/soups/./results_i/results_h7.jsonl'\n",
            "'/content/drive/MyDrive/iSarcasm/attn/m_298/./results_i/results_t7.jsonl' -> './ssd/checkpoints/soups/./results_i/results_t7.jsonl'\n",
            "'/content/drive/MyDrive/iSarcasm/attn/m_298/./results_i/results_h8.jsonl' -> './ssd/checkpoints/soups/./results_i/results_h8.jsonl'\n",
            "'/content/drive/MyDrive/iSarcasm/attn/m_298/./results_i/results_t8.jsonl' -> './ssd/checkpoints/soups/./results_i/results_t8.jsonl'\n",
            "'/content/drive/MyDrive/iSarcasm/attn/m_298/./results_i/results_h9.jsonl' -> './ssd/checkpoints/soups/./results_i/results_h9.jsonl'\n",
            "'/content/drive/MyDrive/iSarcasm/attn/m_298/./results_i/results_t9.jsonl' -> './ssd/checkpoints/soups/./results_i/results_t9.jsonl'\n",
            "'/content/drive/MyDrive/iSarcasm/attn/m_298/./results_i/results_h10.jsonl' -> './ssd/checkpoints/soups/./results_i/results_h10.jsonl'\n",
            "'/content/drive/MyDrive/iSarcasm/attn/m_298/./results_i/results_t10.jsonl' -> './ssd/checkpoints/soups/./results_i/results_t10.jsonl'\n",
            "'/content/drive/MyDrive/iSarcasm/attn/m_298/./results_i/results_h11.jsonl' -> './ssd/checkpoints/soups/./results_i/results_h11.jsonl'\n",
            "'/content/drive/MyDrive/iSarcasm/attn/m_298/./results_i/results_t11.jsonl' -> './ssd/checkpoints/soups/./results_i/results_t11.jsonl'\n",
            "'/content/drive/MyDrive/iSarcasm/attn/m_298/./results_i/results_h12.jsonl' -> './ssd/checkpoints/soups/./results_i/results_h12.jsonl'\n",
            "'/content/drive/MyDrive/iSarcasm/attn/m_298/./results_i/results_t12.jsonl' -> './ssd/checkpoints/soups/./results_i/results_t12.jsonl'\n",
            "'/content/drive/MyDrive/iSarcasm/attn/m_298/./results_i/results_h13.jsonl' -> './ssd/checkpoints/soups/./results_i/results_h13.jsonl'\n",
            "'/content/drive/MyDrive/iSarcasm/attn/m_298/./results_i/results_t13.jsonl' -> './ssd/checkpoints/soups/./results_i/results_t13.jsonl'\n",
            "'/content/drive/MyDrive/iSarcasm/attn/m_298/./results_i/results_h14.jsonl' -> './ssd/checkpoints/soups/./results_i/results_h14.jsonl'\n",
            "'/content/drive/MyDrive/iSarcasm/attn/m_298/./results_i/results_t14.jsonl' -> './ssd/checkpoints/soups/./results_i/results_t14.jsonl'\n",
            "'/content/drive/MyDrive/iSarcasm/attn/m_298/./results_i/results_h15.jsonl' -> './ssd/checkpoints/soups/./results_i/results_h15.jsonl'\n",
            "'/content/drive/MyDrive/iSarcasm/attn/m_298/./results_i/results_t15.jsonl' -> './ssd/checkpoints/soups/./results_i/results_t15.jsonl'\n",
            "'/content/drive/MyDrive/iSarcasm/attn/m_298/./results_i/results_h16.jsonl' -> './ssd/checkpoints/soups/./results_i/results_h16.jsonl'\n",
            "'/content/drive/MyDrive/iSarcasm/attn/m_298/./results_i/results_t16.jsonl' -> './ssd/checkpoints/soups/./results_i/results_t16.jsonl'\n",
            "'/content/drive/MyDrive/iSarcasm/attn/m_298/./results_i/best_model_f_all.jsonl' -> './ssd/checkpoints/soups/./results_i/best_model_f_all.jsonl'\n",
            "'/content/drive/MyDrive/iSarcasm/attn/m_298/./results_i/uniform_soup_results_h.jsonl' -> './ssd/checkpoints/soups/./results_i/uniform_soup_results_h.jsonl'\n",
            "'/content/drive/MyDrive/iSarcasm/attn/m_298/./results_i/uniform_soup_results_t.jsonl' -> './ssd/checkpoints/soups/./results_i/uniform_soup_results_t.jsonl'\n",
            "'/content/drive/MyDrive/iSarcasm/attn/m_298/./results_i/greedy_soup_results_t.jsonl' -> './ssd/checkpoints/soups/./results_i/greedy_soup_results_t.jsonl'\n",
            "'/content/drive/MyDrive/iSarcasm/attn/m_298/./results_i/greedy_soup_results_h.jsonl' -> './ssd/checkpoints/soups/./results_i/greedy_soup_results_h.jsonl'\n"
          ]
        }
      ],
      "source": [
        "!cp -av \"/content/drive/MyDrive/iSarcasm/attn/m_298/.\"  \"./ssd/checkpoints/soups\""
      ]
    },
    {
      "cell_type": "code",
      "execution_count": null,
      "metadata": {
        "id": "SjaMXlzVZKOx"
      },
      "outputs": [],
      "source": [
        "\n",
        "model_paths_base = []\n"
      ]
    },
    {
      "cell_type": "code",
      "execution_count": null,
      "metadata": {
        "id": "UlR9frJnGaU5"
      },
      "outputs": [],
      "source": [
        "model_paths_cls = []\n"
      ]
    },
    {
      "cell_type": "code",
      "execution_count": null,
      "metadata": {
        "id": "tFEP5jpPlTJ6"
      },
      "outputs": [],
      "source": [
        "base_dict  = {}\n",
        "cls_dict={}\n",
        "directory = './ssd/checkpoints/soups'\n",
        "for filename in os.listdir(directory):\n",
        "\n",
        "    if filename.startswith('best_basemodel_'):\n",
        "        arr = filename.split(\"_\")\n",
        "        model_name = arr[3]+\"_\"+arr[4]+\"_\"+arr[5]+\"_\"+arr[7]+\"_\"+arr[8]\n",
        "        base_dict[model_name]= filename\n",
        "        model_paths_base.append(filename)\n",
        "    if filename.startswith('best_cls_'):\n",
        "        arr = filename.split(\"_\")\n",
        "        model_name = arr[3]+\"_\"+arr[4]+\"_\"+arr[5]+\"_\"+arr[7]+\"_\"+arr[8]\n",
        "        cls_dict[model_name]=filename\n",
        "        model_paths_cls.append(filename)"
      ]
    },
    {
      "cell_type": "code",
      "execution_count": null,
      "metadata": {
        "colab": {
          "base_uri": "https://localhost:8080/"
        },
        "id": "VGMO_U_bq73s",
        "outputId": "952f81fd-bade-4553-a7eb-b738ee2e687d"
      },
      "outputs": [
        {
          "output_type": "execute_result",
          "data": {
            "text/plain": [
              "['best_basemodel_sarcasm_32_FL_1e-05_ml64_2_298_sarcat.pth',\n",
              " 'best_basemodel_sarcasm_64_FL_1e-05_ml64_4_298_sarcat.pth',\n",
              " 'best_basemodel_sarcasm_16_FL_1e-05_ml64_4_298_sarcat.pth',\n",
              " 'best_basemodel_sarcasm_64_FL_2e-05_ml64_4_298_sarcat.pth',\n",
              " 'best_basemodel_sarcasm_32_FL_2e-05_ml64_4_298_sarcat.pth',\n",
              " 'best_basemodel_sarcasm_32_FL_2e-05_ml64_2_298_sarcat.pth',\n",
              " 'best_basemodel_sarcasm_64_FL_1e-05_ml64_2_298_sarcat.pth',\n",
              " 'best_basemodel_sarcasm_36_FL_2e-05_ml64_4_298_sarcat.pth',\n",
              " 'best_basemodel_sarcasm_16_FL_2e-05_ml64_4_298_sarcat.pth',\n",
              " 'best_basemodel_sarcasm_36_FL_1e-05_ml64_4_298_sarcat.pth',\n",
              " 'best_basemodel_sarcasm_16_FL_1e-05_ml64_2_298_sarcat.pth',\n",
              " 'best_basemodel_sarcasm_64_FL_2e-05_ml64_2_298_sarcat.pth',\n",
              " 'best_basemodel_sarcasm_16_FL_2e-05_ml64_2_298_sarcat.pth',\n",
              " 'best_basemodel_sarcasm_32_FL_1e-05_ml64_4_298_sarcat.pth',\n",
              " 'best_basemodel_sarcasm_36_FL_1e-05_ml64_2_298_sarcat.pth',\n",
              " 'best_basemodel_sarcasm_36_FL_2e-05_ml64_2_298_sarcat.pth']"
            ]
          },
          "metadata": {},
          "execution_count": 27
        }
      ],
      "source": [
        "model_paths_base"
      ]
    },
    {
      "cell_type": "code",
      "execution_count": null,
      "metadata": {
        "colab": {
          "base_uri": "https://localhost:8080/"
        },
        "id": "KV4EDJz3q58D",
        "outputId": "cdc9a3bc-b4da-458f-d9ea-1f74b8721072"
      },
      "outputs": [
        {
          "output_type": "execute_result",
          "data": {
            "text/plain": [
              "['best_cls_sarcasm_32_FL_1e-05_ml64_4_298_sarcat.pth',\n",
              " 'best_cls_sarcasm_36_FL_1e-05_ml64_2_298_sarcat.pth',\n",
              " 'best_cls_sarcasm_32_FL_2e-05_ml64_2_298_sarcat.pth',\n",
              " 'best_cls_sarcasm_32_FL_1e-05_ml64_2_298_sarcat.pth',\n",
              " 'best_cls_sarcasm_36_FL_2e-05_ml64_2_298_sarcat.pth',\n",
              " 'best_cls_sarcasm_16_FL_1e-05_ml64_4_298_sarcat.pth',\n",
              " 'best_cls_sarcasm_32_FL_2e-05_ml64_4_298_sarcat.pth',\n",
              " 'best_cls_sarcasm_36_FL_2e-05_ml64_4_298_sarcat.pth',\n",
              " 'best_cls_sarcasm_64_FL_1e-05_ml64_4_298_sarcat.pth',\n",
              " 'best_cls_sarcasm_16_FL_2e-05_ml64_4_298_sarcat.pth',\n",
              " 'best_cls_sarcasm_16_FL_1e-05_ml64_2_298_sarcat.pth',\n",
              " 'best_cls_sarcasm_36_FL_1e-05_ml64_4_298_sarcat.pth',\n",
              " 'best_cls_sarcasm_64_FL_2e-05_ml64_4_298_sarcat.pth',\n",
              " 'best_cls_sarcasm_16_FL_2e-05_ml64_2_298_sarcat.pth',\n",
              " 'best_cls_sarcasm_64_FL_1e-05_ml64_2_298_sarcat.pth',\n",
              " 'best_cls_sarcasm_64_FL_2e-05_ml64_2_298_sarcat.pth']"
            ]
          },
          "metadata": {},
          "execution_count": 28
        }
      ],
      "source": [
        "model_paths_cls"
      ]
    },
    {
      "cell_type": "code",
      "execution_count": null,
      "metadata": {
        "colab": {
          "base_uri": "https://localhost:8080/"
        },
        "id": "nOekvkXIoWxv",
        "outputId": "5e948a10-9ef8-44f5-f124-be6f000d9124"
      },
      "outputs": [
        {
          "output_type": "execute_result",
          "data": {
            "text/plain": [
              "{'32_FL_1e-05_2_298': 'best_basemodel_sarcasm_32_FL_1e-05_ml64_2_298_sarcat.pth',\n",
              " '64_FL_1e-05_4_298': 'best_basemodel_sarcasm_64_FL_1e-05_ml64_4_298_sarcat.pth',\n",
              " '16_FL_1e-05_4_298': 'best_basemodel_sarcasm_16_FL_1e-05_ml64_4_298_sarcat.pth',\n",
              " '64_FL_2e-05_4_298': 'best_basemodel_sarcasm_64_FL_2e-05_ml64_4_298_sarcat.pth',\n",
              " '32_FL_2e-05_4_298': 'best_basemodel_sarcasm_32_FL_2e-05_ml64_4_298_sarcat.pth',\n",
              " '32_FL_2e-05_2_298': 'best_basemodel_sarcasm_32_FL_2e-05_ml64_2_298_sarcat.pth',\n",
              " '64_FL_1e-05_2_298': 'best_basemodel_sarcasm_64_FL_1e-05_ml64_2_298_sarcat.pth',\n",
              " '36_FL_2e-05_4_298': 'best_basemodel_sarcasm_36_FL_2e-05_ml64_4_298_sarcat.pth',\n",
              " '16_FL_2e-05_4_298': 'best_basemodel_sarcasm_16_FL_2e-05_ml64_4_298_sarcat.pth',\n",
              " '36_FL_1e-05_4_298': 'best_basemodel_sarcasm_36_FL_1e-05_ml64_4_298_sarcat.pth',\n",
              " '16_FL_1e-05_2_298': 'best_basemodel_sarcasm_16_FL_1e-05_ml64_2_298_sarcat.pth',\n",
              " '64_FL_2e-05_2_298': 'best_basemodel_sarcasm_64_FL_2e-05_ml64_2_298_sarcat.pth',\n",
              " '16_FL_2e-05_2_298': 'best_basemodel_sarcasm_16_FL_2e-05_ml64_2_298_sarcat.pth',\n",
              " '32_FL_1e-05_4_298': 'best_basemodel_sarcasm_32_FL_1e-05_ml64_4_298_sarcat.pth',\n",
              " '36_FL_1e-05_2_298': 'best_basemodel_sarcasm_36_FL_1e-05_ml64_2_298_sarcat.pth',\n",
              " '36_FL_2e-05_2_298': 'best_basemodel_sarcasm_36_FL_2e-05_ml64_2_298_sarcat.pth'}"
            ]
          },
          "metadata": {},
          "execution_count": 29
        }
      ],
      "source": [
        "base_dict"
      ]
    },
    {
      "cell_type": "code",
      "execution_count": null,
      "metadata": {
        "colab": {
          "base_uri": "https://localhost:8080/"
        },
        "id": "kKWa1MMloa_-",
        "outputId": "8dcdb621-e776-401f-d963-27b5cf8f63eb"
      },
      "outputs": [
        {
          "output_type": "execute_result",
          "data": {
            "text/plain": [
              "{'32_FL_1e-05_4_298': 'best_cls_sarcasm_32_FL_1e-05_ml64_4_298_sarcat.pth',\n",
              " '36_FL_1e-05_2_298': 'best_cls_sarcasm_36_FL_1e-05_ml64_2_298_sarcat.pth',\n",
              " '32_FL_2e-05_2_298': 'best_cls_sarcasm_32_FL_2e-05_ml64_2_298_sarcat.pth',\n",
              " '32_FL_1e-05_2_298': 'best_cls_sarcasm_32_FL_1e-05_ml64_2_298_sarcat.pth',\n",
              " '36_FL_2e-05_2_298': 'best_cls_sarcasm_36_FL_2e-05_ml64_2_298_sarcat.pth',\n",
              " '16_FL_1e-05_4_298': 'best_cls_sarcasm_16_FL_1e-05_ml64_4_298_sarcat.pth',\n",
              " '32_FL_2e-05_4_298': 'best_cls_sarcasm_32_FL_2e-05_ml64_4_298_sarcat.pth',\n",
              " '36_FL_2e-05_4_298': 'best_cls_sarcasm_36_FL_2e-05_ml64_4_298_sarcat.pth',\n",
              " '64_FL_1e-05_4_298': 'best_cls_sarcasm_64_FL_1e-05_ml64_4_298_sarcat.pth',\n",
              " '16_FL_2e-05_4_298': 'best_cls_sarcasm_16_FL_2e-05_ml64_4_298_sarcat.pth',\n",
              " '16_FL_1e-05_2_298': 'best_cls_sarcasm_16_FL_1e-05_ml64_2_298_sarcat.pth',\n",
              " '36_FL_1e-05_4_298': 'best_cls_sarcasm_36_FL_1e-05_ml64_4_298_sarcat.pth',\n",
              " '64_FL_2e-05_4_298': 'best_cls_sarcasm_64_FL_2e-05_ml64_4_298_sarcat.pth',\n",
              " '16_FL_2e-05_2_298': 'best_cls_sarcasm_16_FL_2e-05_ml64_2_298_sarcat.pth',\n",
              " '64_FL_1e-05_2_298': 'best_cls_sarcasm_64_FL_1e-05_ml64_2_298_sarcat.pth',\n",
              " '64_FL_2e-05_2_298': 'best_cls_sarcasm_64_FL_2e-05_ml64_2_298_sarcat.pth'}"
            ]
          },
          "metadata": {},
          "execution_count": 30
        }
      ],
      "source": [
        "cls_dict"
      ]
    },
    {
      "cell_type": "code",
      "execution_count": null,
      "metadata": {
        "id": "I7EPUd9T3NtB"
      },
      "outputs": [],
      "source": [
        "def init_weights(m):\n",
        "    classname = m.__class__.__name__\n",
        "    if classname.find('Conv2d') != -1 or classname.find('ConvTranspose2d') != -1:\n",
        "        nn.init.kaiming_uniform_(m.weight)\n",
        "        nn.init.zeros_(m.bias)\n",
        "    elif classname.find('BatchNorm') != -1:\n",
        "        nn.init.normal_(m.weight, 1.0, 0.02)\n",
        "        nn.init.zeros_(m.bias)\n",
        "    elif classname.find('Linear') != -1:\n",
        "        nn.init.xavier_normal_(m.weight)\n",
        "        if m.bias is not None:\n",
        "            nn.init.zeros_(m.bias)"
      ]
    },
    {
      "cell_type": "code",
      "execution_count": null,
      "metadata": {
        "id": "ZVXZrxEtuj8A"
      },
      "outputs": [],
      "source": [
        "\n",
        "class TransformerLayer(nn.Module):\n",
        "    def __init__(self,both=True,\n",
        "                pretrained_path='aubmindlab/bert-base-arabert'):\n",
        "        super(TransformerLayer, self).__init__()\n",
        "\n",
        "        self.both = both\n",
        "        self.transformer = AutoModel.from_pretrained(pretrained_path, output_hidden_states=True)\n",
        "\n",
        "\n",
        "    def forward(self, input_ids=None, attention_mask=None):\n",
        "        outputs = self.transformer(\n",
        "            input_ids=input_ids,\n",
        "            attention_mask=attention_mask\n",
        "        )\n",
        "        # (output_last_layer, pooled_cls, (output_layers))\n",
        "        # output[0] (8, seqlen=64, 768) cls [8, 768] ( 12 (8, seqlen=64, 768))\n",
        "\n",
        "        return outputs\n",
        "\n",
        "    def output_num(self):\n",
        "        return self.transformer.config.hidden_size\n",
        "\n"
      ]
    },
    {
      "cell_type": "code",
      "execution_count": null,
      "metadata": {
        "id": "XmZJJbUMdtb8"
      },
      "outputs": [],
      "source": [
        "def is_emoji(s):\n",
        "    return s in UNICODE_EMOJI"
      ]
    },
    {
      "cell_type": "code",
      "execution_count": null,
      "metadata": {
        "id": "04ZWYcELddfE"
      },
      "outputs": [],
      "source": [
        "def add_space(text):\n",
        "    return ''.join(' ' + char if is_emoji(char) else char for char in text).strip()"
      ]
    },
    {
      "cell_type": "code",
      "execution_count": null,
      "metadata": {
        "id": "Rg9CrGFJDloP"
      },
      "outputs": [],
      "source": [
        "def preprocess(text, lang='ar'):\n",
        "    sent = add_space(text)\n",
        "    sent = re.sub(r'(?:@[\\w_]+)', \"user\", sent)\n",
        "    sent = re.sub(r'http[s]?://(?:[a-z]|[0-9]|[$-_@.&amp;+]|[!*\\(\\),]|(?:%[0-9a-f][0-9a-f]))+', \"url\", sent)\n",
        "    sent = sent.replace('_', ' ')\n",
        "    sent = sent.replace('#', ' ')\n",
        "    return sent\n",
        "\n",
        "def prepare_text(df, col='tweet'):\n",
        "    if col == 'tweet':\n",
        "        df['dialect'] = df['dialect'].map(dic)\n",
        "    for i in range(df.shape[0]):\n",
        "        df.loc[i, col] = df.loc[i, 'dialect'] + ' [SEP] ' + df.loc[i, col]\n",
        "\n",
        "\n",
        "    return df"
      ]
    },
    {
      "cell_type": "code",
      "execution_count": null,
      "metadata": {
        "id": "OnuY4wWSEW5_"
      },
      "outputs": [],
      "source": [
        "class TrainDataset(Dataset):\n",
        "    def __init__(self, df, pretraine_path='xlm-roberta-base', max_length=128):\n",
        "        self.df = df\n",
        "        self.max_length = max_length\n",
        "\n",
        "        self.tokenizer = AutoTokenizer.from_pretrained(pretraine_path)\n",
        "\n",
        "    def __getitem__(self, index):\n",
        "        text = self.df.iloc[index]['tweet']\n",
        "        label = self.df.iloc[index][\"sarcastic\"]\n",
        "        #print(\"label\", label)\n",
        "\n",
        "        encoded_input = self.tokenizer(\n",
        "                text,\n",
        "                max_length = self.max_length,\n",
        "                padding='max_length',\n",
        "                truncation=True,\n",
        "                return_tensors=\"pt\",\n",
        "            )\n",
        "\n",
        "        input_ids = encoded_input[\"input_ids\"]\n",
        "        attention_mask = encoded_input[\"attention_mask\"] if \"attention_mask\" in encoded_input else None\n",
        "\n",
        "        data_input = {\n",
        "            \"input_ids\":input_ids.flatten(),\n",
        "            \"attention_mask\": attention_mask.flatten()\n",
        "        }\n",
        "\n",
        "        label_input ={\n",
        "            \"sarcasm\": torch.tensor(label, dtype=torch.float),\n",
        "        }\n",
        "\n",
        "        return data_input, label_input\n",
        "\n",
        "    def __len__(self):\n",
        "        return self.df.shape[0]"
      ]
    },
    {
      "cell_type": "code",
      "execution_count": null,
      "metadata": {
        "id": "MeIVdV8DJLg1"
      },
      "outputs": [],
      "source": [
        "def loadValData(batchsize=16, num_worker=2, pretraine_path=\"xlm-roberta-base\", max_length=128):\n",
        "    path = \"/content/drive/MyDrive/iSarcasm/Datasets2/split_80_20/val.csv\"\n",
        "    data = pd.read_csv(path, encoding='utf-8')\n",
        "    data['tweet'] = data['tweet'].apply(lambda x:preprocess(x))\n",
        "    print(data.shape)\n",
        "    print(data.head())\n",
        "\n",
        "    data = prepare_text(data, col='tweet')\n",
        "\n",
        "    DF_test = TrainDataset(data, pretraine_path, max_length)\n",
        "\n",
        "    DF_test_loader = DataLoader(dataset=DF_test, batch_size=batchsize, shuffle=False,\n",
        "                                num_workers=num_worker)\n",
        "    return DF_test_loader\n",
        "\n"
      ]
    },
    {
      "cell_type": "code",
      "execution_count": null,
      "metadata": {
        "id": "-6tnueS6JUWc"
      },
      "outputs": [],
      "source": [
        "def loadTestData(batchsize=16, num_worker=2, pretraine_path=\"xlm-roberta-base\", max_length=128):\n",
        "    path = \"/content/drive/MyDrive/iSarcasm/Datasets2/tweet/task_A_Ar_test.csv\"\n",
        "    data = pd.read_csv(path, encoding='utf-8')\n",
        "    data['tweet'] = data['tweet'].apply(lambda x:preprocess(x))\n",
        "    data = prepare_text(data, col='tweet')\n",
        "\n",
        "    DF_test = TrainDataset(data, pretraine_path, max_length)\n",
        "\n",
        "    DF_test_loader = DataLoader(dataset=DF_test, batch_size=batchsize, shuffle=False,\n",
        "                                num_workers=num_worker)\n",
        "\n",
        "\n",
        "    return DF_test_loader\n",
        "\n"
      ]
    },
    {
      "cell_type": "code",
      "execution_count": null,
      "metadata": {
        "id": "4BQSxB-vGN2k"
      },
      "outputs": [],
      "source": [
        "def loadExamplesData(batchsize=16, num_worker=2, pretraine_path=\"xlm-roberta-base\", max_length=128):\n",
        "    path = \"/content/drive/MyDrive/iSarcasm/Datasets2/tweet/examples.csv\"\n",
        "    data = pd.read_csv(path, encoding='utf-8')\n",
        "    data['tweet'] = data['tweet'].apply(lambda x:preprocess(x))\n",
        "    data = prepare_text(data, col='tweet')\n",
        "\n",
        "    DF_test = TrainDataset(data, pretraine_path, max_length)\n",
        "\n",
        "    DF_test_loader = DataLoader(dataset=DF_test, batch_size=batchsize, shuffle=False,\n",
        "                                num_workers=num_worker)\n",
        "\n",
        "\n",
        "    return DF_test_loader\n",
        "\n"
      ]
    },
    {
      "cell_type": "code",
      "execution_count": null,
      "metadata": {
        "id": "p6Vv5oeCJ0j9"
      },
      "outputs": [],
      "source": [
        "def predict(base_model, mt_classifier, iterator):\n",
        "    # initialize every epoch\n",
        "    acc_sarcasm= 0\n",
        "    loss_sarc= 0\n",
        "\n",
        "    # f1_sarcasm =0\n",
        "    # f1_score_macro = 0\n",
        "\n",
        "    all_sarcasm_outputs = np.array([])\n",
        "    all_sarcasm_labels = np.array([])\n",
        "    all_sarcasm_probs = []\n",
        "\n",
        "    # set the model in eval phase\n",
        "    base_model.eval()\n",
        "    mt_classifier.eval()\n",
        "    with torch.no_grad():\n",
        "      for data_input, label_input in Bar(iterator):\n",
        "            for k, v in data_input.items():\n",
        "                data_input[k] = v.to(device)\n",
        "\n",
        "            for k, v in label_input.items():\n",
        "                label_input[k] = v.long().to(device)\n",
        "\n",
        "            sarcasm_target = label_input['sarcasm']\n",
        "\n",
        "            # forward pass\n",
        "\n",
        "            output = base_model(**data_input)\n",
        "            sarcasm_logits = mt_classifier(output)\n",
        "            logits = sarcasm_logits[:,:2]\n",
        "\n",
        "            sarcasm_probs = torch.softmax(logits, dim=1)\n",
        "            # compute the loss\n",
        "            acc_sarcasm += calc_accuracy(sarcasm_probs, sarcasm_target)\n",
        "\n",
        "            _, predicted_sarcasm = torch.max(sarcasm_probs, 1)\n",
        "            all_sarcasm_outputs = np.append(all_sarcasm_outputs, predicted_sarcasm.squeeze().cpu().numpy())\n",
        "            all_sarcasm_labels = np.append(all_sarcasm_labels, sarcasm_target.squeeze().cpu().numpy())\n",
        "            all_sarcasm_probs.extend(sarcasm_probs)\n",
        "\n",
        "    all_sarcasm_outputs = all_sarcasm_outputs.reshape(-1)\n",
        "    all_sarcasm_labels = all_sarcasm_labels.reshape(-1)\n",
        "\n",
        "    # fscore_macro = f1_score(y_true=all_sarcasm_labels, y_pred=all_sarcasm_outputs, average='macro')\n",
        "    # fscore_sarcasm = f1_score(all_sarcasm_labels, all_sarcasm_outputs, average='binary', pos_label=1)\n",
        "\n",
        "\n",
        "    # report_sarcasm = classification_report(y_true=all_sarcasm_labels, y_pred=all_sarcasm_outputs,digits=4)\n",
        "\n",
        "\n",
        "    # accuracies = { 'accuracy': acc_sarcasm / len(iterator), 'f1_sarcastic': fscore_sarcasm, \"f1_score\": fscore_macro, 'report_sarcasm': report_sarcasm}\n",
        "    # return accuracies, all_sarcasm_outputs, all_sarcasm_labels, sarcasm_probs\n",
        "\n",
        "    return all_sarcasm_outputs, all_sarcasm_labels, all_sarcasm_probs\n"
      ]
    },
    {
      "cell_type": "code",
      "source": [
        "# test = pd.read_csv( \"drive/MyDrive/iSarcasm/Datasets/isarcastic/Testing/task_A_Ar_test.csv\")\n",
        "test = pd.read_csv( \"/content/drive/MyDrive/iSarcasm/Datasets2/tweet/task_A_Ar_test.csv\")\n"
      ],
      "metadata": {
        "id": "YPJ3k_j4uif2"
      },
      "execution_count": null,
      "outputs": []
    },
    {
      "cell_type": "code",
      "source": [
        "len_test =len(test)"
      ],
      "metadata": {
        "id": "E7pOS_Lguyjp"
      },
      "execution_count": null,
      "outputs": []
    },
    {
      "cell_type": "code",
      "source": [
        "len_test"
      ],
      "metadata": {
        "colab": {
          "base_uri": "https://localhost:8080/"
        },
        "id": "uiHsOR6pu1CB",
        "outputId": "4731f4aa-2886-4818-8b3b-647b33e36b5d"
      },
      "execution_count": null,
      "outputs": [
        {
          "output_type": "execute_result",
          "data": {
            "text/plain": [
              "1400"
            ]
          },
          "metadata": {},
          "execution_count": 43
        }
      ]
    },
    {
      "cell_type": "code",
      "execution_count": null,
      "metadata": {
        "id": "-NKpcgTUSQw1"
      },
      "outputs": [],
      "source": [
        "def eval_full(config, loader1, n):\n",
        "    df_total = pd.DataFrame.from_dict({'score_0':[0]*len_test, 'score_1':[0]*len_test})\n",
        "    models_outputs = {}\n",
        "    INDIVIDUAL_MODEL_RESULTS_FILE_H = '/content/drive/MyDrive/iSarcasm/attn/m_298/results_i/results_h'+str(n+1)+'.jsonl'\n",
        "    individual_model_db_h = pd.read_json(INDIVIDUAL_MODEL_RESULTS_FILE_H, lines=True)\n",
        "    # print(individual_model_db_h)\n",
        "\n",
        "    NUM_MODELS = len(individual_model_db_h)\n",
        "    # print(\"NUM_MODELS\", NUM_MODELS)\n",
        "\n",
        "    all_models_name = ', '.join(individual_model_db_h['model_name'])\n",
        "\n",
        "    base_model = TransformerLayer(pretrained_path=args['pretrained_path'], both=True).to(device)\n",
        "\n",
        "\n",
        "    j=0\n",
        "    for _, row in individual_model_db_h.iterrows():\n",
        "        x = row['model_name']\n",
        "        # print(\"model name\", x)\n",
        "        # y is the file name of the base\n",
        "        arr = x.split(\"_\")\n",
        "        state_dict_base = torch.load(args['model_location']+f\"/{base_dict[x]}\")\n",
        "        state_dict_cls = torch.load(args['model_location']+f\"/{cls_dict[x]}\")\n",
        "\n",
        "        base_model.load_state_dict(state_dict_base)\n",
        "        classifier = get_model_from_sd(state_dict_cls, base_model)\n",
        "        base_model = base_model.to(device)\n",
        "        classifier = classifier.to(device)\n",
        "        df = pd.DataFrame()\n",
        "        all_outputs, all_outputs_label, all_probs = predict(base_model, classifier, loader1)\n",
        "\n",
        "        all_sarcasm_probs = np.array([])\n",
        "        a = torch.stack(all_probs)\n",
        "        all_sarcasm_probs = (a.cpu().numpy())\n",
        "        df = pd.DataFrame(all_sarcasm_probs, columns = ['score_0','score_1'])\n",
        "        models_outputs[x]= df\n",
        "        df_total = df_total.add( models_outputs[x] [['score_0','score_1']] )\n",
        "\n",
        "    df_total = df_total/len(individual_model_db_h)\n",
        "    df_total['pred'] = df_total.apply(lambda row: 1 if row.score_0 < row.score_1 else 0, axis=1)\n",
        "\n",
        "    # accuracies, all_outputs_pred, all_outputs_label = predict(base_model, classifier, loader1)\n",
        "    return df_total, models_outputs, all_outputs_label, all_models_name\n",
        "\n",
        "    # return accuracies, all_outputs_pred, all_outputs_label, all_models_name\n"
      ]
    },
    {
      "cell_type": "code",
      "execution_count": null,
      "metadata": {
        "id": "2iZWFwoCqaHZ"
      },
      "outputs": [],
      "source": [
        "def get_model_from_sd(state_dict_cls, base_model):\n",
        "    # print(\"state_dict_cls\",state_dict_cls.keys())\n",
        "    feature_dim = state_dict_cls['Classifier.3.weight'].shape[1]\n",
        "    num_classes = state_dict_cls['Classifier.3.weight'].shape[0]\n",
        "\n",
        "\n",
        "    classifier = ATTClassifier(base_model.output_num(), class_num=2).to(device)\n",
        "    classifier.parameters()\n",
        "    for p in classifier.parameters():\n",
        "            p.data = p.data.float()\n",
        "    classifier.load_state_dict(state_dict_cls)\n",
        "    classifier = classifier.cuda()\n",
        "    devices = [x for x in range(torch.cuda.device_count())]\n",
        "    return torch.nn.DataParallel(classifier,  device_ids=devices)"
      ]
    },
    {
      "cell_type": "code",
      "execution_count": null,
      "metadata": {
        "colab": {
          "base_uri": "https://localhost:8080/",
          "height": 400,
          "referenced_widgets": [
            "20081732b9ca480e96c983b934386b63",
            "8ab0e1f4462d4b6cb9c0a16d69a41f66",
            "7985be27fcb24585b3cdeabe52e780a8",
            "5309ab36516e41bbaf8d5b59678ee90d",
            "cd634ff08ced48639cdc75df951cdbc6",
            "49bda30379c74ce4b86240b82893dc6c",
            "90855c10303846dea1f6d8fda1e1c6f8",
            "f51ba644669f4d2ca306c7b5fc70936b",
            "df520d07ce0d4c3d9508264f5d93d905",
            "15fc5c18874b43d1878874118961dba1",
            "91525ec7aa53409a8253c774f9b60093",
            "21a725d5ca0646e98926d2d3be4c4a9e",
            "601922c10392485bb4e0313e35d04194",
            "b11b5fac10714520b333313379b189e4",
            "167129f3aa6e445da0b2f90f7471d694",
            "398e8bc5cf1449ffb14bb9ac6c277b84",
            "31064a0504c64d1b9be3fd7b0d7b520d",
            "dd7eec87fcb44fbeac979d66bdf39541",
            "a29b3b66856f42d5b201a34025b262b0",
            "7266a61631e84678994ed427203f261a",
            "5b2651429e0a49e3bfea36043f757cd0",
            "d49bf2ec154c4fce984b557a985b70cc",
            "02db92dd067247809eaa7b3df7d92432",
            "36c11947cdb0457091bf78c3602af9e0",
            "207e1e518b4942de8746ac72142aa2ed",
            "cc8b0e85dcf542b4bf472c14ec76af13",
            "e64e4e35d2c5469487b077b91dd43a84",
            "e16d04c0e1ac431d9c6f2828b24f2622",
            "4b4d72c2dfc24155afe10fa3f06d4646",
            "6ba7b1383b074ad29fe863e8e6b3729c",
            "286a01ee52964ea7ae77c26bef012e08",
            "c1547a774dda4b1c8bdfaea02d1f5007",
            "a397c16336f541beb53b564d4ee69fca",
            "cca66ff2b0b841d8a9112ef5937541d8",
            "ad79eb861bb44de6a917a79fc0562793",
            "6a93fb154a4b4ae98b8e5e31af6033c9",
            "db138cd6b03948c3a7830b24670210e9",
            "acd37d39a2494de2a75b3d8dfd5ab69b",
            "ca312cc62bb748c1b930b63e88f8e70a",
            "2f87503e74e9418c888acb920b8deec2",
            "a317ee00bd56489a99835ba5db721126",
            "b5d28681be7e408ab2118dedac862a16",
            "5b3ca2bc884641339bde868fc90d62c8",
            "4e4ebd01cdea45469da1a852b4351b64"
          ]
        },
        "id": "55IHdVR-KKzM",
        "outputId": "8622f219-8832-46f2-9bb5-57a8f111dd68"
      },
      "outputs": [
        {
          "output_type": "stream",
          "name": "stdout",
          "text": [
            "(621, 6)\n",
            "   Unnamed: 0    id                                              tweet  \\\n",
            "0         898  2949  كل يوم يافيفي تثبتي انك تستحقي لقب الام المثال...   \n",
            "1         624   673                       والله دي عزومة مراكبية كثيير   \n",
            "2        1062   268                           هالشب أطول من يوم الجمعة   \n",
            "3        1862    36         الباب الي يجيلك منه الريح شيله وركب قبنوري   \n",
            "4         663   632  هوه حد هيعد وراكو الورق ورقنا والدفاتر دفترنا ...   \n",
            "\n",
            "   sarcastic                                    rephrase dialect  \n",
            "0          0                                         NaN    nile  \n",
            "1          1  والله انت بتعرض خدماتك بالقول بس مش بالفعل    nile  \n",
            "2          1                                   الشب طويل  levant  \n",
            "3          1               الي يعملك مشاكل شيله من حياتك    nile  \n",
            "4          1          ارقام لا مصداقية لها وبيانات زائفة    nile  \n"
          ]
        },
        {
          "output_type": "display_data",
          "data": {
            "text/plain": [
              "Downloading (…)okenizer_config.json:   0%|          | 0.00/376 [00:00<?, ?B/s]"
            ],
            "application/vnd.jupyter.widget-view+json": {
              "version_major": 2,
              "version_minor": 0,
              "model_id": "20081732b9ca480e96c983b934386b63"
            }
          },
          "metadata": {}
        },
        {
          "output_type": "display_data",
          "data": {
            "text/plain": [
              "Downloading (…)lve/main/config.json:   0%|          | 0.00/701 [00:00<?, ?B/s]"
            ],
            "application/vnd.jupyter.widget-view+json": {
              "version_major": 2,
              "version_minor": 0,
              "model_id": "21a725d5ca0646e98926d2d3be4c4a9e"
            }
          },
          "metadata": {}
        },
        {
          "output_type": "display_data",
          "data": {
            "text/plain": [
              "Downloading (…)solve/main/vocab.txt:   0%|          | 0.00/1.10M [00:00<?, ?B/s]"
            ],
            "application/vnd.jupyter.widget-view+json": {
              "version_major": 2,
              "version_minor": 0,
              "model_id": "02db92dd067247809eaa7b3df7d92432"
            }
          },
          "metadata": {}
        },
        {
          "output_type": "display_data",
          "data": {
            "text/plain": [
              "Downloading (…)cial_tokens_map.json:   0%|          | 0.00/112 [00:00<?, ?B/s]"
            ],
            "application/vnd.jupyter.widget-view+json": {
              "version_major": 2,
              "version_minor": 0,
              "model_id": "cca66ff2b0b841d8a9112ef5937541d8"
            }
          },
          "metadata": {}
        }
      ],
      "source": [
        "val_loader = loadValData(batchsize=args['batch_size'], num_worker=0, pretraine_path=args['pretrained_path'], max_length=args['max_length'])"
      ]
    },
    {
      "cell_type": "code",
      "execution_count": null,
      "metadata": {
        "id": "UJpGw9o5KGHn"
      },
      "outputs": [],
      "source": [
        "test_loader = loadTestData(batchsize=args['batch_size'], num_worker=0, pretraine_path=args['pretrained_path'],  max_length=args['max_length'])\n"
      ]
    },
    {
      "cell_type": "code",
      "execution_count": null,
      "metadata": {
        "colab": {
          "base_uri": "https://localhost:8080/"
        },
        "id": "JLOaYt4nwPea",
        "outputId": "ed14ce8b-eb9b-4b77-c235-57f03be690e9"
      },
      "outputs": [
        {
          "output_type": "stream",
          "name": "stdout",
          "text": [
            "\u001b[0m\u001b[01;34mdrive\u001b[0m/  \u001b[01;34mresults\u001b[0m/  \u001b[01;34msample_data\u001b[0m/  \u001b[01;34mssd\u001b[0m/\n"
          ]
        }
      ],
      "source": [
        "ls"
      ]
    },
    {
      "cell_type": "code",
      "execution_count": null,
      "metadata": {
        "id": "yINs3svmpTDN"
      },
      "outputs": [],
      "source": [
        "device = torch.device(\"cuda\" if torch.cuda.is_available() else \"cpu\")"
      ]
    },
    {
      "cell_type": "code",
      "source": [
        "TOTAL_MODELS = 16\n",
        "ENSEMBLE_MODEL_RESULTS_FILE_T = 'ensemble_model_results_t.jsonl'"
      ],
      "metadata": {
        "id": "3WoiDjqhFH3M"
      },
      "execution_count": null,
      "outputs": []
    },
    {
      "cell_type": "code",
      "source": [],
      "metadata": {
        "id": "KdnLTBe3Fo_K"
      },
      "execution_count": null,
      "outputs": []
    },
    {
      "cell_type": "code",
      "execution_count": null,
      "metadata": {
        "id": "tZp0Ib8avuyt",
        "colab": {
          "base_uri": "https://localhost:8080/",
          "height": 1000,
          "referenced_widgets": [
            "8a672e87ead74237a8c39412ec1f42da",
            "fdfba22550874ff4a6ce568aa805f2db",
            "6753d99fac044cb7b64e7e30ac715df4",
            "40059ed67c7f48f1812fd934165c4a99",
            "9a9375893e8a4f328b2d450b62a45dfc",
            "732a3ec493494ce9b8147bed49d1efe5",
            "8a6162ec73ce4bc7b13eaafe5c306535",
            "e32ad479aef74a19b499495d5ffbe91a",
            "321c32b30585490ea6fabf9ed371c941",
            "551ed826d4a04492a690b0acf803cd72",
            "bfdd1997ff104279a1e6260b80f65ac0"
          ]
        },
        "outputId": "00cfbe5d-7fc3-46bb-bdd3-b1461b7c0550"
      },
      "outputs": [
        {
          "output_type": "stream",
          "name": "stdout",
          "text": [
            "n 1\n"
          ]
        },
        {
          "output_type": "display_data",
          "data": {
            "text/plain": [
              "Downloading pytorch_model.bin:   0%|          | 0.00/654M [00:00<?, ?B/s]"
            ],
            "application/vnd.jupyter.widget-view+json": {
              "version_major": 2,
              "version_minor": 0,
              "model_id": "8a672e87ead74237a8c39412ec1f42da"
            }
          },
          "metadata": {}
        },
        {
          "output_type": "stream",
          "name": "stdout",
          "text": [
            "1400/1400: [===============================>] - ETA 6.8s\n",
            "n 2\n",
            "1400/1400: [===============================>] - ETA 0.2s\n",
            "1400/1400: [===============================>] - ETA 0.2s\n",
            "n 3\n",
            "1400/1400: [===============================>] - ETA 0.2s\n",
            "1400/1400: [===============================>] - ETA 0.2s\n",
            "1400/1400: [===============================>] - ETA 0.1s\n",
            "n 4\n",
            "1400/1400: [===============================>] - ETA 0.2s\n",
            "1400/1400: [===============================>] - ETA 0.2s\n",
            "1400/1400: [===============================>] - ETA 0.2s\n",
            "1400/1400: [===============================>] - ETA 0.1s\n",
            "n 5\n",
            "1400/1400: [===============================>] - ETA 0.2s\n",
            "1400/1400: [===============================>] - ETA 0.1s\n",
            "1400/1400: [===============================>] - ETA 0.2s\n",
            "1400/1400: [===============================>] - ETA 0.2s\n",
            "1400/1400: [===============================>] - ETA 0.2s\n",
            "n 6\n",
            "1400/1400: [===============================>] - ETA 0.2s\n",
            "1400/1400: [===============================>] - ETA 0.2s\n",
            "1400/1400: [===============================>] - ETA 0.2s\n",
            "1400/1400: [===============================>] - ETA 0.2s\n",
            "1400/1400: [===============================>] - ETA 0.2s\n",
            "1400/1400: [===============================>] - ETA 0.2s\n",
            "n 7\n",
            "1400/1400: [===============================>] - ETA 0.2s\n",
            "1400/1400: [===============================>] - ETA 0.2s\n",
            "1400/1400: [===============================>] - ETA 0.1s\n",
            "1400/1400: [===============================>] - ETA 0.1s\n",
            "1400/1400: [===============================>] - ETA 0.1s\n",
            "1400/1400: [===============================>] - ETA 0.2s\n",
            "1400/1400: [===============================>] - ETA 0.2s\n",
            "n 8\n",
            "1400/1400: [===============================>] - ETA 0.2s\n",
            "1400/1400: [===============================>] - ETA 0.1s\n",
            "1400/1400: [===============================>] - ETA 0.1s\n",
            "1400/1400: [===============================>] - ETA 0.2s\n",
            "1400/1400: [===============================>] - ETA 0.2s\n",
            "1400/1400: [===============================>] - ETA 0.2s\n",
            "1400/1400: [===============================>] - ETA 0.2s\n",
            "1400/1400: [===============================>] - ETA 0.2s\n",
            "n 9\n",
            "1400/1400: [===============================>] - ETA 0.2s\n",
            "1400/1400: [===============================>] - ETA 0.2s\n",
            "1400/1400: [===============================>] - ETA 0.2s\n",
            "1400/1400: [===============================>] - ETA 0.2s\n",
            "1400/1400: [===============================>] - ETA 0.2s\n",
            "1400/1400: [===============================>] - ETA 0.2s\n",
            "1400/1400: [===============================>] - ETA 0.2s\n",
            "1400/1400: [===============================>] - ETA 0.2s\n",
            "1400/1400: [===============================>] - ETA 0.2s\n",
            "n 10\n",
            "1400/1400: [===============================>] - ETA 0.2s\n",
            "1400/1400: [===============================>] - ETA 0.2s\n",
            "1400/1400: [===============================>] - ETA 0.2s\n",
            "1400/1400: [===============================>] - ETA 0.2s\n",
            "1400/1400: [===============================>] - ETA 0.2s\n",
            "1400/1400: [===============================>] - ETA 0.2s\n",
            "1400/1400: [===============================>] - ETA 0.2s\n",
            "1400/1400: [===============================>] - ETA 0.2s\n",
            "1400/1400: [===============================>] - ETA 0.2s\n",
            "1400/1400: [===============================>] - ETA 0.2s\n",
            "n 11\n",
            "1400/1400: [===============================>] - ETA 0.2s\n",
            "1400/1400: [===============================>] - ETA 0.2s\n",
            "1400/1400: [===============================>] - ETA 0.2s\n",
            "1400/1400: [===============================>] - ETA 0.2s\n",
            "1400/1400: [===============================>] - ETA 0.2s\n",
            "1400/1400: [===============================>] - ETA 0.2s\n",
            "1400/1400: [===============================>] - ETA 0.2s\n",
            "1400/1400: [===============================>] - ETA 0.2s\n",
            "1400/1400: [===============================>] - ETA 0.2s\n",
            "1400/1400: [===============================>] - ETA 0.2s\n",
            "1400/1400: [===============================>] - ETA 0.2s\n",
            "n 12\n",
            "1400/1400: [===============================>] - ETA 0.2s\n",
            "1400/1400: [===============================>] - ETA 0.2s\n",
            "1400/1400: [===============================>] - ETA 0.2s\n",
            "1400/1400: [===============================>] - ETA 0.2s\n",
            "1400/1400: [===============================>] - ETA 0.2s\n",
            "1400/1400: [===============================>] - ETA 0.2s\n",
            "1400/1400: [===============================>] - ETA 0.2s\n",
            "1400/1400: [===============================>] - ETA 0.1s\n",
            "1400/1400: [===============================>] - ETA 0.2s\n",
            "1400/1400: [===============================>] - ETA 0.2s\n",
            "1400/1400: [===============================>] - ETA 0.2s\n",
            "1400/1400: [===============================>] - ETA 0.2s\n",
            "n 13\n",
            "1400/1400: [===============================>] - ETA 0.2s\n",
            "1400/1400: [===============================>] - ETA 0.2s\n",
            "1400/1400: [===============================>] - ETA 0.2s\n",
            "1400/1400: [===============================>] - ETA 0.2s\n",
            "1400/1400: [===============================>] - ETA 0.2s\n",
            "1400/1400: [===============================>] - ETA 0.2s\n",
            "1400/1400: [===============================>] - ETA 0.2s\n",
            "1400/1400: [===============================>] - ETA 0.2s\n",
            "1400/1400: [===============================>] - ETA 0.2s\n",
            "1400/1400: [===============================>] - ETA 0.2s\n",
            "1400/1400: [===============================>] - ETA 0.2s\n",
            "1400/1400: [===============================>] - ETA 0.2s\n",
            "1400/1400: [===============================>] - ETA 0.2s\n",
            "n 14\n",
            "1400/1400: [===============================>] - ETA 0.2s\n",
            "1400/1400: [===============================>] - ETA 0.2s\n",
            "1400/1400: [===============================>] - ETA 0.2s\n",
            "1400/1400: [===============================>] - ETA 0.2s\n",
            "1400/1400: [===============================>] - ETA 0.2s\n",
            "1400/1400: [===============================>] - ETA 0.2s\n",
            "1400/1400: [===============================>] - ETA 0.1s\n",
            "1400/1400: [===============================>] - ETA 0.2s\n",
            "1400/1400: [===============================>] - ETA 0.2s\n",
            "1400/1400: [===============================>] - ETA 0.2s\n",
            "1400/1400: [===============================>] - ETA 0.2s\n",
            "1400/1400: [===============================>] - ETA 0.2s\n",
            "1400/1400: [===============================>] - ETA 0.2s\n",
            "1400/1400: [===============================>] - ETA 0.2s\n",
            "n 15\n",
            "1400/1400: [===============================>] - ETA 0.2s\n",
            "1400/1400: [===============================>] - ETA 0.2s\n",
            "1400/1400: [===============================>] - ETA 0.1s\n",
            "1400/1400: [===============================>] - ETA 0.2s\n",
            "1400/1400: [===============================>] - ETA 0.2s\n",
            "1400/1400: [===============================>] - ETA 0.2s\n",
            "1400/1400: [===============================>] - ETA 0.2s\n",
            "1400/1400: [===============================>] - ETA 0.2s\n",
            "1400/1400: [===============================>] - ETA 0.2s\n",
            "1400/1400: [===============================>] - ETA 0.2s\n",
            "1400/1400: [===============================>] - ETA 0.2s\n",
            "1400/1400: [===============================>] - ETA 0.2s\n",
            "1400/1400: [===============================>] - ETA 0.2s\n",
            "1400/1400: [===============================>] - ETA 0.2s\n",
            "1400/1400: [===============================>] - ETA 0.2s\n",
            "n 16\n",
            "1400/1400: [===============================>] - ETA 0.2s\n",
            "1400/1400: [===============================>] - ETA 0.2s\n",
            "1400/1400: [===============================>] - ETA 0.2s\n",
            "1400/1400: [===============================>] - ETA 0.2s\n",
            "1400/1400: [===============================>] - ETA 0.1s\n",
            "1400/1400: [===============================>] - ETA 0.2s\n",
            "1400/1400: [===============================>] - ETA 0.2s\n",
            "1400/1400: [===============================>] - ETA 0.1s\n",
            "1400/1400: [===============================>] - ETA 0.2s\n",
            "1400/1400: [===============================>] - ETA 0.2s\n",
            "1400/1400: [===============================>] - ETA 0.2s\n",
            "1400/1400: [===============================>] - ETA 0.2s\n",
            "1400/1400: [===============================>] - ETA 0.2s\n",
            "1400/1400: [===============================>] - ETA 0.2s\n",
            "1400/1400: [===============================>] - ETA 0.2s\n",
            "1400/1400: [===============================>] - ETA 0.2s\n"
          ]
        }
      ],
      "source": [
        "\n",
        "if os.path.exists(ENSEMBLE_MODEL_RESULTS_FILE_T):\n",
        "    os.remove(ENSEMBLE_MODEL_RESULTS_FILE_T)\n",
        "for n in range(TOTAL_MODELS):\n",
        "    print(\"n\", n+1)\n",
        "\n",
        "    df_total, models_outputs, all_outputs_label, all_models_name = eval_full(args, test_loader, n)\n",
        "\n",
        "    fscore_macro = f1_score(y_true=all_outputs_label, y_pred=df_total['pred'], average='macro')\n",
        "    fscore_sarcasm = f1_score(y_true=all_outputs_label, y_pred=df_total['pred'], average='binary', pos_label=1)\n",
        "    report_sarcasm = classification_report(y_true=all_outputs_label, y_pred=df_total['pred'],digits=4)\n",
        "\n",
        "    test_accuracies = {'f1_sarcastic': fscore_sarcasm, \"f1_score\": fscore_macro, 'report_sarcasm': report_sarcasm}\n",
        "    results = {'model_name' : f'ensemble_model'}\n",
        "    results['f1_sarcastic'] = test_accuracies['f1_sarcastic']\n",
        "    results['f1_score'] = test_accuracies['f1_score']\n",
        "    results['total_models'] = n+1\n",
        "    results['all_models_name'] = all_models_name\n",
        "\n",
        "    with open(ENSEMBLE_MODEL_RESULTS_FILE_T, 'a+') as f:\n",
        "      f.write(json.dumps(results) + '\\n')"
      ]
    },
    {
      "cell_type": "code",
      "execution_count": null,
      "metadata": {
        "colab": {
          "base_uri": "https://localhost:8080/",
          "height": 551
        },
        "id": "4latsb7iAlSu",
        "outputId": "d385e797-8a46-42a4-cbc0-2b55241a079a"
      },
      "outputs": [
        {
          "output_type": "execute_result",
          "data": {
            "text/plain": [
              "        model_name  f1_sarcastic  f1_score  total_models  \\\n",
              "0   ensemble_model      0.673317  0.809355             1   \n",
              "1   ensemble_model      0.668342  0.806694             2   \n",
              "2   ensemble_model      0.680412  0.814501             3   \n",
              "3   ensemble_model      0.689119  0.819705             4   \n",
              "4   ensemble_model      0.688946  0.819380             5   \n",
              "5   ensemble_model      0.663438  0.802603             6   \n",
              "6   ensemble_model      0.692308  0.821258             7   \n",
              "7   ensemble_model      0.690537  0.820154             8   \n",
              "8   ensemble_model      0.701847  0.827586             9   \n",
              "9   ensemble_model      0.687023  0.817961            10   \n",
              "10  ensemble_model      0.688608  0.818732            11   \n",
              "11  ensemble_model      0.690355  0.819824            12   \n",
              "12  ensemble_model      0.706186  0.829461            13   \n",
              "13  ensemble_model      0.687023  0.817961            14   \n",
              "14  ensemble_model      0.688776  0.819056            15   \n",
              "15  ensemble_model      0.695652  0.823127            16   \n",
              "\n",
              "                                      all_models_name  \n",
              "0                                   64_FL_1e-05_4_298  \n",
              "1                36_FL_2e-05_4_298, 32_FL_1e-05_2_298  \n",
              "2   36_FL_2e-05_2_298, 36_FL_1e-05_4_298, 36_FL_2e...  \n",
              "3   64_FL_1e-05_4_298, 32_FL_2e-05_4_298, 32_FL_1e...  \n",
              "4   36_FL_1e-05_2_298, 32_FL_1e-05_4_298, 36_FL_2e...  \n",
              "5   16_FL_1e-05_4_298, 64_FL_2e-05_4_298, 36_FL_2e...  \n",
              "6   36_FL_1e-05_4_298, 32_FL_1e-05_4_298, 16_FL_2e...  \n",
              "7   32_FL_1e-05_4_298, 32_FL_2e-05_2_298, 36_FL_1e...  \n",
              "8   36_FL_1e-05_2_298, 32_FL_1e-05_2_298, 36_FL_2e...  \n",
              "9   16_FL_1e-05_4_298, 64_FL_2e-05_2_298, 16_FL_2e...  \n",
              "10  64_FL_2e-05_4_298, 16_FL_2e-05_2_298, 32_FL_2e...  \n",
              "11  16_FL_2e-05_4_298, 16_FL_1e-05_4_298, 64_FL_1e...  \n",
              "12  64_FL_1e-05_4_298, 36_FL_2e-05_2_298, 64_FL_2e...  \n",
              "13  36_FL_1e-05_4_298, 32_FL_2e-05_2_298, 16_FL_1e...  \n",
              "14  32_FL_1e-05_2_298, 32_FL_2e-05_2_298, 36_FL_2e...  \n",
              "15  32_FL_2e-05_2_298, 64_FL_1e-05_2_298, 16_FL_2e...  "
            ],
            "text/html": [
              "\n",
              "  <div id=\"df-228db3c3-5311-4973-b05e-1c1106076a5f\" class=\"colab-df-container\">\n",
              "    <div>\n",
              "<style scoped>\n",
              "    .dataframe tbody tr th:only-of-type {\n",
              "        vertical-align: middle;\n",
              "    }\n",
              "\n",
              "    .dataframe tbody tr th {\n",
              "        vertical-align: top;\n",
              "    }\n",
              "\n",
              "    .dataframe thead th {\n",
              "        text-align: right;\n",
              "    }\n",
              "</style>\n",
              "<table border=\"1\" class=\"dataframe\">\n",
              "  <thead>\n",
              "    <tr style=\"text-align: right;\">\n",
              "      <th></th>\n",
              "      <th>model_name</th>\n",
              "      <th>f1_sarcastic</th>\n",
              "      <th>f1_score</th>\n",
              "      <th>total_models</th>\n",
              "      <th>all_models_name</th>\n",
              "    </tr>\n",
              "  </thead>\n",
              "  <tbody>\n",
              "    <tr>\n",
              "      <th>0</th>\n",
              "      <td>ensemble_model</td>\n",
              "      <td>0.673317</td>\n",
              "      <td>0.809355</td>\n",
              "      <td>1</td>\n",
              "      <td>64_FL_1e-05_4_298</td>\n",
              "    </tr>\n",
              "    <tr>\n",
              "      <th>1</th>\n",
              "      <td>ensemble_model</td>\n",
              "      <td>0.668342</td>\n",
              "      <td>0.806694</td>\n",
              "      <td>2</td>\n",
              "      <td>36_FL_2e-05_4_298, 32_FL_1e-05_2_298</td>\n",
              "    </tr>\n",
              "    <tr>\n",
              "      <th>2</th>\n",
              "      <td>ensemble_model</td>\n",
              "      <td>0.680412</td>\n",
              "      <td>0.814501</td>\n",
              "      <td>3</td>\n",
              "      <td>36_FL_2e-05_2_298, 36_FL_1e-05_4_298, 36_FL_2e...</td>\n",
              "    </tr>\n",
              "    <tr>\n",
              "      <th>3</th>\n",
              "      <td>ensemble_model</td>\n",
              "      <td>0.689119</td>\n",
              "      <td>0.819705</td>\n",
              "      <td>4</td>\n",
              "      <td>64_FL_1e-05_4_298, 32_FL_2e-05_4_298, 32_FL_1e...</td>\n",
              "    </tr>\n",
              "    <tr>\n",
              "      <th>4</th>\n",
              "      <td>ensemble_model</td>\n",
              "      <td>0.688946</td>\n",
              "      <td>0.819380</td>\n",
              "      <td>5</td>\n",
              "      <td>36_FL_1e-05_2_298, 32_FL_1e-05_4_298, 36_FL_2e...</td>\n",
              "    </tr>\n",
              "    <tr>\n",
              "      <th>5</th>\n",
              "      <td>ensemble_model</td>\n",
              "      <td>0.663438</td>\n",
              "      <td>0.802603</td>\n",
              "      <td>6</td>\n",
              "      <td>16_FL_1e-05_4_298, 64_FL_2e-05_4_298, 36_FL_2e...</td>\n",
              "    </tr>\n",
              "    <tr>\n",
              "      <th>6</th>\n",
              "      <td>ensemble_model</td>\n",
              "      <td>0.692308</td>\n",
              "      <td>0.821258</td>\n",
              "      <td>7</td>\n",
              "      <td>36_FL_1e-05_4_298, 32_FL_1e-05_4_298, 16_FL_2e...</td>\n",
              "    </tr>\n",
              "    <tr>\n",
              "      <th>7</th>\n",
              "      <td>ensemble_model</td>\n",
              "      <td>0.690537</td>\n",
              "      <td>0.820154</td>\n",
              "      <td>8</td>\n",
              "      <td>32_FL_1e-05_4_298, 32_FL_2e-05_2_298, 36_FL_1e...</td>\n",
              "    </tr>\n",
              "    <tr>\n",
              "      <th>8</th>\n",
              "      <td>ensemble_model</td>\n",
              "      <td>0.701847</td>\n",
              "      <td>0.827586</td>\n",
              "      <td>9</td>\n",
              "      <td>36_FL_1e-05_2_298, 32_FL_1e-05_2_298, 36_FL_2e...</td>\n",
              "    </tr>\n",
              "    <tr>\n",
              "      <th>9</th>\n",
              "      <td>ensemble_model</td>\n",
              "      <td>0.687023</td>\n",
              "      <td>0.817961</td>\n",
              "      <td>10</td>\n",
              "      <td>16_FL_1e-05_4_298, 64_FL_2e-05_2_298, 16_FL_2e...</td>\n",
              "    </tr>\n",
              "    <tr>\n",
              "      <th>10</th>\n",
              "      <td>ensemble_model</td>\n",
              "      <td>0.688608</td>\n",
              "      <td>0.818732</td>\n",
              "      <td>11</td>\n",
              "      <td>64_FL_2e-05_4_298, 16_FL_2e-05_2_298, 32_FL_2e...</td>\n",
              "    </tr>\n",
              "    <tr>\n",
              "      <th>11</th>\n",
              "      <td>ensemble_model</td>\n",
              "      <td>0.690355</td>\n",
              "      <td>0.819824</td>\n",
              "      <td>12</td>\n",
              "      <td>16_FL_2e-05_4_298, 16_FL_1e-05_4_298, 64_FL_1e...</td>\n",
              "    </tr>\n",
              "    <tr>\n",
              "      <th>12</th>\n",
              "      <td>ensemble_model</td>\n",
              "      <td>0.706186</td>\n",
              "      <td>0.829461</td>\n",
              "      <td>13</td>\n",
              "      <td>64_FL_1e-05_4_298, 36_FL_2e-05_2_298, 64_FL_2e...</td>\n",
              "    </tr>\n",
              "    <tr>\n",
              "      <th>13</th>\n",
              "      <td>ensemble_model</td>\n",
              "      <td>0.687023</td>\n",
              "      <td>0.817961</td>\n",
              "      <td>14</td>\n",
              "      <td>36_FL_1e-05_4_298, 32_FL_2e-05_2_298, 16_FL_1e...</td>\n",
              "    </tr>\n",
              "    <tr>\n",
              "      <th>14</th>\n",
              "      <td>ensemble_model</td>\n",
              "      <td>0.688776</td>\n",
              "      <td>0.819056</td>\n",
              "      <td>15</td>\n",
              "      <td>32_FL_1e-05_2_298, 32_FL_2e-05_2_298, 36_FL_2e...</td>\n",
              "    </tr>\n",
              "    <tr>\n",
              "      <th>15</th>\n",
              "      <td>ensemble_model</td>\n",
              "      <td>0.695652</td>\n",
              "      <td>0.823127</td>\n",
              "      <td>16</td>\n",
              "      <td>32_FL_2e-05_2_298, 64_FL_1e-05_2_298, 16_FL_2e...</td>\n",
              "    </tr>\n",
              "  </tbody>\n",
              "</table>\n",
              "</div>\n",
              "    <div class=\"colab-df-buttons\">\n",
              "\n",
              "  <div class=\"colab-df-container\">\n",
              "    <button class=\"colab-df-convert\" onclick=\"convertToInteractive('df-228db3c3-5311-4973-b05e-1c1106076a5f')\"\n",
              "            title=\"Convert this dataframe to an interactive table.\"\n",
              "            style=\"display:none;\">\n",
              "\n",
              "  <svg xmlns=\"http://www.w3.org/2000/svg\" height=\"24px\" viewBox=\"0 -960 960 960\">\n",
              "    <path d=\"M120-120v-720h720v720H120Zm60-500h600v-160H180v160Zm220 220h160v-160H400v160Zm0 220h160v-160H400v160ZM180-400h160v-160H180v160Zm440 0h160v-160H620v160ZM180-180h160v-160H180v160Zm440 0h160v-160H620v160Z\"/>\n",
              "  </svg>\n",
              "    </button>\n",
              "\n",
              "  <style>\n",
              "    .colab-df-container {\n",
              "      display:flex;\n",
              "      gap: 12px;\n",
              "    }\n",
              "\n",
              "    .colab-df-convert {\n",
              "      background-color: #E8F0FE;\n",
              "      border: none;\n",
              "      border-radius: 50%;\n",
              "      cursor: pointer;\n",
              "      display: none;\n",
              "      fill: #1967D2;\n",
              "      height: 32px;\n",
              "      padding: 0 0 0 0;\n",
              "      width: 32px;\n",
              "    }\n",
              "\n",
              "    .colab-df-convert:hover {\n",
              "      background-color: #E2EBFA;\n",
              "      box-shadow: 0px 1px 2px rgba(60, 64, 67, 0.3), 0px 1px 3px 1px rgba(60, 64, 67, 0.15);\n",
              "      fill: #174EA6;\n",
              "    }\n",
              "\n",
              "    .colab-df-buttons div {\n",
              "      margin-bottom: 4px;\n",
              "    }\n",
              "\n",
              "    [theme=dark] .colab-df-convert {\n",
              "      background-color: #3B4455;\n",
              "      fill: #D2E3FC;\n",
              "    }\n",
              "\n",
              "    [theme=dark] .colab-df-convert:hover {\n",
              "      background-color: #434B5C;\n",
              "      box-shadow: 0px 1px 3px 1px rgba(0, 0, 0, 0.15);\n",
              "      filter: drop-shadow(0px 1px 2px rgba(0, 0, 0, 0.3));\n",
              "      fill: #FFFFFF;\n",
              "    }\n",
              "  </style>\n",
              "\n",
              "    <script>\n",
              "      const buttonEl =\n",
              "        document.querySelector('#df-228db3c3-5311-4973-b05e-1c1106076a5f button.colab-df-convert');\n",
              "      buttonEl.style.display =\n",
              "        google.colab.kernel.accessAllowed ? 'block' : 'none';\n",
              "\n",
              "      async function convertToInteractive(key) {\n",
              "        const element = document.querySelector('#df-228db3c3-5311-4973-b05e-1c1106076a5f');\n",
              "        const dataTable =\n",
              "          await google.colab.kernel.invokeFunction('convertToInteractive',\n",
              "                                                    [key], {});\n",
              "        if (!dataTable) return;\n",
              "\n",
              "        const docLinkHtml = 'Like what you see? Visit the ' +\n",
              "          '<a target=\"_blank\" href=https://colab.research.google.com/notebooks/data_table.ipynb>data table notebook</a>'\n",
              "          + ' to learn more about interactive tables.';\n",
              "        element.innerHTML = '';\n",
              "        dataTable['output_type'] = 'display_data';\n",
              "        await google.colab.output.renderOutput(dataTable, element);\n",
              "        const docLink = document.createElement('div');\n",
              "        docLink.innerHTML = docLinkHtml;\n",
              "        element.appendChild(docLink);\n",
              "      }\n",
              "    </script>\n",
              "  </div>\n",
              "\n",
              "\n",
              "<div id=\"df-35e6c220-8238-4efb-b316-fd28a5d745cb\">\n",
              "  <button class=\"colab-df-quickchart\" onclick=\"quickchart('df-35e6c220-8238-4efb-b316-fd28a5d745cb')\"\n",
              "            title=\"Suggest charts.\"\n",
              "            style=\"display:none;\">\n",
              "\n",
              "<svg xmlns=\"http://www.w3.org/2000/svg\" height=\"24px\"viewBox=\"0 0 24 24\"\n",
              "     width=\"24px\">\n",
              "    <g>\n",
              "        <path d=\"M19 3H5c-1.1 0-2 .9-2 2v14c0 1.1.9 2 2 2h14c1.1 0 2-.9 2-2V5c0-1.1-.9-2-2-2zM9 17H7v-7h2v7zm4 0h-2V7h2v10zm4 0h-2v-4h2v4z\"/>\n",
              "    </g>\n",
              "</svg>\n",
              "  </button>\n",
              "\n",
              "<style>\n",
              "  .colab-df-quickchart {\n",
              "      --bg-color: #E8F0FE;\n",
              "      --fill-color: #1967D2;\n",
              "      --hover-bg-color: #E2EBFA;\n",
              "      --hover-fill-color: #174EA6;\n",
              "      --disabled-fill-color: #AAA;\n",
              "      --disabled-bg-color: #DDD;\n",
              "  }\n",
              "\n",
              "  [theme=dark] .colab-df-quickchart {\n",
              "      --bg-color: #3B4455;\n",
              "      --fill-color: #D2E3FC;\n",
              "      --hover-bg-color: #434B5C;\n",
              "      --hover-fill-color: #FFFFFF;\n",
              "      --disabled-bg-color: #3B4455;\n",
              "      --disabled-fill-color: #666;\n",
              "  }\n",
              "\n",
              "  .colab-df-quickchart {\n",
              "    background-color: var(--bg-color);\n",
              "    border: none;\n",
              "    border-radius: 50%;\n",
              "    cursor: pointer;\n",
              "    display: none;\n",
              "    fill: var(--fill-color);\n",
              "    height: 32px;\n",
              "    padding: 0;\n",
              "    width: 32px;\n",
              "  }\n",
              "\n",
              "  .colab-df-quickchart:hover {\n",
              "    background-color: var(--hover-bg-color);\n",
              "    box-shadow: 0 1px 2px rgba(60, 64, 67, 0.3), 0 1px 3px 1px rgba(60, 64, 67, 0.15);\n",
              "    fill: var(--button-hover-fill-color);\n",
              "  }\n",
              "\n",
              "  .colab-df-quickchart-complete:disabled,\n",
              "  .colab-df-quickchart-complete:disabled:hover {\n",
              "    background-color: var(--disabled-bg-color);\n",
              "    fill: var(--disabled-fill-color);\n",
              "    box-shadow: none;\n",
              "  }\n",
              "\n",
              "  .colab-df-spinner {\n",
              "    border: 2px solid var(--fill-color);\n",
              "    border-color: transparent;\n",
              "    border-bottom-color: var(--fill-color);\n",
              "    animation:\n",
              "      spin 1s steps(1) infinite;\n",
              "  }\n",
              "\n",
              "  @keyframes spin {\n",
              "    0% {\n",
              "      border-color: transparent;\n",
              "      border-bottom-color: var(--fill-color);\n",
              "      border-left-color: var(--fill-color);\n",
              "    }\n",
              "    20% {\n",
              "      border-color: transparent;\n",
              "      border-left-color: var(--fill-color);\n",
              "      border-top-color: var(--fill-color);\n",
              "    }\n",
              "    30% {\n",
              "      border-color: transparent;\n",
              "      border-left-color: var(--fill-color);\n",
              "      border-top-color: var(--fill-color);\n",
              "      border-right-color: var(--fill-color);\n",
              "    }\n",
              "    40% {\n",
              "      border-color: transparent;\n",
              "      border-right-color: var(--fill-color);\n",
              "      border-top-color: var(--fill-color);\n",
              "    }\n",
              "    60% {\n",
              "      border-color: transparent;\n",
              "      border-right-color: var(--fill-color);\n",
              "    }\n",
              "    80% {\n",
              "      border-color: transparent;\n",
              "      border-right-color: var(--fill-color);\n",
              "      border-bottom-color: var(--fill-color);\n",
              "    }\n",
              "    90% {\n",
              "      border-color: transparent;\n",
              "      border-bottom-color: var(--fill-color);\n",
              "    }\n",
              "  }\n",
              "</style>\n",
              "\n",
              "  <script>\n",
              "    async function quickchart(key) {\n",
              "      const quickchartButtonEl =\n",
              "        document.querySelector('#' + key + ' button');\n",
              "      quickchartButtonEl.disabled = true;  // To prevent multiple clicks.\n",
              "      quickchartButtonEl.classList.add('colab-df-spinner');\n",
              "      try {\n",
              "        const charts = await google.colab.kernel.invokeFunction(\n",
              "            'suggestCharts', [key], {});\n",
              "      } catch (error) {\n",
              "        console.error('Error during call to suggestCharts:', error);\n",
              "      }\n",
              "      quickchartButtonEl.classList.remove('colab-df-spinner');\n",
              "      quickchartButtonEl.classList.add('colab-df-quickchart-complete');\n",
              "    }\n",
              "    (() => {\n",
              "      let quickchartButtonEl =\n",
              "        document.querySelector('#df-35e6c220-8238-4efb-b316-fd28a5d745cb button');\n",
              "      quickchartButtonEl.style.display =\n",
              "        google.colab.kernel.accessAllowed ? 'block' : 'none';\n",
              "    })();\n",
              "  </script>\n",
              "</div>\n",
              "    </div>\n",
              "  </div>\n"
            ]
          },
          "metadata": {},
          "execution_count": 52
        }
      ],
      "source": [
        "ensemble_model_db_t = pd.read_json(ENSEMBLE_MODEL_RESULTS_FILE_T, lines=True)\n",
        "ensemble_model_db_t"
      ]
    },
    {
      "cell_type": "code",
      "source": [
        "\n",
        "UNIFORM_SOUP_RESULTS_FILE_H = '/content/drive/MyDrive/iSarcasm/attn/m_298/results_i/uniform_soup_results_h.jsonl'\n",
        "UNIFORM_SOUP_RESULTS_FILE_T = '/content/drive/MyDrive/iSarcasm/attn/m_298/results_i/uniform_soup_results_t.jsonl'\n",
        "\n",
        "GREEDY_SOUP_RESULTS_FILE_H = '/content/drive/MyDrive/iSarcasm/attn/m_298/results_i/greedy_soup_results_h.jsonl'\n",
        "GREEDY_SOUP_RESULTS_FILE_T = '/content/drive/MyDrive/iSarcasm/attn/m_298/results_i/greedy_soup_results_t.jsonl'\n",
        "BEST_MODEL_RESULTS_FILE_T =  '/content/drive/MyDrive/iSarcasm/attn/m_298/results_i/best_model_f_all.jsonl'\n",
        "ENSEMBLE_MODEL_RESULTS_FILE_T =  '/content/drive/MyDrive/iSarcasm/attn/m_298/results_i/ensemble_model_results_t.jsonl'"
      ],
      "metadata": {
        "id": "3Z7hqNrgT4As"
      },
      "execution_count": null,
      "outputs": []
    },
    {
      "cell_type": "code",
      "source": [],
      "metadata": {
        "id": "xaUqXCdXY-jj"
      },
      "execution_count": null,
      "outputs": []
    },
    {
      "cell_type": "code",
      "source": [
        "uniform_soup_model_db_t = pd.read_json(UNIFORM_SOUP_RESULTS_FILE_T, lines=True)\n",
        "# uniform_soup_model_db_t"
      ],
      "metadata": {
        "id": "SheWT9J4Ulsc"
      },
      "execution_count": null,
      "outputs": []
    },
    {
      "cell_type": "code",
      "source": [
        "greedy_soup_model_db_t = pd.read_json(GREEDY_SOUP_RESULTS_FILE_T, lines=True)\n",
        "# greedy_soup_model_db_t"
      ],
      "metadata": {
        "id": "O7aB3UVCUeD7"
      },
      "execution_count": null,
      "outputs": []
    },
    {
      "cell_type": "code",
      "source": [
        "best_model_db_t = pd.read_json(BEST_MODEL_RESULTS_FILE_T, lines=True)\n",
        "# print(\"best_model_db_h\", best_model_db_h)"
      ],
      "metadata": {
        "id": "Dzcy9W0PUqek"
      },
      "execution_count": null,
      "outputs": []
    },
    {
      "cell_type": "code",
      "source": [
        "ensemble_model_db_t = pd.read_json(ENSEMBLE_MODEL_RESULTS_FILE_T, lines=True)\n",
        "# ensemble_model_db_t"
      ],
      "metadata": {
        "id": "pr_5B8OyIhsR"
      },
      "execution_count": null,
      "outputs": []
    },
    {
      "cell_type": "code",
      "source": [
        "best_model_db_t['f1_sarcastic']"
      ],
      "metadata": {
        "colab": {
          "base_uri": "https://localhost:8080/"
        },
        "id": "kAw69ssvZHZ0",
        "outputId": "13e7b518-0a48-439f-a95c-e951fc3a7316"
      },
      "execution_count": null,
      "outputs": [
        {
          "output_type": "execute_result",
          "data": {
            "text/plain": [
              "0     0.673317\n",
              "1     0.655502\n",
              "2     0.655502\n",
              "3     0.673418\n",
              "4     0.655502\n",
              "5     0.642534\n",
              "6     0.608889\n",
              "7     0.642534\n",
              "8     0.655502\n",
              "9     0.642534\n",
              "10    0.642534\n",
              "11    0.642534\n",
              "12    0.642534\n",
              "13    0.642534\n",
              "14    0.642534\n",
              "15    0.642534\n",
              "Name: f1_sarcastic, dtype: float64"
            ]
          },
          "metadata": {},
          "execution_count": 59
        }
      ]
    },
    {
      "cell_type": "code",
      "source": [
        "avg_best= best_model_db_t['f1_sarcastic'].sum()/16"
      ],
      "metadata": {
        "id": "Ogg6J69bZEUx"
      },
      "execution_count": null,
      "outputs": []
    },
    {
      "cell_type": "code",
      "source": [
        "avg_best"
      ],
      "metadata": {
        "colab": {
          "base_uri": "https://localhost:8080/"
        },
        "id": "rHTufH0mZYBM",
        "outputId": "eeb3e67a-8c9f-4e16-e025-a9dda8b08009"
      },
      "execution_count": null,
      "outputs": [
        {
          "output_type": "execute_result",
          "data": {
            "text/plain": [
              "0.6475273948674711"
            ]
          },
          "metadata": {},
          "execution_count": 61
        }
      ]
    },
    {
      "cell_type": "code",
      "execution_count": null,
      "metadata": {
        "colab": {
          "base_uri": "https://localhost:8080/",
          "height": 628
        },
        "id": "V8YIIdW-x2uU",
        "outputId": "b5fbf1a4-9f5a-447e-e60e-87771910bfee"
      },
      "outputs": [
        {
          "output_type": "display_data",
          "data": {
            "text/plain": [
              "<Figure size 800x600 with 1 Axes>"
            ],
            "image/png": "[encoded data removed]"
          },
          "metadata": {}
        }
      ],
      "source": [
        "fig = plt.figure(constrained_layout=True, figsize=(8, 6))\n",
        "ax = fig.subplots()\n",
        "ax.plot(\n",
        "    uniform_soup_model_db_t['total_models'].values,\n",
        "    uniform_soup_model_db_t['f1_sarcastic'].values,\n",
        "    marker='o',\n",
        "    color='C0',\n",
        "    # s=130,\n",
        "    label='Uniform Soup',\n",
        "    zorder=10\n",
        ")\n",
        "ax.plot(\n",
        "    greedy_soup_model_db_t['total_models'].values,\n",
        "    greedy_soup_model_db_t['f1_sarcastic'].values,\n",
        "    marker='*',\n",
        "    color='C4',\n",
        "    # s=130,\n",
        "    label='Greedy Soup',\n",
        "    zorder=10\n",
        ")\n",
        "ax.plot(\n",
        "    best_model_db_t['total_models'].values,\n",
        "    best_model_db_t['f1_sarcastic'].values,\n",
        "    marker='x',\n",
        "    color='Brown',\n",
        "    # s=130,\n",
        "    label='Best individual model on val set',\n",
        "    zorder=10\n",
        ")\n",
        "ax.plot(\n",
        "    ensemble_model_db_t['total_models'].values,\n",
        "    ensemble_model_db_t['f1_sarcastic'].values,\n",
        "    marker='s',\n",
        "    color='Red',\n",
        "    # s=130,\n",
        "    label='Ensemble',\n",
        "    zorder=10\n",
        ")\n",
        "\n",
        "ax.hlines(\n",
        "    xmin = 1,\n",
        "    xmax= 16,\n",
        "    y = avg_best,\n",
        "    linestyle='--',\n",
        "    color='Grey',\n",
        "    # s=130,\n",
        "    label='Avg. individual model',\n",
        "    zorder=10\n",
        ")\n",
        "\n",
        "ax.set_ylabel('F1-Sarcasm', fontsize=16)\n",
        "ax.set_xlabel('Number of Models', fontsize=16)\n",
        "ax.grid()\n",
        "ax.legend(fontsize=13)\n",
        "plt.savefig('figure_n_models_attn_t.png', bbox_inches='tight')"
      ]
    },
    {
      "cell_type": "code",
      "source": [
        "INDIVIDUAL_MODEL_RESULTS_FILE_H = '/content/drive/MyDrive/iSarcasm/attn/m_298/results_i/results_h16.jsonl'\n",
        "\n",
        "\n",
        "BEST_MODEL_RESULTS_FILE_H=  '/content/drive/MyDrive/iSarcasm/attn/m_298/results/best_model_f.jsonl'\n"
      ],
      "metadata": {
        "id": "neCPb54GYO7z"
      },
      "execution_count": null,
      "outputs": []
    },
    {
      "cell_type": "code",
      "source": [
        "uniform_soup_db_h = pd.read_json(UNIFORM_SOUP_RESULTS_FILE_H, lines=True)\n",
        "print(\"uniform_soup_db_h\",uniform_soup_db_h)\n"
      ],
      "metadata": {
        "colab": {
          "base_uri": "https://localhost:8080/"
        },
        "id": "WX9gD1jKY6gz",
        "outputId": "57b22f35-f010-4d33-b417-c947e2a50ebc"
      },
      "execution_count": null,
      "outputs": [
        {
          "output_type": "stream",
          "name": "stdout",
          "text": [
            "uniform_soup_db_h         model_name  f1_sarcastic  f1_score  total_models  \\\n",
            "0   uniform_soup_h      0.725869  0.826820             1   \n",
            "1   uniform_soup_h      0.722222  0.825758             2   \n",
            "2   uniform_soup_h      0.732283  0.831729             3   \n",
            "3   uniform_soup_h      0.669492  0.795978             4   \n",
            "4   uniform_soup_h      0.736434  0.833664             5   \n",
            "5   uniform_soup_h      0.732283  0.831729             6   \n",
            "6   uniform_soup_h      0.712551  0.820597             7   \n",
            "7   uniform_soup_h      0.709163  0.817750             8   \n",
            "8   uniform_soup_h      0.702479  0.815240             9   \n",
            "9   uniform_soup_h      0.694215  0.810107            10   \n",
            "10  uniform_soup_h      0.699588  0.813258            11   \n",
            "11  uniform_soup_h      0.699588  0.813258            12   \n",
            "12  uniform_soup_h      0.707317  0.817514            13   \n",
            "13  uniform_soup_h      0.696721  0.811287            14   \n",
            "14  uniform_soup_h      0.696721  0.811287            15   \n",
            "15  uniform_soup_h      0.696721  0.811287            16   \n",
            "\n",
            "                                      all_models_name  \n",
            "0                                   64_FL_1e-05_4_298  \n",
            "1                36_FL_2e-05_4_298, 32_FL_1e-05_2_298  \n",
            "2   36_FL_2e-05_2_298, 36_FL_1e-05_4_298, 36_FL_2e...  \n",
            "3   64_FL_1e-05_4_298, 32_FL_2e-05_4_298, 32_FL_1e...  \n",
            "4   36_FL_1e-05_2_298, 32_FL_1e-05_4_298, 36_FL_2e...  \n",
            "5   16_FL_1e-05_4_298, 64_FL_2e-05_4_298, 36_FL_2e...  \n",
            "6   36_FL_1e-05_4_298, 32_FL_1e-05_4_298, 16_FL_2e...  \n",
            "7   32_FL_1e-05_4_298, 32_FL_2e-05_2_298, 36_FL_1e...  \n",
            "8   36_FL_1e-05_2_298, 32_FL_1e-05_2_298, 36_FL_2e...  \n",
            "9   16_FL_1e-05_4_298, 64_FL_2e-05_2_298, 16_FL_2e...  \n",
            "10  64_FL_2e-05_4_298, 16_FL_2e-05_2_298, 32_FL_2e...  \n",
            "11  16_FL_2e-05_4_298, 16_FL_1e-05_4_298, 64_FL_1e...  \n",
            "12  64_FL_1e-05_4_298, 36_FL_2e-05_2_298, 64_FL_2e...  \n",
            "13  36_FL_1e-05_4_298, 32_FL_2e-05_2_298, 16_FL_1e...  \n",
            "14  32_FL_1e-05_2_298, 32_FL_2e-05_2_298, 36_FL_2e...  \n",
            "15  32_FL_2e-05_2_298, 64_FL_1e-05_2_298, 16_FL_2e...  \n"
          ]
        }
      ]
    },
    {
      "cell_type": "code",
      "source": [
        "greedy_soup_db_h = pd.read_json(GREEDY_SOUP_RESULTS_FILE_H, lines=True)\n",
        "print(\"greedy_soup_db_h\",greedy_soup_db_h)"
      ],
      "metadata": {
        "colab": {
          "base_uri": "https://localhost:8080/"
        },
        "id": "emFccEkRY--U",
        "outputId": "bcba795a-817d-46eb-892a-720190a7bc31"
      },
      "execution_count": null,
      "outputs": [
        {
          "output_type": "stream",
          "name": "stdout",
          "text": [
            "greedy_soup_db_h        model_name  f1_sarcastic  f1_score  num_models  \\\n",
            "0   greedy_soup_h      0.725869  0.826820           1   \n",
            "1   greedy_soup_h      0.736434  0.833664           1   \n",
            "2   greedy_soup_h      0.745098  0.839621           2   \n",
            "3   greedy_soup_h      0.735178  0.833716           1   \n",
            "4   greedy_soup_h      0.745098  0.839621           2   \n",
            "5   greedy_soup_h      0.753846  0.844337           1   \n",
            "6   greedy_soup_h      0.735632  0.832648           1   \n",
            "7   greedy_soup_h      0.746154  0.839472           2   \n",
            "8   greedy_soup_h      0.745098  0.839621           2   \n",
            "9   greedy_soup_h      0.759398  0.846912           2   \n",
            "10  greedy_soup_h      0.759398  0.846912           3   \n",
            "11  greedy_soup_h      0.746154  0.839472           2   \n",
            "12  greedy_soup_h      0.759398  0.846912           2   \n",
            "13  greedy_soup_h      0.753846  0.844337           2   \n",
            "14  greedy_soup_h      0.753846  0.844337           2   \n",
            "15  greedy_soup_h      0.759398  0.846912           3   \n",
            "\n",
            "                                               models  total_models  \\\n",
            "0                                   64_FL_1e-05_4_298             1   \n",
            "1                                   36_FL_2e-05_4_298             2   \n",
            "2                36_FL_2e-05_4_298, 36_FL_1e-05_4_298             3   \n",
            "3                36_FL_1e-05_4_298, 32_FL_1e-05_4_298             4   \n",
            "4                36_FL_2e-05_4_298, 36_FL_1e-05_4_298             5   \n",
            "5                16_FL_1e-05_4_298, 16_FL_2e-05_2_298             6   \n",
            "6                                   16_FL_2e-05_4_298             7   \n",
            "7                16_FL_1e-05_4_298, 32_FL_2e-05_2_298             8   \n",
            "8                36_FL_2e-05_4_298, 36_FL_1e-05_4_298             9   \n",
            "9   16_FL_1e-05_4_298, 16_FL_2e-05_2_298, 64_FL_2e...            10   \n",
            "10  16_FL_1e-05_4_298, 16_FL_2e-05_2_298, 64_FL_2e...            11   \n",
            "11               16_FL_1e-05_4_298, 32_FL_2e-05_2_298            12   \n",
            "12  16_FL_1e-05_4_298, 16_FL_2e-05_2_298, 64_FL_2e...            13   \n",
            "13               16_FL_1e-05_4_298, 16_FL_2e-05_2_298            14   \n",
            "14               16_FL_1e-05_4_298, 16_FL_2e-05_2_298            15   \n",
            "15  16_FL_1e-05_4_298, 16_FL_2e-05_2_298, 64_FL_2e...            16   \n",
            "\n",
            "                                      all_models_name  \n",
            "0                                   64_FL_1e-05_4_298  \n",
            "1                36_FL_2e-05_4_298, 32_FL_1e-05_2_298  \n",
            "2   36_FL_2e-05_2_298, 36_FL_1e-05_4_298, 36_FL_2e...  \n",
            "3   64_FL_1e-05_4_298, 32_FL_2e-05_4_298, 32_FL_1e...  \n",
            "4   36_FL_1e-05_2_298, 32_FL_1e-05_4_298, 36_FL_2e...  \n",
            "5   16_FL_1e-05_4_298, 64_FL_2e-05_4_298, 36_FL_2e...  \n",
            "6   36_FL_1e-05_4_298, 32_FL_1e-05_4_298, 16_FL_2e...  \n",
            "7   32_FL_1e-05_4_298, 32_FL_2e-05_2_298, 36_FL_1e...  \n",
            "8   36_FL_1e-05_2_298, 32_FL_1e-05_2_298, 36_FL_2e...  \n",
            "9   16_FL_1e-05_4_298, 64_FL_2e-05_2_298, 16_FL_2e...  \n",
            "10  64_FL_2e-05_4_298, 16_FL_2e-05_2_298, 32_FL_2e...  \n",
            "11  16_FL_2e-05_4_298, 16_FL_1e-05_4_298, 64_FL_1e...  \n",
            "12  64_FL_1e-05_4_298, 36_FL_2e-05_2_298, 64_FL_2e...  \n",
            "13  36_FL_1e-05_4_298, 32_FL_2e-05_2_298, 16_FL_1e...  \n",
            "14  32_FL_1e-05_2_298, 32_FL_2e-05_2_298, 36_FL_2e...  \n",
            "15  32_FL_2e-05_2_298, 64_FL_1e-05_2_298, 16_FL_2e...  \n"
          ]
        }
      ]
    },
    {
      "cell_type": "code",
      "source": [
        "\n",
        "# Step 5: Plot.\n",
        "individual_model_db_h = pd.read_json(INDIVIDUAL_MODEL_RESULTS_FILE_H, lines=True)\n",
        "print(\"individual_model_db_h\", individual_model_db_h)\n",
        "\n",
        "array=[]\n",
        "array = [i+3 for i in range(TOTAL_MODELS)]\n",
        "print(array)\n",
        "fig = plt.figure(constrained_layout=True, figsize=(8, 6))\n",
        "ax = fig.subplots()\n",
        "\n",
        "ax.scatter(\n",
        "    1,\n",
        "    greedy_soup_db_h['f1_score'][TOTAL_MODELS-1],\n",
        "    marker='*',\n",
        "    color='C4',\n",
        "    s=400,\n",
        "    label='Greedy Soup',\n",
        "    zorder=10\n",
        ")\n",
        "\n",
        "ax.scatter(\n",
        "    2,\n",
        "    uniform_soup_db_h['f1_score'][TOTAL_MODELS-1],\n",
        "    marker='o',\n",
        "    color='C0',\n",
        "    s=200,\n",
        "    label='Uniform Soup',\n",
        "    zorder=10\n",
        ")\n",
        "\n",
        "ax.scatter(\n",
        "    array,\n",
        "    individual_model_db_h['f1_score'].values,\n",
        "    marker='d',\n",
        "    color='C2',\n",
        "    s=130,\n",
        "    label='Individual Models with Various Hyperparameters',\n",
        "    zorder=10\n",
        ")\n",
        "\n",
        "ax.set_ylabel('F1-Score', fontsize=16)\n",
        "ax.set_xlabel('Model Id', fontsize=16)\n",
        "ax.grid()\n",
        "ax.legend(fontsize=13)\n",
        "plt.savefig('figure_att_h.png', bbox_inches='tight')"
      ],
      "metadata": {
        "colab": {
          "base_uri": "https://localhost:8080/",
          "height": 1000
        },
        "id": "zWoQC9BgX_v-",
        "outputId": "ee856343-bd2b-4c0d-8544-a29f68738676"
      },
      "execution_count": null,
      "outputs": [
        {
          "output_type": "stream",
          "name": "stdout",
          "text": [
            "individual_model_db_h            model_name loss_fn  batch_size       lr  f1_sarcastic  f1_score  \\\n",
            "0   32_FL_2e-05_2_298      FL          32  0.00002      0.716535  0.821830   \n",
            "1   64_FL_1e-05_2_298      FL          64  0.00001      0.611354  0.761748   \n",
            "2   16_FL_2e-05_4_298      FL          16  0.00002      0.735632  0.832648   \n",
            "3   36_FL_1e-05_2_298      FL          36  0.00001      0.714286  0.820779   \n",
            "4   32_FL_1e-05_2_298      FL          32  0.00001      0.720000  0.824718   \n",
            "5   36_FL_2e-05_2_298      FL          36  0.00002      0.728682  0.828772   \n",
            "6   64_FL_2e-05_2_298      FL          64  0.00002      0.711462  0.818825   \n",
            "7   32_FL_1e-05_4_298      FL          32  0.00001      0.714859  0.821679   \n",
            "8   16_FL_2e-05_2_298      FL          16  0.00002      0.728682  0.828772   \n",
            "9   32_FL_2e-05_4_298      FL          32  0.00002      0.726562  0.827784   \n",
            "10  36_FL_2e-05_4_298      FL          36  0.00002      0.736434  0.833664   \n",
            "11  64_FL_1e-05_4_298      FL          64  0.00001      0.725869  0.826820   \n",
            "12  16_FL_1e-05_2_298      FL          16  0.00001      0.724409  0.826780   \n",
            "13  36_FL_1e-05_4_298      FL          36  0.00001      0.732283  0.831729   \n",
            "14  16_FL_1e-05_4_298      FL          16  0.00001      0.747170  0.839296   \n",
            "15  64_FL_2e-05_4_298      FL          64  0.00002      0.731518  0.830733   \n",
            "\n",
            "    epoch  seed  \n",
            "0       2   298  \n",
            "1       2   298  \n",
            "2       4   298  \n",
            "3       2   298  \n",
            "4       2   298  \n",
            "5       2   298  \n",
            "6       2   298  \n",
            "7       4   298  \n",
            "8       2   298  \n",
            "9       4   298  \n",
            "10      4   298  \n",
            "11      4   298  \n",
            "12      2   298  \n",
            "13      4   298  \n",
            "14      4   298  \n",
            "15      4   298  \n",
            "[3, 4, 5, 6, 7, 8, 9, 10, 11, 12, 13, 14, 15, 16, 17, 18]\n"
          ]
        },
        {
          "output_type": "display_data",
          "data": {
            "text/plain": [
              "<Figure size 800x600 with 1 Axes>"
            ],
            "image/png": "[encoded data removed]"
          },
          "metadata": {}
        }
      ]
    },
    {
      "cell_type": "code",
      "execution_count": null,
      "metadata": {
        "colab": {
          "base_uri": "https://localhost:8080/"
        },
        "id": "vfUuPC23Wi8o",
        "outputId": "0ca46671-e41c-4902-abfa-63a6f2a059d6"
      },
      "outputs": [
        {
          "name": "stdout",
          "output_type": "stream",
          "text": [
            "\u001b[0m\u001b[01;34mdrive\u001b[0m/                       \u001b[01;34mresults\u001b[0m/\n",
            "figure_f1_h.png              \u001b[01;34msample_data\u001b[0m/\n",
            "figure_t.png                 \u001b[01;34mssd\u001b[0m/\n",
            "greedy_base_model.pth        uniform_base_model.pth\n",
            "greedy_classifier.pth        uniform_classifier.pth\n",
            "greedy_soup_results_h.jsonl  uniform_soup_results_h.jsonl\n",
            "greedy_soup_results_t.jsonl  uniform_soup_results_t.jsonl\n"
          ]
        }
      ],
      "source": [
        "ls"
      ]
    },
    {
      "cell_type": "code",
      "execution_count": null,
      "metadata": {
        "colab": {
          "base_uri": "https://localhost:8080/"
        },
        "id": "D4k4xfj-7KQN",
        "outputId": "676ccb6f-f5a8-413e-99d2-16305979ed20"
      },
      "outputs": [
        {
          "name": "stdout",
          "output_type": "stream",
          "text": [
            " \u001b[0m\u001b[01;34mresults\u001b[0m/  \u001b[01;34m'Untitled folder'\u001b[0m/\n"
          ]
        }
      ],
      "source": [
        "ls '/content/drive/MyDrive/iSarcasm/m_5751_298'"
      ]
    },
    {
      "cell_type": "code",
      "execution_count": null,
      "metadata": {
        "id": "o4VBh7bCXaRW"
      },
      "outputs": [],
      "source": [
        "!mkdir /content/drive/MyDrive/iSarcasm/m_5751_298/results_all_f1"
      ]
    },
    {
      "cell_type": "code",
      "execution_count": null,
      "metadata": {
        "id": "RvyfisBaV42B"
      },
      "outputs": [],
      "source": [
        "%cp uniform_soup_results_h.jsonl /content/drive/MyDrive/iSarcasm/attn/m_298/results_i\n",
        "%cp uniform_soup_results_t.jsonl /content/drive/MyDrive/iSarcasm/attn/m_298/results_i"
      ]
    },
    {
      "cell_type": "code",
      "execution_count": null,
      "metadata": {
        "id": "2G_BY_Q6jSR2"
      },
      "outputs": [],
      "source": [
        "%cp greedy_soup_results_t.jsonl /content/drive/MyDrive/iSarcasm/attn/m_298/results_i\n",
        "%cp greedy_soup_results_h.jsonl /content/drive/MyDrive/iSarcasm/attn/m_298/results_i"
      ]
    },
    {
      "cell_type": "code",
      "execution_count": null,
      "metadata": {
        "colab": {
          "base_uri": "https://localhost:8080/"
        },
        "id": "FPh4UWJWGodx",
        "outputId": "20e35435-ec4b-4c4a-a2a5-ab67747a93c6"
      },
      "outputs": [
        {
          "name": "stdout",
          "output_type": "stream",
          "text": [
            "cp: cannot stat 'best_model_f.jsonl': No such file or directory\n"
          ]
        }
      ],
      "source": [
        "\n",
        "# %cp individual_model_results_h.jsonl /content/drive/MyDrive/iSarcasm/m_5751_298/results_all_f1\n",
        "\n",
        "# %cp individual_model_results_t.jsonl /content/drive/MyDrive/iSarcasm/m_5751_298/results_all_f1\n",
        "\n",
        "\n",
        "%cp best_model_f.jsonl /content/drive/MyDrive/iSarcasm/m_5751_298/results_all_f1\n",
        "\n",
        "\n",
        "%cp figure_h.png /content/drive/MyDrive/iSarcasm/m_5751_298/results_all_f1\n",
        "%cp figure_t.png /content/drive/MyDrive/iSarcasm/m_5751_298/results_all_f1\n",
        "\n",
        "\n",
        "%cp greedy_base_model.pth /content/drive/MyDrive/iSarcasm/m_5751_298/results_all_f1\n",
        "%cp greedy_classifier.pth /content/drive/MyDrive/iSarcasm/m_5751_298/results_all_f1\n",
        "%cp uniform_base_model.pth /content/drive/MyDrive/iSarcasm/m_5751_298/results_all_f1\n",
        "%cp uniform_classifier.pth /content/drive/MyDrive/iSarcasm/m_5751_298/results_all_f1"
      ]
    },
    {
      "cell_type": "code",
      "source": [
        "%cp ensemble_model_results_t.jsonl /content/drive/MyDrive/iSarcasm/attn/m_298/results_i"
      ],
      "metadata": {
        "id": "mHCbYTSoIWHE"
      },
      "execution_count": null,
      "outputs": []
    },
    {
      "cell_type": "code",
      "execution_count": null,
      "metadata": {
        "id": "FTDj_MRyKw90"
      },
      "outputs": [],
      "source": [
        "%cp figure_t.png /content/drive/MyDrive/iSarcasm/attn/m_298/results_i"
      ]
    },
    {
      "cell_type": "code",
      "source": [
        "%cp figure_n_models_t.png /content/drive/MyDrive/iSarcasm/attn/m_298/results_i"
      ],
      "metadata": {
        "id": "gPeIZCfMOyuR"
      },
      "execution_count": null,
      "outputs": []
    },
    {
      "cell_type": "code",
      "source": [
        "%cp figure_n_models_attn_t.png /content/drive/MyDrive/iSarcasm/attn/m_298/results_i"
      ],
      "metadata": {
        "id": "4nedXRL9Z0ef"
      },
      "execution_count": null,
      "outputs": []
    },
    {
      "cell_type": "code",
      "source": [
        "%cp figure_att_h.png /content/drive/MyDrive/iSarcasm/attn/m_298/results_i"
      ],
      "metadata": {
        "id": "8CfmMinzZa6J"
      },
      "execution_count": null,
      "outputs": []
    },
    {
      "cell_type": "code",
      "execution_count": null,
      "metadata": {
        "id": "BJiA5M2TYwf2"
      },
      "outputs": [],
      "source": [
        "ex_loader = loadExamplesData(batchsize=args['batch_size'], num_worker=0, pretraine_path=args['pretrained_path'],  max_length=args['max_length'])\n"
      ]
    },
    {
      "cell_type": "code",
      "execution_count": null,
      "metadata": {
        "colab": {
          "base_uri": "https://localhost:8080/"
        },
        "id": "bY7gcH8JE59J",
        "outputId": "628db5e6-8e6b-42d6-f94d-7dab6fa23efc"
      },
      "outputs": [
        {
          "name": "stdout",
          "output_type": "stream",
          "text": [
            "\r10/10: [>...............................] - ETA 0.0s\n"
          ]
        }
      ],
      "source": [
        "ex_accuracies,ex_outputs, ex_labels = eval_full(args, ex_loader,  uniform_soup_base_model, uniform_soup_classifier )\n"
      ]
    },
    {
      "cell_type": "code",
      "execution_count": null,
      "metadata": {
        "colab": {
          "base_uri": "https://localhost:8080/"
        },
        "id": "SmBIpxyhZHC-",
        "outputId": "c2821249-e720-47f5-d387-33fcd85df150"
      },
      "outputs": [
        {
          "data": {
            "text/plain": [
              "({'accuracy': 1.0,\n",
              "  'f1_sarcastic': 1.0,\n",
              "  'f1_score': 1.0,\n",
              "  'report_sarcasm': '              precision    recall  f1-score   support\\n\\n         0.0     1.0000    1.0000    1.0000         5\\n         1.0     1.0000    1.0000    1.0000         5\\n\\n    accuracy                         1.0000        10\\n   macro avg     1.0000    1.0000    1.0000        10\\nweighted avg     1.0000    1.0000    1.0000        10\\n'},\n",
              " array([0., 1., 0., 1., 0., 1., 0., 1., 0., 1.]),\n",
              " array([0., 1., 0., 1., 0., 1., 0., 1., 0., 1.]))"
            ]
          },
          "execution_count": 103,
          "metadata": {},
          "output_type": "execute_result"
        }
      ],
      "source": [
        "ex_accuracies,ex_outputs, ex_labels"
      ]
    },
    {
      "cell_type": "code",
      "execution_count": null,
      "metadata": {
        "colab": {
          "base_uri": "https://localhost:8080/"
        },
        "id": "J9YGYHOGYVvC",
        "outputId": "a3df492d-554b-4867-9fab-a485ac94d4a4"
      },
      "outputs": [
        {
          "name": "stdout",
          "output_type": "stream",
          "text": [
            "\r10/10: [>...............................] - ETA 0.0s\n"
          ]
        }
      ],
      "source": [
        "ex_accuracies,ex_outputs, ex_labels = eval_full(args, ex_loader,  greedy_soup_base_model, greedy_soup_classifier )"
      ]
    },
    {
      "cell_type": "code",
      "execution_count": null,
      "metadata": {
        "colab": {
          "base_uri": "https://localhost:8080/"
        },
        "id": "A3s471BpZTHF",
        "outputId": "2491da4b-55a1-4980-dcee-e48d3c517b9a"
      },
      "outputs": [
        {
          "data": {
            "text/plain": [
              "({'accuracy': 1.0,\n",
              "  'f1_sarcastic': 1.0,\n",
              "  'f1_score': 1.0,\n",
              "  'report_sarcasm': '              precision    recall  f1-score   support\\n\\n         0.0     1.0000    1.0000    1.0000         5\\n         1.0     1.0000    1.0000    1.0000         5\\n\\n    accuracy                         1.0000        10\\n   macro avg     1.0000    1.0000    1.0000        10\\nweighted avg     1.0000    1.0000    1.0000        10\\n'},\n",
              " array([0., 1., 0., 1., 0., 1., 0., 1., 0., 1.]),\n",
              " array([0., 1., 0., 1., 0., 1., 0., 1., 0., 1.]))"
            ]
          },
          "execution_count": 105,
          "metadata": {},
          "output_type": "execute_result"
        }
      ],
      "source": [
        "ex_accuracies,ex_outputs, ex_labels"
      ]
    },
    {
      "cell_type": "code",
      "execution_count": null,
      "metadata": {
        "colab": {
          "base_uri": "https://localhost:8080/"
        },
        "id": "BY0ElaL4bO6N",
        "outputId": "d6b39326-8063-4c4e-a6c0-9e76841738c3"
      },
      "outputs": [
        {
          "name": "stdout",
          "output_type": "stream",
          "text": [
            "figure_h.png                 greedy_soup_results_t.jsonl\n",
            "figure_t.png                 uniform_base_model.pth\n",
            "greedy_base_model.pth        uniform_classifier.pth\n",
            "greedy_classifier.pth        uniform_soup_results_h.jsonl\n",
            "greedy_soup_results_h.jsonl  uniform_soup_results_t.jsonl\n"
          ]
        }
      ],
      "source": [
        "ls '/content/drive/MyDrive/iSarcasm/attn/m_298/results_all_f1/greedy_base_model.pth '"
      ]
    },
    {
      "cell_type": "code",
      "execution_count": null,
      "metadata": {
        "id": "B1UqbzvCb2fR"
      },
      "outputs": [],
      "source": [
        "base_model = TransformerLayer(pretrained_path=args['pretrained_path'], both=True).to(device)\n",
        "\n",
        "base_model.load_state_dict(torch.load('/content/drive/MyDrive/iSarcasm/attn/m_298/results_all_f1/greedy_base_model.pth'))\n",
        "# ls ./ssd/checkpoints/soups\n",
        "state_dict_cls = torch.load('/content/drive/MyDrive/iSarcasm/attn/m_298/results_all_f1/greedy_classifier.pth')\n",
        "\n",
        "classifier = get_model_from_sd(state_dict_cls, base_model)\n",
        "\n",
        "base_model = base_model.to(device)\n",
        "classifier = classifier.to(device)\n",
        "\n",
        "val_accuracies,val_outputs, val_labels = eval_full(args, ex_loader,  base_model, classifier )\n",
        "\n",
        "val_accuracies,val_outputs, val_labels"
      ]
    },
    {
      "cell_type": "code",
      "execution_count": null,
      "metadata": {
        "colab": {
          "base_uri": "https://localhost:8080/"
        },
        "id": "yksOnVkdchml",
        "outputId": "849056a4-d521-49b2-97a2-f4f9068b5782"
      },
      "outputs": [
        {
          "name": "stdout",
          "output_type": "stream",
          "text": [
            "\r10/10: [>...............................] - ETA 0.0s\n"
          ]
        },
        {
          "data": {
            "text/plain": [
              "({'accuracy': 1.0,\n",
              "  'f1_sarcastic': 1.0,\n",
              "  'f1_score': 1.0,\n",
              "  'report_sarcasm': '              precision    recall  f1-score   support\\n\\n         0.0     1.0000    1.0000    1.0000         5\\n         1.0     1.0000    1.0000    1.0000         5\\n\\n    accuracy                         1.0000        10\\n   macro avg     1.0000    1.0000    1.0000        10\\nweighted avg     1.0000    1.0000    1.0000        10\\n'},\n",
              " array([0., 1., 0., 1., 0., 1., 0., 1., 0., 1.]),\n",
              " array([0., 1., 0., 1., 0., 1., 0., 1., 0., 1.]))"
            ]
          },
          "execution_count": 115,
          "metadata": {},
          "output_type": "execute_result"
        }
      ],
      "source": [
        "base_model = TransformerLayer(pretrained_path=args['pretrained_path'], both=True).to(device)\n",
        "\n",
        "base_model.load_state_dict(torch.load('/content/drive/MyDrive/iSarcasm/attn/m_298/results_all_f1/uniform_base_model.pth'))\n",
        "# ls ./ssd/checkpoints/soups\n",
        "state_dict_cls = torch.load('/content/drive/MyDrive/iSarcasm/attn/m_298/results_all_f1/uniform_classifier.pth')\n",
        "\n",
        "classifier = get_model_from_sd(state_dict_cls, base_model)\n",
        "\n",
        "base_model = base_model.to(device)\n",
        "classifier = classifier.to(device)\n",
        "\n",
        "val_accuracies,val_outputs, val_labels = eval_full(args, ex_loader,  base_model, classifier )\n",
        "\n",
        "val_accuracies,val_outputs, val_labels"
      ]
    },
    {
      "cell_type": "code",
      "execution_count": null,
      "metadata": {
        "id": "Dan1mczsc7F0"
      },
      "outputs": [],
      "source": []
    },
    {
      "cell_type": "markdown",
      "source": [
        "# GRU"
      ],
      "metadata": {
        "id": "91Vl_8YSc99Z"
      }
    },
    {
      "cell_type": "code",
      "source": [
        "\n",
        "UNIFORM_SOUP_RESULTS_FILE_T = '/content/drive/MyDrive/iSarcasm/gru/m_298/results_i/uniform_soup_results_t.jsonl'\n",
        "GREEDY_SOUP_RESULTS_FILE_T = '/content/drive/MyDrive/iSarcasm/gru/m_298/results_i/greedy_soup_results_t.jsonl'\n",
        "BEST_MODEL_RESULTS_FILE_T =  '/content/drive/MyDrive/iSarcasm/gru/m_298/results_i/best_model_f_all.jsonl'\n",
        "\n",
        "ENSEMBLE_MODEL_RESULTS_FILE_T =  '/content/drive/MyDrive/iSarcasm/gru/m_298/results_i/ensemble_model_results_t.jsonl'\n",
        "\n",
        "uniform_soup_model_db_t = pd.read_json(UNIFORM_SOUP_RESULTS_FILE_T, lines=True)\n",
        "\n",
        "greedy_soup_model_db_t = pd.read_json(GREEDY_SOUP_RESULTS_FILE_T, lines=True)\n",
        "\n",
        "best_model_db_t = pd.read_json(BEST_MODEL_RESULTS_FILE_T, lines=True)\n",
        "\n",
        "ensemble_model_db_t = pd.read_json(ENSEMBLE_MODEL_RESULTS_FILE_T, lines=True)\n",
        "\n",
        "TOTAL_MODELS = 16\n",
        "\n",
        "# Step 5: Plot.\n",
        "\n",
        "\n",
        "array=[]\n",
        "array = [i+3 for i in range(TOTAL_MODELS)]\n",
        "print(array)\n",
        "fig = plt.figure(constrained_layout=True, figsize=(8, 6))\n",
        "ax = fig.subplots()\n",
        "\n",
        "ax.bar(\n",
        "    1,\n",
        "    uniform_soup_model_db_t['f1_sarcastic'][TOTAL_MODELS - 1],\n",
        "    # marker='o',\n",
        "    color='C0',\n",
        "    # s=130,\n",
        "    width=0.25,\n",
        "    label='Uniform Soup',\n",
        "    zorder=10\n",
        ")\n",
        "ax.bar(\n",
        "    1.5,\n",
        "    greedy_soup_model_db_t['f1_sarcastic'][TOTAL_MODELS - 1],\n",
        "    # marker='*',\n",
        "    color='C4',\n",
        "    # s=130,\n",
        "    width=0.25,\n",
        "    label='Greedy Soup',\n",
        "    zorder=10\n",
        ")\n",
        "ax.bar(\n",
        "    2,\n",
        "    best_model_db_t['f1_sarcastic'][TOTAL_MODELS - 1],\n",
        "    # marker='x',\n",
        "    color='brown',\n",
        "    # s=130,\n",
        "    width=0.25,\n",
        "    label='Best individual model on val set',\n",
        "    zorder=10\n",
        ")\n",
        "ax.bar(\n",
        "    2.5,\n",
        "    ensemble_model_db_t['f1_sarcastic'][TOTAL_MODELS - 1],\n",
        "    # marker='s',\n",
        "    color='Red',\n",
        "    width=0.25,\n",
        "    # s=130,\n",
        "    label='Ensemble',\n",
        "    zorder=10\n",
        ")\n",
        "\n",
        "for bars in ax.containers:\n",
        "    ax.bar_label(bars)\n",
        "ax.set_ylabel('F1-Sarcasm', fontsize=16)\n",
        "ax.set_xlabel('Model Id', fontsize=16)\n",
        "ax.grid()\n",
        "ax.legend(fontsize=13)\n",
        "# Defines best position of the legend in the figure\n",
        "# ax.legend(loc='lower right', fancybox=True)\n",
        "ax.legend(bbox_to_anchor =(0.75, 1.15), ncol = 2)\n",
        "plt.savefig('figure_gru_t.png', bbox_inches='tight')\n",
        "%cp figure_gru_t.png '/content/drive/MyDrive/iSarcasm/gru/m_298/results_i'"
      ],
      "metadata": {
        "colab": {
          "base_uri": "https://localhost:8080/",
          "height": 646
        },
        "id": "20Xr0dgvdSJs",
        "outputId": "e751ee7d-5c6d-4824-b1fa-6d03725298fa"
      },
      "execution_count": null,
      "outputs": [
        {
          "output_type": "stream",
          "name": "stdout",
          "text": [
            "[3, 4, 5, 6, 7, 8, 9, 10, 11, 12, 13, 14, 15, 16, 17, 18]\n"
          ]
        },
        {
          "output_type": "display_data",
          "data": {
            "text/plain": [
              "<Figure size 800x600 with 1 Axes>"
            ],
            "image/png": "[encoded data removed]"
          },
          "metadata": {}
        }
      ]
    },
    {
      "cell_type": "markdown",
      "source": [
        "# attn"
      ],
      "metadata": {
        "id": "6xOT9fS_uPAd"
      }
    },
    {
      "cell_type": "code",
      "source": [
        "\n",
        "UNIFORM_SOUP_RESULTS_FILE_T = '/content/drive/MyDrive/iSarcasm/attn/m_298/results_i/uniform_soup_results_t.jsonl'\n",
        "GREEDY_SOUP_RESULTS_FILE_T = '/content/drive/MyDrive/iSarcasm/attn/m_298/results_i/greedy_soup_results_t.jsonl'\n",
        "BEST_MODEL_RESULTS_FILE_T =  '/content/drive/MyDrive/iSarcasm/attn/m_298/results_i/best_model_f_all.jsonl'\n",
        "\n",
        "ENSEMBLE_MODEL_RESULTS_FILE_T =  '/content/drive/MyDrive/iSarcasm/attn/m_298/results_i/ensemble_model_results_t.jsonl'\n",
        "\n",
        "uniform_soup_model_db_t = pd.read_json(UNIFORM_SOUP_RESULTS_FILE_T, lines=True)\n",
        "\n",
        "greedy_soup_model_db_t = pd.read_json(GREEDY_SOUP_RESULTS_FILE_T, lines=True)\n",
        "\n",
        "best_model_db_t = pd.read_json(BEST_MODEL_RESULTS_FILE_T, lines=True)\n",
        "\n",
        "ensemble_model_db_t = pd.read_json(ENSEMBLE_MODEL_RESULTS_FILE_T, lines=True)\n",
        "\n",
        "TOTAL_MODELS = 16\n",
        "\n",
        "# Step 5: Plot.\n",
        "\n",
        "\n",
        "array=[]\n",
        "array = [i+3 for i in range(TOTAL_MODELS)]\n",
        "print(array)\n",
        "fig = plt.figure(constrained_layout=True, figsize=(8, 6))\n",
        "ax = fig.subplots()\n",
        "\n",
        "ax.bar(\n",
        "    1,\n",
        "    uniform_soup_model_db_t['f1_sarcastic'][TOTAL_MODELS - 1],\n",
        "    # marker='o',\n",
        "    color='C0',\n",
        "    # s=130,\n",
        "    width=0.25,\n",
        "    label='Uniform Soup',\n",
        "    zorder=10\n",
        ")\n",
        "ax.bar(\n",
        "    1.5,\n",
        "    greedy_soup_model_db_t['f1_sarcastic'][TOTAL_MODELS - 1],\n",
        "    # marker='*',\n",
        "    color='C4',\n",
        "    # s=130,\n",
        "    width=0.25,\n",
        "    label='Greedy Soup',\n",
        "    zorder=10\n",
        ")\n",
        "ax.bar(\n",
        "    2,\n",
        "    best_model_db_t['f1_sarcastic'][TOTAL_MODELS - 1],\n",
        "    # marker='x',\n",
        "    color='brown',\n",
        "    # s=130,\n",
        "    width=0.25,\n",
        "    label='Best individual model on val set',\n",
        "    zorder=10\n",
        ")\n",
        "ax.bar(\n",
        "    2.5,\n",
        "    ensemble_model_db_t['f1_sarcastic'][TOTAL_MODELS - 1],\n",
        "    # marker='s',\n",
        "    color='Red',\n",
        "    width=0.25,\n",
        "    # s=130,\n",
        "    label='Ensemble',\n",
        "    zorder=10\n",
        ")\n",
        "for bars in ax.containers:\n",
        "    ax.bar_label(bars)\n",
        "\n",
        "ax.set_ylabel('F1-Sarcasm', fontsize=16)\n",
        "ax.set_xlabel('Model Id', fontsize=16)\n",
        "ax.grid()\n",
        "ax.legend(fontsize=13)\n",
        "# Defines best position of the legend in the figure\n",
        "# ax.legend(loc='lower right', fancybox=True)\n",
        "ax.legend(bbox_to_anchor =(0.75, 1.15), ncol = 2)\n",
        "plt.savefig('figure_attn_t.png', bbox_inches='tight')\n"
      ],
      "metadata": {
        "colab": {
          "base_uri": "https://localhost:8080/",
          "height": 646
        },
        "id": "OOER_HFfl0go",
        "outputId": "90d7356c-503f-45f3-d5df-b55b5db3b9a4"
      },
      "execution_count": null,
      "outputs": [
        {
          "output_type": "stream",
          "name": "stdout",
          "text": [
            "[3, 4, 5, 6, 7, 8, 9, 10, 11, 12, 13, 14, 15, 16, 17, 18]\n"
          ]
        },
        {
          "output_type": "display_data",
          "data": {
            "text/plain": [
              "<Figure size 800x600 with 1 Axes>"
            ],
            "image/png": "[encoded data removed]"
          },
          "metadata": {}
        }
      ]
    },
    {
      "cell_type": "code",
      "source": [
        " %cp figure_attn_t.png '/content/drive/MyDrive/iSarcasm/attn/m_298/results_i'"
      ],
      "metadata": {
        "id": "wKJMKYaKu5B5"
      },
      "execution_count": null,
      "outputs": []
    },
    {
      "cell_type": "code",
      "source": [],
      "metadata": {
        "id": "8DSuMWeCwT3E"
      },
      "execution_count": null,
      "outputs": []
    }
  ],
  "metadata": {
    "colab": {
      "provenance": []
    },
    "kernelspec": {
      "display_name": "Python 3",
      "name": "python3"
    },
    "language_info": {
      "name": "python"
    },
    "widgets": {
      "application/vnd.jupyter.widget-state+json": {
        "20081732b9ca480e96c983b934386b63": {
          "model_module": "@jupyter-widgets/controls",
          "model_name": "HBoxModel",
          "model_module_version": "1.5.0",
          "state": {
            "_dom_classes": [],
            "_model_module": "@jupyter-widgets/controls",
            "_model_module_version": "1.5.0",
            "_model_name": "HBoxModel",
            "_view_count": null,
            "_view_module": "@jupyter-widgets/controls",
            "_view_module_version": "1.5.0",
            "_view_name": "HBoxView",
            "box_style": "",
            "children": [
              "IPY_MODEL_8ab0e1f4462d4b6cb9c0a16d69a41f66",
              "IPY_MODEL_7985be27fcb24585b3cdeabe52e780a8",
              "IPY_MODEL_5309ab36516e41bbaf8d5b59678ee90d"
            ],
            "layout": "IPY_MODEL_cd634ff08ced48639cdc75df951cdbc6"
          }
        },
        "8ab0e1f4462d4b6cb9c0a16d69a41f66": {
          "model_module": "@jupyter-widgets/controls",
          "model_name": "HTMLModel",
          "model_module_version": "1.5.0",
          "state": {
            "_dom_classes": [],
            "_model_module": "@jupyter-widgets/controls",
            "_model_module_version": "1.5.0",
            "_model_name": "HTMLModel",
            "_view_count": null,
            "_view_module": "@jupyter-widgets/controls",
            "_view_module_version": "1.5.0",
            "_view_name": "HTMLView",
            "description": "",
            "description_tooltip": null,
            "layout": "IPY_MODEL_49bda30379c74ce4b86240b82893dc6c",
            "placeholder": "​",
            "style": "IPY_MODEL_90855c10303846dea1f6d8fda1e1c6f8",
            "value": "Downloading (…)okenizer_config.json: 100%"
          }
        },
        "7985be27fcb24585b3cdeabe52e780a8": {
          "model_module": "@jupyter-widgets/controls",
          "model_name": "FloatProgressModel",
          "model_module_version": "1.5.0",
          "state": {
            "_dom_classes": [],
            "_model_module": "@jupyter-widgets/controls",
            "_model_module_version": "1.5.0",
            "_model_name": "FloatProgressModel",
            "_view_count": null,
            "_view_module": "@jupyter-widgets/controls",
            "_view_module_version": "1.5.0",
            "_view_name": "ProgressView",
            "bar_style": "success",
            "description": "",
            "description_tooltip": null,
            "layout": "IPY_MODEL_f51ba644669f4d2ca306c7b5fc70936b",
            "max": 376,
            "min": 0,
            "orientation": "horizontal",
            "style": "IPY_MODEL_df520d07ce0d4c3d9508264f5d93d905",
            "value": 376
          }
        },
        "5309ab36516e41bbaf8d5b59678ee90d": {
          "model_module": "@jupyter-widgets/controls",
          "model_name": "HTMLModel",
          "model_module_version": "1.5.0",
          "state": {
            "_dom_classes": [],
            "_model_module": "@jupyter-widgets/controls",
            "_model_module_version": "1.5.0",
            "_model_name": "HTMLModel",
            "_view_count": null,
            "_view_module": "@jupyter-widgets/controls",
            "_view_module_version": "1.5.0",
            "_view_name": "HTMLView",
            "description": "",
            "description_tooltip": null,
            "layout": "IPY_MODEL_15fc5c18874b43d1878874118961dba1",
            "placeholder": "​",
            "style": "IPY_MODEL_91525ec7aa53409a8253c774f9b60093",
            "value": " 376/376 [00:00&lt;00:00, 21.5kB/s]"
          }
        },
        "cd634ff08ced48639cdc75df951cdbc6": {
          "model_module": "@jupyter-widgets/base",
          "model_name": "LayoutModel",
          "model_module_version": "1.2.0",
          "state": {
            "_model_module": "@jupyter-widgets/base",
            "_model_module_version": "1.2.0",
            "_model_name": "LayoutModel",
            "_view_count": null,
            "_view_module": "@jupyter-widgets/base",
            "_view_module_version": "1.2.0",
            "_view_name": "LayoutView",
            "align_content": null,
            "align_items": null,
            "align_self": null,
            "border": null,
            "bottom": null,
            "display": null,
            "flex": null,
            "flex_flow": null,
            "grid_area": null,
            "grid_auto_columns": null,
            "grid_auto_flow": null,
            "grid_auto_rows": null,
            "grid_column": null,
            "grid_gap": null,
            "grid_row": null,
            "grid_template_areas": null,
            "grid_template_columns": null,
            "grid_template_rows": null,
            "height": null,
            "justify_content": null,
            "justify_items": null,
            "left": null,
            "margin": null,
            "max_height": null,
            "max_width": null,
            "min_height": null,
            "min_width": null,
            "object_fit": null,
            "object_position": null,
            "order": null,
            "overflow": null,
            "overflow_x": null,
            "overflow_y": null,
            "padding": null,
            "right": null,
            "top": null,
            "visibility": null,
            "width": null
          }
        },
        "49bda30379c74ce4b86240b82893dc6c": {
          "model_module": "@jupyter-widgets/base",
          "model_name": "LayoutModel",
          "model_module_version": "1.2.0",
          "state": {
            "_model_module": "@jupyter-widgets/base",
            "_model_module_version": "1.2.0",
            "_model_name": "LayoutModel",
            "_view_count": null,
            "_view_module": "@jupyter-widgets/base",
            "_view_module_version": "1.2.0",
            "_view_name": "LayoutView",
            "align_content": null,
            "align_items": null,
            "align_self": null,
            "border": null,
            "bottom": null,
            "display": null,
            "flex": null,
            "flex_flow": null,
            "grid_area": null,
            "grid_auto_columns": null,
            "grid_auto_flow": null,
            "grid_auto_rows": null,
            "grid_column": null,
            "grid_gap": null,
            "grid_row": null,
            "grid_template_areas": null,
            "grid_template_columns": null,
            "grid_template_rows": null,
            "height": null,
            "justify_content": null,
            "justify_items": null,
            "left": null,
            "margin": null,
            "max_height": null,
            "max_width": null,
            "min_height": null,
            "min_width": null,
            "object_fit": null,
            "object_position": null,
            "order": null,
            "overflow": null,
            "overflow_x": null,
            "overflow_y": null,
            "padding": null,
            "right": null,
            "top": null,
            "visibility": null,
            "width": null
          }
        },
        "90855c10303846dea1f6d8fda1e1c6f8": {
          "model_module": "@jupyter-widgets/controls",
          "model_name": "DescriptionStyleModel",
          "model_module_version": "1.5.0",
          "state": {
            "_model_module": "@jupyter-widgets/controls",
            "_model_module_version": "1.5.0",
            "_model_name": "DescriptionStyleModel",
            "_view_count": null,
            "_view_module": "@jupyter-widgets/base",
            "_view_module_version": "1.2.0",
            "_view_name": "StyleView",
            "description_width": ""
          }
        },
        "f51ba644669f4d2ca306c7b5fc70936b": {
          "model_module": "@jupyter-widgets/base",
          "model_name": "LayoutModel",
          "model_module_version": "1.2.0",
          "state": {
            "_model_module": "@jupyter-widgets/base",
            "_model_module_version": "1.2.0",
            "_model_name": "LayoutModel",
            "_view_count": null,
            "_view_module": "@jupyter-widgets/base",
            "_view_module_version": "1.2.0",
            "_view_name": "LayoutView",
            "align_content": null,
            "align_items": null,
            "align_self": null,
            "border": null,
            "bottom": null,
            "display": null,
            "flex": null,
            "flex_flow": null,
            "grid_area": null,
            "grid_auto_columns": null,
            "grid_auto_flow": null,
            "grid_auto_rows": null,
            "grid_column": null,
            "grid_gap": null,
            "grid_row": null,
            "grid_template_areas": null,
            "grid_template_columns": null,
            "grid_template_rows": null,
            "height": null,
            "justify_content": null,
            "justify_items": null,
            "left": null,
            "margin": null,
            "max_height": null,
            "max_width": null,
            "min_height": null,
            "min_width": null,
            "object_fit": null,
            "object_position": null,
            "order": null,
            "overflow": null,
            "overflow_x": null,
            "overflow_y": null,
            "padding": null,
            "right": null,
            "top": null,
            "visibility": null,
            "width": null
          }
        },
        "df520d07ce0d4c3d9508264f5d93d905": {
          "model_module": "@jupyter-widgets/controls",
          "model_name": "ProgressStyleModel",
          "model_module_version": "1.5.0",
          "state": {
            "_model_module": "@jupyter-widgets/controls",
            "_model_module_version": "1.5.0",
            "_model_name": "ProgressStyleModel",
            "_view_count": null,
            "_view_module": "@jupyter-widgets/base",
            "_view_module_version": "1.2.0",
            "_view_name": "StyleView",
            "bar_color": null,
            "description_width": ""
          }
        },
        "15fc5c18874b43d1878874118961dba1": {
          "model_module": "@jupyter-widgets/base",
          "model_name": "LayoutModel",
          "model_module_version": "1.2.0",
          "state": {
            "_model_module": "@jupyter-widgets/base",
            "_model_module_version": "1.2.0",
            "_model_name": "LayoutModel",
            "_view_count": null,
            "_view_module": "@jupyter-widgets/base",
            "_view_module_version": "1.2.0",
            "_view_name": "LayoutView",
            "align_content": null,
            "align_items": null,
            "align_self": null,
            "border": null,
            "bottom": null,
            "display": null,
            "flex": null,
            "flex_flow": null,
            "grid_area": null,
            "grid_auto_columns": null,
            "grid_auto_flow": null,
            "grid_auto_rows": null,
            "grid_column": null,
            "grid_gap": null,
            "grid_row": null,
            "grid_template_areas": null,
            "grid_template_columns": null,
            "grid_template_rows": null,
            "height": null,
            "justify_content": null,
            "justify_items": null,
            "left": null,
            "margin": null,
            "max_height": null,
            "max_width": null,
            "min_height": null,
            "min_width": null,
            "object_fit": null,
            "object_position": null,
            "order": null,
            "overflow": null,
            "overflow_x": null,
            "overflow_y": null,
            "padding": null,
            "right": null,
            "top": null,
            "visibility": null,
            "width": null
          }
        },
        "91525ec7aa53409a8253c774f9b60093": {
          "model_module": "@jupyter-widgets/controls",
          "model_name": "DescriptionStyleModel",
          "model_module_version": "1.5.0",
          "state": {
            "_model_module": "@jupyter-widgets/controls",
            "_model_module_version": "1.5.0",
            "_model_name": "DescriptionStyleModel",
            "_view_count": null,
            "_view_module": "@jupyter-widgets/base",
            "_view_module_version": "1.2.0",
            "_view_name": "StyleView",
            "description_width": ""
          }
        },
        "21a725d5ca0646e98926d2d3be4c4a9e": {
          "model_module": "@jupyter-widgets/controls",
          "model_name": "HBoxModel",
          "model_module_version": "1.5.0",
          "state": {
            "_dom_classes": [],
            "_model_module": "@jupyter-widgets/controls",
            "_model_module_version": "1.5.0",
            "_model_name": "HBoxModel",
            "_view_count": null,
            "_view_module": "@jupyter-widgets/controls",
            "_view_module_version": "1.5.0",
            "_view_name": "HBoxView",
            "box_style": "",
            "children": [
              "IPY_MODEL_601922c10392485bb4e0313e35d04194",
              "IPY_MODEL_b11b5fac10714520b333313379b189e4",
              "IPY_MODEL_167129f3aa6e445da0b2f90f7471d694"
            ],
            "layout": "IPY_MODEL_398e8bc5cf1449ffb14bb9ac6c277b84"
          }
        },
        "601922c10392485bb4e0313e35d04194": {
          "model_module": "@jupyter-widgets/controls",
          "model_name": "HTMLModel",
          "model_module_version": "1.5.0",
          "state": {
            "_dom_classes": [],
            "_model_module": "@jupyter-widgets/controls",
            "_model_module_version": "1.5.0",
            "_model_name": "HTMLModel",
            "_view_count": null,
            "_view_module": "@jupyter-widgets/controls",
            "_view_module_version": "1.5.0",
            "_view_name": "HTMLView",
            "description": "",
            "description_tooltip": null,
            "layout": "IPY_MODEL_31064a0504c64d1b9be3fd7b0d7b520d",
            "placeholder": "​",
            "style": "IPY_MODEL_dd7eec87fcb44fbeac979d66bdf39541",
            "value": "Downloading (…)lve/main/config.json: 100%"
          }
        },
        "b11b5fac10714520b333313379b189e4": {
          "model_module": "@jupyter-widgets/controls",
          "model_name": "FloatProgressModel",
          "model_module_version": "1.5.0",
          "state": {
            "_dom_classes": [],
            "_model_module": "@jupyter-widgets/controls",
            "_model_module_version": "1.5.0",
            "_model_name": "FloatProgressModel",
            "_view_count": null,
            "_view_module": "@jupyter-widgets/controls",
            "_view_module_version": "1.5.0",
            "_view_name": "ProgressView",
            "bar_style": "success",
            "description": "",
            "description_tooltip": null,
            "layout": "IPY_MODEL_a29b3b66856f42d5b201a34025b262b0",
            "max": 701,
            "min": 0,
            "orientation": "horizontal",
            "style": "IPY_MODEL_7266a61631e84678994ed427203f261a",
            "value": 701
          }
        },
        "167129f3aa6e445da0b2f90f7471d694": {
          "model_module": "@jupyter-widgets/controls",
          "model_name": "HTMLModel",
          "model_module_version": "1.5.0",
          "state": {
            "_dom_classes": [],
            "_model_module": "@jupyter-widgets/controls",
            "_model_module_version": "1.5.0",
            "_model_name": "HTMLModel",
            "_view_count": null,
            "_view_module": "@jupyter-widgets/controls",
            "_view_module_version": "1.5.0",
            "_view_name": "HTMLView",
            "description": "",
            "description_tooltip": null,
            "layout": "IPY_MODEL_5b2651429e0a49e3bfea36043f757cd0",
            "placeholder": "​",
            "style": "IPY_MODEL_d49bf2ec154c4fce984b557a985b70cc",
            "value": " 701/701 [00:00&lt;00:00, 52.4kB/s]"
          }
        },
        "398e8bc5cf1449ffb14bb9ac6c277b84": {
          "model_module": "@jupyter-widgets/base",
          "model_name": "LayoutModel",
          "model_module_version": "1.2.0",
          "state": {
            "_model_module": "@jupyter-widgets/base",
            "_model_module_version": "1.2.0",
            "_model_name": "LayoutModel",
            "_view_count": null,
            "_view_module": "@jupyter-widgets/base",
            "_view_module_version": "1.2.0",
            "_view_name": "LayoutView",
            "align_content": null,
            "align_items": null,
            "align_self": null,
            "border": null,
            "bottom": null,
            "display": null,
            "flex": null,
            "flex_flow": null,
            "grid_area": null,
            "grid_auto_columns": null,
            "grid_auto_flow": null,
            "grid_auto_rows": null,
            "grid_column": null,
            "grid_gap": null,
            "grid_row": null,
            "grid_template_areas": null,
            "grid_template_columns": null,
            "grid_template_rows": null,
            "height": null,
            "justify_content": null,
            "justify_items": null,
            "left": null,
            "margin": null,
            "max_height": null,
            "max_width": null,
            "min_height": null,
            "min_width": null,
            "object_fit": null,
            "object_position": null,
            "order": null,
            "overflow": null,
            "overflow_x": null,
            "overflow_y": null,
            "padding": null,
            "right": null,
            "top": null,
            "visibility": null,
            "width": null
          }
        },
        "31064a0504c64d1b9be3fd7b0d7b520d": {
          "model_module": "@jupyter-widgets/base",
          "model_name": "LayoutModel",
          "model_module_version": "1.2.0",
          "state": {
            "_model_module": "@jupyter-widgets/base",
            "_model_module_version": "1.2.0",
            "_model_name": "LayoutModel",
            "_view_count": null,
            "_view_module": "@jupyter-widgets/base",
            "_view_module_version": "1.2.0",
            "_view_name": "LayoutView",
            "align_content": null,
            "align_items": null,
            "align_self": null,
            "border": null,
            "bottom": null,
            "display": null,
            "flex": null,
            "flex_flow": null,
            "grid_area": null,
            "grid_auto_columns": null,
            "grid_auto_flow": null,
            "grid_auto_rows": null,
            "grid_column": null,
            "grid_gap": null,
            "grid_row": null,
            "grid_template_areas": null,
            "grid_template_columns": null,
            "grid_template_rows": null,
            "height": null,
            "justify_content": null,
            "justify_items": null,
            "left": null,
            "margin": null,
            "max_height": null,
            "max_width": null,
            "min_height": null,
            "min_width": null,
            "object_fit": null,
            "object_position": null,
            "order": null,
            "overflow": null,
            "overflow_x": null,
            "overflow_y": null,
            "padding": null,
            "right": null,
            "top": null,
            "visibility": null,
            "width": null
          }
        },
        "dd7eec87fcb44fbeac979d66bdf39541": {
          "model_module": "@jupyter-widgets/controls",
          "model_name": "DescriptionStyleModel",
          "model_module_version": "1.5.0",
          "state": {
            "_model_module": "@jupyter-widgets/controls",
            "_model_module_version": "1.5.0",
            "_model_name": "DescriptionStyleModel",
            "_view_count": null,
            "_view_module": "@jupyter-widgets/base",
            "_view_module_version": "1.2.0",
            "_view_name": "StyleView",
            "description_width": ""
          }
        },
        "a29b3b66856f42d5b201a34025b262b0": {
          "model_module": "@jupyter-widgets/base",
          "model_name": "LayoutModel",
          "model_module_version": "1.2.0",
          "state": {
            "_model_module": "@jupyter-widgets/base",
            "_model_module_version": "1.2.0",
            "_model_name": "LayoutModel",
            "_view_count": null,
            "_view_module": "@jupyter-widgets/base",
            "_view_module_version": "1.2.0",
            "_view_name": "LayoutView",
            "align_content": null,
            "align_items": null,
            "align_self": null,
            "border": null,
            "bottom": null,
            "display": null,
            "flex": null,
            "flex_flow": null,
            "grid_area": null,
            "grid_auto_columns": null,
            "grid_auto_flow": null,
            "grid_auto_rows": null,
            "grid_column": null,
            "grid_gap": null,
            "grid_row": null,
            "grid_template_areas": null,
            "grid_template_columns": null,
            "grid_template_rows": null,
            "height": null,
            "justify_content": null,
            "justify_items": null,
            "left": null,
            "margin": null,
            "max_height": null,
            "max_width": null,
            "min_height": null,
            "min_width": null,
            "object_fit": null,
            "object_position": null,
            "order": null,
            "overflow": null,
            "overflow_x": null,
            "overflow_y": null,
            "padding": null,
            "right": null,
            "top": null,
            "visibility": null,
            "width": null
          }
        },
        "7266a61631e84678994ed427203f261a": {
          "model_module": "@jupyter-widgets/controls",
          "model_name": "ProgressStyleModel",
          "model_module_version": "1.5.0",
          "state": {
            "_model_module": "@jupyter-widgets/controls",
            "_model_module_version": "1.5.0",
            "_model_name": "ProgressStyleModel",
            "_view_count": null,
            "_view_module": "@jupyter-widgets/base",
            "_view_module_version": "1.2.0",
            "_view_name": "StyleView",
            "bar_color": null,
            "description_width": ""
          }
        },
        "5b2651429e0a49e3bfea36043f757cd0": {
          "model_module": "@jupyter-widgets/base",
          "model_name": "LayoutModel",
          "model_module_version": "1.2.0",
          "state": {
            "_model_module": "@jupyter-widgets/base",
            "_model_module_version": "1.2.0",
            "_model_name": "LayoutModel",
            "_view_count": null,
            "_view_module": "@jupyter-widgets/base",
            "_view_module_version": "1.2.0",
            "_view_name": "LayoutView",
            "align_content": null,
            "align_items": null,
            "align_self": null,
            "border": null,
            "bottom": null,
            "display": null,
            "flex": null,
            "flex_flow": null,
            "grid_area": null,
            "grid_auto_columns": null,
            "grid_auto_flow": null,
            "grid_auto_rows": null,
            "grid_column": null,
            "grid_gap": null,
            "grid_row": null,
            "grid_template_areas": null,
            "grid_template_columns": null,
            "grid_template_rows": null,
            "height": null,
            "justify_content": null,
            "justify_items": null,
            "left": null,
            "margin": null,
            "max_height": null,
            "max_width": null,
            "min_height": null,
            "min_width": null,
            "object_fit": null,
            "object_position": null,
            "order": null,
            "overflow": null,
            "overflow_x": null,
            "overflow_y": null,
            "padding": null,
            "right": null,
            "top": null,
            "visibility": null,
            "width": null
          }
        },
        "d49bf2ec154c4fce984b557a985b70cc": {
          "model_module": "@jupyter-widgets/controls",
          "model_name": "DescriptionStyleModel",
          "model_module_version": "1.5.0",
          "state": {
            "_model_module": "@jupyter-widgets/controls",
            "_model_module_version": "1.5.0",
            "_model_name": "DescriptionStyleModel",
            "_view_count": null,
            "_view_module": "@jupyter-widgets/base",
            "_view_module_version": "1.2.0",
            "_view_name": "StyleView",
            "description_width": ""
          }
        },
        "02db92dd067247809eaa7b3df7d92432": {
          "model_module": "@jupyter-widgets/controls",
          "model_name": "HBoxModel",
          "model_module_version": "1.5.0",
          "state": {
            "_dom_classes": [],
            "_model_module": "@jupyter-widgets/controls",
            "_model_module_version": "1.5.0",
            "_model_name": "HBoxModel",
            "_view_count": null,
            "_view_module": "@jupyter-widgets/controls",
            "_view_module_version": "1.5.0",
            "_view_name": "HBoxView",
            "box_style": "",
            "children": [
              "IPY_MODEL_36c11947cdb0457091bf78c3602af9e0",
              "IPY_MODEL_207e1e518b4942de8746ac72142aa2ed",
              "IPY_MODEL_cc8b0e85dcf542b4bf472c14ec76af13"
            ],
            "layout": "IPY_MODEL_e64e4e35d2c5469487b077b91dd43a84"
          }
        },
        "36c11947cdb0457091bf78c3602af9e0": {
          "model_module": "@jupyter-widgets/controls",
          "model_name": "HTMLModel",
          "model_module_version": "1.5.0",
          "state": {
            "_dom_classes": [],
            "_model_module": "@jupyter-widgets/controls",
            "_model_module_version": "1.5.0",
            "_model_name": "HTMLModel",
            "_view_count": null,
            "_view_module": "@jupyter-widgets/controls",
            "_view_module_version": "1.5.0",
            "_view_name": "HTMLView",
            "description": "",
            "description_tooltip": null,
            "layout": "IPY_MODEL_e16d04c0e1ac431d9c6f2828b24f2622",
            "placeholder": "​",
            "style": "IPY_MODEL_4b4d72c2dfc24155afe10fa3f06d4646",
            "value": "Downloading (…)solve/main/vocab.txt: 100%"
          }
        },
        "207e1e518b4942de8746ac72142aa2ed": {
          "model_module": "@jupyter-widgets/controls",
          "model_name": "FloatProgressModel",
          "model_module_version": "1.5.0",
          "state": {
            "_dom_classes": [],
            "_model_module": "@jupyter-widgets/controls",
            "_model_module_version": "1.5.0",
            "_model_name": "FloatProgressModel",
            "_view_count": null,
            "_view_module": "@jupyter-widgets/controls",
            "_view_module_version": "1.5.0",
            "_view_name": "ProgressView",
            "bar_style": "success",
            "description": "",
            "description_tooltip": null,
            "layout": "IPY_MODEL_6ba7b1383b074ad29fe863e8e6b3729c",
            "max": 1099714,
            "min": 0,
            "orientation": "horizontal",
            "style": "IPY_MODEL_286a01ee52964ea7ae77c26bef012e08",
            "value": 1099714
          }
        },
        "cc8b0e85dcf542b4bf472c14ec76af13": {
          "model_module": "@jupyter-widgets/controls",
          "model_name": "HTMLModel",
          "model_module_version": "1.5.0",
          "state": {
            "_dom_classes": [],
            "_model_module": "@jupyter-widgets/controls",
            "_model_module_version": "1.5.0",
            "_model_name": "HTMLModel",
            "_view_count": null,
            "_view_module": "@jupyter-widgets/controls",
            "_view_module_version": "1.5.0",
            "_view_name": "HTMLView",
            "description": "",
            "description_tooltip": null,
            "layout": "IPY_MODEL_c1547a774dda4b1c8bdfaea02d1f5007",
            "placeholder": "​",
            "style": "IPY_MODEL_a397c16336f541beb53b564d4ee69fca",
            "value": " 1.10M/1.10M [00:00&lt;00:00, 2.75MB/s]"
          }
        },
        "e64e4e35d2c5469487b077b91dd43a84": {
          "model_module": "@jupyter-widgets/base",
          "model_name": "LayoutModel",
          "model_module_version": "1.2.0",
          "state": {
            "_model_module": "@jupyter-widgets/base",
            "_model_module_version": "1.2.0",
            "_model_name": "LayoutModel",
            "_view_count": null,
            "_view_module": "@jupyter-widgets/base",
            "_view_module_version": "1.2.0",
            "_view_name": "LayoutView",
            "align_content": null,
            "align_items": null,
            "align_self": null,
            "border": null,
            "bottom": null,
            "display": null,
            "flex": null,
            "flex_flow": null,
            "grid_area": null,
            "grid_auto_columns": null,
            "grid_auto_flow": null,
            "grid_auto_rows": null,
            "grid_column": null,
            "grid_gap": null,
            "grid_row": null,
            "grid_template_areas": null,
            "grid_template_columns": null,
            "grid_template_rows": null,
            "height": null,
            "justify_content": null,
            "justify_items": null,
            "left": null,
            "margin": null,
            "max_height": null,
            "max_width": null,
            "min_height": null,
            "min_width": null,
            "object_fit": null,
            "object_position": null,
            "order": null,
            "overflow": null,
            "overflow_x": null,
            "overflow_y": null,
            "padding": null,
            "right": null,
            "top": null,
            "visibility": null,
            "width": null
          }
        },
        "e16d04c0e1ac431d9c6f2828b24f2622": {
          "model_module": "@jupyter-widgets/base",
          "model_name": "LayoutModel",
          "model_module_version": "1.2.0",
          "state": {
            "_model_module": "@jupyter-widgets/base",
            "_model_module_version": "1.2.0",
            "_model_name": "LayoutModel",
            "_view_count": null,
            "_view_module": "@jupyter-widgets/base",
            "_view_module_version": "1.2.0",
            "_view_name": "LayoutView",
            "align_content": null,
            "align_items": null,
            "align_self": null,
            "border": null,
            "bottom": null,
            "display": null,
            "flex": null,
            "flex_flow": null,
            "grid_area": null,
            "grid_auto_columns": null,
            "grid_auto_flow": null,
            "grid_auto_rows": null,
            "grid_column": null,
            "grid_gap": null,
            "grid_row": null,
            "grid_template_areas": null,
            "grid_template_columns": null,
            "grid_template_rows": null,
            "height": null,
            "justify_content": null,
            "justify_items": null,
            "left": null,
            "margin": null,
            "max_height": null,
            "max_width": null,
            "min_height": null,
            "min_width": null,
            "object_fit": null,
            "object_position": null,
            "order": null,
            "overflow": null,
            "overflow_x": null,
            "overflow_y": null,
            "padding": null,
            "right": null,
            "top": null,
            "visibility": null,
            "width": null
          }
        },
        "4b4d72c2dfc24155afe10fa3f06d4646": {
          "model_module": "@jupyter-widgets/controls",
          "model_name": "DescriptionStyleModel",
          "model_module_version": "1.5.0",
          "state": {
            "_model_module": "@jupyter-widgets/controls",
            "_model_module_version": "1.5.0",
            "_model_name": "DescriptionStyleModel",
            "_view_count": null,
            "_view_module": "@jupyter-widgets/base",
            "_view_module_version": "1.2.0",
            "_view_name": "StyleView",
            "description_width": ""
          }
        },
        "6ba7b1383b074ad29fe863e8e6b3729c": {
          "model_module": "@jupyter-widgets/base",
          "model_name": "LayoutModel",
          "model_module_version": "1.2.0",
          "state": {
            "_model_module": "@jupyter-widgets/base",
            "_model_module_version": "1.2.0",
            "_model_name": "LayoutModel",
            "_view_count": null,
            "_view_module": "@jupyter-widgets/base",
            "_view_module_version": "1.2.0",
            "_view_name": "LayoutView",
            "align_content": null,
            "align_items": null,
            "align_self": null,
            "border": null,
            "bottom": null,
            "display": null,
            "flex": null,
            "flex_flow": null,
            "grid_area": null,
            "grid_auto_columns": null,
            "grid_auto_flow": null,
            "grid_auto_rows": null,
            "grid_column": null,
            "grid_gap": null,
            "grid_row": null,
            "grid_template_areas": null,
            "grid_template_columns": null,
            "grid_template_rows": null,
            "height": null,
            "justify_content": null,
            "justify_items": null,
            "left": null,
            "margin": null,
            "max_height": null,
            "max_width": null,
            "min_height": null,
            "min_width": null,
            "object_fit": null,
            "object_position": null,
            "order": null,
            "overflow": null,
            "overflow_x": null,
            "overflow_y": null,
            "padding": null,
            "right": null,
            "top": null,
            "visibility": null,
            "width": null
          }
        },
        "286a01ee52964ea7ae77c26bef012e08": {
          "model_module": "@jupyter-widgets/controls",
          "model_name": "ProgressStyleModel",
          "model_module_version": "1.5.0",
          "state": {
            "_model_module": "@jupyter-widgets/controls",
            "_model_module_version": "1.5.0",
            "_model_name": "ProgressStyleModel",
            "_view_count": null,
            "_view_module": "@jupyter-widgets/base",
            "_view_module_version": "1.2.0",
            "_view_name": "StyleView",
            "bar_color": null,
            "description_width": ""
          }
        },
        "c1547a774dda4b1c8bdfaea02d1f5007": {
          "model_module": "@jupyter-widgets/base",
          "model_name": "LayoutModel",
          "model_module_version": "1.2.0",
          "state": {
            "_model_module": "@jupyter-widgets/base",
            "_model_module_version": "1.2.0",
            "_model_name": "LayoutModel",
            "_view_count": null,
            "_view_module": "@jupyter-widgets/base",
            "_view_module_version": "1.2.0",
            "_view_name": "LayoutView",
            "align_content": null,
            "align_items": null,
            "align_self": null,
            "border": null,
            "bottom": null,
            "display": null,
            "flex": null,
            "flex_flow": null,
            "grid_area": null,
            "grid_auto_columns": null,
            "grid_auto_flow": null,
            "grid_auto_rows": null,
            "grid_column": null,
            "grid_gap": null,
            "grid_row": null,
            "grid_template_areas": null,
            "grid_template_columns": null,
            "grid_template_rows": null,
            "height": null,
            "justify_content": null,
            "justify_items": null,
            "left": null,
            "margin": null,
            "max_height": null,
            "max_width": null,
            "min_height": null,
            "min_width": null,
            "object_fit": null,
            "object_position": null,
            "order": null,
            "overflow": null,
            "overflow_x": null,
            "overflow_y": null,
            "padding": null,
            "right": null,
            "top": null,
            "visibility": null,
            "width": null
          }
        },
        "a397c16336f541beb53b564d4ee69fca": {
          "model_module": "@jupyter-widgets/controls",
          "model_name": "DescriptionStyleModel",
          "model_module_version": "1.5.0",
          "state": {
            "_model_module": "@jupyter-widgets/controls",
            "_model_module_version": "1.5.0",
            "_model_name": "DescriptionStyleModel",
            "_view_count": null,
            "_view_module": "@jupyter-widgets/base",
            "_view_module_version": "1.2.0",
            "_view_name": "StyleView",
            "description_width": ""
          }
        },
        "cca66ff2b0b841d8a9112ef5937541d8": {
          "model_module": "@jupyter-widgets/controls",
          "model_name": "HBoxModel",
          "model_module_version": "1.5.0",
          "state": {
            "_dom_classes": [],
            "_model_module": "@jupyter-widgets/controls",
            "_model_module_version": "1.5.0",
            "_model_name": "HBoxModel",
            "_view_count": null,
            "_view_module": "@jupyter-widgets/controls",
            "_view_module_version": "1.5.0",
            "_view_name": "HBoxView",
            "box_style": "",
            "children": [
              "IPY_MODEL_ad79eb861bb44de6a917a79fc0562793",
              "IPY_MODEL_6a93fb154a4b4ae98b8e5e31af6033c9",
              "IPY_MODEL_db138cd6b03948c3a7830b24670210e9"
            ],
            "layout": "IPY_MODEL_acd37d39a2494de2a75b3d8dfd5ab69b"
          }
        },
        "ad79eb861bb44de6a917a79fc0562793": {
          "model_module": "@jupyter-widgets/controls",
          "model_name": "HTMLModel",
          "model_module_version": "1.5.0",
          "state": {
            "_dom_classes": [],
            "_model_module": "@jupyter-widgets/controls",
            "_model_module_version": "1.5.0",
            "_model_name": "HTMLModel",
            "_view_count": null,
            "_view_module": "@jupyter-widgets/controls",
            "_view_module_version": "1.5.0",
            "_view_name": "HTMLView",
            "description": "",
            "description_tooltip": null,
            "layout": "IPY_MODEL_ca312cc62bb748c1b930b63e88f8e70a",
            "placeholder": "​",
            "style": "IPY_MODEL_2f87503e74e9418c888acb920b8deec2",
            "value": "Downloading (…)cial_tokens_map.json: 100%"
          }
        },
        "6a93fb154a4b4ae98b8e5e31af6033c9": {
          "model_module": "@jupyter-widgets/controls",
          "model_name": "FloatProgressModel",
          "model_module_version": "1.5.0",
          "state": {
            "_dom_classes": [],
            "_model_module": "@jupyter-widgets/controls",
            "_model_module_version": "1.5.0",
            "_model_name": "FloatProgressModel",
            "_view_count": null,
            "_view_module": "@jupyter-widgets/controls",
            "_view_module_version": "1.5.0",
            "_view_name": "ProgressView",
            "bar_style": "success",
            "description": "",
            "description_tooltip": null,
            "layout": "IPY_MODEL_a317ee00bd56489a99835ba5db721126",
            "max": 112,
            "min": 0,
            "orientation": "horizontal",
            "style": "IPY_MODEL_b5d28681be7e408ab2118dedac862a16",
            "value": 112
          }
        },
        "db138cd6b03948c3a7830b24670210e9": {
          "model_module": "@jupyter-widgets/controls",
          "model_name": "HTMLModel",
          "model_module_version": "1.5.0",
          "state": {
            "_dom_classes": [],
            "_model_module": "@jupyter-widgets/controls",
            "_model_module_version": "1.5.0",
            "_model_name": "HTMLModel",
            "_view_count": null,
            "_view_module": "@jupyter-widgets/controls",
            "_view_module_version": "1.5.0",
            "_view_name": "HTMLView",
            "description": "",
            "description_tooltip": null,
            "layout": "IPY_MODEL_5b3ca2bc884641339bde868fc90d62c8",
            "placeholder": "​",
            "style": "IPY_MODEL_4e4ebd01cdea45469da1a852b4351b64",
            "value": " 112/112 [00:00&lt;00:00, 7.54kB/s]"
          }
        },
        "acd37d39a2494de2a75b3d8dfd5ab69b": {
          "model_module": "@jupyter-widgets/base",
          "model_name": "LayoutModel",
          "model_module_version": "1.2.0",
          "state": {
            "_model_module": "@jupyter-widgets/base",
            "_model_module_version": "1.2.0",
            "_model_name": "LayoutModel",
            "_view_count": null,
            "_view_module": "@jupyter-widgets/base",
            "_view_module_version": "1.2.0",
            "_view_name": "LayoutView",
            "align_content": null,
            "align_items": null,
            "align_self": null,
            "border": null,
            "bottom": null,
            "display": null,
            "flex": null,
            "flex_flow": null,
            "grid_area": null,
            "grid_auto_columns": null,
            "grid_auto_flow": null,
            "grid_auto_rows": null,
            "grid_column": null,
            "grid_gap": null,
            "grid_row": null,
            "grid_template_areas": null,
            "grid_template_columns": null,
            "grid_template_rows": null,
            "height": null,
            "justify_content": null,
            "justify_items": null,
            "left": null,
            "margin": null,
            "max_height": null,
            "max_width": null,
            "min_height": null,
            "min_width": null,
            "object_fit": null,
            "object_position": null,
            "order": null,
            "overflow": null,
            "overflow_x": null,
            "overflow_y": null,
            "padding": null,
            "right": null,
            "top": null,
            "visibility": null,
            "width": null
          }
        },
        "ca312cc62bb748c1b930b63e88f8e70a": {
          "model_module": "@jupyter-widgets/base",
          "model_name": "LayoutModel",
          "model_module_version": "1.2.0",
          "state": {
            "_model_module": "@jupyter-widgets/base",
            "_model_module_version": "1.2.0",
            "_model_name": "LayoutModel",
            "_view_count": null,
            "_view_module": "@jupyter-widgets/base",
            "_view_module_version": "1.2.0",
            "_view_name": "LayoutView",
            "align_content": null,
            "align_items": null,
            "align_self": null,
            "border": null,
            "bottom": null,
            "display": null,
            "flex": null,
            "flex_flow": null,
            "grid_area": null,
            "grid_auto_columns": null,
            "grid_auto_flow": null,
            "grid_auto_rows": null,
            "grid_column": null,
            "grid_gap": null,
            "grid_row": null,
            "grid_template_areas": null,
            "grid_template_columns": null,
            "grid_template_rows": null,
            "height": null,
            "justify_content": null,
            "justify_items": null,
            "left": null,
            "margin": null,
            "max_height": null,
            "max_width": null,
            "min_height": null,
            "min_width": null,
            "object_fit": null,
            "object_position": null,
            "order": null,
            "overflow": null,
            "overflow_x": null,
            "overflow_y": null,
            "padding": null,
            "right": null,
            "top": null,
            "visibility": null,
            "width": null
          }
        },
        "2f87503e74e9418c888acb920b8deec2": {
          "model_module": "@jupyter-widgets/controls",
          "model_name": "DescriptionStyleModel",
          "model_module_version": "1.5.0",
          "state": {
            "_model_module": "@jupyter-widgets/controls",
            "_model_module_version": "1.5.0",
            "_model_name": "DescriptionStyleModel",
            "_view_count": null,
            "_view_module": "@jupyter-widgets/base",
            "_view_module_version": "1.2.0",
            "_view_name": "StyleView",
            "description_width": ""
          }
        },
        "a317ee00bd56489a99835ba5db721126": {
          "model_module": "@jupyter-widgets/base",
          "model_name": "LayoutModel",
          "model_module_version": "1.2.0",
          "state": {
            "_model_module": "@jupyter-widgets/base",
            "_model_module_version": "1.2.0",
            "_model_name": "LayoutModel",
            "_view_count": null,
            "_view_module": "@jupyter-widgets/base",
            "_view_module_version": "1.2.0",
            "_view_name": "LayoutView",
            "align_content": null,
            "align_items": null,
            "align_self": null,
            "border": null,
            "bottom": null,
            "display": null,
            "flex": null,
            "flex_flow": null,
            "grid_area": null,
            "grid_auto_columns": null,
            "grid_auto_flow": null,
            "grid_auto_rows": null,
            "grid_column": null,
            "grid_gap": null,
            "grid_row": null,
            "grid_template_areas": null,
            "grid_template_columns": null,
            "grid_template_rows": null,
            "height": null,
            "justify_content": null,
            "justify_items": null,
            "left": null,
            "margin": null,
            "max_height": null,
            "max_width": null,
            "min_height": null,
            "min_width": null,
            "object_fit": null,
            "object_position": null,
            "order": null,
            "overflow": null,
            "overflow_x": null,
            "overflow_y": null,
            "padding": null,
            "right": null,
            "top": null,
            "visibility": null,
            "width": null
          }
        },
        "b5d28681be7e408ab2118dedac862a16": {
          "model_module": "@jupyter-widgets/controls",
          "model_name": "ProgressStyleModel",
          "model_module_version": "1.5.0",
          "state": {
            "_model_module": "@jupyter-widgets/controls",
            "_model_module_version": "1.5.0",
            "_model_name": "ProgressStyleModel",
            "_view_count": null,
            "_view_module": "@jupyter-widgets/base",
            "_view_module_version": "1.2.0",
            "_view_name": "StyleView",
            "bar_color": null,
            "description_width": ""
          }
        },
        "5b3ca2bc884641339bde868fc90d62c8": {
          "model_module": "@jupyter-widgets/base",
          "model_name": "LayoutModel",
          "model_module_version": "1.2.0",
          "state": {
            "_model_module": "@jupyter-widgets/base",
            "_model_module_version": "1.2.0",
            "_model_name": "LayoutModel",
            "_view_count": null,
            "_view_module": "@jupyter-widgets/base",
            "_view_module_version": "1.2.0",
            "_view_name": "LayoutView",
            "align_content": null,
            "align_items": null,
            "align_self": null,
            "border": null,
            "bottom": null,
            "display": null,
            "flex": null,
            "flex_flow": null,
            "grid_area": null,
            "grid_auto_columns": null,
            "grid_auto_flow": null,
            "grid_auto_rows": null,
            "grid_column": null,
            "grid_gap": null,
            "grid_row": null,
            "grid_template_areas": null,
            "grid_template_columns": null,
            "grid_template_rows": null,
            "height": null,
            "justify_content": null,
            "justify_items": null,
            "left": null,
            "margin": null,
            "max_height": null,
            "max_width": null,
            "min_height": null,
            "min_width": null,
            "object_fit": null,
            "object_position": null,
            "order": null,
            "overflow": null,
            "overflow_x": null,
            "overflow_y": null,
            "padding": null,
            "right": null,
            "top": null,
            "visibility": null,
            "width": null
          }
        },
        "4e4ebd01cdea45469da1a852b4351b64": {
          "model_module": "@jupyter-widgets/controls",
          "model_name": "DescriptionStyleModel",
          "model_module_version": "1.5.0",
          "state": {
            "_model_module": "@jupyter-widgets/controls",
            "_model_module_version": "1.5.0",
            "_model_name": "DescriptionStyleModel",
            "_view_count": null,
            "_view_module": "@jupyter-widgets/base",
            "_view_module_version": "1.2.0",
            "_view_name": "StyleView",
            "description_width": ""
          }
        },
        "8a672e87ead74237a8c39412ec1f42da": {
          "model_module": "@jupyter-widgets/controls",
          "model_name": "HBoxModel",
          "model_module_version": "1.5.0",
          "state": {
            "_dom_classes": [],
            "_model_module": "@jupyter-widgets/controls",
            "_model_module_version": "1.5.0",
            "_model_name": "HBoxModel",
            "_view_count": null,
            "_view_module": "@jupyter-widgets/controls",
            "_view_module_version": "1.5.0",
            "_view_name": "HBoxView",
            "box_style": "",
            "children": [
              "IPY_MODEL_fdfba22550874ff4a6ce568aa805f2db",
              "IPY_MODEL_6753d99fac044cb7b64e7e30ac715df4",
              "IPY_MODEL_40059ed67c7f48f1812fd934165c4a99"
            ],
            "layout": "IPY_MODEL_9a9375893e8a4f328b2d450b62a45dfc"
          }
        },
        "fdfba22550874ff4a6ce568aa805f2db": {
          "model_module": "@jupyter-widgets/controls",
          "model_name": "HTMLModel",
          "model_module_version": "1.5.0",
          "state": {
            "_dom_classes": [],
            "_model_module": "@jupyter-widgets/controls",
            "_model_module_version": "1.5.0",
            "_model_name": "HTMLModel",
            "_view_count": null,
            "_view_module": "@jupyter-widgets/controls",
            "_view_module_version": "1.5.0",
            "_view_name": "HTMLView",
            "description": "",
            "description_tooltip": null,
            "layout": "IPY_MODEL_732a3ec493494ce9b8147bed49d1efe5",
            "placeholder": "​",
            "style": "IPY_MODEL_8a6162ec73ce4bc7b13eaafe5c306535",
            "value": "Downloading pytorch_model.bin: 100%"
          }
        },
        "6753d99fac044cb7b64e7e30ac715df4": {
          "model_module": "@jupyter-widgets/controls",
          "model_name": "FloatProgressModel",
          "model_module_version": "1.5.0",
          "state": {
            "_dom_classes": [],
            "_model_module": "@jupyter-widgets/controls",
            "_model_module_version": "1.5.0",
            "_model_name": "FloatProgressModel",
            "_view_count": null,
            "_view_module": "@jupyter-widgets/controls",
            "_view_module_version": "1.5.0",
            "_view_name": "ProgressView",
            "bar_style": "success",
            "description": "",
            "description_tooltip": null,
            "layout": "IPY_MODEL_e32ad479aef74a19b499495d5ffbe91a",
            "max": 654186400,
            "min": 0,
            "orientation": "horizontal",
            "style": "IPY_MODEL_321c32b30585490ea6fabf9ed371c941",
            "value": 654186400
          }
        },
        "40059ed67c7f48f1812fd934165c4a99": {
          "model_module": "@jupyter-widgets/controls",
          "model_name": "HTMLModel",
          "model_module_version": "1.5.0",
          "state": {
            "_dom_classes": [],
            "_model_module": "@jupyter-widgets/controls",
            "_model_module_version": "1.5.0",
            "_model_name": "HTMLModel",
            "_view_count": null,
            "_view_module": "@jupyter-widgets/controls",
            "_view_module_version": "1.5.0",
            "_view_name": "HTMLView",
            "description": "",
            "description_tooltip": null,
            "layout": "IPY_MODEL_551ed826d4a04492a690b0acf803cd72",
            "placeholder": "​",
            "style": "IPY_MODEL_bfdd1997ff104279a1e6260b80f65ac0",
            "value": " 654M/654M [00:02&lt;00:00, 246MB/s]"
          }
        },
        "9a9375893e8a4f328b2d450b62a45dfc": {
          "model_module": "@jupyter-widgets/base",
          "model_name": "LayoutModel",
          "model_module_version": "1.2.0",
          "state": {
            "_model_module": "@jupyter-widgets/base",
            "_model_module_version": "1.2.0",
            "_model_name": "LayoutModel",
            "_view_count": null,
            "_view_module": "@jupyter-widgets/base",
            "_view_module_version": "1.2.0",
            "_view_name": "LayoutView",
            "align_content": null,
            "align_items": null,
            "align_self": null,
            "border": null,
            "bottom": null,
            "display": null,
            "flex": null,
            "flex_flow": null,
            "grid_area": null,
            "grid_auto_columns": null,
            "grid_auto_flow": null,
            "grid_auto_rows": null,
            "grid_column": null,
            "grid_gap": null,
            "grid_row": null,
            "grid_template_areas": null,
            "grid_template_columns": null,
            "grid_template_rows": null,
            "height": null,
            "justify_content": null,
            "justify_items": null,
            "left": null,
            "margin": null,
            "max_height": null,
            "max_width": null,
            "min_height": null,
            "min_width": null,
            "object_fit": null,
            "object_position": null,
            "order": null,
            "overflow": null,
            "overflow_x": null,
            "overflow_y": null,
            "padding": null,
            "right": null,
            "top": null,
            "visibility": null,
            "width": null
          }
        },
        "732a3ec493494ce9b8147bed49d1efe5": {
          "model_module": "@jupyter-widgets/base",
          "model_name": "LayoutModel",
          "model_module_version": "1.2.0",
          "state": {
            "_model_module": "@jupyter-widgets/base",
            "_model_module_version": "1.2.0",
            "_model_name": "LayoutModel",
            "_view_count": null,
            "_view_module": "@jupyter-widgets/base",
            "_view_module_version": "1.2.0",
            "_view_name": "LayoutView",
            "align_content": null,
            "align_items": null,
            "align_self": null,
            "border": null,
            "bottom": null,
            "display": null,
            "flex": null,
            "flex_flow": null,
            "grid_area": null,
            "grid_auto_columns": null,
            "grid_auto_flow": null,
            "grid_auto_rows": null,
            "grid_column": null,
            "grid_gap": null,
            "grid_row": null,
            "grid_template_areas": null,
            "grid_template_columns": null,
            "grid_template_rows": null,
            "height": null,
            "justify_content": null,
            "justify_items": null,
            "left": null,
            "margin": null,
            "max_height": null,
            "max_width": null,
            "min_height": null,
            "min_width": null,
            "object_fit": null,
            "object_position": null,
            "order": null,
            "overflow": null,
            "overflow_x": null,
            "overflow_y": null,
            "padding": null,
            "right": null,
            "top": null,
            "visibility": null,
            "width": null
          }
        },
        "8a6162ec73ce4bc7b13eaafe5c306535": {
          "model_module": "@jupyter-widgets/controls",
          "model_name": "DescriptionStyleModel",
          "model_module_version": "1.5.0",
          "state": {
            "_model_module": "@jupyter-widgets/controls",
            "_model_module_version": "1.5.0",
            "_model_name": "DescriptionStyleModel",
            "_view_count": null,
            "_view_module": "@jupyter-widgets/base",
            "_view_module_version": "1.2.0",
            "_view_name": "StyleView",
            "description_width": ""
          }
        },
        "e32ad479aef74a19b499495d5ffbe91a": {
          "model_module": "@jupyter-widgets/base",
          "model_name": "LayoutModel",
          "model_module_version": "1.2.0",
          "state": {
            "_model_module": "@jupyter-widgets/base",
            "_model_module_version": "1.2.0",
            "_model_name": "LayoutModel",
            "_view_count": null,
            "_view_module": "@jupyter-widgets/base",
            "_view_module_version": "1.2.0",
            "_view_name": "LayoutView",
            "align_content": null,
            "align_items": null,
            "align_self": null,
            "border": null,
            "bottom": null,
            "display": null,
            "flex": null,
            "flex_flow": null,
            "grid_area": null,
            "grid_auto_columns": null,
            "grid_auto_flow": null,
            "grid_auto_rows": null,
            "grid_column": null,
            "grid_gap": null,
            "grid_row": null,
            "grid_template_areas": null,
            "grid_template_columns": null,
            "grid_template_rows": null,
            "height": null,
            "justify_content": null,
            "justify_items": null,
            "left": null,
            "margin": null,
            "max_height": null,
            "max_width": null,
            "min_height": null,
            "min_width": null,
            "object_fit": null,
            "object_position": null,
            "order": null,
            "overflow": null,
            "overflow_x": null,
            "overflow_y": null,
            "padding": null,
            "right": null,
            "top": null,
            "visibility": null,
            "width": null
          }
        },
        "321c32b30585490ea6fabf9ed371c941": {
          "model_module": "@jupyter-widgets/controls",
          "model_name": "ProgressStyleModel",
          "model_module_version": "1.5.0",
          "state": {
            "_model_module": "@jupyter-widgets/controls",
            "_model_module_version": "1.5.0",
            "_model_name": "ProgressStyleModel",
            "_view_count": null,
            "_view_module": "@jupyter-widgets/base",
            "_view_module_version": "1.2.0",
            "_view_name": "StyleView",
            "bar_color": null,
            "description_width": ""
          }
        },
        "551ed826d4a04492a690b0acf803cd72": {
          "model_module": "@jupyter-widgets/base",
          "model_name": "LayoutModel",
          "model_module_version": "1.2.0",
          "state": {
            "_model_module": "@jupyter-widgets/base",
            "_model_module_version": "1.2.0",
            "_model_name": "LayoutModel",
            "_view_count": null,
            "_view_module": "@jupyter-widgets/base",
            "_view_module_version": "1.2.0",
            "_view_name": "LayoutView",
            "align_content": null,
            "align_items": null,
            "align_self": null,
            "border": null,
            "bottom": null,
            "display": null,
            "flex": null,
            "flex_flow": null,
            "grid_area": null,
            "grid_auto_columns": null,
            "grid_auto_flow": null,
            "grid_auto_rows": null,
            "grid_column": null,
            "grid_gap": null,
            "grid_row": null,
            "grid_template_areas": null,
            "grid_template_columns": null,
            "grid_template_rows": null,
            "height": null,
            "justify_content": null,
            "justify_items": null,
            "left": null,
            "margin": null,
            "max_height": null,
            "max_width": null,
            "min_height": null,
            "min_width": null,
            "object_fit": null,
            "object_position": null,
            "order": null,
            "overflow": null,
            "overflow_x": null,
            "overflow_y": null,
            "padding": null,
            "right": null,
            "top": null,
            "visibility": null,
            "width": null
          }
        },
        "bfdd1997ff104279a1e6260b80f65ac0": {
          "model_module": "@jupyter-widgets/controls",
          "model_name": "DescriptionStyleModel",
          "model_module_version": "1.5.0",
          "state": {
            "_model_module": "@jupyter-widgets/controls",
            "_model_module_version": "1.5.0",
            "_model_name": "DescriptionStyleModel",
            "_view_count": null,
            "_view_module": "@jupyter-widgets/base",
            "_view_module_version": "1.2.0",
            "_view_name": "StyleView",
            "description_width": ""
          }
        }
      }
    }
  },
  "nbformat": 4,
  "nbformat_minor": 0
}