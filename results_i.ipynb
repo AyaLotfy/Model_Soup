{
  "nbformat": 4,
  "nbformat_minor": 0,
  "metadata": {
    "colab": {
      "provenance": []
    },
    "kernelspec": {
      "name": "python3",
      "display_name": "Python 3"
    },
    "language_info": {
      "name": "python"
    }
  },
  "cells": [
    {
      "cell_type": "code",
      "source": [
        "from google.colab import drive\n",
        "drive.mount('/content/drive')"
      ],
      "metadata": {
        "colab": {
          "base_uri": "https://localhost:8080/"
        },
        "id": "SEanGfWCP_ZA",
        "outputId": "9c6e32a1-a03d-4109-c205-65fcb371b7c7"
      },
      "execution_count": null,
      "outputs": [
        {
          "output_type": "stream",
          "name": "stdout",
          "text": [
            "Mounted at /content/drive\n"
          ]
        }
      ]
    },
    {
      "cell_type": "code",
      "source": [
        "import random\n",
        "import pandas as pd\n",
        "import os\n",
        "import shutil\n",
        "import operator\n",
        "import json"
      ],
      "metadata": {
        "id": "nlyUo6ZqOz6s"
      },
      "execution_count": null,
      "outputs": []
    },
    {
      "cell_type": "code",
      "source": [
        "import numpy as np\n"
      ],
      "metadata": {
        "id": "bftuYPG23Me8"
      },
      "execution_count": null,
      "outputs": []
    },
    {
      "cell_type": "code",
      "source": [
        "INDIVIDUAL_MODEL_RESULTS_FILE_H = '/content/drive/MyDrive/iSarcasm/attn/m_298/results/results_h.jsonl'\n",
        "INDIVIDUAL_MODEL_RESULTS_FILE_T = '/content/drive/MyDrive/iSarcasm/attn/m_298/results/results_t.jsonl'"
      ],
      "metadata": {
        "id": "jytLGLNx0KYy"
      },
      "execution_count": null,
      "outputs": []
    },
    {
      "cell_type": "code",
      "source": [
        "individual_model_db_h = pd.read_json(INDIVIDUAL_MODEL_RESULTS_FILE_H, lines=True)\n",
        "print(\"individual_model_db_h\", individual_model_db_h)\n",
        "individual_model_db_t = pd.read_json(INDIVIDUAL_MODEL_RESULTS_FILE_T, lines=True)\n",
        "print(\"individual_model_db_t\", individual_model_db_t)"
      ],
      "metadata": {
        "colab": {
          "base_uri": "https://localhost:8080/"
        },
        "id": "ThDxukyK0M1Y",
        "outputId": "68ac3baa-2b11-480b-d99a-57702b4882f7"
      },
      "execution_count": null,
      "outputs": [
        {
          "output_type": "stream",
          "name": "stdout",
          "text": [
            "individual_model_db_h            model_name loss_fn  batch_size       lr  f1_sarcastic  f1_score  \\\n",
            "0   16_FL_1e-05_2_298      FL          16  0.00001      0.724409  0.826780   \n",
            "1   16_FL_1e-05_4_298      FL          16  0.00001      0.747170  0.839296   \n",
            "2   32_FL_1e-05_2_298      FL          32  0.00001      0.720000  0.824718   \n",
            "3   32_FL_1e-05_4_298      FL          32  0.00001      0.714859  0.821679   \n",
            "4   36_FL_1e-05_2_298      FL          36  0.00001      0.714286  0.820779   \n",
            "5   36_FL_1e-05_4_298      FL          36  0.00001      0.732283  0.831729   \n",
            "6   64_FL_1e-05_2_298      FL          64  0.00001      0.611354  0.761748   \n",
            "7   64_FL_1e-05_4_298      FL          64  0.00001      0.725869  0.826820   \n",
            "8   16_FL_2e-05_2_298      FL          16  0.00002      0.728682  0.828772   \n",
            "9   16_FL_2e-05_4_298      FL          16  0.00002      0.735632  0.832648   \n",
            "10  32_FL_2e-05_2_298      FL          32  0.00002      0.716535  0.821830   \n",
            "11  32_FL_2e-05_4_298      FL          32  0.00002      0.726562  0.827784   \n",
            "12  36_FL_2e-05_2_298      FL          36  0.00002      0.728682  0.828772   \n",
            "13  36_FL_2e-05_4_298      FL          36  0.00002      0.736434  0.833664   \n",
            "14  64_FL_2e-05_2_298      FL          64  0.00002      0.711462  0.818825   \n",
            "15  64_FL_2e-05_4_298      FL          64  0.00002      0.731518  0.830733   \n",
            "\n",
            "    epoch  seed  \n",
            "0       2   298  \n",
            "1       4   298  \n",
            "2       2   298  \n",
            "3       4   298  \n",
            "4       2   298  \n",
            "5       4   298  \n",
            "6       2   298  \n",
            "7       4   298  \n",
            "8       2   298  \n",
            "9       4   298  \n",
            "10      2   298  \n",
            "11      4   298  \n",
            "12      2   298  \n",
            "13      4   298  \n",
            "14      2   298  \n",
            "15      4   298  \n",
            "individual_model_db_t            model_name loss_fn  batch_size       lr  f1_sarcastic  f1_score  \\\n",
            "0   16_FL_1e-05_2_298      FL          16  0.00001      0.670051  0.808010   \n",
            "1   16_FL_1e-05_4_298      FL          16  0.00001      0.642534  0.787764   \n",
            "2   32_FL_1e-05_2_298      FL          32  0.00001      0.679045  0.814553   \n",
            "3   32_FL_1e-05_4_298      FL          32  0.00001      0.663212  0.804680   \n",
            "4   36_FL_1e-05_2_298      FL          36  0.00001      0.682927  0.817399   \n",
            "5   36_FL_1e-05_4_298      FL          36  0.00001      0.673418  0.809890   \n",
            "6   64_FL_1e-05_2_298      FL          64  0.00001      0.591045  0.767733   \n",
            "7   64_FL_1e-05_4_298      FL          64  0.00001      0.673317  0.809355   \n",
            "8   16_FL_2e-05_2_298      FL          16  0.00002      0.638095  0.787115   \n",
            "9   16_FL_2e-05_4_298      FL          16  0.00002      0.608889  0.766998   \n",
            "10  32_FL_2e-05_2_298      FL          32  0.00002      0.704663  0.828719   \n",
            "11  32_FL_2e-05_4_298      FL          32  0.00002      0.671717  0.808820   \n",
            "12  36_FL_2e-05_2_298      FL          36  0.00002      0.700000  0.826446   \n",
            "13  36_FL_2e-05_4_298      FL          36  0.00002      0.655502  0.797524   \n",
            "14  64_FL_2e-05_2_298      FL          64  0.00002      0.673629  0.810956   \n",
            "15  64_FL_2e-05_4_298      FL          64  0.00002      0.660333  0.800112   \n",
            "\n",
            "    epoch  seed  \n",
            "0       2   298  \n",
            "1       4   298  \n",
            "2       2   298  \n",
            "3       4   298  \n",
            "4       2   298  \n",
            "5       4   298  \n",
            "6       2   298  \n",
            "7       4   298  \n",
            "8       2   298  \n",
            "9       4   298  \n",
            "10      2   298  \n",
            "11      4   298  \n",
            "12      2   298  \n",
            "13      4   298  \n",
            "14      2   298  \n",
            "15      4   298  \n"
          ]
        }
      ]
    },
    {
      "cell_type": "code",
      "source": [
        "all_models = ', '.join(individual_model_db_t['model_name'])"
      ],
      "metadata": {
        "id": "inrKUjFrWQ6E"
      },
      "execution_count": null,
      "outputs": []
    },
    {
      "cell_type": "code",
      "source": [
        "all_models"
      ],
      "metadata": {
        "colab": {
          "base_uri": "https://localhost:8080/",
          "height": 70
        },
        "id": "SkYKfl8IWvZD",
        "outputId": "bdf9003b-2aca-48b7-bece-5dba5459e111"
      },
      "execution_count": null,
      "outputs": [
        {
          "output_type": "execute_result",
          "data": {
            "text/plain": [
              "'16_FL_1e-05_2_298, 16_FL_1e-05_4_298, 32_FL_1e-05_2_298, 32_FL_1e-05_4_298, 36_FL_1e-05_2_298, 36_FL_1e-05_4_298, 64_FL_1e-05_2_298, 64_FL_1e-05_4_298, 16_FL_2e-05_2_298, 16_FL_2e-05_4_298, 32_FL_2e-05_2_298, 32_FL_2e-05_4_298, 36_FL_2e-05_2_298, 36_FL_2e-05_4_298, 64_FL_2e-05_2_298, 64_FL_2e-05_4_298'"
            ],
            "application/vnd.google.colaboratory.intrinsic+json": {
              "type": "string"
            }
          },
          "metadata": {},
          "execution_count": 6
        }
      ]
    },
    {
      "cell_type": "code",
      "source": [
        "\n",
        "\n",
        "results_h = 'results_h.jsonl'\n",
        "results_t = 'results_t.jsonl'\n",
        "\n",
        "\n",
        "\n",
        "len(individual_model_db_h)\n",
        "array = [i for i in range(len(individual_model_db_h))]\n",
        "print(array)\n"
      ],
      "metadata": {
        "colab": {
          "base_uri": "https://localhost:8080/"
        },
        "id": "Vq6IcwO7P5IR",
        "outputId": "9f054977-4538-4059-ff33-c7d0c5be5a9b"
      },
      "execution_count": null,
      "outputs": [
        {
          "output_type": "stream",
          "name": "stdout",
          "text": [
            "[0, 1, 2, 3, 4, 5, 6, 7, 8, 9, 10, 11, 12, 13, 14, 15]\n"
          ]
        }
      ]
    },
    {
      "cell_type": "code",
      "source": [
        "!mkdir '/content/drive/MyDrive/iSarcasm/attn/m_298/results_i'"
      ],
      "metadata": {
        "id": "iPrIKiqh3Xmp"
      },
      "execution_count": null,
      "outputs": []
    },
    {
      "cell_type": "code",
      "source": [
        "for n in range(len(individual_model_db_h)):\n",
        "  mlist= np.random.choice(array, size=n+1, replace=False)\n",
        "  print(mlist)\n",
        "\n",
        "\n",
        "  if os.path.exists(results_h):\n",
        "    os.remove(results_h)\n",
        "\n",
        "  for i in mlist:\n",
        "    model_name =     individual_model_db_h['model_name'][i]\n",
        "    results = {'model_name' : f'{ (model_name )}'}\n",
        "    results['loss_fn']= individual_model_db_h['loss_fn'][i]\n",
        "    results['batch_size']=str(individual_model_db_h['batch_size'][i])\n",
        "    results['lr']=str(individual_model_db_h['lr'][i])\n",
        "    results['f1_sarcastic'] =str(individual_model_db_h['f1_sarcastic'][i])\n",
        "    results['f1_score'] = str(individual_model_db_h['f1_score'][i])\n",
        "    results['epoch']=str(individual_model_db_h['epoch'][i])\n",
        "    results['seed']=str(individual_model_db_h['seed'][i])\n",
        "    print(results)\n",
        "    with open(results_h, 'a+') as f:\n",
        "          f.write(json.dumps(results) + '\\n')\n",
        "    shutil.copy(f\"{results_h}\", f\"/content/drive/MyDrive/iSarcasm/attn/m_298/results_i/results_h{n+1}.jsonl\")\n",
        "\n",
        "\n",
        "  if os.path.exists(results_t):\n",
        "      os.remove(results_t)\n",
        "\n",
        "  for i in mlist:\n",
        "    model_name =     individual_model_db_t['model_name'][i]\n",
        "    results = {'model_name' : f'{ (model_name )}'}\n",
        "    results['loss_fn']= individual_model_db_t['loss_fn'][i]\n",
        "    results['batch_size']=str(individual_model_db_t['batch_size'][i])\n",
        "    results['lr']=str(individual_model_db_t['lr'][i])\n",
        "    results['f1_sarcastic'] =str(individual_model_db_t['f1_sarcastic'][i])\n",
        "    results['f1_score'] = str(individual_model_db_t['f1_score'][i])\n",
        "    results['epoch']=str(individual_model_db_t['epoch'][i])\n",
        "    results['seed']=str(individual_model_db_t['seed'][i])\n",
        "    print(results)\n",
        "    with open(results_t, 'a+') as f:\n",
        "          f.write(json.dumps(results) + '\\n')\n",
        "    shutil.copy(f\"{results_t}\", f\"/content/drive/MyDrive/iSarcasm/attn/m_298/results_i/results_t{n+1}.jsonl\")"
      ],
      "metadata": {
        "id": "05nOxiqVSpjn",
        "colab": {
          "base_uri": "https://localhost:8080/"
        },
        "outputId": "ba0de493-8b6e-4fb3-f238-b99af6adcccf"
      },
      "execution_count": null,
      "outputs": [
        {
          "output_type": "stream",
          "name": "stdout",
          "text": [
            "[7]\n",
            "{'model_name': '64_FL_1e-05_4_298', 'loss_fn': 'FL', 'batch_size': '64', 'lr': '1e-05', 'f1_sarcastic': '0.7258687258687251', 'f1_score': '0.8268204260065901', 'epoch': '4', 'seed': '298'}\n",
            "{'model_name': '64_FL_1e-05_4_298', 'loss_fn': 'FL', 'batch_size': '64', 'lr': '1e-05', 'f1_sarcastic': '0.673316708229426', 'f1_score': '0.809355311180157', 'epoch': '4', 'seed': '298'}\n",
            "[13  2]\n",
            "{'model_name': '36_FL_2e-05_4_298', 'loss_fn': 'FL', 'batch_size': '36', 'lr': '2e-05', 'f1_sarcastic': '0.7364341085271311', 'f1_score': '0.83366420873511', 'epoch': '4', 'seed': '298'}\n",
            "{'model_name': '32_FL_1e-05_2_298', 'loss_fn': 'FL', 'batch_size': '32', 'lr': '1e-05', 'f1_sarcastic': '0.72', 'f1_score': '0.8247177419354831', 'epoch': '2', 'seed': '298'}\n",
            "{'model_name': '36_FL_2e-05_4_298', 'loss_fn': 'FL', 'batch_size': '36', 'lr': '2e-05', 'f1_sarcastic': '0.655502392344497', 'f1_score': '0.797524495920359', 'epoch': '4', 'seed': '298'}\n",
            "{'model_name': '32_FL_1e-05_2_298', 'loss_fn': 'FL', 'batch_size': '32', 'lr': '1e-05', 'f1_sarcastic': '0.679045092838196', 'f1_score': '0.8145534997826971', 'epoch': '2', 'seed': '298'}\n",
            "[12  5 13]\n",
            "{'model_name': '36_FL_2e-05_2_298', 'loss_fn': 'FL', 'batch_size': '36', 'lr': '2e-05', 'f1_sarcastic': '0.7286821705426351', 'f1_score': '0.82877197958026', 'epoch': '2', 'seed': '298'}\n",
            "{'model_name': '36_FL_1e-05_4_298', 'loss_fn': 'FL', 'batch_size': '36', 'lr': '1e-05', 'f1_sarcastic': '0.732283464566929', 'f1_score': '0.831728776817877', 'epoch': '4', 'seed': '298'}\n",
            "{'model_name': '36_FL_2e-05_4_298', 'loss_fn': 'FL', 'batch_size': '36', 'lr': '2e-05', 'f1_sarcastic': '0.7364341085271311', 'f1_score': '0.83366420873511', 'epoch': '4', 'seed': '298'}\n",
            "{'model_name': '36_FL_2e-05_2_298', 'loss_fn': 'FL', 'batch_size': '36', 'lr': '2e-05', 'f1_sarcastic': '0.7000000000000001', 'f1_score': '0.8264462809917351', 'epoch': '2', 'seed': '298'}\n",
            "{'model_name': '36_FL_1e-05_4_298', 'loss_fn': 'FL', 'batch_size': '36', 'lr': '1e-05', 'f1_sarcastic': '0.673417721518987', 'f1_score': '0.809889733940366', 'epoch': '4', 'seed': '298'}\n",
            "{'model_name': '36_FL_2e-05_4_298', 'loss_fn': 'FL', 'batch_size': '36', 'lr': '2e-05', 'f1_sarcastic': '0.655502392344497', 'f1_score': '0.797524495920359', 'epoch': '4', 'seed': '298'}\n",
            "[ 7 11  3  5]\n",
            "{'model_name': '64_FL_1e-05_4_298', 'loss_fn': 'FL', 'batch_size': '64', 'lr': '1e-05', 'f1_sarcastic': '0.7258687258687251', 'f1_score': '0.8268204260065901', 'epoch': '4', 'seed': '298'}\n",
            "{'model_name': '32_FL_2e-05_4_298', 'loss_fn': 'FL', 'batch_size': '32', 'lr': '2e-05', 'f1_sarcastic': '0.7265625', 'f1_score': '0.8277842925963481', 'epoch': '4', 'seed': '298'}\n",
            "{'model_name': '32_FL_1e-05_4_298', 'loss_fn': 'FL', 'batch_size': '32', 'lr': '1e-05', 'f1_sarcastic': '0.714859437751004', 'f1_score': '0.8216794671131651', 'epoch': '4', 'seed': '298'}\n",
            "{'model_name': '36_FL_1e-05_4_298', 'loss_fn': 'FL', 'batch_size': '36', 'lr': '1e-05', 'f1_sarcastic': '0.732283464566929', 'f1_score': '0.831728776817877', 'epoch': '4', 'seed': '298'}\n",
            "{'model_name': '64_FL_1e-05_4_298', 'loss_fn': 'FL', 'batch_size': '64', 'lr': '1e-05', 'f1_sarcastic': '0.673316708229426', 'f1_score': '0.809355311180157', 'epoch': '4', 'seed': '298'}\n",
            "{'model_name': '32_FL_2e-05_4_298', 'loss_fn': 'FL', 'batch_size': '32', 'lr': '2e-05', 'f1_sarcastic': '0.671717171717171', 'f1_score': '0.808820316307837', 'epoch': '4', 'seed': '298'}\n",
            "{'model_name': '32_FL_1e-05_4_298', 'loss_fn': 'FL', 'batch_size': '32', 'lr': '1e-05', 'f1_sarcastic': '0.6632124352331601', 'f1_score': '0.8046799541534481', 'epoch': '4', 'seed': '298'}\n",
            "{'model_name': '36_FL_1e-05_4_298', 'loss_fn': 'FL', 'batch_size': '36', 'lr': '1e-05', 'f1_sarcastic': '0.673417721518987', 'f1_score': '0.809889733940366', 'epoch': '4', 'seed': '298'}\n",
            "[ 4  3 12 13  5]\n",
            "{'model_name': '36_FL_1e-05_2_298', 'loss_fn': 'FL', 'batch_size': '36', 'lr': '1e-05', 'f1_sarcastic': '0.7142857142857141', 'f1_score': '0.82077922077922', 'epoch': '2', 'seed': '298'}\n",
            "{'model_name': '32_FL_1e-05_4_298', 'loss_fn': 'FL', 'batch_size': '32', 'lr': '1e-05', 'f1_sarcastic': '0.714859437751004', 'f1_score': '0.8216794671131651', 'epoch': '4', 'seed': '298'}\n",
            "{'model_name': '36_FL_2e-05_2_298', 'loss_fn': 'FL', 'batch_size': '36', 'lr': '2e-05', 'f1_sarcastic': '0.7286821705426351', 'f1_score': '0.82877197958026', 'epoch': '2', 'seed': '298'}\n",
            "{'model_name': '36_FL_2e-05_4_298', 'loss_fn': 'FL', 'batch_size': '36', 'lr': '2e-05', 'f1_sarcastic': '0.7364341085271311', 'f1_score': '0.83366420873511', 'epoch': '4', 'seed': '298'}\n",
            "{'model_name': '36_FL_1e-05_4_298', 'loss_fn': 'FL', 'batch_size': '36', 'lr': '1e-05', 'f1_sarcastic': '0.732283464566929', 'f1_score': '0.831728776817877', 'epoch': '4', 'seed': '298'}\n",
            "{'model_name': '36_FL_1e-05_2_298', 'loss_fn': 'FL', 'batch_size': '36', 'lr': '1e-05', 'f1_sarcastic': '0.6829268292682921', 'f1_score': '0.8173992435111511', 'epoch': '2', 'seed': '298'}\n",
            "{'model_name': '32_FL_1e-05_4_298', 'loss_fn': 'FL', 'batch_size': '32', 'lr': '1e-05', 'f1_sarcastic': '0.6632124352331601', 'f1_score': '0.8046799541534481', 'epoch': '4', 'seed': '298'}\n",
            "{'model_name': '36_FL_2e-05_2_298', 'loss_fn': 'FL', 'batch_size': '36', 'lr': '2e-05', 'f1_sarcastic': '0.7000000000000001', 'f1_score': '0.8264462809917351', 'epoch': '2', 'seed': '298'}\n",
            "{'model_name': '36_FL_2e-05_4_298', 'loss_fn': 'FL', 'batch_size': '36', 'lr': '2e-05', 'f1_sarcastic': '0.655502392344497', 'f1_score': '0.797524495920359', 'epoch': '4', 'seed': '298'}\n",
            "{'model_name': '36_FL_1e-05_4_298', 'loss_fn': 'FL', 'batch_size': '36', 'lr': '1e-05', 'f1_sarcastic': '0.673417721518987', 'f1_score': '0.809889733940366', 'epoch': '4', 'seed': '298'}\n",
            "[ 1 15 13  9  5  8]\n",
            "{'model_name': '16_FL_1e-05_4_298', 'loss_fn': 'FL', 'batch_size': '16', 'lr': '1e-05', 'f1_sarcastic': '0.7471698113207541', 'f1_score': '0.8392962669705101', 'epoch': '4', 'seed': '298'}\n",
            "{'model_name': '64_FL_2e-05_4_298', 'loss_fn': 'FL', 'batch_size': '64', 'lr': '2e-05', 'f1_sarcastic': '0.7315175097276261', 'f1_score': '0.8307333741531531', 'epoch': '4', 'seed': '298'}\n",
            "{'model_name': '36_FL_2e-05_4_298', 'loss_fn': 'FL', 'batch_size': '36', 'lr': '2e-05', 'f1_sarcastic': '0.7364341085271311', 'f1_score': '0.83366420873511', 'epoch': '4', 'seed': '298'}\n",
            "{'model_name': '16_FL_2e-05_4_298', 'loss_fn': 'FL', 'batch_size': '16', 'lr': '2e-05', 'f1_sarcastic': '0.7356321839080451', 'f1_score': '0.8326478962353681', 'epoch': '4', 'seed': '298'}\n",
            "{'model_name': '36_FL_1e-05_4_298', 'loss_fn': 'FL', 'batch_size': '36', 'lr': '1e-05', 'f1_sarcastic': '0.732283464566929', 'f1_score': '0.831728776817877', 'epoch': '4', 'seed': '298'}\n",
            "{'model_name': '16_FL_2e-05_2_298', 'loss_fn': 'FL', 'batch_size': '16', 'lr': '2e-05', 'f1_sarcastic': '0.7286821705426351', 'f1_score': '0.82877197958026', 'epoch': '2', 'seed': '298'}\n",
            "{'model_name': '16_FL_1e-05_4_298', 'loss_fn': 'FL', 'batch_size': '16', 'lr': '1e-05', 'f1_sarcastic': '0.6425339366515831', 'f1_score': '0.787763999708319', 'epoch': '4', 'seed': '298'}\n",
            "{'model_name': '64_FL_2e-05_4_298', 'loss_fn': 'FL', 'batch_size': '64', 'lr': '2e-05', 'f1_sarcastic': '0.660332541567696', 'f1_score': '0.8001116259751041', 'epoch': '4', 'seed': '298'}\n",
            "{'model_name': '36_FL_2e-05_4_298', 'loss_fn': 'FL', 'batch_size': '36', 'lr': '2e-05', 'f1_sarcastic': '0.655502392344497', 'f1_score': '0.797524495920359', 'epoch': '4', 'seed': '298'}\n",
            "{'model_name': '16_FL_2e-05_4_298', 'loss_fn': 'FL', 'batch_size': '16', 'lr': '2e-05', 'f1_sarcastic': '0.608888888888888', 'f1_score': '0.7669976359338061', 'epoch': '4', 'seed': '298'}\n",
            "{'model_name': '36_FL_1e-05_4_298', 'loss_fn': 'FL', 'batch_size': '36', 'lr': '1e-05', 'f1_sarcastic': '0.673417721518987', 'f1_score': '0.809889733940366', 'epoch': '4', 'seed': '298'}\n",
            "{'model_name': '16_FL_2e-05_2_298', 'loss_fn': 'FL', 'batch_size': '16', 'lr': '2e-05', 'f1_sarcastic': '0.638095238095238', 'f1_score': '0.7871148459383751', 'epoch': '2', 'seed': '298'}\n",
            "[ 5  3  9  8 12 10  4]\n",
            "{'model_name': '36_FL_1e-05_4_298', 'loss_fn': 'FL', 'batch_size': '36', 'lr': '1e-05', 'f1_sarcastic': '0.732283464566929', 'f1_score': '0.831728776817877', 'epoch': '4', 'seed': '298'}\n",
            "{'model_name': '32_FL_1e-05_4_298', 'loss_fn': 'FL', 'batch_size': '32', 'lr': '1e-05', 'f1_sarcastic': '0.714859437751004', 'f1_score': '0.8216794671131651', 'epoch': '4', 'seed': '298'}\n",
            "{'model_name': '16_FL_2e-05_4_298', 'loss_fn': 'FL', 'batch_size': '16', 'lr': '2e-05', 'f1_sarcastic': '0.7356321839080451', 'f1_score': '0.8326478962353681', 'epoch': '4', 'seed': '298'}\n",
            "{'model_name': '16_FL_2e-05_2_298', 'loss_fn': 'FL', 'batch_size': '16', 'lr': '2e-05', 'f1_sarcastic': '0.7286821705426351', 'f1_score': '0.82877197958026', 'epoch': '2', 'seed': '298'}\n",
            "{'model_name': '36_FL_2e-05_2_298', 'loss_fn': 'FL', 'batch_size': '36', 'lr': '2e-05', 'f1_sarcastic': '0.7286821705426351', 'f1_score': '0.82877197958026', 'epoch': '2', 'seed': '298'}\n",
            "{'model_name': '32_FL_2e-05_2_298', 'loss_fn': 'FL', 'batch_size': '32', 'lr': '2e-05', 'f1_sarcastic': '0.7165354330708661', 'f1_score': '0.8218304695718701', 'epoch': '2', 'seed': '298'}\n",
            "{'model_name': '36_FL_1e-05_2_298', 'loss_fn': 'FL', 'batch_size': '36', 'lr': '1e-05', 'f1_sarcastic': '0.7142857142857141', 'f1_score': '0.82077922077922', 'epoch': '2', 'seed': '298'}\n",
            "{'model_name': '36_FL_1e-05_4_298', 'loss_fn': 'FL', 'batch_size': '36', 'lr': '1e-05', 'f1_sarcastic': '0.673417721518987', 'f1_score': '0.809889733940366', 'epoch': '4', 'seed': '298'}\n",
            "{'model_name': '32_FL_1e-05_4_298', 'loss_fn': 'FL', 'batch_size': '32', 'lr': '1e-05', 'f1_sarcastic': '0.6632124352331601', 'f1_score': '0.8046799541534481', 'epoch': '4', 'seed': '298'}\n",
            "{'model_name': '16_FL_2e-05_4_298', 'loss_fn': 'FL', 'batch_size': '16', 'lr': '2e-05', 'f1_sarcastic': '0.608888888888888', 'f1_score': '0.7669976359338061', 'epoch': '4', 'seed': '298'}\n",
            "{'model_name': '16_FL_2e-05_2_298', 'loss_fn': 'FL', 'batch_size': '16', 'lr': '2e-05', 'f1_sarcastic': '0.638095238095238', 'f1_score': '0.7871148459383751', 'epoch': '2', 'seed': '298'}\n",
            "{'model_name': '36_FL_2e-05_2_298', 'loss_fn': 'FL', 'batch_size': '36', 'lr': '2e-05', 'f1_sarcastic': '0.7000000000000001', 'f1_score': '0.8264462809917351', 'epoch': '2', 'seed': '298'}\n",
            "{'model_name': '32_FL_2e-05_2_298', 'loss_fn': 'FL', 'batch_size': '32', 'lr': '2e-05', 'f1_sarcastic': '0.704663212435233', 'f1_score': '0.8287193444114851', 'epoch': '2', 'seed': '298'}\n",
            "{'model_name': '36_FL_1e-05_2_298', 'loss_fn': 'FL', 'batch_size': '36', 'lr': '1e-05', 'f1_sarcastic': '0.6829268292682921', 'f1_score': '0.8173992435111511', 'epoch': '2', 'seed': '298'}\n",
            "[ 3 10  4  6 13  7  1  0]\n",
            "{'model_name': '32_FL_1e-05_4_298', 'loss_fn': 'FL', 'batch_size': '32', 'lr': '1e-05', 'f1_sarcastic': '0.714859437751004', 'f1_score': '0.8216794671131651', 'epoch': '4', 'seed': '298'}\n",
            "{'model_name': '32_FL_2e-05_2_298', 'loss_fn': 'FL', 'batch_size': '32', 'lr': '2e-05', 'f1_sarcastic': '0.7165354330708661', 'f1_score': '0.8218304695718701', 'epoch': '2', 'seed': '298'}\n",
            "{'model_name': '36_FL_1e-05_2_298', 'loss_fn': 'FL', 'batch_size': '36', 'lr': '1e-05', 'f1_sarcastic': '0.7142857142857141', 'f1_score': '0.82077922077922', 'epoch': '2', 'seed': '298'}\n",
            "{'model_name': '64_FL_1e-05_2_298', 'loss_fn': 'FL', 'batch_size': '64', 'lr': '1e-05', 'f1_sarcastic': '0.611353711790393', 'f1_score': '0.761747931907042', 'epoch': '2', 'seed': '298'}\n",
            "{'model_name': '36_FL_2e-05_4_298', 'loss_fn': 'FL', 'batch_size': '36', 'lr': '2e-05', 'f1_sarcastic': '0.7364341085271311', 'f1_score': '0.83366420873511', 'epoch': '4', 'seed': '298'}\n",
            "{'model_name': '64_FL_1e-05_4_298', 'loss_fn': 'FL', 'batch_size': '64', 'lr': '1e-05', 'f1_sarcastic': '0.7258687258687251', 'f1_score': '0.8268204260065901', 'epoch': '4', 'seed': '298'}\n",
            "{'model_name': '16_FL_1e-05_4_298', 'loss_fn': 'FL', 'batch_size': '16', 'lr': '1e-05', 'f1_sarcastic': '0.7471698113207541', 'f1_score': '0.8392962669705101', 'epoch': '4', 'seed': '298'}\n",
            "{'model_name': '16_FL_1e-05_2_298', 'loss_fn': 'FL', 'batch_size': '16', 'lr': '1e-05', 'f1_sarcastic': '0.724409448818897', 'f1_score': '0.8267796231948731', 'epoch': '2', 'seed': '298'}\n",
            "{'model_name': '32_FL_1e-05_4_298', 'loss_fn': 'FL', 'batch_size': '32', 'lr': '1e-05', 'f1_sarcastic': '0.6632124352331601', 'f1_score': '0.8046799541534481', 'epoch': '4', 'seed': '298'}\n",
            "{'model_name': '32_FL_2e-05_2_298', 'loss_fn': 'FL', 'batch_size': '32', 'lr': '2e-05', 'f1_sarcastic': '0.704663212435233', 'f1_score': '0.8287193444114851', 'epoch': '2', 'seed': '298'}\n",
            "{'model_name': '36_FL_1e-05_2_298', 'loss_fn': 'FL', 'batch_size': '36', 'lr': '1e-05', 'f1_sarcastic': '0.6829268292682921', 'f1_score': '0.8173992435111511', 'epoch': '2', 'seed': '298'}\n",
            "{'model_name': '64_FL_1e-05_2_298', 'loss_fn': 'FL', 'batch_size': '64', 'lr': '1e-05', 'f1_sarcastic': '0.5910447761194031', 'f1_score': '0.767733341406557', 'epoch': '2', 'seed': '298'}\n",
            "{'model_name': '36_FL_2e-05_4_298', 'loss_fn': 'FL', 'batch_size': '36', 'lr': '2e-05', 'f1_sarcastic': '0.655502392344497', 'f1_score': '0.797524495920359', 'epoch': '4', 'seed': '298'}\n",
            "{'model_name': '64_FL_1e-05_4_298', 'loss_fn': 'FL', 'batch_size': '64', 'lr': '1e-05', 'f1_sarcastic': '0.673316708229426', 'f1_score': '0.809355311180157', 'epoch': '4', 'seed': '298'}\n",
            "{'model_name': '16_FL_1e-05_4_298', 'loss_fn': 'FL', 'batch_size': '16', 'lr': '1e-05', 'f1_sarcastic': '0.6425339366515831', 'f1_score': '0.787763999708319', 'epoch': '4', 'seed': '298'}\n",
            "{'model_name': '16_FL_1e-05_2_298', 'loss_fn': 'FL', 'batch_size': '16', 'lr': '1e-05', 'f1_sarcastic': '0.670050761421319', 'f1_score': '0.808009586861948', 'epoch': '2', 'seed': '298'}\n",
            "[ 4  2 13 14 15 11 10  5  6]\n",
            "{'model_name': '36_FL_1e-05_2_298', 'loss_fn': 'FL', 'batch_size': '36', 'lr': '1e-05', 'f1_sarcastic': '0.7142857142857141', 'f1_score': '0.82077922077922', 'epoch': '2', 'seed': '298'}\n",
            "{'model_name': '32_FL_1e-05_2_298', 'loss_fn': 'FL', 'batch_size': '32', 'lr': '1e-05', 'f1_sarcastic': '0.72', 'f1_score': '0.8247177419354831', 'epoch': '2', 'seed': '298'}\n",
            "{'model_name': '36_FL_2e-05_4_298', 'loss_fn': 'FL', 'batch_size': '36', 'lr': '2e-05', 'f1_sarcastic': '0.7364341085271311', 'f1_score': '0.83366420873511', 'epoch': '4', 'seed': '298'}\n",
            "{'model_name': '64_FL_2e-05_2_298', 'loss_fn': 'FL', 'batch_size': '64', 'lr': '2e-05', 'f1_sarcastic': '0.711462450592885', 'f1_score': '0.8188252596746021', 'epoch': '2', 'seed': '298'}\n",
            "{'model_name': '64_FL_2e-05_4_298', 'loss_fn': 'FL', 'batch_size': '64', 'lr': '2e-05', 'f1_sarcastic': '0.7315175097276261', 'f1_score': '0.8307333741531531', 'epoch': '4', 'seed': '298'}\n",
            "{'model_name': '32_FL_2e-05_4_298', 'loss_fn': 'FL', 'batch_size': '32', 'lr': '2e-05', 'f1_sarcastic': '0.7265625', 'f1_score': '0.8277842925963481', 'epoch': '4', 'seed': '298'}\n",
            "{'model_name': '32_FL_2e-05_2_298', 'loss_fn': 'FL', 'batch_size': '32', 'lr': '2e-05', 'f1_sarcastic': '0.7165354330708661', 'f1_score': '0.8218304695718701', 'epoch': '2', 'seed': '298'}\n",
            "{'model_name': '36_FL_1e-05_4_298', 'loss_fn': 'FL', 'batch_size': '36', 'lr': '1e-05', 'f1_sarcastic': '0.732283464566929', 'f1_score': '0.831728776817877', 'epoch': '4', 'seed': '298'}\n",
            "{'model_name': '64_FL_1e-05_2_298', 'loss_fn': 'FL', 'batch_size': '64', 'lr': '1e-05', 'f1_sarcastic': '0.611353711790393', 'f1_score': '0.761747931907042', 'epoch': '2', 'seed': '298'}\n",
            "{'model_name': '36_FL_1e-05_2_298', 'loss_fn': 'FL', 'batch_size': '36', 'lr': '1e-05', 'f1_sarcastic': '0.6829268292682921', 'f1_score': '0.8173992435111511', 'epoch': '2', 'seed': '298'}\n",
            "{'model_name': '32_FL_1e-05_2_298', 'loss_fn': 'FL', 'batch_size': '32', 'lr': '1e-05', 'f1_sarcastic': '0.679045092838196', 'f1_score': '0.8145534997826971', 'epoch': '2', 'seed': '298'}\n",
            "{'model_name': '36_FL_2e-05_4_298', 'loss_fn': 'FL', 'batch_size': '36', 'lr': '2e-05', 'f1_sarcastic': '0.655502392344497', 'f1_score': '0.797524495920359', 'epoch': '4', 'seed': '298'}\n",
            "{'model_name': '64_FL_2e-05_2_298', 'loss_fn': 'FL', 'batch_size': '64', 'lr': '2e-05', 'f1_sarcastic': '0.673629242819843', 'f1_score': '0.810956119134373', 'epoch': '2', 'seed': '298'}\n",
            "{'model_name': '64_FL_2e-05_4_298', 'loss_fn': 'FL', 'batch_size': '64', 'lr': '2e-05', 'f1_sarcastic': '0.660332541567696', 'f1_score': '0.8001116259751041', 'epoch': '4', 'seed': '298'}\n",
            "{'model_name': '32_FL_2e-05_4_298', 'loss_fn': 'FL', 'batch_size': '32', 'lr': '2e-05', 'f1_sarcastic': '0.671717171717171', 'f1_score': '0.808820316307837', 'epoch': '4', 'seed': '298'}\n",
            "{'model_name': '32_FL_2e-05_2_298', 'loss_fn': 'FL', 'batch_size': '32', 'lr': '2e-05', 'f1_sarcastic': '0.704663212435233', 'f1_score': '0.8287193444114851', 'epoch': '2', 'seed': '298'}\n",
            "{'model_name': '36_FL_1e-05_4_298', 'loss_fn': 'FL', 'batch_size': '36', 'lr': '1e-05', 'f1_sarcastic': '0.673417721518987', 'f1_score': '0.809889733940366', 'epoch': '4', 'seed': '298'}\n",
            "{'model_name': '64_FL_1e-05_2_298', 'loss_fn': 'FL', 'batch_size': '64', 'lr': '1e-05', 'f1_sarcastic': '0.5910447761194031', 'f1_score': '0.767733341406557', 'epoch': '2', 'seed': '298'}\n",
            "[ 1 14  9  8 11  4  0  5 10  7]\n",
            "{'model_name': '16_FL_1e-05_4_298', 'loss_fn': 'FL', 'batch_size': '16', 'lr': '1e-05', 'f1_sarcastic': '0.7471698113207541', 'f1_score': '0.8392962669705101', 'epoch': '4', 'seed': '298'}\n",
            "{'model_name': '64_FL_2e-05_2_298', 'loss_fn': 'FL', 'batch_size': '64', 'lr': '2e-05', 'f1_sarcastic': '0.711462450592885', 'f1_score': '0.8188252596746021', 'epoch': '2', 'seed': '298'}\n",
            "{'model_name': '16_FL_2e-05_4_298', 'loss_fn': 'FL', 'batch_size': '16', 'lr': '2e-05', 'f1_sarcastic': '0.7356321839080451', 'f1_score': '0.8326478962353681', 'epoch': '4', 'seed': '298'}\n",
            "{'model_name': '16_FL_2e-05_2_298', 'loss_fn': 'FL', 'batch_size': '16', 'lr': '2e-05', 'f1_sarcastic': '0.7286821705426351', 'f1_score': '0.82877197958026', 'epoch': '2', 'seed': '298'}\n",
            "{'model_name': '32_FL_2e-05_4_298', 'loss_fn': 'FL', 'batch_size': '32', 'lr': '2e-05', 'f1_sarcastic': '0.7265625', 'f1_score': '0.8277842925963481', 'epoch': '4', 'seed': '298'}\n",
            "{'model_name': '36_FL_1e-05_2_298', 'loss_fn': 'FL', 'batch_size': '36', 'lr': '1e-05', 'f1_sarcastic': '0.7142857142857141', 'f1_score': '0.82077922077922', 'epoch': '2', 'seed': '298'}\n",
            "{'model_name': '16_FL_1e-05_2_298', 'loss_fn': 'FL', 'batch_size': '16', 'lr': '1e-05', 'f1_sarcastic': '0.724409448818897', 'f1_score': '0.8267796231948731', 'epoch': '2', 'seed': '298'}\n",
            "{'model_name': '36_FL_1e-05_4_298', 'loss_fn': 'FL', 'batch_size': '36', 'lr': '1e-05', 'f1_sarcastic': '0.732283464566929', 'f1_score': '0.831728776817877', 'epoch': '4', 'seed': '298'}\n",
            "{'model_name': '32_FL_2e-05_2_298', 'loss_fn': 'FL', 'batch_size': '32', 'lr': '2e-05', 'f1_sarcastic': '0.7165354330708661', 'f1_score': '0.8218304695718701', 'epoch': '2', 'seed': '298'}\n",
            "{'model_name': '64_FL_1e-05_4_298', 'loss_fn': 'FL', 'batch_size': '64', 'lr': '1e-05', 'f1_sarcastic': '0.7258687258687251', 'f1_score': '0.8268204260065901', 'epoch': '4', 'seed': '298'}\n",
            "{'model_name': '16_FL_1e-05_4_298', 'loss_fn': 'FL', 'batch_size': '16', 'lr': '1e-05', 'f1_sarcastic': '0.6425339366515831', 'f1_score': '0.787763999708319', 'epoch': '4', 'seed': '298'}\n",
            "{'model_name': '64_FL_2e-05_2_298', 'loss_fn': 'FL', 'batch_size': '64', 'lr': '2e-05', 'f1_sarcastic': '0.673629242819843', 'f1_score': '0.810956119134373', 'epoch': '2', 'seed': '298'}\n",
            "{'model_name': '16_FL_2e-05_4_298', 'loss_fn': 'FL', 'batch_size': '16', 'lr': '2e-05', 'f1_sarcastic': '0.608888888888888', 'f1_score': '0.7669976359338061', 'epoch': '4', 'seed': '298'}\n",
            "{'model_name': '16_FL_2e-05_2_298', 'loss_fn': 'FL', 'batch_size': '16', 'lr': '2e-05', 'f1_sarcastic': '0.638095238095238', 'f1_score': '0.7871148459383751', 'epoch': '2', 'seed': '298'}\n",
            "{'model_name': '32_FL_2e-05_4_298', 'loss_fn': 'FL', 'batch_size': '32', 'lr': '2e-05', 'f1_sarcastic': '0.671717171717171', 'f1_score': '0.808820316307837', 'epoch': '4', 'seed': '298'}\n",
            "{'model_name': '36_FL_1e-05_2_298', 'loss_fn': 'FL', 'batch_size': '36', 'lr': '1e-05', 'f1_sarcastic': '0.6829268292682921', 'f1_score': '0.8173992435111511', 'epoch': '2', 'seed': '298'}\n",
            "{'model_name': '16_FL_1e-05_2_298', 'loss_fn': 'FL', 'batch_size': '16', 'lr': '1e-05', 'f1_sarcastic': '0.670050761421319', 'f1_score': '0.808009586861948', 'epoch': '2', 'seed': '298'}\n",
            "{'model_name': '36_FL_1e-05_4_298', 'loss_fn': 'FL', 'batch_size': '36', 'lr': '1e-05', 'f1_sarcastic': '0.673417721518987', 'f1_score': '0.809889733940366', 'epoch': '4', 'seed': '298'}\n",
            "{'model_name': '32_FL_2e-05_2_298', 'loss_fn': 'FL', 'batch_size': '32', 'lr': '2e-05', 'f1_sarcastic': '0.704663212435233', 'f1_score': '0.8287193444114851', 'epoch': '2', 'seed': '298'}\n",
            "{'model_name': '64_FL_1e-05_4_298', 'loss_fn': 'FL', 'batch_size': '64', 'lr': '1e-05', 'f1_sarcastic': '0.673316708229426', 'f1_score': '0.809355311180157', 'epoch': '4', 'seed': '298'}\n",
            "[15  8 11 10  6 13  9  1 14  3  4]\n",
            "{'model_name': '64_FL_2e-05_4_298', 'loss_fn': 'FL', 'batch_size': '64', 'lr': '2e-05', 'f1_sarcastic': '0.7315175097276261', 'f1_score': '0.8307333741531531', 'epoch': '4', 'seed': '298'}\n",
            "{'model_name': '16_FL_2e-05_2_298', 'loss_fn': 'FL', 'batch_size': '16', 'lr': '2e-05', 'f1_sarcastic': '0.7286821705426351', 'f1_score': '0.82877197958026', 'epoch': '2', 'seed': '298'}\n",
            "{'model_name': '32_FL_2e-05_4_298', 'loss_fn': 'FL', 'batch_size': '32', 'lr': '2e-05', 'f1_sarcastic': '0.7265625', 'f1_score': '0.8277842925963481', 'epoch': '4', 'seed': '298'}\n",
            "{'model_name': '32_FL_2e-05_2_298', 'loss_fn': 'FL', 'batch_size': '32', 'lr': '2e-05', 'f1_sarcastic': '0.7165354330708661', 'f1_score': '0.8218304695718701', 'epoch': '2', 'seed': '298'}\n",
            "{'model_name': '64_FL_1e-05_2_298', 'loss_fn': 'FL', 'batch_size': '64', 'lr': '1e-05', 'f1_sarcastic': '0.611353711790393', 'f1_score': '0.761747931907042', 'epoch': '2', 'seed': '298'}\n",
            "{'model_name': '36_FL_2e-05_4_298', 'loss_fn': 'FL', 'batch_size': '36', 'lr': '2e-05', 'f1_sarcastic': '0.7364341085271311', 'f1_score': '0.83366420873511', 'epoch': '4', 'seed': '298'}\n",
            "{'model_name': '16_FL_2e-05_4_298', 'loss_fn': 'FL', 'batch_size': '16', 'lr': '2e-05', 'f1_sarcastic': '0.7356321839080451', 'f1_score': '0.8326478962353681', 'epoch': '4', 'seed': '298'}\n",
            "{'model_name': '16_FL_1e-05_4_298', 'loss_fn': 'FL', 'batch_size': '16', 'lr': '1e-05', 'f1_sarcastic': '0.7471698113207541', 'f1_score': '0.8392962669705101', 'epoch': '4', 'seed': '298'}\n",
            "{'model_name': '64_FL_2e-05_2_298', 'loss_fn': 'FL', 'batch_size': '64', 'lr': '2e-05', 'f1_sarcastic': '0.711462450592885', 'f1_score': '0.8188252596746021', 'epoch': '2', 'seed': '298'}\n",
            "{'model_name': '32_FL_1e-05_4_298', 'loss_fn': 'FL', 'batch_size': '32', 'lr': '1e-05', 'f1_sarcastic': '0.714859437751004', 'f1_score': '0.8216794671131651', 'epoch': '4', 'seed': '298'}\n",
            "{'model_name': '36_FL_1e-05_2_298', 'loss_fn': 'FL', 'batch_size': '36', 'lr': '1e-05', 'f1_sarcastic': '0.7142857142857141', 'f1_score': '0.82077922077922', 'epoch': '2', 'seed': '298'}\n",
            "{'model_name': '64_FL_2e-05_4_298', 'loss_fn': 'FL', 'batch_size': '64', 'lr': '2e-05', 'f1_sarcastic': '0.660332541567696', 'f1_score': '0.8001116259751041', 'epoch': '4', 'seed': '298'}\n",
            "{'model_name': '16_FL_2e-05_2_298', 'loss_fn': 'FL', 'batch_size': '16', 'lr': '2e-05', 'f1_sarcastic': '0.638095238095238', 'f1_score': '0.7871148459383751', 'epoch': '2', 'seed': '298'}\n",
            "{'model_name': '32_FL_2e-05_4_298', 'loss_fn': 'FL', 'batch_size': '32', 'lr': '2e-05', 'f1_sarcastic': '0.671717171717171', 'f1_score': '0.808820316307837', 'epoch': '4', 'seed': '298'}\n",
            "{'model_name': '32_FL_2e-05_2_298', 'loss_fn': 'FL', 'batch_size': '32', 'lr': '2e-05', 'f1_sarcastic': '0.704663212435233', 'f1_score': '0.8287193444114851', 'epoch': '2', 'seed': '298'}\n",
            "{'model_name': '64_FL_1e-05_2_298', 'loss_fn': 'FL', 'batch_size': '64', 'lr': '1e-05', 'f1_sarcastic': '0.5910447761194031', 'f1_score': '0.767733341406557', 'epoch': '2', 'seed': '298'}\n",
            "{'model_name': '36_FL_2e-05_4_298', 'loss_fn': 'FL', 'batch_size': '36', 'lr': '2e-05', 'f1_sarcastic': '0.655502392344497', 'f1_score': '0.797524495920359', 'epoch': '4', 'seed': '298'}\n",
            "{'model_name': '16_FL_2e-05_4_298', 'loss_fn': 'FL', 'batch_size': '16', 'lr': '2e-05', 'f1_sarcastic': '0.608888888888888', 'f1_score': '0.7669976359338061', 'epoch': '4', 'seed': '298'}\n",
            "{'model_name': '16_FL_1e-05_4_298', 'loss_fn': 'FL', 'batch_size': '16', 'lr': '1e-05', 'f1_sarcastic': '0.6425339366515831', 'f1_score': '0.787763999708319', 'epoch': '4', 'seed': '298'}\n",
            "{'model_name': '64_FL_2e-05_2_298', 'loss_fn': 'FL', 'batch_size': '64', 'lr': '2e-05', 'f1_sarcastic': '0.673629242819843', 'f1_score': '0.810956119134373', 'epoch': '2', 'seed': '298'}\n",
            "{'model_name': '32_FL_1e-05_4_298', 'loss_fn': 'FL', 'batch_size': '32', 'lr': '1e-05', 'f1_sarcastic': '0.6632124352331601', 'f1_score': '0.8046799541534481', 'epoch': '4', 'seed': '298'}\n",
            "{'model_name': '36_FL_1e-05_2_298', 'loss_fn': 'FL', 'batch_size': '36', 'lr': '1e-05', 'f1_sarcastic': '0.6829268292682921', 'f1_score': '0.8173992435111511', 'epoch': '2', 'seed': '298'}\n",
            "[ 9  1  7  6  5 12 13 10  4 15  0 11]\n",
            "{'model_name': '16_FL_2e-05_4_298', 'loss_fn': 'FL', 'batch_size': '16', 'lr': '2e-05', 'f1_sarcastic': '0.7356321839080451', 'f1_score': '0.8326478962353681', 'epoch': '4', 'seed': '298'}\n",
            "{'model_name': '16_FL_1e-05_4_298', 'loss_fn': 'FL', 'batch_size': '16', 'lr': '1e-05', 'f1_sarcastic': '0.7471698113207541', 'f1_score': '0.8392962669705101', 'epoch': '4', 'seed': '298'}\n",
            "{'model_name': '64_FL_1e-05_4_298', 'loss_fn': 'FL', 'batch_size': '64', 'lr': '1e-05', 'f1_sarcastic': '0.7258687258687251', 'f1_score': '0.8268204260065901', 'epoch': '4', 'seed': '298'}\n",
            "{'model_name': '64_FL_1e-05_2_298', 'loss_fn': 'FL', 'batch_size': '64', 'lr': '1e-05', 'f1_sarcastic': '0.611353711790393', 'f1_score': '0.761747931907042', 'epoch': '2', 'seed': '298'}\n",
            "{'model_name': '36_FL_1e-05_4_298', 'loss_fn': 'FL', 'batch_size': '36', 'lr': '1e-05', 'f1_sarcastic': '0.732283464566929', 'f1_score': '0.831728776817877', 'epoch': '4', 'seed': '298'}\n",
            "{'model_name': '36_FL_2e-05_2_298', 'loss_fn': 'FL', 'batch_size': '36', 'lr': '2e-05', 'f1_sarcastic': '0.7286821705426351', 'f1_score': '0.82877197958026', 'epoch': '2', 'seed': '298'}\n",
            "{'model_name': '36_FL_2e-05_4_298', 'loss_fn': 'FL', 'batch_size': '36', 'lr': '2e-05', 'f1_sarcastic': '0.7364341085271311', 'f1_score': '0.83366420873511', 'epoch': '4', 'seed': '298'}\n",
            "{'model_name': '32_FL_2e-05_2_298', 'loss_fn': 'FL', 'batch_size': '32', 'lr': '2e-05', 'f1_sarcastic': '0.7165354330708661', 'f1_score': '0.8218304695718701', 'epoch': '2', 'seed': '298'}\n",
            "{'model_name': '36_FL_1e-05_2_298', 'loss_fn': 'FL', 'batch_size': '36', 'lr': '1e-05', 'f1_sarcastic': '0.7142857142857141', 'f1_score': '0.82077922077922', 'epoch': '2', 'seed': '298'}\n",
            "{'model_name': '64_FL_2e-05_4_298', 'loss_fn': 'FL', 'batch_size': '64', 'lr': '2e-05', 'f1_sarcastic': '0.7315175097276261', 'f1_score': '0.8307333741531531', 'epoch': '4', 'seed': '298'}\n",
            "{'model_name': '16_FL_1e-05_2_298', 'loss_fn': 'FL', 'batch_size': '16', 'lr': '1e-05', 'f1_sarcastic': '0.724409448818897', 'f1_score': '0.8267796231948731', 'epoch': '2', 'seed': '298'}\n",
            "{'model_name': '32_FL_2e-05_4_298', 'loss_fn': 'FL', 'batch_size': '32', 'lr': '2e-05', 'f1_sarcastic': '0.7265625', 'f1_score': '0.8277842925963481', 'epoch': '4', 'seed': '298'}\n",
            "{'model_name': '16_FL_2e-05_4_298', 'loss_fn': 'FL', 'batch_size': '16', 'lr': '2e-05', 'f1_sarcastic': '0.608888888888888', 'f1_score': '0.7669976359338061', 'epoch': '4', 'seed': '298'}\n",
            "{'model_name': '16_FL_1e-05_4_298', 'loss_fn': 'FL', 'batch_size': '16', 'lr': '1e-05', 'f1_sarcastic': '0.6425339366515831', 'f1_score': '0.787763999708319', 'epoch': '4', 'seed': '298'}\n",
            "{'model_name': '64_FL_1e-05_4_298', 'loss_fn': 'FL', 'batch_size': '64', 'lr': '1e-05', 'f1_sarcastic': '0.673316708229426', 'f1_score': '0.809355311180157', 'epoch': '4', 'seed': '298'}\n",
            "{'model_name': '64_FL_1e-05_2_298', 'loss_fn': 'FL', 'batch_size': '64', 'lr': '1e-05', 'f1_sarcastic': '0.5910447761194031', 'f1_score': '0.767733341406557', 'epoch': '2', 'seed': '298'}\n",
            "{'model_name': '36_FL_1e-05_4_298', 'loss_fn': 'FL', 'batch_size': '36', 'lr': '1e-05', 'f1_sarcastic': '0.673417721518987', 'f1_score': '0.809889733940366', 'epoch': '4', 'seed': '298'}\n",
            "{'model_name': '36_FL_2e-05_2_298', 'loss_fn': 'FL', 'batch_size': '36', 'lr': '2e-05', 'f1_sarcastic': '0.7000000000000001', 'f1_score': '0.8264462809917351', 'epoch': '2', 'seed': '298'}\n",
            "{'model_name': '36_FL_2e-05_4_298', 'loss_fn': 'FL', 'batch_size': '36', 'lr': '2e-05', 'f1_sarcastic': '0.655502392344497', 'f1_score': '0.797524495920359', 'epoch': '4', 'seed': '298'}\n",
            "{'model_name': '32_FL_2e-05_2_298', 'loss_fn': 'FL', 'batch_size': '32', 'lr': '2e-05', 'f1_sarcastic': '0.704663212435233', 'f1_score': '0.8287193444114851', 'epoch': '2', 'seed': '298'}\n",
            "{'model_name': '36_FL_1e-05_2_298', 'loss_fn': 'FL', 'batch_size': '36', 'lr': '1e-05', 'f1_sarcastic': '0.6829268292682921', 'f1_score': '0.8173992435111511', 'epoch': '2', 'seed': '298'}\n",
            "{'model_name': '64_FL_2e-05_4_298', 'loss_fn': 'FL', 'batch_size': '64', 'lr': '2e-05', 'f1_sarcastic': '0.660332541567696', 'f1_score': '0.8001116259751041', 'epoch': '4', 'seed': '298'}\n",
            "{'model_name': '16_FL_1e-05_2_298', 'loss_fn': 'FL', 'batch_size': '16', 'lr': '1e-05', 'f1_sarcastic': '0.670050761421319', 'f1_score': '0.808009586861948', 'epoch': '2', 'seed': '298'}\n",
            "{'model_name': '32_FL_2e-05_4_298', 'loss_fn': 'FL', 'batch_size': '32', 'lr': '2e-05', 'f1_sarcastic': '0.671717171717171', 'f1_score': '0.808820316307837', 'epoch': '4', 'seed': '298'}\n",
            "[ 7 12 15  8 11 14  5  1 10  2  4 13  0]\n",
            "{'model_name': '64_FL_1e-05_4_298', 'loss_fn': 'FL', 'batch_size': '64', 'lr': '1e-05', 'f1_sarcastic': '0.7258687258687251', 'f1_score': '0.8268204260065901', 'epoch': '4', 'seed': '298'}\n",
            "{'model_name': '36_FL_2e-05_2_298', 'loss_fn': 'FL', 'batch_size': '36', 'lr': '2e-05', 'f1_sarcastic': '0.7286821705426351', 'f1_score': '0.82877197958026', 'epoch': '2', 'seed': '298'}\n",
            "{'model_name': '64_FL_2e-05_4_298', 'loss_fn': 'FL', 'batch_size': '64', 'lr': '2e-05', 'f1_sarcastic': '0.7315175097276261', 'f1_score': '0.8307333741531531', 'epoch': '4', 'seed': '298'}\n",
            "{'model_name': '16_FL_2e-05_2_298', 'loss_fn': 'FL', 'batch_size': '16', 'lr': '2e-05', 'f1_sarcastic': '0.7286821705426351', 'f1_score': '0.82877197958026', 'epoch': '2', 'seed': '298'}\n",
            "{'model_name': '32_FL_2e-05_4_298', 'loss_fn': 'FL', 'batch_size': '32', 'lr': '2e-05', 'f1_sarcastic': '0.7265625', 'f1_score': '0.8277842925963481', 'epoch': '4', 'seed': '298'}\n",
            "{'model_name': '64_FL_2e-05_2_298', 'loss_fn': 'FL', 'batch_size': '64', 'lr': '2e-05', 'f1_sarcastic': '0.711462450592885', 'f1_score': '0.8188252596746021', 'epoch': '2', 'seed': '298'}\n",
            "{'model_name': '36_FL_1e-05_4_298', 'loss_fn': 'FL', 'batch_size': '36', 'lr': '1e-05', 'f1_sarcastic': '0.732283464566929', 'f1_score': '0.831728776817877', 'epoch': '4', 'seed': '298'}\n",
            "{'model_name': '16_FL_1e-05_4_298', 'loss_fn': 'FL', 'batch_size': '16', 'lr': '1e-05', 'f1_sarcastic': '0.7471698113207541', 'f1_score': '0.8392962669705101', 'epoch': '4', 'seed': '298'}\n",
            "{'model_name': '32_FL_2e-05_2_298', 'loss_fn': 'FL', 'batch_size': '32', 'lr': '2e-05', 'f1_sarcastic': '0.7165354330708661', 'f1_score': '0.8218304695718701', 'epoch': '2', 'seed': '298'}\n",
            "{'model_name': '32_FL_1e-05_2_298', 'loss_fn': 'FL', 'batch_size': '32', 'lr': '1e-05', 'f1_sarcastic': '0.72', 'f1_score': '0.8247177419354831', 'epoch': '2', 'seed': '298'}\n",
            "{'model_name': '36_FL_1e-05_2_298', 'loss_fn': 'FL', 'batch_size': '36', 'lr': '1e-05', 'f1_sarcastic': '0.7142857142857141', 'f1_score': '0.82077922077922', 'epoch': '2', 'seed': '298'}\n",
            "{'model_name': '36_FL_2e-05_4_298', 'loss_fn': 'FL', 'batch_size': '36', 'lr': '2e-05', 'f1_sarcastic': '0.7364341085271311', 'f1_score': '0.83366420873511', 'epoch': '4', 'seed': '298'}\n",
            "{'model_name': '16_FL_1e-05_2_298', 'loss_fn': 'FL', 'batch_size': '16', 'lr': '1e-05', 'f1_sarcastic': '0.724409448818897', 'f1_score': '0.8267796231948731', 'epoch': '2', 'seed': '298'}\n",
            "{'model_name': '64_FL_1e-05_4_298', 'loss_fn': 'FL', 'batch_size': '64', 'lr': '1e-05', 'f1_sarcastic': '0.673316708229426', 'f1_score': '0.809355311180157', 'epoch': '4', 'seed': '298'}\n",
            "{'model_name': '36_FL_2e-05_2_298', 'loss_fn': 'FL', 'batch_size': '36', 'lr': '2e-05', 'f1_sarcastic': '0.7000000000000001', 'f1_score': '0.8264462809917351', 'epoch': '2', 'seed': '298'}\n",
            "{'model_name': '64_FL_2e-05_4_298', 'loss_fn': 'FL', 'batch_size': '64', 'lr': '2e-05', 'f1_sarcastic': '0.660332541567696', 'f1_score': '0.8001116259751041', 'epoch': '4', 'seed': '298'}\n",
            "{'model_name': '16_FL_2e-05_2_298', 'loss_fn': 'FL', 'batch_size': '16', 'lr': '2e-05', 'f1_sarcastic': '0.638095238095238', 'f1_score': '0.7871148459383751', 'epoch': '2', 'seed': '298'}\n",
            "{'model_name': '32_FL_2e-05_4_298', 'loss_fn': 'FL', 'batch_size': '32', 'lr': '2e-05', 'f1_sarcastic': '0.671717171717171', 'f1_score': '0.808820316307837', 'epoch': '4', 'seed': '298'}\n",
            "{'model_name': '64_FL_2e-05_2_298', 'loss_fn': 'FL', 'batch_size': '64', 'lr': '2e-05', 'f1_sarcastic': '0.673629242819843', 'f1_score': '0.810956119134373', 'epoch': '2', 'seed': '298'}\n",
            "{'model_name': '36_FL_1e-05_4_298', 'loss_fn': 'FL', 'batch_size': '36', 'lr': '1e-05', 'f1_sarcastic': '0.673417721518987', 'f1_score': '0.809889733940366', 'epoch': '4', 'seed': '298'}\n",
            "{'model_name': '16_FL_1e-05_4_298', 'loss_fn': 'FL', 'batch_size': '16', 'lr': '1e-05', 'f1_sarcastic': '0.6425339366515831', 'f1_score': '0.787763999708319', 'epoch': '4', 'seed': '298'}\n",
            "{'model_name': '32_FL_2e-05_2_298', 'loss_fn': 'FL', 'batch_size': '32', 'lr': '2e-05', 'f1_sarcastic': '0.704663212435233', 'f1_score': '0.8287193444114851', 'epoch': '2', 'seed': '298'}\n",
            "{'model_name': '32_FL_1e-05_2_298', 'loss_fn': 'FL', 'batch_size': '32', 'lr': '1e-05', 'f1_sarcastic': '0.679045092838196', 'f1_score': '0.8145534997826971', 'epoch': '2', 'seed': '298'}\n",
            "{'model_name': '36_FL_1e-05_2_298', 'loss_fn': 'FL', 'batch_size': '36', 'lr': '1e-05', 'f1_sarcastic': '0.6829268292682921', 'f1_score': '0.8173992435111511', 'epoch': '2', 'seed': '298'}\n",
            "{'model_name': '36_FL_2e-05_4_298', 'loss_fn': 'FL', 'batch_size': '36', 'lr': '2e-05', 'f1_sarcastic': '0.655502392344497', 'f1_score': '0.797524495920359', 'epoch': '4', 'seed': '298'}\n",
            "{'model_name': '16_FL_1e-05_2_298', 'loss_fn': 'FL', 'batch_size': '16', 'lr': '1e-05', 'f1_sarcastic': '0.670050761421319', 'f1_score': '0.808009586861948', 'epoch': '2', 'seed': '298'}\n",
            "[ 5 10  1 15  7  9 11  6  0  2  8 13  4  3]\n",
            "{'model_name': '36_FL_1e-05_4_298', 'loss_fn': 'FL', 'batch_size': '36', 'lr': '1e-05', 'f1_sarcastic': '0.732283464566929', 'f1_score': '0.831728776817877', 'epoch': '4', 'seed': '298'}\n",
            "{'model_name': '32_FL_2e-05_2_298', 'loss_fn': 'FL', 'batch_size': '32', 'lr': '2e-05', 'f1_sarcastic': '0.7165354330708661', 'f1_score': '0.8218304695718701', 'epoch': '2', 'seed': '298'}\n",
            "{'model_name': '16_FL_1e-05_4_298', 'loss_fn': 'FL', 'batch_size': '16', 'lr': '1e-05', 'f1_sarcastic': '0.7471698113207541', 'f1_score': '0.8392962669705101', 'epoch': '4', 'seed': '298'}\n",
            "{'model_name': '64_FL_2e-05_4_298', 'loss_fn': 'FL', 'batch_size': '64', 'lr': '2e-05', 'f1_sarcastic': '0.7315175097276261', 'f1_score': '0.8307333741531531', 'epoch': '4', 'seed': '298'}\n",
            "{'model_name': '64_FL_1e-05_4_298', 'loss_fn': 'FL', 'batch_size': '64', 'lr': '1e-05', 'f1_sarcastic': '0.7258687258687251', 'f1_score': '0.8268204260065901', 'epoch': '4', 'seed': '298'}\n",
            "{'model_name': '16_FL_2e-05_4_298', 'loss_fn': 'FL', 'batch_size': '16', 'lr': '2e-05', 'f1_sarcastic': '0.7356321839080451', 'f1_score': '0.8326478962353681', 'epoch': '4', 'seed': '298'}\n",
            "{'model_name': '32_FL_2e-05_4_298', 'loss_fn': 'FL', 'batch_size': '32', 'lr': '2e-05', 'f1_sarcastic': '0.7265625', 'f1_score': '0.8277842925963481', 'epoch': '4', 'seed': '298'}\n",
            "{'model_name': '64_FL_1e-05_2_298', 'loss_fn': 'FL', 'batch_size': '64', 'lr': '1e-05', 'f1_sarcastic': '0.611353711790393', 'f1_score': '0.761747931907042', 'epoch': '2', 'seed': '298'}\n",
            "{'model_name': '16_FL_1e-05_2_298', 'loss_fn': 'FL', 'batch_size': '16', 'lr': '1e-05', 'f1_sarcastic': '0.724409448818897', 'f1_score': '0.8267796231948731', 'epoch': '2', 'seed': '298'}\n",
            "{'model_name': '32_FL_1e-05_2_298', 'loss_fn': 'FL', 'batch_size': '32', 'lr': '1e-05', 'f1_sarcastic': '0.72', 'f1_score': '0.8247177419354831', 'epoch': '2', 'seed': '298'}\n",
            "{'model_name': '16_FL_2e-05_2_298', 'loss_fn': 'FL', 'batch_size': '16', 'lr': '2e-05', 'f1_sarcastic': '0.7286821705426351', 'f1_score': '0.82877197958026', 'epoch': '2', 'seed': '298'}\n",
            "{'model_name': '36_FL_2e-05_4_298', 'loss_fn': 'FL', 'batch_size': '36', 'lr': '2e-05', 'f1_sarcastic': '0.7364341085271311', 'f1_score': '0.83366420873511', 'epoch': '4', 'seed': '298'}\n",
            "{'model_name': '36_FL_1e-05_2_298', 'loss_fn': 'FL', 'batch_size': '36', 'lr': '1e-05', 'f1_sarcastic': '0.7142857142857141', 'f1_score': '0.82077922077922', 'epoch': '2', 'seed': '298'}\n",
            "{'model_name': '32_FL_1e-05_4_298', 'loss_fn': 'FL', 'batch_size': '32', 'lr': '1e-05', 'f1_sarcastic': '0.714859437751004', 'f1_score': '0.8216794671131651', 'epoch': '4', 'seed': '298'}\n",
            "{'model_name': '36_FL_1e-05_4_298', 'loss_fn': 'FL', 'batch_size': '36', 'lr': '1e-05', 'f1_sarcastic': '0.673417721518987', 'f1_score': '0.809889733940366', 'epoch': '4', 'seed': '298'}\n",
            "{'model_name': '32_FL_2e-05_2_298', 'loss_fn': 'FL', 'batch_size': '32', 'lr': '2e-05', 'f1_sarcastic': '0.704663212435233', 'f1_score': '0.8287193444114851', 'epoch': '2', 'seed': '298'}\n",
            "{'model_name': '16_FL_1e-05_4_298', 'loss_fn': 'FL', 'batch_size': '16', 'lr': '1e-05', 'f1_sarcastic': '0.6425339366515831', 'f1_score': '0.787763999708319', 'epoch': '4', 'seed': '298'}\n",
            "{'model_name': '64_FL_2e-05_4_298', 'loss_fn': 'FL', 'batch_size': '64', 'lr': '2e-05', 'f1_sarcastic': '0.660332541567696', 'f1_score': '0.8001116259751041', 'epoch': '4', 'seed': '298'}\n",
            "{'model_name': '64_FL_1e-05_4_298', 'loss_fn': 'FL', 'batch_size': '64', 'lr': '1e-05', 'f1_sarcastic': '0.673316708229426', 'f1_score': '0.809355311180157', 'epoch': '4', 'seed': '298'}\n",
            "{'model_name': '16_FL_2e-05_4_298', 'loss_fn': 'FL', 'batch_size': '16', 'lr': '2e-05', 'f1_sarcastic': '0.608888888888888', 'f1_score': '0.7669976359338061', 'epoch': '4', 'seed': '298'}\n",
            "{'model_name': '32_FL_2e-05_4_298', 'loss_fn': 'FL', 'batch_size': '32', 'lr': '2e-05', 'f1_sarcastic': '0.671717171717171', 'f1_score': '0.808820316307837', 'epoch': '4', 'seed': '298'}\n",
            "{'model_name': '64_FL_1e-05_2_298', 'loss_fn': 'FL', 'batch_size': '64', 'lr': '1e-05', 'f1_sarcastic': '0.5910447761194031', 'f1_score': '0.767733341406557', 'epoch': '2', 'seed': '298'}\n",
            "{'model_name': '16_FL_1e-05_2_298', 'loss_fn': 'FL', 'batch_size': '16', 'lr': '1e-05', 'f1_sarcastic': '0.670050761421319', 'f1_score': '0.808009586861948', 'epoch': '2', 'seed': '298'}\n",
            "{'model_name': '32_FL_1e-05_2_298', 'loss_fn': 'FL', 'batch_size': '32', 'lr': '1e-05', 'f1_sarcastic': '0.679045092838196', 'f1_score': '0.8145534997826971', 'epoch': '2', 'seed': '298'}\n",
            "{'model_name': '16_FL_2e-05_2_298', 'loss_fn': 'FL', 'batch_size': '16', 'lr': '2e-05', 'f1_sarcastic': '0.638095238095238', 'f1_score': '0.7871148459383751', 'epoch': '2', 'seed': '298'}\n",
            "{'model_name': '36_FL_2e-05_4_298', 'loss_fn': 'FL', 'batch_size': '36', 'lr': '2e-05', 'f1_sarcastic': '0.655502392344497', 'f1_score': '0.797524495920359', 'epoch': '4', 'seed': '298'}\n",
            "{'model_name': '36_FL_1e-05_2_298', 'loss_fn': 'FL', 'batch_size': '36', 'lr': '1e-05', 'f1_sarcastic': '0.6829268292682921', 'f1_score': '0.8173992435111511', 'epoch': '2', 'seed': '298'}\n",
            "{'model_name': '32_FL_1e-05_4_298', 'loss_fn': 'FL', 'batch_size': '32', 'lr': '1e-05', 'f1_sarcastic': '0.6632124352331601', 'f1_score': '0.8046799541534481', 'epoch': '4', 'seed': '298'}\n",
            "[ 2 10 12  9  3  4  8  6 15 11  0  1  7  5 13]\n",
            "{'model_name': '32_FL_1e-05_2_298', 'loss_fn': 'FL', 'batch_size': '32', 'lr': '1e-05', 'f1_sarcastic': '0.72', 'f1_score': '0.8247177419354831', 'epoch': '2', 'seed': '298'}\n",
            "{'model_name': '32_FL_2e-05_2_298', 'loss_fn': 'FL', 'batch_size': '32', 'lr': '2e-05', 'f1_sarcastic': '0.7165354330708661', 'f1_score': '0.8218304695718701', 'epoch': '2', 'seed': '298'}\n",
            "{'model_name': '36_FL_2e-05_2_298', 'loss_fn': 'FL', 'batch_size': '36', 'lr': '2e-05', 'f1_sarcastic': '0.7286821705426351', 'f1_score': '0.82877197958026', 'epoch': '2', 'seed': '298'}\n",
            "{'model_name': '16_FL_2e-05_4_298', 'loss_fn': 'FL', 'batch_size': '16', 'lr': '2e-05', 'f1_sarcastic': '0.7356321839080451', 'f1_score': '0.8326478962353681', 'epoch': '4', 'seed': '298'}\n",
            "{'model_name': '32_FL_1e-05_4_298', 'loss_fn': 'FL', 'batch_size': '32', 'lr': '1e-05', 'f1_sarcastic': '0.714859437751004', 'f1_score': '0.8216794671131651', 'epoch': '4', 'seed': '298'}\n",
            "{'model_name': '36_FL_1e-05_2_298', 'loss_fn': 'FL', 'batch_size': '36', 'lr': '1e-05', 'f1_sarcastic': '0.7142857142857141', 'f1_score': '0.82077922077922', 'epoch': '2', 'seed': '298'}\n",
            "{'model_name': '16_FL_2e-05_2_298', 'loss_fn': 'FL', 'batch_size': '16', 'lr': '2e-05', 'f1_sarcastic': '0.7286821705426351', 'f1_score': '0.82877197958026', 'epoch': '2', 'seed': '298'}\n",
            "{'model_name': '64_FL_1e-05_2_298', 'loss_fn': 'FL', 'batch_size': '64', 'lr': '1e-05', 'f1_sarcastic': '0.611353711790393', 'f1_score': '0.761747931907042', 'epoch': '2', 'seed': '298'}\n",
            "{'model_name': '64_FL_2e-05_4_298', 'loss_fn': 'FL', 'batch_size': '64', 'lr': '2e-05', 'f1_sarcastic': '0.7315175097276261', 'f1_score': '0.8307333741531531', 'epoch': '4', 'seed': '298'}\n",
            "{'model_name': '32_FL_2e-05_4_298', 'loss_fn': 'FL', 'batch_size': '32', 'lr': '2e-05', 'f1_sarcastic': '0.7265625', 'f1_score': '0.8277842925963481', 'epoch': '4', 'seed': '298'}\n",
            "{'model_name': '16_FL_1e-05_2_298', 'loss_fn': 'FL', 'batch_size': '16', 'lr': '1e-05', 'f1_sarcastic': '0.724409448818897', 'f1_score': '0.8267796231948731', 'epoch': '2', 'seed': '298'}\n",
            "{'model_name': '16_FL_1e-05_4_298', 'loss_fn': 'FL', 'batch_size': '16', 'lr': '1e-05', 'f1_sarcastic': '0.7471698113207541', 'f1_score': '0.8392962669705101', 'epoch': '4', 'seed': '298'}\n",
            "{'model_name': '64_FL_1e-05_4_298', 'loss_fn': 'FL', 'batch_size': '64', 'lr': '1e-05', 'f1_sarcastic': '0.7258687258687251', 'f1_score': '0.8268204260065901', 'epoch': '4', 'seed': '298'}\n",
            "{'model_name': '36_FL_1e-05_4_298', 'loss_fn': 'FL', 'batch_size': '36', 'lr': '1e-05', 'f1_sarcastic': '0.732283464566929', 'f1_score': '0.831728776817877', 'epoch': '4', 'seed': '298'}\n",
            "{'model_name': '36_FL_2e-05_4_298', 'loss_fn': 'FL', 'batch_size': '36', 'lr': '2e-05', 'f1_sarcastic': '0.7364341085271311', 'f1_score': '0.83366420873511', 'epoch': '4', 'seed': '298'}\n",
            "{'model_name': '32_FL_1e-05_2_298', 'loss_fn': 'FL', 'batch_size': '32', 'lr': '1e-05', 'f1_sarcastic': '0.679045092838196', 'f1_score': '0.8145534997826971', 'epoch': '2', 'seed': '298'}\n",
            "{'model_name': '32_FL_2e-05_2_298', 'loss_fn': 'FL', 'batch_size': '32', 'lr': '2e-05', 'f1_sarcastic': '0.704663212435233', 'f1_score': '0.8287193444114851', 'epoch': '2', 'seed': '298'}\n",
            "{'model_name': '36_FL_2e-05_2_298', 'loss_fn': 'FL', 'batch_size': '36', 'lr': '2e-05', 'f1_sarcastic': '0.7000000000000001', 'f1_score': '0.8264462809917351', 'epoch': '2', 'seed': '298'}\n",
            "{'model_name': '16_FL_2e-05_4_298', 'loss_fn': 'FL', 'batch_size': '16', 'lr': '2e-05', 'f1_sarcastic': '0.608888888888888', 'f1_score': '0.7669976359338061', 'epoch': '4', 'seed': '298'}\n",
            "{'model_name': '32_FL_1e-05_4_298', 'loss_fn': 'FL', 'batch_size': '32', 'lr': '1e-05', 'f1_sarcastic': '0.6632124352331601', 'f1_score': '0.8046799541534481', 'epoch': '4', 'seed': '298'}\n",
            "{'model_name': '36_FL_1e-05_2_298', 'loss_fn': 'FL', 'batch_size': '36', 'lr': '1e-05', 'f1_sarcastic': '0.6829268292682921', 'f1_score': '0.8173992435111511', 'epoch': '2', 'seed': '298'}\n",
            "{'model_name': '16_FL_2e-05_2_298', 'loss_fn': 'FL', 'batch_size': '16', 'lr': '2e-05', 'f1_sarcastic': '0.638095238095238', 'f1_score': '0.7871148459383751', 'epoch': '2', 'seed': '298'}\n",
            "{'model_name': '64_FL_1e-05_2_298', 'loss_fn': 'FL', 'batch_size': '64', 'lr': '1e-05', 'f1_sarcastic': '0.5910447761194031', 'f1_score': '0.767733341406557', 'epoch': '2', 'seed': '298'}\n",
            "{'model_name': '64_FL_2e-05_4_298', 'loss_fn': 'FL', 'batch_size': '64', 'lr': '2e-05', 'f1_sarcastic': '0.660332541567696', 'f1_score': '0.8001116259751041', 'epoch': '4', 'seed': '298'}\n",
            "{'model_name': '32_FL_2e-05_4_298', 'loss_fn': 'FL', 'batch_size': '32', 'lr': '2e-05', 'f1_sarcastic': '0.671717171717171', 'f1_score': '0.808820316307837', 'epoch': '4', 'seed': '298'}\n",
            "{'model_name': '16_FL_1e-05_2_298', 'loss_fn': 'FL', 'batch_size': '16', 'lr': '1e-05', 'f1_sarcastic': '0.670050761421319', 'f1_score': '0.808009586861948', 'epoch': '2', 'seed': '298'}\n",
            "{'model_name': '16_FL_1e-05_4_298', 'loss_fn': 'FL', 'batch_size': '16', 'lr': '1e-05', 'f1_sarcastic': '0.6425339366515831', 'f1_score': '0.787763999708319', 'epoch': '4', 'seed': '298'}\n",
            "{'model_name': '64_FL_1e-05_4_298', 'loss_fn': 'FL', 'batch_size': '64', 'lr': '1e-05', 'f1_sarcastic': '0.673316708229426', 'f1_score': '0.809355311180157', 'epoch': '4', 'seed': '298'}\n",
            "{'model_name': '36_FL_1e-05_4_298', 'loss_fn': 'FL', 'batch_size': '36', 'lr': '1e-05', 'f1_sarcastic': '0.673417721518987', 'f1_score': '0.809889733940366', 'epoch': '4', 'seed': '298'}\n",
            "{'model_name': '36_FL_2e-05_4_298', 'loss_fn': 'FL', 'batch_size': '36', 'lr': '2e-05', 'f1_sarcastic': '0.655502392344497', 'f1_score': '0.797524495920359', 'epoch': '4', 'seed': '298'}\n",
            "[10  6  9  4  2 12 14  3  8 11 13  7  0  5  1 15]\n",
            "{'model_name': '32_FL_2e-05_2_298', 'loss_fn': 'FL', 'batch_size': '32', 'lr': '2e-05', 'f1_sarcastic': '0.7165354330708661', 'f1_score': '0.8218304695718701', 'epoch': '2', 'seed': '298'}\n",
            "{'model_name': '64_FL_1e-05_2_298', 'loss_fn': 'FL', 'batch_size': '64', 'lr': '1e-05', 'f1_sarcastic': '0.611353711790393', 'f1_score': '0.761747931907042', 'epoch': '2', 'seed': '298'}\n",
            "{'model_name': '16_FL_2e-05_4_298', 'loss_fn': 'FL', 'batch_size': '16', 'lr': '2e-05', 'f1_sarcastic': '0.7356321839080451', 'f1_score': '0.8326478962353681', 'epoch': '4', 'seed': '298'}\n",
            "{'model_name': '36_FL_1e-05_2_298', 'loss_fn': 'FL', 'batch_size': '36', 'lr': '1e-05', 'f1_sarcastic': '0.7142857142857141', 'f1_score': '0.82077922077922', 'epoch': '2', 'seed': '298'}\n",
            "{'model_name': '32_FL_1e-05_2_298', 'loss_fn': 'FL', 'batch_size': '32', 'lr': '1e-05', 'f1_sarcastic': '0.72', 'f1_score': '0.8247177419354831', 'epoch': '2', 'seed': '298'}\n",
            "{'model_name': '36_FL_2e-05_2_298', 'loss_fn': 'FL', 'batch_size': '36', 'lr': '2e-05', 'f1_sarcastic': '0.7286821705426351', 'f1_score': '0.82877197958026', 'epoch': '2', 'seed': '298'}\n",
            "{'model_name': '64_FL_2e-05_2_298', 'loss_fn': 'FL', 'batch_size': '64', 'lr': '2e-05', 'f1_sarcastic': '0.711462450592885', 'f1_score': '0.8188252596746021', 'epoch': '2', 'seed': '298'}\n",
            "{'model_name': '32_FL_1e-05_4_298', 'loss_fn': 'FL', 'batch_size': '32', 'lr': '1e-05', 'f1_sarcastic': '0.714859437751004', 'f1_score': '0.8216794671131651', 'epoch': '4', 'seed': '298'}\n",
            "{'model_name': '16_FL_2e-05_2_298', 'loss_fn': 'FL', 'batch_size': '16', 'lr': '2e-05', 'f1_sarcastic': '0.7286821705426351', 'f1_score': '0.82877197958026', 'epoch': '2', 'seed': '298'}\n",
            "{'model_name': '32_FL_2e-05_4_298', 'loss_fn': 'FL', 'batch_size': '32', 'lr': '2e-05', 'f1_sarcastic': '0.7265625', 'f1_score': '0.8277842925963481', 'epoch': '4', 'seed': '298'}\n",
            "{'model_name': '36_FL_2e-05_4_298', 'loss_fn': 'FL', 'batch_size': '36', 'lr': '2e-05', 'f1_sarcastic': '0.7364341085271311', 'f1_score': '0.83366420873511', 'epoch': '4', 'seed': '298'}\n",
            "{'model_name': '64_FL_1e-05_4_298', 'loss_fn': 'FL', 'batch_size': '64', 'lr': '1e-05', 'f1_sarcastic': '0.7258687258687251', 'f1_score': '0.8268204260065901', 'epoch': '4', 'seed': '298'}\n",
            "{'model_name': '16_FL_1e-05_2_298', 'loss_fn': 'FL', 'batch_size': '16', 'lr': '1e-05', 'f1_sarcastic': '0.724409448818897', 'f1_score': '0.8267796231948731', 'epoch': '2', 'seed': '298'}\n",
            "{'model_name': '36_FL_1e-05_4_298', 'loss_fn': 'FL', 'batch_size': '36', 'lr': '1e-05', 'f1_sarcastic': '0.732283464566929', 'f1_score': '0.831728776817877', 'epoch': '4', 'seed': '298'}\n",
            "{'model_name': '16_FL_1e-05_4_298', 'loss_fn': 'FL', 'batch_size': '16', 'lr': '1e-05', 'f1_sarcastic': '0.7471698113207541', 'f1_score': '0.8392962669705101', 'epoch': '4', 'seed': '298'}\n",
            "{'model_name': '64_FL_2e-05_4_298', 'loss_fn': 'FL', 'batch_size': '64', 'lr': '2e-05', 'f1_sarcastic': '0.7315175097276261', 'f1_score': '0.8307333741531531', 'epoch': '4', 'seed': '298'}\n",
            "{'model_name': '32_FL_2e-05_2_298', 'loss_fn': 'FL', 'batch_size': '32', 'lr': '2e-05', 'f1_sarcastic': '0.704663212435233', 'f1_score': '0.8287193444114851', 'epoch': '2', 'seed': '298'}\n",
            "{'model_name': '64_FL_1e-05_2_298', 'loss_fn': 'FL', 'batch_size': '64', 'lr': '1e-05', 'f1_sarcastic': '0.5910447761194031', 'f1_score': '0.767733341406557', 'epoch': '2', 'seed': '298'}\n",
            "{'model_name': '16_FL_2e-05_4_298', 'loss_fn': 'FL', 'batch_size': '16', 'lr': '2e-05', 'f1_sarcastic': '0.608888888888888', 'f1_score': '0.7669976359338061', 'epoch': '4', 'seed': '298'}\n",
            "{'model_name': '36_FL_1e-05_2_298', 'loss_fn': 'FL', 'batch_size': '36', 'lr': '1e-05', 'f1_sarcastic': '0.6829268292682921', 'f1_score': '0.8173992435111511', 'epoch': '2', 'seed': '298'}\n",
            "{'model_name': '32_FL_1e-05_2_298', 'loss_fn': 'FL', 'batch_size': '32', 'lr': '1e-05', 'f1_sarcastic': '0.679045092838196', 'f1_score': '0.8145534997826971', 'epoch': '2', 'seed': '298'}\n",
            "{'model_name': '36_FL_2e-05_2_298', 'loss_fn': 'FL', 'batch_size': '36', 'lr': '2e-05', 'f1_sarcastic': '0.7000000000000001', 'f1_score': '0.8264462809917351', 'epoch': '2', 'seed': '298'}\n",
            "{'model_name': '64_FL_2e-05_2_298', 'loss_fn': 'FL', 'batch_size': '64', 'lr': '2e-05', 'f1_sarcastic': '0.673629242819843', 'f1_score': '0.810956119134373', 'epoch': '2', 'seed': '298'}\n",
            "{'model_name': '32_FL_1e-05_4_298', 'loss_fn': 'FL', 'batch_size': '32', 'lr': '1e-05', 'f1_sarcastic': '0.6632124352331601', 'f1_score': '0.8046799541534481', 'epoch': '4', 'seed': '298'}\n",
            "{'model_name': '16_FL_2e-05_2_298', 'loss_fn': 'FL', 'batch_size': '16', 'lr': '2e-05', 'f1_sarcastic': '0.638095238095238', 'f1_score': '0.7871148459383751', 'epoch': '2', 'seed': '298'}\n",
            "{'model_name': '32_FL_2e-05_4_298', 'loss_fn': 'FL', 'batch_size': '32', 'lr': '2e-05', 'f1_sarcastic': '0.671717171717171', 'f1_score': '0.808820316307837', 'epoch': '4', 'seed': '298'}\n",
            "{'model_name': '36_FL_2e-05_4_298', 'loss_fn': 'FL', 'batch_size': '36', 'lr': '2e-05', 'f1_sarcastic': '0.655502392344497', 'f1_score': '0.797524495920359', 'epoch': '4', 'seed': '298'}\n",
            "{'model_name': '64_FL_1e-05_4_298', 'loss_fn': 'FL', 'batch_size': '64', 'lr': '1e-05', 'f1_sarcastic': '0.673316708229426', 'f1_score': '0.809355311180157', 'epoch': '4', 'seed': '298'}\n",
            "{'model_name': '16_FL_1e-05_2_298', 'loss_fn': 'FL', 'batch_size': '16', 'lr': '1e-05', 'f1_sarcastic': '0.670050761421319', 'f1_score': '0.808009586861948', 'epoch': '2', 'seed': '298'}\n",
            "{'model_name': '36_FL_1e-05_4_298', 'loss_fn': 'FL', 'batch_size': '36', 'lr': '1e-05', 'f1_sarcastic': '0.673417721518987', 'f1_score': '0.809889733940366', 'epoch': '4', 'seed': '298'}\n",
            "{'model_name': '16_FL_1e-05_4_298', 'loss_fn': 'FL', 'batch_size': '16', 'lr': '1e-05', 'f1_sarcastic': '0.6425339366515831', 'f1_score': '0.787763999708319', 'epoch': '4', 'seed': '298'}\n",
            "{'model_name': '64_FL_2e-05_4_298', 'loss_fn': 'FL', 'batch_size': '64', 'lr': '2e-05', 'f1_sarcastic': '0.660332541567696', 'f1_score': '0.8001116259751041', 'epoch': '4', 'seed': '298'}\n"
          ]
        }
      ]
    },
    {
      "cell_type": "code",
      "source": [],
      "metadata": {
        "colab": {
          "base_uri": "https://localhost:8080/"
        },
        "id": "iev7KvclnyS5",
        "outputId": "96a998e6-ff9c-4a8f-f63d-6cf9da7b3a80"
      },
      "execution_count": null,
      "outputs": [
        {
          "output_type": "stream",
          "name": "stdout",
          "text": [
            "{'model_name': '16_FL_2e-05_4_298', 'loss_fn': 'FL', 'batch_size': '16', 'lr': '2e-05', 'f1_sarcastic': '0.7265625', 'f1_score': '0.8277842925963481', 'epoch': '4', 'seed': '298'}\n",
            "{'model_name': '64_FL_1e-05_2_298', 'loss_fn': 'FL', 'batch_size': '64', 'lr': '1e-05', 'f1_sarcastic': '0.6963562753036431', 'f1_score': '0.8104896954407661', 'epoch': '2', 'seed': '298'}\n",
            "{'model_name': '64_FL_1e-05_4_298', 'loss_fn': 'FL', 'batch_size': '64', 'lr': '1e-05', 'f1_sarcastic': '0.7548638132295721', 'f1_score': '0.845452211183313', 'epoch': '4', 'seed': '298'}\n"
          ]
        }
      ]
    },
    {
      "cell_type": "code",
      "source": [
        "best_model_f = \"best_model_f.jsonl\""
      ],
      "metadata": {
        "id": "QqexbWOX3Ylu"
      },
      "execution_count": null,
      "outputs": []
    },
    {
      "cell_type": "code",
      "source": [
        "if os.path.exists(best_model_f):\n",
        "   os.remove(best_model_f)"
      ],
      "metadata": {
        "id": "Jh1H96nz3LhU"
      },
      "execution_count": null,
      "outputs": []
    },
    {
      "cell_type": "code",
      "source": [
        "for n in range(len(individual_model_db_h)):\n",
        "\n",
        "    results_h = '/content/drive/MyDrive/iSarcasm/attn/m_298/results_i/results_h'+str(n+1)+'.jsonl'\n",
        "    results_t = '/content/drive/MyDrive/iSarcasm/attn/m_298/results_i/results_t'+str(n+1)+'.jsonl'\n",
        "\n",
        "\n",
        "    results_db_h = pd.read_json(results_h, lines=True)\n",
        "    results_db_t = pd.read_json(results_t, lines=True)\n",
        "\n",
        "    individual_model_val_accs_h = {}\n",
        "    for _, row in results_db_h.iterrows():\n",
        "        individual_model_val_accs_h[row['model_name']] = row['f1_score']\n",
        "\n",
        "    individual_model_val_accs_h = sorted(individual_model_val_accs_h.items(), key=operator.itemgetter(1))\n",
        "    individual_model_val_accs_h.reverse()\n",
        "    sorted_models = [x[0] for x in individual_model_val_accs_h]\n",
        "    sorted_models\n",
        "\n",
        "    for _, row in results_db_t.iterrows():\n",
        "        if row['model_name'] == sorted_models[0]:\n",
        "          row_t = row\n",
        "          break\n",
        "\n",
        "    results = {'best_model' : f'{sorted_models[0]}'}\n",
        "\n",
        "    results['loss_fn']= row_t['loss_fn']\n",
        "    results['batch_size']=row_t['batch_size']\n",
        "    results['lr']=row_t['lr']\n",
        "    results['epoch']=row_t['epoch']\n",
        "    results['seed']=row_t['seed']\n",
        "    results['f1_sarcastic'] = row_t['f1_sarcastic']\n",
        "    results['f1_score'] = row_t['f1_score']\n",
        "    results['total_models'] = n+1\n",
        "\n",
        "    with open(best_model_f, 'a+') as f:\n",
        "            f.write(json.dumps(results) + '\\n')\n",
        "\n"
      ],
      "metadata": {
        "id": "ftEfef_4y_e4"
      },
      "execution_count": null,
      "outputs": []
    },
    {
      "cell_type": "code",
      "source": [],
      "metadata": {
        "id": "teHrAmfU3tyV"
      },
      "execution_count": null,
      "outputs": []
    },
    {
      "cell_type": "code",
      "source": [
        "best_model_db_t = pd.read_json(best_model_f, lines=True)\n",
        "print(\"best_model_db_t\", best_model_db_t)"
      ],
      "metadata": {
        "colab": {
          "base_uri": "https://localhost:8080/"
        },
        "id": "M7Cs-O9f5jEg",
        "outputId": "d0c5c1c2-751c-4672-fa04-8478db9ef45e"
      },
      "execution_count": null,
      "outputs": [
        {
          "output_type": "stream",
          "name": "stdout",
          "text": [
            "best_model_db_t            best_model loss_fn  batch_size       lr  epoch  seed  f1_sarcastic  \\\n",
            "0   64_FL_1e-05_4_298      FL          64  0.00001      4   298      0.673317   \n",
            "1   36_FL_2e-05_4_298      FL          36  0.00002      4   298      0.655502   \n",
            "2   36_FL_2e-05_4_298      FL          36  0.00002      4   298      0.655502   \n",
            "3   36_FL_1e-05_4_298      FL          36  0.00001      4   298      0.673418   \n",
            "4   36_FL_2e-05_4_298      FL          36  0.00002      4   298      0.655502   \n",
            "5   16_FL_1e-05_4_298      FL          16  0.00001      4   298      0.642534   \n",
            "6   16_FL_2e-05_4_298      FL          16  0.00002      4   298      0.608889   \n",
            "7   16_FL_1e-05_4_298      FL          16  0.00001      4   298      0.642534   \n",
            "8   36_FL_2e-05_4_298      FL          36  0.00002      4   298      0.655502   \n",
            "9   16_FL_1e-05_4_298      FL          16  0.00001      4   298      0.642534   \n",
            "10  16_FL_1e-05_4_298      FL          16  0.00001      4   298      0.642534   \n",
            "11  16_FL_1e-05_4_298      FL          16  0.00001      4   298      0.642534   \n",
            "12  16_FL_1e-05_4_298      FL          16  0.00001      4   298      0.642534   \n",
            "13  16_FL_1e-05_4_298      FL          16  0.00001      4   298      0.642534   \n",
            "14  16_FL_1e-05_4_298      FL          16  0.00001      4   298      0.642534   \n",
            "15  16_FL_1e-05_4_298      FL          16  0.00001      4   298      0.642534   \n",
            "\n",
            "    f1_score  total_models  \n",
            "0   0.809355             1  \n",
            "1   0.797524             2  \n",
            "2   0.797524             3  \n",
            "3   0.809890             4  \n",
            "4   0.797524             5  \n",
            "5   0.787764             6  \n",
            "6   0.766998             7  \n",
            "7   0.787764             8  \n",
            "8   0.797524             9  \n",
            "9   0.787764            10  \n",
            "10  0.787764            11  \n",
            "11  0.787764            12  \n",
            "12  0.787764            13  \n",
            "13  0.787764            14  \n",
            "14  0.787764            15  \n",
            "15  0.787764            16  \n"
          ]
        }
      ]
    },
    {
      "cell_type": "code",
      "source": [
        "shutil.copy(f\"{best_model_f}\", f\"/content/drive/MyDrive/iSarcasm/attn/m_298/results_i/best_model_f_all.jsonl\")"
      ],
      "metadata": {
        "id": "zoBrsoVXyDLi",
        "colab": {
          "base_uri": "https://localhost:8080/",
          "height": 36
        },
        "outputId": "3a62c80f-1368-4122-cde8-55631eaa8752"
      },
      "execution_count": null,
      "outputs": [
        {
          "output_type": "execute_result",
          "data": {
            "text/plain": [
              "'/content/drive/MyDrive/iSarcasm/attn/m_298/results_i/best_model_f_all.jsonl'"
            ],
            "application/vnd.google.colaboratory.intrinsic+json": {
              "type": "string"
            }
          },
          "metadata": {},
          "execution_count": 17
        }
      ]
    },
    {
      "cell_type": "code",
      "source": [],
      "metadata": {
        "id": "na8Y3Uyn4ArN"
      },
      "execution_count": null,
      "outputs": []
    },
    {
      "cell_type": "markdown",
      "source": [
        "# results_h"
      ],
      "metadata": {
        "id": "amNDBxjaVcik"
      }
    },
    {
      "cell_type": "code",
      "source": [
        "\n",
        "INDIVIDUAL_MODEL_RESULTS_FILE_H = '/content/drive/MyDrive/iSarcasm/attn/m_298/results/results_h.jsonl'\n",
        "INDIVIDUAL_MODEL_RESULTS_FILE_H\n",
        "\n",
        "individual_model_db_h = pd.read_json(INDIVIDUAL_MODEL_RESULTS_FILE_H, lines=True)\n",
        "print(individual_model_db_h)\n",
        "\n",
        "\n",
        "individual_model_val_accs_h = {}\n",
        "for _, row in individual_model_db_h.iterrows():\n",
        "    individual_model_val_accs_h[row['model_name']] = row['f1_score']\n",
        "individual_model_val_accs_h = sorted(individual_model_val_accs_h.items(), key=operator.itemgetter(1))\n",
        "individual_model_val_accs_h.reverse()\n",
        "sorted_models = [x[0] for x in individual_model_val_accs_h]\n",
        "\n",
        "sorted_models"
      ],
      "metadata": {
        "colab": {
          "base_uri": "https://localhost:8080/"
        },
        "id": "HWjv2DVTVhI3",
        "outputId": "69b05551-c929-4ca0-a6c2-5e519a7b3d89"
      },
      "execution_count": null,
      "outputs": [
        {
          "output_type": "stream",
          "name": "stdout",
          "text": [
            "           model_name loss_fn  batch_size       lr  f1_sarcastic  f1_score  \\\n",
            "0   16_FL_1e-05_2_298      FL          16  0.00001      0.732824  0.830698   \n",
            "1   16_FL_1e-05_4_298      FL          16  0.00001      0.749035  0.841455   \n",
            "2   32_FL_1e-05_2_298      FL          32  0.00001      0.722222  0.825758   \n",
            "3   32_FL_1e-05_4_298      FL          32  0.00001      0.747082  0.840546   \n",
            "4   36_FL_1e-05_2_298      FL          36  0.00001      0.709163  0.817750   \n",
            "5   36_FL_1e-05_4_298      FL          36  0.00001      0.750000  0.841258   \n",
            "6   64_FL_1e-05_2_298      FL          64  0.00001      0.696356  0.810490   \n",
            "7   64_FL_1e-05_4_298      FL          64  0.00001      0.754864  0.845452   \n",
            "8   16_FL_2e-05_2_298      FL          16  0.00002      0.733591  0.831699   \n",
            "9   16_FL_2e-05_4_298      FL          16  0.00002      0.726562  0.827784   \n",
            "10  32_FL_2e-05_2_298      FL          32  0.00002      0.723735  0.825827   \n",
            "11  32_FL_2e-05_4_298      FL          32  0.00002      0.749035  0.841455   \n",
            "12  36_FL_2e-05_2_298      FL          36  0.00002      0.733591  0.831699   \n",
            "13  36_FL_2e-05_4_298      FL          36  0.00002      0.765799  0.850526   \n",
            "14  64_FL_2e-05_2_298      FL          64  0.00002      0.731518  0.830733   \n",
            "15  64_FL_2e-05_4_298      FL          64  0.00002      0.733591  0.831699   \n",
            "\n",
            "    epoch  seed  \n",
            "0       2   298  \n",
            "1       4   298  \n",
            "2       2   298  \n",
            "3       4   298  \n",
            "4       2   298  \n",
            "5       4   298  \n",
            "6       2   298  \n",
            "7       4   298  \n",
            "8       2   298  \n",
            "9       4   298  \n",
            "10      2   298  \n",
            "11      4   298  \n",
            "12      2   298  \n",
            "13      4   298  \n",
            "14      2   298  \n",
            "15      4   298  \n"
          ]
        },
        {
          "output_type": "execute_result",
          "data": {
            "text/plain": [
              "['36_FL_2e-05_4_298',\n",
              " '64_FL_1e-05_4_298',\n",
              " '32_FL_2e-05_4_298',\n",
              " '16_FL_1e-05_4_298',\n",
              " '36_FL_1e-05_4_298',\n",
              " '32_FL_1e-05_4_298',\n",
              " '64_FL_2e-05_4_298',\n",
              " '36_FL_2e-05_2_298',\n",
              " '16_FL_2e-05_2_298',\n",
              " '64_FL_2e-05_2_298',\n",
              " '16_FL_1e-05_2_298',\n",
              " '16_FL_2e-05_4_298',\n",
              " '32_FL_2e-05_2_298',\n",
              " '32_FL_1e-05_2_298',\n",
              " '36_FL_1e-05_2_298',\n",
              " '64_FL_1e-05_2_298']"
            ]
          },
          "metadata": {},
          "execution_count": 3
        }
      ]
    },
    {
      "cell_type": "code",
      "source": [
        "\n",
        "INDIVIDUAL_MODEL_RESULTS_FILE_H = '/content/drive/MyDrive/iSarcasm/attn/m_298/results_i/results_h16.jsonl'\n",
        "\n",
        "individual_model_db_h = pd.read_json(INDIVIDUAL_MODEL_RESULTS_FILE_H, lines=True)\n",
        "print(individual_model_db_h)\n",
        "\n",
        "individual_model_val_accs_h = {}\n",
        "for _, row in individual_model_db_h.iterrows():\n",
        "    individual_model_val_accs_h[row['model_name']] = row['f1_score']\n",
        "individual_model_val_accs_h = sorted(individual_model_val_accs_h.items(), key=operator.itemgetter(1))\n",
        "individual_model_val_accs_h.reverse()\n",
        "sorted_models = [x[0] for x in individual_model_val_accs_h]\n",
        "\n",
        "sorted_models"
      ],
      "metadata": {
        "colab": {
          "base_uri": "https://localhost:8080/"
        },
        "id": "Emesh8JMVf01",
        "outputId": "3523a065-f9c4-440e-91c5-e65a11a3be88"
      },
      "execution_count": null,
      "outputs": [
        {
          "output_type": "stream",
          "name": "stdout",
          "text": [
            "           model_name loss_fn  batch_size       lr  f1_sarcastic  f1_score  \\\n",
            "0   64_FL_1e-05_2_298      FL          64  0.00001      0.696356  0.810490   \n",
            "1   32_FL_2e-05_4_298      FL          32  0.00002      0.749035  0.841455   \n",
            "2   64_FL_1e-05_4_298      FL          64  0.00001      0.754864  0.845452   \n",
            "3   36_FL_2e-05_4_298      FL          36  0.00002      0.765799  0.850526   \n",
            "4   16_FL_2e-05_4_298      FL          16  0.00002      0.726562  0.827784   \n",
            "5   32_FL_1e-05_2_298      FL          32  0.00001      0.722222  0.825758   \n",
            "6   64_FL_2e-05_2_298      FL          64  0.00002      0.731518  0.830733   \n",
            "7   32_FL_2e-05_2_298      FL          32  0.00002      0.723735  0.825827   \n",
            "8   36_FL_1e-05_2_298      FL          36  0.00001      0.709163  0.817750   \n",
            "9   36_FL_2e-05_2_298      FL          36  0.00002      0.733591  0.831699   \n",
            "10  16_FL_1e-05_2_298      FL          16  0.00001      0.732824  0.830698   \n",
            "11  16_FL_1e-05_4_298      FL          16  0.00001      0.749035  0.841455   \n",
            "12  32_FL_1e-05_4_298      FL          32  0.00001      0.747082  0.840546   \n",
            "13  16_FL_2e-05_2_298      FL          16  0.00002      0.733591  0.831699   \n",
            "14  36_FL_1e-05_4_298      FL          36  0.00001      0.750000  0.841258   \n",
            "15  64_FL_2e-05_4_298      FL          64  0.00002      0.733591  0.831699   \n",
            "\n",
            "    epoch  seed  \n",
            "0       2   298  \n",
            "1       4   298  \n",
            "2       4   298  \n",
            "3       4   298  \n",
            "4       4   298  \n",
            "5       2   298  \n",
            "6       2   298  \n",
            "7       2   298  \n",
            "8       2   298  \n",
            "9       2   298  \n",
            "10      2   298  \n",
            "11      4   298  \n",
            "12      4   298  \n",
            "13      2   298  \n",
            "14      4   298  \n",
            "15      4   298  \n"
          ]
        },
        {
          "output_type": "execute_result",
          "data": {
            "text/plain": [
              "['36_FL_2e-05_4_298',\n",
              " '64_FL_1e-05_4_298',\n",
              " '16_FL_1e-05_4_298',\n",
              " '32_FL_2e-05_4_298',\n",
              " '36_FL_1e-05_4_298',\n",
              " '32_FL_1e-05_4_298',\n",
              " '64_FL_2e-05_4_298',\n",
              " '16_FL_2e-05_2_298',\n",
              " '36_FL_2e-05_2_298',\n",
              " '64_FL_2e-05_2_298',\n",
              " '16_FL_1e-05_2_298',\n",
              " '16_FL_2e-05_4_298',\n",
              " '32_FL_2e-05_2_298',\n",
              " '32_FL_1e-05_2_298',\n",
              " '36_FL_1e-05_2_298',\n",
              " '64_FL_1e-05_2_298']"
            ]
          },
          "metadata": {},
          "execution_count": 7
        }
      ]
    },
    {
      "cell_type": "code",
      "source": [],
      "metadata": {
        "id": "NXuopNQLVzBt"
      },
      "execution_count": null,
      "outputs": []
    }
  ]
}